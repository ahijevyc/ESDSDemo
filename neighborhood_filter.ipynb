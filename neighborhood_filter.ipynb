





<!DOCTYPE html>
<html
  lang="en"
  
  data-color-mode="auto" data-light-theme="light" data-dark-theme="dark"
  data-a11y-animated-images="system" data-a11y-link-underlines="true"
  data-css-features="pr_toolbar_use_toggle_stuck"
  >




  <head>
    <meta charset="utf-8">
  <link rel="dns-prefetch" href="https://github.githubassets.com">
  <link rel="dns-prefetch" href="https://avatars.githubusercontent.com">
  <link rel="dns-prefetch" href="https://github-cloud.s3.amazonaws.com">
  <link rel="dns-prefetch" href="https://user-images.githubusercontent.com/">
  <link rel="preconnect" href="https://github.githubassets.com" crossorigin>
  <link rel="preconnect" href="https://avatars.githubusercontent.com">

  


  <link crossorigin="anonymous" media="all" rel="stylesheet" href="https://github.githubassets.com/assets/light-6448649c7147.css" /><link crossorigin="anonymous" media="all" rel="stylesheet" href="https://github.githubassets.com/assets/light_high_contrast-42fc7e3b06b7.css" /><link crossorigin="anonymous" media="all" rel="stylesheet" href="https://github.githubassets.com/assets/dark-d17b946fc2c5.css" /><link crossorigin="anonymous" media="all" rel="stylesheet" href="https://github.githubassets.com/assets/dark_high_contrast-1b924088c83a.css" /><link data-color-theme="light" crossorigin="anonymous" media="all" rel="stylesheet" data-href="https://github.githubassets.com/assets/light-6448649c7147.css" /><link data-color-theme="light_high_contrast" crossorigin="anonymous" media="all" rel="stylesheet" data-href="https://github.githubassets.com/assets/light_high_contrast-42fc7e3b06b7.css" /><link data-color-theme="light_colorblind" crossorigin="anonymous" media="all" rel="stylesheet" data-href="https://github.githubassets.com/assets/light_colorblind-44cfaf0c8f7b.css" /><link data-color-theme="light_colorblind_high_contrast" crossorigin="anonymous" media="all" rel="stylesheet" data-href="https://github.githubassets.com/assets/light_colorblind_high_contrast-979217efd93e.css" /><link data-color-theme="light_tritanopia" crossorigin="anonymous" media="all" rel="stylesheet" data-href="https://github.githubassets.com/assets/light_tritanopia-4d5383026bfa.css" /><link data-color-theme="light_tritanopia_high_contrast" crossorigin="anonymous" media="all" rel="stylesheet" data-href="https://github.githubassets.com/assets/light_tritanopia_high_contrast-ff6ff8532348.css" /><link data-color-theme="dark" crossorigin="anonymous" media="all" rel="stylesheet" data-href="https://github.githubassets.com/assets/dark-d17b946fc2c5.css" /><link data-color-theme="dark_high_contrast" crossorigin="anonymous" media="all" rel="stylesheet" data-href="https://github.githubassets.com/assets/dark_high_contrast-1b924088c83a.css" /><link data-color-theme="dark_colorblind" crossorigin="anonymous" media="all" rel="stylesheet" data-href="https://github.githubassets.com/assets/dark_colorblind-654786382462.css" /><link data-color-theme="dark_colorblind_high_contrast" crossorigin="anonymous" media="all" rel="stylesheet" data-href="https://github.githubassets.com/assets/dark_colorblind_high_contrast-ecca008c6f6e.css" /><link data-color-theme="dark_tritanopia" crossorigin="anonymous" media="all" rel="stylesheet" data-href="https://github.githubassets.com/assets/dark_tritanopia-fff376053989.css" /><link data-color-theme="dark_tritanopia_high_contrast" crossorigin="anonymous" media="all" rel="stylesheet" data-href="https://github.githubassets.com/assets/dark_tritanopia_high_contrast-49adf52571e5.css" /><link data-color-theme="dark_dimmed" crossorigin="anonymous" media="all" rel="stylesheet" data-href="https://github.githubassets.com/assets/dark_dimmed-66d97c13c98a.css" /><link data-color-theme="dark_dimmed_high_contrast" crossorigin="anonymous" media="all" rel="stylesheet" data-href="https://github.githubassets.com/assets/dark_dimmed_high_contrast-c58f1d0432b9.css" />

  <style type="text/css">
    :root {
      --tab-size-preference: 4;
    }

    pre, code {
      tab-size: var(--tab-size-preference);
    }
  </style>

    <link crossorigin="anonymous" media="all" rel="stylesheet" href="https://github.githubassets.com/assets/primer-primitives-dc7ca6859caf.css" />
    <link crossorigin="anonymous" media="all" rel="stylesheet" href="https://github.githubassets.com/assets/primer-f96b923db733.css" />
    <link crossorigin="anonymous" media="all" rel="stylesheet" href="https://github.githubassets.com/assets/global-bd844c3b8a17.css" />
    <link crossorigin="anonymous" media="all" rel="stylesheet" href="https://github.githubassets.com/assets/github-b3c70377846b.css" />
  <link crossorigin="anonymous" media="all" rel="stylesheet" href="https://github.githubassets.com/assets/repository-783aa9056ed4.css" />
<link crossorigin="anonymous" media="all" rel="stylesheet" href="https://github.githubassets.com/assets/code-9c9b8dc61e74.css" />

  

  <script type="application/json" id="client-env">{"locale":"en","featureFlags":["alternate_user_config_repo","api_insights_show_missing_data_banner","attestations_filtering","attestations_sorting","client_version_header","codespaces_prebuild_region_target_update","contact_requests_implicit_opt_in","contentful_lp_copilot_extensions","contentful_lp_flex_features","contentful_lp_footnotes","copilot_agent_task_caching","copilot_api_agentic_issue_marshal_yaml","copilot_chat_attach_multiple_images","copilot_chat_file_redirect","copilot_chat_group_notifications","copilot_chat_reduce_quota_checks","copilot_chat_search_bar_redirect","copilot_chat_vision_in_claude","copilot_chat_vision_skip_thread_create","copilot_custom_copilots_feature_preview","copilot_custom_copilots_images","copilot_disable_generated_commit_description","copilot_duplicate_thread","copilot_free_to_paid_telem","copilot_ftp_hyperspace_upgrade_prompt","copilot_ftp_settings_upgrade","copilot_ftp_upgrade_to_pro_from_models","copilot_ftp_your_copilot_settings","copilot_global_overlay_v2","copilot_immersive_agent_branch_selection","copilot_immersive_structured_model_picker","copilot_no_floating_button","copilot_read_shared_conversation","copilot_spaces_file_urls","copilot_spaces_input_menu_select","copilot_spaces_permissions_tab","copilot_spaces_upsert_reload_in_background","copilot_spark_allow_empty_commit","copilot_spark_single_user_iteration","copilot_spark_use_billing_headers","copilot_spark_write_iteration_history_to_git","copilot_task_oriented_assistive_prompts","copilot_workbench_agent_seed_tool","copilot_workbench_cache","copilot_workbench_connection_reload_banner","copilot_workbench_preview_analytics","copilot_workbench_ratelimit_fallback","copilot_workbench_refresh_on_wsod","copilot_workbench_synthetic_generation","custom_copilots_128k_window","custom_copilots_capi_mode","custom_copilots_file_uploads","direct_to_salesforce","dotcom_chat_client_side_skills","failbot_report_error_react_apps_on_page","ghost_pilot_confidence_truncation_25","ghost_pilot_confidence_truncation_40","hpc_improve_dom_insertion_observer","hyperspace_diff_view","insert_before_patch","issue_dependencies_issue_index_pill_click","issue_fields_report_usage","issues_preserve_tokens_in_urls","issues_react_blur_item_picker_on_close","issues_react_bots_timeline_pagination","issues_react_prohibit_title_fallback","issues_react_remove_placeholders","lifecycle_label_name_updates","link_contact_sales_swp_marketo","marketing_pages_search_explore_provider","memex_mwl_filter_field_delimiter","migrate_toasts_to_banners_web_notifications","primer_react_segmented_control_tooltip","record_sso_banner_metrics","remove_child_patch","repos_insights_remove_new_url","role_assignment_list_radio","sample_network_conn_type","scheduled_reminders_updated_limits","site_homepage_contentful","site_msbuild_hide_integrations","site_msbuild_launch","site_msbuild_webgl_hero","spark_commit_on_default_branch","spark_sync_repository_after_iteration","viewscreen_sandbox","workbench_default_sonnet4","workbench_store_readonly"],"copilotApiOverrideUrl":null}</script>
<script crossorigin="anonymous" type="application/javascript" src="https://github.githubassets.com/assets/high-contrast-cookie-f3788027bd8d.js"></script>
<script crossorigin="anonymous" type="application/javascript" src="https://github.githubassets.com/assets/wp-runtime-7383eabd007b.js" defer="defer"></script>
<script crossorigin="anonymous" type="application/javascript" src="https://github.githubassets.com/assets/vendors-node_modules_oddbird_popover-polyfill_dist_popover-fn_js-468bf7cab607.js" defer="defer"></script>
<script crossorigin="anonymous" type="application/javascript" src="https://github.githubassets.com/assets/vendors-node_modules_github_mini-throttle_dist_index_js-node_modules_stacktrace-parser_dist_s-1d3d52-25523f4ee061.js" defer="defer"></script>
<script crossorigin="anonymous" type="application/javascript" src="https://github.githubassets.com/assets/packages_failbot_failbot_ts-58d1ecabdd39.js" defer="defer"></script>
<script crossorigin="anonymous" type="application/javascript" src="https://github.githubassets.com/assets/environment-472a04f0328f.js" defer="defer"></script>
<script crossorigin="anonymous" type="application/javascript" src="https://github.githubassets.com/assets/vendors-node_modules_primer_behaviors_dist_esm_index_mjs-7e8c9c5d642d.js" defer="defer"></script>
<script crossorigin="anonymous" type="application/javascript" src="https://github.githubassets.com/assets/vendors-node_modules_github_selector-observer_dist_index_esm_js-7e4d99c9171d.js" defer="defer"></script>
<script crossorigin="anonymous" type="application/javascript" src="https://github.githubassets.com/assets/vendors-node_modules_github_relative-time-element_dist_index_js-c98257dc79a7.js" defer="defer"></script>
<script crossorigin="anonymous" type="application/javascript" src="https://github.githubassets.com/assets/vendors-node_modules_github_auto-complete-element_dist_index_js-node_modules_github_catalyst_-0d7d60-9ac2b374b638.js" defer="defer"></script>
<script crossorigin="anonymous" type="application/javascript" src="https://github.githubassets.com/assets/vendors-node_modules_github_text-expander-element_dist_index_js-754f5b5e9e7e.js" defer="defer"></script>
<script crossorigin="anonymous" type="application/javascript" src="https://github.githubassets.com/assets/vendors-node_modules_github_filter-input-element_dist_index_js-node_modules_github_remote-inp-665e70-a5590c456d33.js" defer="defer"></script>
<script crossorigin="anonymous" type="application/javascript" src="https://github.githubassets.com/assets/vendors-node_modules_github_markdown-toolbar-element_dist_index_js-d41270eb61be.js" defer="defer"></script>
<script crossorigin="anonymous" type="application/javascript" src="https://github.githubassets.com/assets/vendors-node_modules_github_file-attachment-element_dist_index_js-node_modules_primer_view-co-777ce2-97c18f2decf8.js" defer="defer"></script>
<script crossorigin="anonymous" type="application/javascript" src="https://github.githubassets.com/assets/github-elements-39310fffdcee.js" defer="defer"></script>
<script crossorigin="anonymous" type="application/javascript" src="https://github.githubassets.com/assets/element-registry-e32c9a7aef7f.js" defer="defer"></script>
<script crossorigin="anonymous" type="application/javascript" src="https://github.githubassets.com/assets/vendors-node_modules_braintree_browser-detection_dist_browser-detection_js-node_modules_githu-bb80ec-4e90f1d1076c.js" defer="defer"></script>
<script crossorigin="anonymous" type="application/javascript" src="https://github.githubassets.com/assets/vendors-node_modules_lit-html_lit-html_js-06c8637a6071.js" defer="defer"></script>
<script crossorigin="anonymous" type="application/javascript" src="https://github.githubassets.com/assets/vendors-node_modules_morphdom_dist_morphdom-esm_js-node_modules_swc_helpers_esm__define_property_js-5c587dccb470.js" defer="defer"></script>
<script crossorigin="anonymous" type="application/javascript" src="https://github.githubassets.com/assets/vendors-node_modules_github_turbo_dist_turbo_es2017-esm_js-8eb9b2209bcd.js" defer="defer"></script>
<script crossorigin="anonymous" type="application/javascript" src="https://github.githubassets.com/assets/vendors-node_modules_github_remote-form_dist_index_js-node_modules_delegated-events_dist_inde-893f9f-cd5d89ebdb50.js" defer="defer"></script>
<script crossorigin="anonymous" type="application/javascript" src="https://github.githubassets.com/assets/vendors-node_modules_github_quote-selection_dist_index_js-node_modules_github_session-resume_-d3ee0b-9bd182333410.js" defer="defer"></script>
<script crossorigin="anonymous" type="application/javascript" src="https://github.githubassets.com/assets/packages_updatable-content_updatable-content_ts-a743e72edcf2.js" defer="defer"></script>
<script crossorigin="anonymous" type="application/javascript" src="https://github.githubassets.com/assets/app_assets_modules_github_sticky-scroll-into-view_ts-packages_onfocus_onfocus_ts-b626d34fa53c.js" defer="defer"></script>
<script crossorigin="anonymous" type="application/javascript" src="https://github.githubassets.com/assets/app_assets_modules_github_behaviors_ajax-error_ts-app_assets_modules_github_behaviors_include-57ebdf-79a296a7e15b.js" defer="defer"></script>
<script crossorigin="anonymous" type="application/javascript" src="https://github.githubassets.com/assets/app_assets_modules_github_behaviors_task-list_ts-app_assets_modules_github_throttled-input_ts-047775-251a6ef52573.js" defer="defer"></script>
<script crossorigin="anonymous" type="application/javascript" src="https://github.githubassets.com/assets/app_assets_modules_github_behaviors_commenting_edit_ts-app_assets_modules_github_behaviors_ht-83c235-6bc7a8849328.js" defer="defer"></script>
<script crossorigin="anonymous" type="application/javascript" src="https://github.githubassets.com/assets/behaviors-57e015aa57f5.js" defer="defer"></script>
<script crossorigin="anonymous" type="application/javascript" src="https://github.githubassets.com/assets/vendors-node_modules_delegated-events_dist_index_js-node_modules_github_catalyst_lib_index_js-ef6d0f-641e2ed302b3.js" defer="defer"></script>
<script crossorigin="anonymous" type="application/javascript" src="https://github.githubassets.com/assets/notifications-global-e0009afb39c7.js" defer="defer"></script>
<script crossorigin="anonymous" type="application/javascript" src="https://github.githubassets.com/assets/vendors-node_modules_github_mini-throttle_dist_index_js-node_modules_github_catalyst_lib_inde-96937f-07580acb275f.js" defer="defer"></script>
<script crossorigin="anonymous" type="application/javascript" src="https://github.githubassets.com/assets/code-menu-6292fc60c722.js" defer="defer"></script>
  
  <script crossorigin="anonymous" type="application/javascript" src="https://github.githubassets.com/assets/primer-react-2dcf8244fbdf.js" defer="defer"></script>
<script crossorigin="anonymous" type="application/javascript" src="https://github.githubassets.com/assets/react-lib-17ccbc80f53b.js" defer="defer"></script>
<script crossorigin="anonymous" type="application/javascript" src="https://github.githubassets.com/assets/react-core-1c66b34c4e5a.js" defer="defer"></script>
<script crossorigin="anonymous" type="application/javascript" src="https://github.githubassets.com/assets/octicons-react-8a33e197330e.js" defer="defer"></script>
<script crossorigin="anonymous" type="application/javascript" src="https://github.githubassets.com/assets/vendors-node_modules_emotion_is-prop-valid_dist_emotion-is-prop-valid_esm_js-node_modules_emo-928884-c9018ca8bd3f.js" defer="defer"></script>
<script crossorigin="anonymous" type="application/javascript" src="https://github.githubassets.com/assets/vendors-node_modules_primer_live-region-element_dist_esm_index_js-node_modules_swc_helpers_es-b6e71e-5b3ad5c61499.js" defer="defer"></script>
<script crossorigin="anonymous" type="application/javascript" src="https://github.githubassets.com/assets/vendors-node_modules_swc_helpers_esm__define_property_js-node_modules_tanstack_query-core_bui-b9aec9-5fc124521301.js" defer="defer"></script>
<script crossorigin="anonymous" type="application/javascript" src="https://github.githubassets.com/assets/vendors-node_modules_dompurify_dist_purify_es_mjs-0294cfa498e7.js" defer="defer"></script>
<script crossorigin="anonymous" type="application/javascript" src="https://github.githubassets.com/assets/vendors-node_modules_tanstack_react-query_build_modern_useQuery_js-9bd41cbc4f50.js" defer="defer"></script>
<script crossorigin="anonymous" type="application/javascript" src="https://github.githubassets.com/assets/vendors-node_modules_date-fns_format_mjs-f7e5dd4e3ebd.js" defer="defer"></script>
<script crossorigin="anonymous" type="application/javascript" src="https://github.githubassets.com/assets/vendors-node_modules_date-fns_addWeeks_mjs-node_modules_date-fns_addYears_mjs-node_modules_da-827f4f-6af178f555c7.js" defer="defer"></script>
<script crossorigin="anonymous" type="application/javascript" src="https://github.githubassets.com/assets/vendors-node_modules_focus-visible_dist_focus-visible_js-node_modules_github_hotkey_dist_inde-336f14-44fbd8c36b37.js" defer="defer"></script>
<script crossorigin="anonymous" type="application/javascript" src="https://github.githubassets.com/assets/vendors-node_modules_date-fns_getDaysInMonth_mjs-node_modules_date-fns_isAfter_mjs-node_modul-49f526-00fbebc8e440.js" defer="defer"></script>
<script crossorigin="anonymous" type="application/javascript" src="https://github.githubassets.com/assets/vendors-node_modules_dnd-kit_modifiers_dist_modifiers_esm_js-node_modules_dnd-kit_sortable_di-72228e-99b95b9fca56.js" defer="defer"></script>
<script crossorigin="anonymous" type="application/javascript" src="https://github.githubassets.com/assets/vendors-node_modules_lodash-es__Stack_js-node_modules_lodash-es__Uint8Array_js-node_modules_l-4faaa6-95511fe13c4b.js" defer="defer"></script>
<script crossorigin="anonymous" type="application/javascript" src="https://github.githubassets.com/assets/vendors-node_modules_tanstack_react-virtual_dist_esm_index_js-4f7c027617ef.js" defer="defer"></script>
<script crossorigin="anonymous" type="application/javascript" src="https://github.githubassets.com/assets/vendors-node_modules_react-relay_index_js-065619a68bd6.js" defer="defer"></script>
<script crossorigin="anonymous" type="application/javascript" src="https://github.githubassets.com/assets/vendors-node_modules_micromark-extension-gfm_index_js-node_modules_micromark_lib_parse_js-nod-18f315-d50c84ecb040.js" defer="defer"></script>
<script crossorigin="anonymous" type="application/javascript" src="https://github.githubassets.com/assets/vendors-node_modules_remark-gfm_lib_index_js-node_modules_remark-parse_lib_index_js-node_modu-44d0fc-6ee2a163989b.js" defer="defer"></script>
<script crossorigin="anonymous" type="application/javascript" src="https://github.githubassets.com/assets/vendors-node_modules_hastscript_lib_index_js-node_modules_lowlight_lib_all_js-node_modules_re-7714c4-9d6b30e325fc.js" defer="defer"></script>
<script crossorigin="anonymous" type="application/javascript" src="https://github.githubassets.com/assets/vendors-node_modules_fzy_js_index_js-node_modules_dom-input-range_dist_index_js-ad420d163f4e.js" defer="defer"></script>
<script crossorigin="anonymous" type="application/javascript" src="https://github.githubassets.com/assets/vendors-node_modules_github_mini-throttle_dist_decorators_js-node_modules_accname_dist_access-6ea9b0-201e3c77621c.js" defer="defer"></script>
<script crossorigin="anonymous" type="application/javascript" src="https://github.githubassets.com/assets/vendors-node_modules_emoji-regex_index_js-node_modules_tanstack_react-query_build_modern_useM-a11183-43987ee882a0.js" defer="defer"></script>
<script crossorigin="anonymous" type="application/javascript" src="https://github.githubassets.com/assets/vendors-node_modules_github_catalyst_lib_index_js-node_modules_swc_helpers_esm__class_static_-b16468-1b586c8cb7fd.js" defer="defer"></script>
<script crossorigin="anonymous" type="application/javascript" src="https://github.githubassets.com/assets/packages_paths_index_ts-87ff0f019d46.js" defer="defer"></script>
<script crossorigin="anonymous" type="application/javascript" src="https://github.githubassets.com/assets/packages_ui-commands_ui-commands_ts-d40077cb1466.js" defer="defer"></script>
<script crossorigin="anonymous" type="application/javascript" src="https://github.githubassets.com/assets/packages_date-picker_components_DatePicker_tsx-5b5fe0292542.js" defer="defer"></script>
<script crossorigin="anonymous" type="application/javascript" src="https://github.githubassets.com/assets/packages_drag-and-drop_drag-and-drop_ts-packages_hydro-analytics_hydro-analytics_ts-6d373d06faa7.js" defer="defer"></script>
<script crossorigin="anonymous" type="application/javascript" src="https://github.githubassets.com/assets/packages_list-view_src_hooks_use-next-header-tag_ts-packages_list-view_src_ListItem_ListItem_-055669-a51bfc2f2d41.js" defer="defer"></script>
<script crossorigin="anonymous" type="application/javascript" src="https://github.githubassets.com/assets/packages_ref-selector_RefSelector_tsx-745d2b3f1f3d.js" defer="defer"></script>
<script crossorigin="anonymous" type="application/javascript" src="https://github.githubassets.com/assets/packages_copilot-chat_utils_copilot-chat-helpers_ts-18b9191ef288.js" defer="defer"></script>
<script crossorigin="anonymous" type="application/javascript" src="https://github.githubassets.com/assets/packages_github-avatar_GitHubAvatar_tsx-packages_item-picker_components_RepositoryPicker_tsx--5e6284-16780d021af1.js" defer="defer"></script>
<script crossorigin="anonymous" type="application/javascript" src="https://github.githubassets.com/assets/packages_copilot-markdown_MarkdownRenderer_tsx-f7443d6d6ee2.js" defer="defer"></script>
<script crossorigin="anonymous" type="application/javascript" src="https://github.githubassets.com/assets/packages_copilot-auth-token_copilot-auth-token_ts-packages_relay-environment_relay-environmen-f00a0f-7ecc1df5fc40.js" defer="defer"></script>
<script crossorigin="anonymous" type="application/javascript" src="https://github.githubassets.com/assets/packages_copilot-chat_utils_CopilotChatContext_tsx-44e2ca4e8067.js" defer="defer"></script>
<script crossorigin="anonymous" type="application/javascript" src="https://github.githubassets.com/assets/packages_copilot-chat_components_ModelPicker_tsx-d7f585db8342.js" defer="defer"></script>
<script crossorigin="anonymous" type="application/javascript" src="https://github.githubassets.com/assets/packages_history_history_ts-packages_agent-sessions_components_NewTaskChatInput_tsx-packages_-0062ab-c834f63e742d.js" defer="defer"></script>
<script crossorigin="anonymous" type="application/javascript" src="https://github.githubassets.com/assets/packages_commit-attribution_index_ts-packages_commit-checks-status_index_ts-e90ea1e7185f.js" defer="defer"></script>
<script crossorigin="anonymous" type="application/javascript" src="https://github.githubassets.com/assets/packages_code-view-shared_hooks_shortcuts_ts-packages_failbot_failbot_ts-packages_use-code-vi-e0ddb1-5a8579e33ce8.js" defer="defer"></script>
<script crossorigin="anonymous" type="application/javascript" src="https://github.githubassets.com/assets/packages_app-uuid_app-uuid_ts-packages_repos-file-tree-view_repos-file-tree-view_ts-79ce9bf08671.js" defer="defer"></script>
<script crossorigin="anonymous" type="application/javascript" src="https://github.githubassets.com/assets/app_assets_modules_react-code-view_utilities_lines_ts-6bd8fdc3ef80.js" defer="defer"></script>
<script crossorigin="anonymous" type="application/javascript" src="https://github.githubassets.com/assets/react-code-view-3f62bcad620e.js" defer="defer"></script>
<link crossorigin="anonymous" media="all" rel="stylesheet" href="https://github.githubassets.com/assets/primer-react.411f5092c8deb2a4e03d.module.css" />
<link crossorigin="anonymous" media="all" rel="stylesheet" href="https://github.githubassets.com/assets/packages_history_history_ts-packages_agent-sessions_components_NewTaskChatInput_tsx-packages_-0062ab.1426d313781cef749057.module.css" />
<link crossorigin="anonymous" media="all" rel="stylesheet" href="https://github.githubassets.com/assets/react-code-view.a6ad1f4e1c1e684a6fa4.module.css" />

  <script crossorigin="anonymous" type="application/javascript" src="https://github.githubassets.com/assets/packages_document-metadata_document-metadata_ts-packages_notifications-subscriptions-menu_ent-c054c3-a501f1b541dd.js" defer="defer"></script>
<script crossorigin="anonymous" type="application/javascript" src="https://github.githubassets.com/assets/notifications-subscriptions-menu-c2c58ce444f5.js" defer="defer"></script>
<link crossorigin="anonymous" media="all" rel="stylesheet" href="https://github.githubassets.com/assets/primer-react.411f5092c8deb2a4e03d.module.css" />
<link crossorigin="anonymous" media="all" rel="stylesheet" href="https://github.githubassets.com/assets/notifications-subscriptions-menu.44a4ce5e60cfd5c27b1a.module.css" />


  <title>ESDSDemo/neighborhood_filter.ipynb at main · ahijevyc/ESDSDemo · GitHub</title>



  <meta name="route-pattern" content="/:user_id/:repository/blob/*name(/*path)" data-turbo-transient>
  <meta name="route-controller" content="blob" data-turbo-transient>
  <meta name="route-action" content="show" data-turbo-transient>
  <meta name="fetch-nonce" content="v2:853e7e1e-ceb9-8756-ca10-2831a9dfa394">

    
  <meta name="current-catalog-service-hash" content="f3abb0cc802f3d7b95fc8762b94bdcb13bf39634c40c357301c4aa1d67a256fb">


  <meta name="request-id" content="E424:2572F1:A46220:E067BE:68AE1B57" data-pjax-transient="true"/><meta name="html-safe-nonce" content="cc910266f71672c6756528f487514d63159eb9b586db30a3bd144c73ffac526f" data-pjax-transient="true"/><meta name="visitor-payload" content="eyJyZWZlcnJlciI6IiIsInJlcXVlc3RfaWQiOiJFNDI0OjI1NzJGMTpBNDYyMjA6RTA2N0JFOjY4QUUxQjU3IiwidmlzaXRvcl9pZCI6Ijg1NDgzNjY5NzI1NTI2MTY3OTEiLCJyZWdpb25fZWRnZSI6ImlhZCIsInJlZ2lvbl9yZW5kZXIiOiJpYWQifQ==" data-pjax-transient="true"/><meta name="visitor-hmac" content="d09a2e139e4f20713469354a067f7e2f5e1d08408159db079f5445c081e75037" data-pjax-transient="true"/>


    <meta name="hovercard-subject-tag" content="repository:744202857" data-turbo-transient>


  <meta name="github-keyboard-shortcuts" content="repository,source-code,file-tree,copilot" data-turbo-transient="true" />
  

  <meta name="selected-link" value="repo_source" data-turbo-transient>
  <link rel="assets" href="https://github.githubassets.com/">

    <meta name="google-site-verification" content="Apib7-x98H0j5cPqHWwSMm6dNU4GmODRoqxLiDzdx9I">

<meta name="octolytics-url" content="https://collector.github.com/github/collect" />

  <meta name="analytics-location" content="/&lt;user-name&gt;/&lt;repo-name&gt;/blob/show" data-turbo-transient="true" />

  




    <meta name="user-login" content="">

  

    <meta name="viewport" content="width=device-width">

    

      <meta name="description" content="uxarray Breakout group Jan 19 2024. Contribute to ahijevyc/ESDSDemo development by creating an account on GitHub.">

      <link rel="search" type="application/opensearchdescription+xml" href="/opensearch.xml" title="GitHub">

    <link rel="fluid-icon" href="https://github.com/fluidicon.png" title="GitHub">
    <meta property="fb:app_id" content="1401488693436528">
    <meta name="apple-itunes-app" content="app-id=1477376905, app-argument=https://github.com/ahijevyc/ESDSDemo/blob/main/neighborhood_filter.ipynb" />

      <meta name="twitter:image" content="https://opengraph.githubassets.com/1400aa5bd97dbcdb6e4351bfa3905d0515ea8c8fe065e6aac093847e7c139364/ahijevyc/ESDSDemo" /><meta name="twitter:site" content="@github" /><meta name="twitter:card" content="summary_large_image" /><meta name="twitter:title" content="ESDSDemo/neighborhood_filter.ipynb at main · ahijevyc/ESDSDemo" /><meta name="twitter:description" content="uxarray Breakout group Jan 19 2024. Contribute to ahijevyc/ESDSDemo development by creating an account on GitHub." />
  <meta property="og:image" content="https://opengraph.githubassets.com/1400aa5bd97dbcdb6e4351bfa3905d0515ea8c8fe065e6aac093847e7c139364/ahijevyc/ESDSDemo" /><meta property="og:image:alt" content="uxarray Breakout group Jan 19 2024. Contribute to ahijevyc/ESDSDemo development by creating an account on GitHub." /><meta property="og:image:width" content="1200" /><meta property="og:image:height" content="600" /><meta property="og:site_name" content="GitHub" /><meta property="og:type" content="object" /><meta property="og:title" content="ESDSDemo/neighborhood_filter.ipynb at main · ahijevyc/ESDSDemo" /><meta property="og:url" content="https://github.com/ahijevyc/ESDSDemo/blob/main/neighborhood_filter.ipynb" /><meta property="og:description" content="uxarray Breakout group Jan 19 2024. Contribute to ahijevyc/ESDSDemo development by creating an account on GitHub." />
  




      <meta name="hostname" content="github.com">



        <meta name="expected-hostname" content="github.com">


  <meta http-equiv="x-pjax-version" content="49b18228c90fd91dde161ebd01d7624d0cfc57d720926b6a5ce583920a6b8421" data-turbo-track="reload">
  <meta http-equiv="x-pjax-csp-version" content="8fba9c9418de26103e6176951dd0c38780be21b972f2019085dee08622fdb843" data-turbo-track="reload">
  <meta http-equiv="x-pjax-css-version" content="fdbf31a2a55881c551889d59388f06291e922f23e375b1c47e1c630f797ca57b" data-turbo-track="reload">
  <meta http-equiv="x-pjax-js-version" content="75a3a910197d6d7672b1fbcd028663c825550bb89d3160c48a9d53a2478f03c7" data-turbo-track="reload">

  <meta name="turbo-cache-control" content="no-preview" data-turbo-transient="">

      <meta name="turbo-cache-control" content="no-cache" data-turbo-transient>

    <meta data-hydrostats="publish">

  <meta name="go-import" content="github.com/ahijevyc/ESDSDemo git https://github.com/ahijevyc/ESDSDemo.git">

  <meta name="octolytics-dimension-user_id" content="17888360" /><meta name="octolytics-dimension-user_login" content="ahijevyc" /><meta name="octolytics-dimension-repository_id" content="744202857" /><meta name="octolytics-dimension-repository_nwo" content="ahijevyc/ESDSDemo" /><meta name="octolytics-dimension-repository_public" content="true" /><meta name="octolytics-dimension-repository_is_fork" content="false" /><meta name="octolytics-dimension-repository_network_root_id" content="744202857" /><meta name="octolytics-dimension-repository_network_root_nwo" content="ahijevyc/ESDSDemo" />



    

    <meta name="turbo-body-classes" content="logged-out env-production page-responsive">


  <meta name="browser-stats-url" content="https://api.github.com/_private/browser/stats">

  <meta name="browser-errors-url" content="https://api.github.com/_private/browser/errors">

  <meta name="release" content="214504af618ff1f6f74f7c40a02ca1297fc311ad">
  <meta name="ui-target" content="full">

  <link rel="mask-icon" href="https://github.githubassets.com/assets/pinned-octocat-093da3e6fa40.svg" color="#000000">
  <link rel="alternate icon" class="js-site-favicon" type="image/png" href="https://github.githubassets.com/favicons/favicon.png">
  <link rel="icon" class="js-site-favicon" type="image/svg+xml" href="https://github.githubassets.com/favicons/favicon.svg" data-base-href="https://github.githubassets.com/favicons/favicon">

<meta name="theme-color" content="#1e2327">
<meta name="color-scheme" content="light dark" />


  <link rel="manifest" href="/manifest.json" crossOrigin="use-credentials">

  </head>

  <body class="logged-out env-production page-responsive" style="word-wrap: break-word;">
    <div data-turbo-body class="logged-out env-production page-responsive" style="word-wrap: break-word;">
      



    <div class="position-relative header-wrapper js-header-wrapper ">
      <a href="#start-of-content" data-skip-target-assigned="false" class="px-2 py-4 color-bg-accent-emphasis color-fg-on-emphasis show-on-focus js-skip-to-content">Skip to content</a>

      <span data-view-component="true" class="progress-pjax-loader Progress position-fixed width-full">
    <span style="width: 0%;" data-view-component="true" class="Progress-item progress-pjax-loader-bar left-0 top-0 color-bg-accent-emphasis"></span>
</span>      
      
      <link crossorigin="anonymous" media="all" rel="stylesheet" href="https://github.githubassets.com/assets/primer-react.411f5092c8deb2a4e03d.module.css" />
<link crossorigin="anonymous" media="all" rel="stylesheet" href="https://github.githubassets.com/assets/keyboard-shortcuts-dialog.2de9c7d6456a311fce49.module.css" />

<react-partial
  partial-name="keyboard-shortcuts-dialog"
  data-ssr="false"
  data-attempted-ssr="false"
  data-react-profiling="false"
>
  
  <script type="application/json" data-target="react-partial.embeddedData">{"props":{"docsUrl":"https://docs.github.com/get-started/accessibility/keyboard-shortcuts"}}</script>
  <div data-target="react-partial.reactRoot"></div>
</react-partial>





      

          

              
<script crossorigin="anonymous" type="application/javascript" src="https://github.githubassets.com/assets/vendors-node_modules_gsap_index_js-23c9606618ce.js" defer="defer"></script>
<script crossorigin="anonymous" type="application/javascript" src="https://github.githubassets.com/assets/vendors-node_modules_github_remote-form_dist_index_js-node_modules_delegated-events_dist_inde-94fd67-04dd9f3c4754.js" defer="defer"></script>
<script crossorigin="anonymous" type="application/javascript" src="https://github.githubassets.com/assets/sessions-f58d04675ea1.js" defer="defer"></script>
<header class="HeaderMktg header-logged-out js-details-container js-header Details f4 py-3" role="banner" data-is-top="true" data-color-mode=light data-light-theme=light data-dark-theme=dark>
  <h2 class="sr-only">Navigation Menu</h2>

  <button type="button" class="HeaderMktg-backdrop d-lg-none border-0 position-fixed top-0 left-0 width-full height-full js-details-target" aria-label="Toggle navigation">
    <span class="d-none">Toggle navigation</span>
  </button>

  <div class="d-flex flex-column flex-lg-row flex-items-center px-3 px-md-4 px-lg-5 height-full position-relative z-1">
    <div class="d-flex flex-justify-between flex-items-center width-full width-lg-auto">
      <div class="flex-1">
        <button aria-label="Toggle navigation" aria-expanded="false" type="button" data-view-component="true" class="js-details-target js-nav-padding-recalculate js-header-menu-toggle Button--link Button--medium Button d-lg-none color-fg-inherit p-1">  <span class="Button-content">
    <span class="Button-label"><div class="HeaderMenu-toggle-bar rounded my-1"></div>
            <div class="HeaderMenu-toggle-bar rounded my-1"></div>
            <div class="HeaderMenu-toggle-bar rounded my-1"></div></span>
  </span>
</button>
      </div>

      <a class="mr-lg-3 color-fg-inherit flex-order-2 js-prevent-focus-on-mobile-nav"
        href="/"
        aria-label="Homepage"
        data-analytics-event="{&quot;category&quot;:&quot;Marketing nav&quot;,&quot;action&quot;:&quot;click to go to homepage&quot;,&quot;label&quot;:&quot;ref_page:Marketing;ref_cta:Logomark;ref_loc:Header&quot;}">
        <svg height="32" aria-hidden="true" viewBox="0 0 24 24" version="1.1" width="32" data-view-component="true" class="octicon octicon-mark-github">
    <path d="M12 1C5.923 1 1 5.923 1 12c0 4.867 3.149 8.979 7.521 10.436.55.096.756-.233.756-.522 0-.262-.013-1.128-.013-2.049-2.764.509-3.479-.674-3.699-1.292-.124-.317-.66-1.293-1.127-1.554-.385-.207-.936-.715-.014-.729.866-.014 1.485.797 1.691 1.128.99 1.663 2.571 1.196 3.204.907.096-.715.385-1.196.701-1.471-2.448-.275-5.005-1.224-5.005-5.432 0-1.196.426-2.186 1.128-2.956-.111-.275-.496-1.402.11-2.915 0 0 .921-.288 3.024 1.128a10.193 10.193 0 0 1 2.75-.371c.936 0 1.871.123 2.75.371 2.104-1.43 3.025-1.128 3.025-1.128.605 1.513.221 2.64.111 2.915.701.77 1.127 1.747 1.127 2.956 0 4.222-2.571 5.157-5.019 5.432.399.344.743 1.004.743 2.035 0 1.471-.014 2.654-.014 3.025 0 .289.206.632.756.522C19.851 20.979 23 16.854 23 12c0-6.077-4.922-11-11-11Z"></path>
</svg>
      </a>

      <div class="d-flex flex-1 flex-order-2 text-right d-lg-none gap-2 flex-justify-end">
          <a
            href="/login?return_to=https%3A%2F%2Fgithub.com%2Fahijevyc%2FESDSDemo%2Fblob%2Fmain%2Fneighborhood_filter.ipynb"
            class="HeaderMenu-link HeaderMenu-button d-inline-flex f5 no-underline border color-border-default rounded-2 px-2 py-1 color-fg-inherit js-prevent-focus-on-mobile-nav"
            data-hydro-click="{&quot;event_type&quot;:&quot;authentication.click&quot;,&quot;payload&quot;:{&quot;location_in_page&quot;:&quot;site header menu&quot;,&quot;repository_id&quot;:null,&quot;auth_type&quot;:&quot;SIGN_UP&quot;,&quot;originating_url&quot;:&quot;https://github.com/ahijevyc/ESDSDemo/blob/main/neighborhood_filter.ipynb&quot;,&quot;user_id&quot;:null}}" data-hydro-click-hmac="a190cf08de9bf3e794fd0e76acd3b582f5dbc99587d4b257f0435725a5dd2d29"
            data-analytics-event="{&quot;category&quot;:&quot;Marketing nav&quot;,&quot;action&quot;:&quot;click to Sign in&quot;,&quot;label&quot;:&quot;ref_page:Marketing;ref_cta:Sign in;ref_loc:Header&quot;}"
          >
            Sign in
          </a>
              <div class="AppHeader-appearanceSettings">
    <react-partial-anchor>
      <button data-target="react-partial-anchor.anchor" id="icon-button-1b96349e-a6b5-4c5d-9096-e692de707097" aria-labelledby="tooltip-f8e55d7f-4d85-493d-9f27-1165bd9439ea" type="button" disabled="disabled" data-view-component="true" class="Button Button--iconOnly Button--invisible Button--medium AppHeader-button HeaderMenu-link border cursor-wait">  <svg aria-hidden="true" height="16" viewBox="0 0 16 16" version="1.1" width="16" data-view-component="true" class="octicon octicon-sliders Button-visual">
    <path d="M15 2.75a.75.75 0 0 1-.75.75h-4a.75.75 0 0 1 0-1.5h4a.75.75 0 0 1 .75.75Zm-8.5.75v1.25a.75.75 0 0 0 1.5 0v-4a.75.75 0 0 0-1.5 0V2H1.75a.75.75 0 0 0 0 1.5H6.5Zm1.25 5.25a.75.75 0 0 0 0-1.5h-6a.75.75 0 0 0 0 1.5h6ZM15 8a.75.75 0 0 1-.75.75H11.5V10a.75.75 0 1 1-1.5 0V6a.75.75 0 0 1 1.5 0v1.25h2.75A.75.75 0 0 1 15 8Zm-9 5.25v-2a.75.75 0 0 0-1.5 0v1.25H1.75a.75.75 0 0 0 0 1.5H4.5v1.25a.75.75 0 0 0 1.5 0v-2Zm9 0a.75.75 0 0 1-.75.75h-6a.75.75 0 0 1 0-1.5h6a.75.75 0 0 1 .75.75Z"></path>
</svg>
</button><tool-tip id="tooltip-f8e55d7f-4d85-493d-9f27-1165bd9439ea" for="icon-button-1b96349e-a6b5-4c5d-9096-e692de707097" popover="manual" data-direction="s" data-type="label" data-view-component="true" class="sr-only position-absolute">Appearance settings</tool-tip>

      <template data-target="react-partial-anchor.template">
        <link crossorigin="anonymous" media="all" rel="stylesheet" href="https://github.githubassets.com/assets/primer-react.411f5092c8deb2a4e03d.module.css" />
<link crossorigin="anonymous" media="all" rel="stylesheet" href="https://github.githubassets.com/assets/appearance-settings.c82a4db79200850fb016.module.css" />

<react-partial
  partial-name="appearance-settings"
  data-ssr="false"
  data-attempted-ssr="false"
  data-react-profiling="false"
>
  
  <script type="application/json" data-target="react-partial.embeddedData">{"props":{}}</script>
  <div data-target="react-partial.reactRoot"></div>
</react-partial>


      </template>
    </react-partial-anchor>
  </div>

      </div>
    </div>


    <div class="HeaderMenu js-header-menu height-fit position-lg-relative d-lg-flex flex-column flex-auto top-0">
      <div class="HeaderMenu-wrapper d-flex flex-column flex-self-start flex-lg-row flex-auto rounded rounded-lg-0">
          <nav class="HeaderMenu-nav" aria-label="Global">
            <ul class="d-lg-flex list-style-none">


                <li class="HeaderMenu-item position-relative flex-wrap flex-justify-between flex-items-center d-block d-lg-flex flex-lg-nowrap flex-lg-items-center js-details-container js-header-menu-item">
      <button type="button" class="HeaderMenu-link border-0 width-full width-lg-auto px-0 px-lg-2 py-lg-2 no-wrap d-flex flex-items-center flex-justify-between js-details-target" aria-expanded="false">
        Platform
        <svg opacity="0.5" aria-hidden="true" height="16" viewBox="0 0 16 16" version="1.1" width="16" data-view-component="true" class="octicon octicon-chevron-down HeaderMenu-icon ml-1">
    <path d="M12.78 5.22a.749.749 0 0 1 0 1.06l-4.25 4.25a.749.749 0 0 1-1.06 0L3.22 6.28a.749.749 0 1 1 1.06-1.06L8 8.939l3.72-3.719a.749.749 0 0 1 1.06 0Z"></path>
</svg>
      </button>

      <div class="HeaderMenu-dropdown dropdown-menu rounded m-0 p-0 pt-2 pt-lg-4 position-relative position-lg-absolute left-0 left-lg-n3 pb-2 pb-lg-4 d-lg-flex flex-wrap dropdown-menu-wide">
          <div class="HeaderMenu-column pl-lg-4 px-lg-4">
              <div class="">

                <ul class="list-style-none f5" >
                    <li>
  <a class="HeaderMenu-dropdown-link d-block no-underline position-relative py-2 Link--secondary d-flex flex-items-center Link--has-description pb-lg-3" data-analytics-event="{&quot;location&quot;:&quot;navbar&quot;,&quot;action&quot;:&quot;github_copilot&quot;,&quot;context&quot;:&quot;platform&quot;,&quot;tag&quot;:&quot;link&quot;,&quot;label&quot;:&quot;github_copilot_link_platform_navbar&quot;}" href="https://github.com/features/copilot">
      <svg aria-hidden="true" height="24" viewBox="0 0 24 24" version="1.1" width="24" data-view-component="true" class="octicon octicon-copilot color-fg-subtle mr-3">
    <path d="M23.922 16.992c-.861 1.495-5.859 5.023-11.922 5.023-6.063 0-11.061-3.528-11.922-5.023A.641.641 0 0 1 0 16.736v-2.869a.841.841 0 0 1 .053-.22c.372-.935 1.347-2.292 2.605-2.656.167-.429.414-1.055.644-1.517a10.195 10.195 0 0 1-.052-1.086c0-1.331.282-2.499 1.132-3.368.397-.406.89-.717 1.474-.952 1.399-1.136 3.392-2.093 6.122-2.093 2.731 0 4.767.957 6.166 2.093.584.235 1.077.546 1.474.952.85.869 1.132 2.037 1.132 3.368 0 .368-.014.733-.052 1.086.23.462.477 1.088.644 1.517 1.258.364 2.233 1.721 2.605 2.656a.832.832 0 0 1 .053.22v2.869a.641.641 0 0 1-.078.256ZM12.172 11h-.344a4.323 4.323 0 0 1-.355.508C10.703 12.455 9.555 13 7.965 13c-1.725 0-2.989-.359-3.782-1.259a2.005 2.005 0 0 1-.085-.104L4 11.741v6.585c1.435.779 4.514 2.179 8 2.179 3.486 0 6.565-1.4 8-2.179v-6.585l-.098-.104s-.033.045-.085.104c-.793.9-2.057 1.259-3.782 1.259-1.59 0-2.738-.545-3.508-1.492a4.323 4.323 0 0 1-.355-.508h-.016.016Zm.641-2.935c.136 1.057.403 1.913.878 2.497.442.544 1.134.938 2.344.938 1.573 0 2.292-.337 2.657-.751.384-.435.558-1.15.558-2.361 0-1.14-.243-1.847-.705-2.319-.477-.488-1.319-.862-2.824-1.025-1.487-.161-2.192.138-2.533.529-.269.307-.437.808-.438 1.578v.021c0 .265.021.562.063.893Zm-1.626 0c.042-.331.063-.628.063-.894v-.02c-.001-.77-.169-1.271-.438-1.578-.341-.391-1.046-.69-2.533-.529-1.505.163-2.347.537-2.824 1.025-.462.472-.705 1.179-.705 2.319 0 1.211.175 1.926.558 2.361.365.414 1.084.751 2.657.751 1.21 0 1.902-.394 2.344-.938.475-.584.742-1.44.878-2.497Z"></path><path d="M14.5 14.25a1 1 0 0 1 1 1v2a1 1 0 0 1-2 0v-2a1 1 0 0 1 1-1Zm-5 0a1 1 0 0 1 1 1v2a1 1 0 0 1-2 0v-2a1 1 0 0 1 1-1Z"></path>
</svg>
      <div>
          <div class="color-fg-default h4">
            GitHub Copilot
          </div>
        Write better code with AI
      </div>

    
</a></li>

                    <li>
  <a class="HeaderMenu-dropdown-link d-block no-underline position-relative py-2 Link--secondary d-flex flex-items-center Link--has-description pb-lg-3" data-analytics-event="{&quot;location&quot;:&quot;navbar&quot;,&quot;action&quot;:&quot;github_spark&quot;,&quot;context&quot;:&quot;platform&quot;,&quot;tag&quot;:&quot;link&quot;,&quot;label&quot;:&quot;github_spark_link_platform_navbar&quot;}" href="https://github.com/features/spark">
      <svg aria-hidden="true" height="24" viewBox="0 0 24 24" version="1.1" width="24" data-view-component="true" class="octicon octicon-sparkle-fill color-fg-subtle mr-3">
    <path d="M11.296 1.924c.24-.656 1.168-.656 1.408 0l.717 1.958a11.25 11.25 0 0 0 6.697 6.697l1.958.717c.657.24.657 1.168 0 1.408l-1.958.717a11.25 11.25 0 0 0-6.697 6.697l-.717 1.958c-.24.657-1.168.657-1.408 0l-.717-1.958a11.25 11.25 0 0 0-6.697-6.697l-1.958-.717c-.656-.24-.656-1.168 0-1.408l1.958-.717a11.25 11.25 0 0 0 6.697-6.697l.717-1.958Z"></path>
</svg>
      <div>
          <div class="color-fg-default h4">
            GitHub Spark
              <span class="HeaderMenu-label">
                New
              </span>
          </div>
        Build and deploy intelligent apps
      </div>

    
</a></li>

                    <li>
  <a class="HeaderMenu-dropdown-link d-block no-underline position-relative py-2 Link--secondary d-flex flex-items-center Link--has-description pb-lg-3" data-analytics-event="{&quot;location&quot;:&quot;navbar&quot;,&quot;action&quot;:&quot;github_models&quot;,&quot;context&quot;:&quot;platform&quot;,&quot;tag&quot;:&quot;link&quot;,&quot;label&quot;:&quot;github_models_link_platform_navbar&quot;}" href="https://github.com/features/models">
      <svg aria-hidden="true" height="24" viewBox="0 0 24 24" version="1.1" width="24" data-view-component="true" class="octicon octicon-ai-model color-fg-subtle mr-3">
    <path d="M19.375 8.5a3.25 3.25 0 1 1-3.163 4h-3a3.252 3.252 0 0 1-4.443 2.509L7.214 17.76a3.25 3.25 0 1 1-1.342-.674l1.672-2.957A3.238 3.238 0 0 1 6.75 12c0-.907.371-1.727.97-2.316L6.117 6.846A3.253 3.253 0 0 1 1.875 3.75a3.25 3.25 0 1 1 5.526 2.32l1.603 2.836A3.25 3.25 0 0 1 13.093 11h3.119a3.252 3.252 0 0 1 3.163-2.5ZM10 10.25a1.75 1.75 0 1 0-.001 3.499A1.75 1.75 0 0 0 10 10.25ZM5.125 2a1.75 1.75 0 1 0 0 3.5 1.75 1.75 0 0 0 0-3.5Zm12.5 9.75a1.75 1.75 0 1 0 3.5 0 1.75 1.75 0 0 0-3.5 0Zm-14.25 8.5a1.75 1.75 0 1 0 3.501-.001 1.75 1.75 0 0 0-3.501.001Z"></path>
</svg>
      <div>
          <div class="color-fg-default h4">
            GitHub Models
              <span class="HeaderMenu-label">
                New
              </span>
          </div>
        Manage and compare prompts
      </div>

    
</a></li>

                    <li>
  <a class="HeaderMenu-dropdown-link d-block no-underline position-relative py-2 Link--secondary d-flex flex-items-center Link--has-description pb-lg-3" data-analytics-event="{&quot;location&quot;:&quot;navbar&quot;,&quot;action&quot;:&quot;github_advanced_security&quot;,&quot;context&quot;:&quot;platform&quot;,&quot;tag&quot;:&quot;link&quot;,&quot;label&quot;:&quot;github_advanced_security_link_platform_navbar&quot;}" href="https://github.com/security/advanced-security">
      <svg aria-hidden="true" height="24" viewBox="0 0 24 24" version="1.1" width="24" data-view-component="true" class="octicon octicon-shield-check color-fg-subtle mr-3">
    <path d="M16.53 9.78a.75.75 0 0 0-1.06-1.06L11 13.19l-1.97-1.97a.75.75 0 0 0-1.06 1.06l2.5 2.5a.75.75 0 0 0 1.06 0l5-5Z"></path><path d="m12.54.637 8.25 2.675A1.75 1.75 0 0 1 22 4.976V10c0 6.19-3.771 10.704-9.401 12.83a1.704 1.704 0 0 1-1.198 0C5.77 20.705 2 16.19 2 10V4.976c0-.758.489-1.43 1.21-1.664L11.46.637a1.748 1.748 0 0 1 1.08 0Zm-.617 1.426-8.25 2.676a.249.249 0 0 0-.173.237V10c0 5.46 3.28 9.483 8.43 11.426a.199.199 0 0 0 .14 0C17.22 19.483 20.5 15.461 20.5 10V4.976a.25.25 0 0 0-.173-.237l-8.25-2.676a.253.253 0 0 0-.154 0Z"></path>
</svg>
      <div>
          <div class="color-fg-default h4">
            GitHub Advanced Security
          </div>
        Find and fix vulnerabilities
      </div>

    
</a></li>

                    <li>
  <a class="HeaderMenu-dropdown-link d-block no-underline position-relative py-2 Link--secondary d-flex flex-items-center Link--has-description pb-lg-3" data-analytics-event="{&quot;location&quot;:&quot;navbar&quot;,&quot;action&quot;:&quot;actions&quot;,&quot;context&quot;:&quot;platform&quot;,&quot;tag&quot;:&quot;link&quot;,&quot;label&quot;:&quot;actions_link_platform_navbar&quot;}" href="https://github.com/features/actions">
      <svg aria-hidden="true" height="24" viewBox="0 0 24 24" version="1.1" width="24" data-view-component="true" class="octicon octicon-workflow color-fg-subtle mr-3">
    <path d="M1 3a2 2 0 0 1 2-2h6.5a2 2 0 0 1 2 2v6.5a2 2 0 0 1-2 2H7v4.063C7 16.355 7.644 17 8.438 17H12.5v-2.5a2 2 0 0 1 2-2H21a2 2 0 0 1 2 2V21a2 2 0 0 1-2 2h-6.5a2 2 0 0 1-2-2v-2.5H8.437A2.939 2.939 0 0 1 5.5 15.562V11.5H3a2 2 0 0 1-2-2Zm2-.5a.5.5 0 0 0-.5.5v6.5a.5.5 0 0 0 .5.5h6.5a.5.5 0 0 0 .5-.5V3a.5.5 0 0 0-.5-.5ZM14.5 14a.5.5 0 0 0-.5.5V21a.5.5 0 0 0 .5.5H21a.5.5 0 0 0 .5-.5v-6.5a.5.5 0 0 0-.5-.5Z"></path>
</svg>
      <div>
          <div class="color-fg-default h4">
            Actions
          </div>
        Automate any workflow
      </div>

    
</a></li>

                    
                </ul>
              </div>
          </div>
          <div class="HeaderMenu-column pl-lg-4 px-lg-4 pb-3 pb-lg-0">
              <div class="border-bottom border-lg-bottom-0 pb-3">

                <ul class="list-style-none f5" >
                    <li>
  <a class="HeaderMenu-dropdown-link d-block no-underline position-relative py-2 Link--secondary d-flex flex-items-center Link--has-description pb-lg-3" data-analytics-event="{&quot;location&quot;:&quot;navbar&quot;,&quot;action&quot;:&quot;codespaces&quot;,&quot;context&quot;:&quot;platform&quot;,&quot;tag&quot;:&quot;link&quot;,&quot;label&quot;:&quot;codespaces_link_platform_navbar&quot;}" href="https://github.com/features/codespaces">
      <svg aria-hidden="true" height="24" viewBox="0 0 24 24" version="1.1" width="24" data-view-component="true" class="octicon octicon-codespaces color-fg-subtle mr-3">
    <path d="M3.5 3.75C3.5 2.784 4.284 2 5.25 2h13.5c.966 0 1.75.784 1.75 1.75v7.5A1.75 1.75 0 0 1 18.75 13H5.25a1.75 1.75 0 0 1-1.75-1.75Zm-2 12c0-.966.784-1.75 1.75-1.75h17.5c.966 0 1.75.784 1.75 1.75v4a1.75 1.75 0 0 1-1.75 1.75H3.25a1.75 1.75 0 0 1-1.75-1.75ZM5.25 3.5a.25.25 0 0 0-.25.25v7.5c0 .138.112.25.25.25h13.5a.25.25 0 0 0 .25-.25v-7.5a.25.25 0 0 0-.25-.25Zm-2 12a.25.25 0 0 0-.25.25v4c0 .138.112.25.25.25h17.5a.25.25 0 0 0 .25-.25v-4a.25.25 0 0 0-.25-.25Z"></path><path d="M10 17.75a.75.75 0 0 1 .75-.75h6.5a.75.75 0 0 1 0 1.5h-6.5a.75.75 0 0 1-.75-.75Zm-4 0a.75.75 0 0 1 .75-.75h.5a.75.75 0 0 1 0 1.5h-.5a.75.75 0 0 1-.75-.75Z"></path>
</svg>
      <div>
          <div class="color-fg-default h4">
            Codespaces
          </div>
        Instant dev environments
      </div>

    
</a></li>

                    <li>
  <a class="HeaderMenu-dropdown-link d-block no-underline position-relative py-2 Link--secondary d-flex flex-items-center Link--has-description pb-lg-3" data-analytics-event="{&quot;location&quot;:&quot;navbar&quot;,&quot;action&quot;:&quot;issues&quot;,&quot;context&quot;:&quot;platform&quot;,&quot;tag&quot;:&quot;link&quot;,&quot;label&quot;:&quot;issues_link_platform_navbar&quot;}" href="https://github.com/features/issues">
      <svg aria-hidden="true" height="24" viewBox="0 0 24 24" version="1.1" width="24" data-view-component="true" class="octicon octicon-issue-opened color-fg-subtle mr-3">
    <path d="M12 1c6.075 0 11 4.925 11 11s-4.925 11-11 11S1 18.075 1 12 5.925 1 12 1ZM2.5 12a9.5 9.5 0 0 0 9.5 9.5 9.5 9.5 0 0 0 9.5-9.5A9.5 9.5 0 0 0 12 2.5 9.5 9.5 0 0 0 2.5 12Zm9.5 2a2 2 0 1 1-.001-3.999A2 2 0 0 1 12 14Z"></path>
</svg>
      <div>
          <div class="color-fg-default h4">
            Issues
          </div>
        Plan and track work
      </div>

    
</a></li>

                    <li>
  <a class="HeaderMenu-dropdown-link d-block no-underline position-relative py-2 Link--secondary d-flex flex-items-center Link--has-description pb-lg-3" data-analytics-event="{&quot;location&quot;:&quot;navbar&quot;,&quot;action&quot;:&quot;code_review&quot;,&quot;context&quot;:&quot;platform&quot;,&quot;tag&quot;:&quot;link&quot;,&quot;label&quot;:&quot;code_review_link_platform_navbar&quot;}" href="https://github.com/features/code-review">
      <svg aria-hidden="true" height="24" viewBox="0 0 24 24" version="1.1" width="24" data-view-component="true" class="octicon octicon-code-review color-fg-subtle mr-3">
    <path d="M10.3 6.74a.75.75 0 0 1-.04 1.06l-2.908 2.7 2.908 2.7a.75.75 0 1 1-1.02 1.1l-3.5-3.25a.75.75 0 0 1 0-1.1l3.5-3.25a.75.75 0 0 1 1.06.04Zm3.44 1.06a.75.75 0 1 1 1.02-1.1l3.5 3.25a.75.75 0 0 1 0 1.1l-3.5 3.25a.75.75 0 1 1-1.02-1.1l2.908-2.7-2.908-2.7Z"></path><path d="M1.5 4.25c0-.966.784-1.75 1.75-1.75h17.5c.966 0 1.75.784 1.75 1.75v12.5a1.75 1.75 0 0 1-1.75 1.75h-9.69l-3.573 3.573A1.458 1.458 0 0 1 5 21.043V18.5H3.25a1.75 1.75 0 0 1-1.75-1.75ZM3.25 4a.25.25 0 0 0-.25.25v12.5c0 .138.112.25.25.25h2.5a.75.75 0 0 1 .75.75v3.19l3.72-3.72a.749.749 0 0 1 .53-.22h10a.25.25 0 0 0 .25-.25V4.25a.25.25 0 0 0-.25-.25Z"></path>
</svg>
      <div>
          <div class="color-fg-default h4">
            Code Review
          </div>
        Manage code changes
      </div>

    
</a></li>

                    <li>
  <a class="HeaderMenu-dropdown-link d-block no-underline position-relative py-2 Link--secondary d-flex flex-items-center Link--has-description pb-lg-3" data-analytics-event="{&quot;location&quot;:&quot;navbar&quot;,&quot;action&quot;:&quot;discussions&quot;,&quot;context&quot;:&quot;platform&quot;,&quot;tag&quot;:&quot;link&quot;,&quot;label&quot;:&quot;discussions_link_platform_navbar&quot;}" href="https://github.com/features/discussions">
      <svg aria-hidden="true" height="24" viewBox="0 0 24 24" version="1.1" width="24" data-view-component="true" class="octicon octicon-comment-discussion color-fg-subtle mr-3">
    <path d="M1.75 1h12.5c.966 0 1.75.784 1.75 1.75v9.5A1.75 1.75 0 0 1 14.25 14H8.061l-2.574 2.573A1.458 1.458 0 0 1 3 15.543V14H1.75A1.75 1.75 0 0 1 0 12.25v-9.5C0 1.784.784 1 1.75 1ZM1.5 2.75v9.5c0 .138.112.25.25.25h2a.75.75 0 0 1 .75.75v2.19l2.72-2.72a.749.749 0 0 1 .53-.22h6.5a.25.25 0 0 0 .25-.25v-9.5a.25.25 0 0 0-.25-.25H1.75a.25.25 0 0 0-.25.25Z"></path><path d="M22.5 8.75a.25.25 0 0 0-.25-.25h-3.5a.75.75 0 0 1 0-1.5h3.5c.966 0 1.75.784 1.75 1.75v9.5A1.75 1.75 0 0 1 22.25 20H21v1.543a1.457 1.457 0 0 1-2.487 1.03L15.939 20H10.75A1.75 1.75 0 0 1 9 18.25v-1.465a.75.75 0 0 1 1.5 0v1.465c0 .138.112.25.25.25h5.5a.75.75 0 0 1 .53.22l2.72 2.72v-2.19a.75.75 0 0 1 .75-.75h2a.25.25 0 0 0 .25-.25v-9.5Z"></path>
</svg>
      <div>
          <div class="color-fg-default h4">
            Discussions
          </div>
        Collaborate outside of code
      </div>

    
</a></li>

                    <li>
  <a class="HeaderMenu-dropdown-link d-block no-underline position-relative py-2 Link--secondary d-flex flex-items-center Link--has-description" data-analytics-event="{&quot;location&quot;:&quot;navbar&quot;,&quot;action&quot;:&quot;code_search&quot;,&quot;context&quot;:&quot;platform&quot;,&quot;tag&quot;:&quot;link&quot;,&quot;label&quot;:&quot;code_search_link_platform_navbar&quot;}" href="https://github.com/features/code-search">
      <svg aria-hidden="true" height="24" viewBox="0 0 24 24" version="1.1" width="24" data-view-component="true" class="octicon octicon-code-square color-fg-subtle mr-3">
    <path d="M10.3 8.24a.75.75 0 0 1-.04 1.06L7.352 12l2.908 2.7a.75.75 0 1 1-1.02 1.1l-3.5-3.25a.75.75 0 0 1 0-1.1l3.5-3.25a.75.75 0 0 1 1.06.04Zm3.44 1.06a.75.75 0 1 1 1.02-1.1l3.5 3.25a.75.75 0 0 1 0 1.1l-3.5 3.25a.75.75 0 1 1-1.02-1.1l2.908-2.7-2.908-2.7Z"></path><path d="M2 3.75C2 2.784 2.784 2 3.75 2h16.5c.966 0 1.75.784 1.75 1.75v16.5A1.75 1.75 0 0 1 20.25 22H3.75A1.75 1.75 0 0 1 2 20.25Zm1.75-.25a.25.25 0 0 0-.25.25v16.5c0 .138.112.25.25.25h16.5a.25.25 0 0 0 .25-.25V3.75a.25.25 0 0 0-.25-.25Z"></path>
</svg>
      <div>
          <div class="color-fg-default h4">
            Code Search
          </div>
        Find more, search less
      </div>

    
</a></li>

                </ul>
              </div>
          </div>
          <div class="HeaderMenu-column pl-lg-4 border-lg-left pr-lg-7">
              <div class="border-bottom border-lg-bottom-0 border-bottom-0">
                    <span class="d-block h4 color-fg-default my-1" id="platform-explore-heading">Explore</span>

                <ul class="list-style-none f5" aria-labelledby="platform-explore-heading">
                    <li>
  <a class="HeaderMenu-dropdown-link d-block no-underline position-relative py-2 Link--secondary" data-analytics-event="{&quot;location&quot;:&quot;navbar&quot;,&quot;action&quot;:&quot;why_github&quot;,&quot;context&quot;:&quot;platform&quot;,&quot;tag&quot;:&quot;link&quot;,&quot;label&quot;:&quot;why_github_link_platform_navbar&quot;}" href="https://github.com/why-github">
      Why GitHub

    
</a></li>

                    <li>
  <a class="HeaderMenu-dropdown-link d-block no-underline position-relative py-2 Link--secondary" data-analytics-event="{&quot;location&quot;:&quot;navbar&quot;,&quot;action&quot;:&quot;all_features&quot;,&quot;context&quot;:&quot;platform&quot;,&quot;tag&quot;:&quot;link&quot;,&quot;label&quot;:&quot;all_features_link_platform_navbar&quot;}" href="https://github.com/features">
      All features

    
</a></li>

                    <li>
  <a class="HeaderMenu-dropdown-link d-block no-underline position-relative py-2 Link--secondary Link--external" target="_blank" data-analytics-event="{&quot;location&quot;:&quot;navbar&quot;,&quot;action&quot;:&quot;documentation&quot;,&quot;context&quot;:&quot;platform&quot;,&quot;tag&quot;:&quot;link&quot;,&quot;label&quot;:&quot;documentation_link_platform_navbar&quot;}" href="https://docs.github.com">
      Documentation

    <svg aria-hidden="true" height="16" viewBox="0 0 16 16" version="1.1" width="16" data-view-component="true" class="octicon octicon-link-external HeaderMenu-external-icon color-fg-subtle">
    <path d="M3.75 2h3.5a.75.75 0 0 1 0 1.5h-3.5a.25.25 0 0 0-.25.25v8.5c0 .138.112.25.25.25h8.5a.25.25 0 0 0 .25-.25v-3.5a.75.75 0 0 1 1.5 0v3.5A1.75 1.75 0 0 1 12.25 14h-8.5A1.75 1.75 0 0 1 2 12.25v-8.5C2 2.784 2.784 2 3.75 2Zm6.854-1h4.146a.25.25 0 0 1 .25.25v4.146a.25.25 0 0 1-.427.177L13.03 4.03 9.28 7.78a.751.751 0 0 1-1.042-.018.751.751 0 0 1-.018-1.042l3.75-3.75-1.543-1.543A.25.25 0 0 1 10.604 1Z"></path>
</svg>
</a></li>

                    <li>
  <a class="HeaderMenu-dropdown-link d-block no-underline position-relative py-2 Link--secondary Link--external" target="_blank" data-analytics-event="{&quot;location&quot;:&quot;navbar&quot;,&quot;action&quot;:&quot;github_skills&quot;,&quot;context&quot;:&quot;platform&quot;,&quot;tag&quot;:&quot;link&quot;,&quot;label&quot;:&quot;github_skills_link_platform_navbar&quot;}" href="https://skills.github.com">
      GitHub Skills

    <svg aria-hidden="true" height="16" viewBox="0 0 16 16" version="1.1" width="16" data-view-component="true" class="octicon octicon-link-external HeaderMenu-external-icon color-fg-subtle">
    <path d="M3.75 2h3.5a.75.75 0 0 1 0 1.5h-3.5a.25.25 0 0 0-.25.25v8.5c0 .138.112.25.25.25h8.5a.25.25 0 0 0 .25-.25v-3.5a.75.75 0 0 1 1.5 0v3.5A1.75 1.75 0 0 1 12.25 14h-8.5A1.75 1.75 0 0 1 2 12.25v-8.5C2 2.784 2.784 2 3.75 2Zm6.854-1h4.146a.25.25 0 0 1 .25.25v4.146a.25.25 0 0 1-.427.177L13.03 4.03 9.28 7.78a.751.751 0 0 1-1.042-.018.751.751 0 0 1-.018-1.042l3.75-3.75-1.543-1.543A.25.25 0 0 1 10.604 1Z"></path>
</svg>
</a></li>

                    <li>
  <a class="HeaderMenu-dropdown-link d-block no-underline position-relative py-2 Link--secondary Link--external" target="_blank" data-analytics-event="{&quot;location&quot;:&quot;navbar&quot;,&quot;action&quot;:&quot;blog&quot;,&quot;context&quot;:&quot;platform&quot;,&quot;tag&quot;:&quot;link&quot;,&quot;label&quot;:&quot;blog_link_platform_navbar&quot;}" href="https://github.blog">
      Blog

    <svg aria-hidden="true" height="16" viewBox="0 0 16 16" version="1.1" width="16" data-view-component="true" class="octicon octicon-link-external HeaderMenu-external-icon color-fg-subtle">
    <path d="M3.75 2h3.5a.75.75 0 0 1 0 1.5h-3.5a.25.25 0 0 0-.25.25v8.5c0 .138.112.25.25.25h8.5a.25.25 0 0 0 .25-.25v-3.5a.75.75 0 0 1 1.5 0v3.5A1.75 1.75 0 0 1 12.25 14h-8.5A1.75 1.75 0 0 1 2 12.25v-8.5C2 2.784 2.784 2 3.75 2Zm6.854-1h4.146a.25.25 0 0 1 .25.25v4.146a.25.25 0 0 1-.427.177L13.03 4.03 9.28 7.78a.751.751 0 0 1-1.042-.018.751.751 0 0 1-.018-1.042l3.75-3.75-1.543-1.543A.25.25 0 0 1 10.604 1Z"></path>
</svg>
</a></li>

                </ul>
              </div>
          </div>

      </div>
</li>


                <li class="HeaderMenu-item position-relative flex-wrap flex-justify-between flex-items-center d-block d-lg-flex flex-lg-nowrap flex-lg-items-center js-details-container js-header-menu-item">
      <button type="button" class="HeaderMenu-link border-0 width-full width-lg-auto px-0 px-lg-2 py-lg-2 no-wrap d-flex flex-items-center flex-justify-between js-details-target" aria-expanded="false">
        Solutions
        <svg opacity="0.5" aria-hidden="true" height="16" viewBox="0 0 16 16" version="1.1" width="16" data-view-component="true" class="octicon octicon-chevron-down HeaderMenu-icon ml-1">
    <path d="M12.78 5.22a.749.749 0 0 1 0 1.06l-4.25 4.25a.749.749 0 0 1-1.06 0L3.22 6.28a.749.749 0 1 1 1.06-1.06L8 8.939l3.72-3.719a.749.749 0 0 1 1.06 0Z"></path>
</svg>
      </button>

      <div class="HeaderMenu-dropdown dropdown-menu rounded m-0 p-0 pt-2 pt-lg-4 position-relative position-lg-absolute left-0 left-lg-n3 d-lg-flex flex-wrap dropdown-menu-wide">
          <div class="HeaderMenu-column pl-lg-4 px-lg-4 pb-3 pb-lg-0">
              <div class="border-bottom border-lg-bottom-0 mb-3 pb-3">
                    <span class="d-block h4 color-fg-default my-1" id="solutions-by-company-size-heading">By company size</span>

                <ul class="list-style-none f5" aria-labelledby="solutions-by-company-size-heading">
                    <li>
  <a class="HeaderMenu-dropdown-link d-block no-underline position-relative py-2 Link--secondary" data-analytics-event="{&quot;location&quot;:&quot;navbar&quot;,&quot;action&quot;:&quot;enterprises&quot;,&quot;context&quot;:&quot;solutions&quot;,&quot;tag&quot;:&quot;link&quot;,&quot;label&quot;:&quot;enterprises_link_solutions_navbar&quot;}" href="https://github.com/enterprise">
      Enterprises

    
</a></li>

                    <li>
  <a class="HeaderMenu-dropdown-link d-block no-underline position-relative py-2 Link--secondary" data-analytics-event="{&quot;location&quot;:&quot;navbar&quot;,&quot;action&quot;:&quot;small_and_medium_teams&quot;,&quot;context&quot;:&quot;solutions&quot;,&quot;tag&quot;:&quot;link&quot;,&quot;label&quot;:&quot;small_and_medium_teams_link_solutions_navbar&quot;}" href="https://github.com/team">
      Small and medium teams

    
</a></li>

                    <li>
  <a class="HeaderMenu-dropdown-link d-block no-underline position-relative py-2 Link--secondary" data-analytics-event="{&quot;location&quot;:&quot;navbar&quot;,&quot;action&quot;:&quot;startups&quot;,&quot;context&quot;:&quot;solutions&quot;,&quot;tag&quot;:&quot;link&quot;,&quot;label&quot;:&quot;startups_link_solutions_navbar&quot;}" href="https://github.com/enterprise/startups">
      Startups

    
</a></li>

                    <li>
  <a class="HeaderMenu-dropdown-link d-block no-underline position-relative py-2 Link--secondary" data-analytics-event="{&quot;location&quot;:&quot;navbar&quot;,&quot;action&quot;:&quot;nonprofits&quot;,&quot;context&quot;:&quot;solutions&quot;,&quot;tag&quot;:&quot;link&quot;,&quot;label&quot;:&quot;nonprofits_link_solutions_navbar&quot;}" href="/solutions/industry/nonprofits">
      Nonprofits

    
</a></li>

                </ul>
              </div>
              <div class="border-bottom border-lg-bottom-0 pb-3">
                    <span class="d-block h4 color-fg-default my-1" id="solutions-by-use-case-heading">By use case</span>

                <ul class="list-style-none f5" aria-labelledby="solutions-by-use-case-heading">
                    <li>
  <a class="HeaderMenu-dropdown-link d-block no-underline position-relative py-2 Link--secondary" data-analytics-event="{&quot;location&quot;:&quot;navbar&quot;,&quot;action&quot;:&quot;devsecops&quot;,&quot;context&quot;:&quot;solutions&quot;,&quot;tag&quot;:&quot;link&quot;,&quot;label&quot;:&quot;devsecops_link_solutions_navbar&quot;}" href="/solutions/use-case/devsecops">
      DevSecOps

    
</a></li>

                    <li>
  <a class="HeaderMenu-dropdown-link d-block no-underline position-relative py-2 Link--secondary" data-analytics-event="{&quot;location&quot;:&quot;navbar&quot;,&quot;action&quot;:&quot;devops&quot;,&quot;context&quot;:&quot;solutions&quot;,&quot;tag&quot;:&quot;link&quot;,&quot;label&quot;:&quot;devops_link_solutions_navbar&quot;}" href="/solutions/use-case/devops">
      DevOps

    
</a></li>

                    <li>
  <a class="HeaderMenu-dropdown-link d-block no-underline position-relative py-2 Link--secondary" data-analytics-event="{&quot;location&quot;:&quot;navbar&quot;,&quot;action&quot;:&quot;ci_cd&quot;,&quot;context&quot;:&quot;solutions&quot;,&quot;tag&quot;:&quot;link&quot;,&quot;label&quot;:&quot;ci_cd_link_solutions_navbar&quot;}" href="/solutions/use-case/ci-cd">
      CI/CD

    
</a></li>

                    <li>
  <a class="HeaderMenu-dropdown-link d-block no-underline position-relative py-2 Link--secondary" data-analytics-event="{&quot;location&quot;:&quot;navbar&quot;,&quot;action&quot;:&quot;view_all_use_cases&quot;,&quot;context&quot;:&quot;solutions&quot;,&quot;tag&quot;:&quot;link&quot;,&quot;label&quot;:&quot;view_all_use_cases_link_solutions_navbar&quot;}" href="/solutions/use-case">
      View all use cases

    
</a></li>

                </ul>
              </div>
          </div>
          <div class="HeaderMenu-column pl-lg-4 border-lg-left pr-lg-7">
              <div class="border-bottom border-lg-bottom-0 pb-3 pb-lg-0">
                    <span class="d-block h4 color-fg-default my-1" id="solutions-by-industry-heading">By industry</span>

                <ul class="list-style-none f5" aria-labelledby="solutions-by-industry-heading">
                    <li>
  <a class="HeaderMenu-dropdown-link d-block no-underline position-relative py-2 Link--secondary" data-analytics-event="{&quot;location&quot;:&quot;navbar&quot;,&quot;action&quot;:&quot;healthcare&quot;,&quot;context&quot;:&quot;solutions&quot;,&quot;tag&quot;:&quot;link&quot;,&quot;label&quot;:&quot;healthcare_link_solutions_navbar&quot;}" href="/solutions/industry/healthcare">
      Healthcare

    
</a></li>

                    <li>
  <a class="HeaderMenu-dropdown-link d-block no-underline position-relative py-2 Link--secondary" data-analytics-event="{&quot;location&quot;:&quot;navbar&quot;,&quot;action&quot;:&quot;financial_services&quot;,&quot;context&quot;:&quot;solutions&quot;,&quot;tag&quot;:&quot;link&quot;,&quot;label&quot;:&quot;financial_services_link_solutions_navbar&quot;}" href="/solutions/industry/financial-services">
      Financial services

    
</a></li>

                    <li>
  <a class="HeaderMenu-dropdown-link d-block no-underline position-relative py-2 Link--secondary" data-analytics-event="{&quot;location&quot;:&quot;navbar&quot;,&quot;action&quot;:&quot;manufacturing&quot;,&quot;context&quot;:&quot;solutions&quot;,&quot;tag&quot;:&quot;link&quot;,&quot;label&quot;:&quot;manufacturing_link_solutions_navbar&quot;}" href="/solutions/industry/manufacturing">
      Manufacturing

    
</a></li>

                    <li>
  <a class="HeaderMenu-dropdown-link d-block no-underline position-relative py-2 Link--secondary" data-analytics-event="{&quot;location&quot;:&quot;navbar&quot;,&quot;action&quot;:&quot;government&quot;,&quot;context&quot;:&quot;solutions&quot;,&quot;tag&quot;:&quot;link&quot;,&quot;label&quot;:&quot;government_link_solutions_navbar&quot;}" href="/solutions/industry/government">
      Government

    
</a></li>

                    <li>
  <a class="HeaderMenu-dropdown-link d-block no-underline position-relative py-2 Link--secondary" data-analytics-event="{&quot;location&quot;:&quot;navbar&quot;,&quot;action&quot;:&quot;view_all_industries&quot;,&quot;context&quot;:&quot;solutions&quot;,&quot;tag&quot;:&quot;link&quot;,&quot;label&quot;:&quot;view_all_industries_link_solutions_navbar&quot;}" href="/solutions/industry">
      View all industries

    
</a></li>

                </ul>
              </div>
          </div>

         <div class="HeaderMenu-trailing-link rounded-bottom-2 flex-shrink-0 mt-lg-4 px-lg-4 py-4 py-lg-3 f5 text-semibold">
            <a href="/solutions">
              View all solutions
              <svg aria-hidden="true" height="16" viewBox="0 0 16 16" version="1.1" width="16" data-view-component="true" class="octicon octicon-chevron-right HeaderMenu-trailing-link-icon">
    <path d="M6.22 3.22a.75.75 0 0 1 1.06 0l4.25 4.25a.75.75 0 0 1 0 1.06l-4.25 4.25a.751.751 0 0 1-1.042-.018.751.751 0 0 1-.018-1.042L9.94 8 6.22 4.28a.75.75 0 0 1 0-1.06Z"></path>
</svg>
</a>         </div>
      </div>
</li>


                <li class="HeaderMenu-item position-relative flex-wrap flex-justify-between flex-items-center d-block d-lg-flex flex-lg-nowrap flex-lg-items-center js-details-container js-header-menu-item">
      <button type="button" class="HeaderMenu-link border-0 width-full width-lg-auto px-0 px-lg-2 py-lg-2 no-wrap d-flex flex-items-center flex-justify-between js-details-target" aria-expanded="false">
        Resources
        <svg opacity="0.5" aria-hidden="true" height="16" viewBox="0 0 16 16" version="1.1" width="16" data-view-component="true" class="octicon octicon-chevron-down HeaderMenu-icon ml-1">
    <path d="M12.78 5.22a.749.749 0 0 1 0 1.06l-4.25 4.25a.749.749 0 0 1-1.06 0L3.22 6.28a.749.749 0 1 1 1.06-1.06L8 8.939l3.72-3.719a.749.749 0 0 1 1.06 0Z"></path>
</svg>
      </button>

      <div class="HeaderMenu-dropdown dropdown-menu rounded m-0 p-0 pt-2 pt-lg-4 position-relative position-lg-absolute left-0 left-lg-n3 pb-2 pb-lg-4 d-lg-flex flex-wrap dropdown-menu-wide">
          <div class="HeaderMenu-column pl-lg-4 px-lg-4 pb-3 pb-lg-0">
              <div class="border-bottom border-lg-bottom-0 pb-3">
                    <span class="d-block h4 color-fg-default my-1" id="resources-topics-heading">Topics</span>

                <ul class="list-style-none f5" aria-labelledby="resources-topics-heading">
                    <li>
  <a class="HeaderMenu-dropdown-link d-block no-underline position-relative py-2 Link--secondary" data-analytics-event="{&quot;location&quot;:&quot;navbar&quot;,&quot;action&quot;:&quot;ai&quot;,&quot;context&quot;:&quot;resources&quot;,&quot;tag&quot;:&quot;link&quot;,&quot;label&quot;:&quot;ai_link_resources_navbar&quot;}" href="/resources/articles/ai">
      AI

    
</a></li>

                    <li>
  <a class="HeaderMenu-dropdown-link d-block no-underline position-relative py-2 Link--secondary" data-analytics-event="{&quot;location&quot;:&quot;navbar&quot;,&quot;action&quot;:&quot;devops&quot;,&quot;context&quot;:&quot;resources&quot;,&quot;tag&quot;:&quot;link&quot;,&quot;label&quot;:&quot;devops_link_resources_navbar&quot;}" href="/resources/articles/devops">
      DevOps

    
</a></li>

                    <li>
  <a class="HeaderMenu-dropdown-link d-block no-underline position-relative py-2 Link--secondary" data-analytics-event="{&quot;location&quot;:&quot;navbar&quot;,&quot;action&quot;:&quot;security&quot;,&quot;context&quot;:&quot;resources&quot;,&quot;tag&quot;:&quot;link&quot;,&quot;label&quot;:&quot;security_link_resources_navbar&quot;}" href="/resources/articles/security">
      Security

    
</a></li>

                    <li>
  <a class="HeaderMenu-dropdown-link d-block no-underline position-relative py-2 Link--secondary" data-analytics-event="{&quot;location&quot;:&quot;navbar&quot;,&quot;action&quot;:&quot;software_development&quot;,&quot;context&quot;:&quot;resources&quot;,&quot;tag&quot;:&quot;link&quot;,&quot;label&quot;:&quot;software_development_link_resources_navbar&quot;}" href="/resources/articles/software-development">
      Software Development

    
</a></li>

                    <li>
  <a class="HeaderMenu-dropdown-link d-block no-underline position-relative py-2 Link--secondary" data-analytics-event="{&quot;location&quot;:&quot;navbar&quot;,&quot;action&quot;:&quot;view_all&quot;,&quot;context&quot;:&quot;resources&quot;,&quot;tag&quot;:&quot;link&quot;,&quot;label&quot;:&quot;view_all_link_resources_navbar&quot;}" href="/resources/articles">
      View all

    
</a></li>

                </ul>
              </div>
          </div>
          <div class="HeaderMenu-column pl-lg-4 border-lg-left pr-lg-7">
              <div class="border-bottom border-lg-bottom-0 border-bottom-0">
                    <span class="d-block h4 color-fg-default my-1" id="resources-explore-heading">Explore</span>

                <ul class="list-style-none f5" aria-labelledby="resources-explore-heading">
                    <li>
  <a class="HeaderMenu-dropdown-link d-block no-underline position-relative py-2 Link--secondary Link--external" target="_blank" data-analytics-event="{&quot;location&quot;:&quot;navbar&quot;,&quot;action&quot;:&quot;learning_pathways&quot;,&quot;context&quot;:&quot;resources&quot;,&quot;tag&quot;:&quot;link&quot;,&quot;label&quot;:&quot;learning_pathways_link_resources_navbar&quot;}" href="https://resources.github.com/learn/pathways">
      Learning Pathways

    <svg aria-hidden="true" height="16" viewBox="0 0 16 16" version="1.1" width="16" data-view-component="true" class="octicon octicon-link-external HeaderMenu-external-icon color-fg-subtle">
    <path d="M3.75 2h3.5a.75.75 0 0 1 0 1.5h-3.5a.25.25 0 0 0-.25.25v8.5c0 .138.112.25.25.25h8.5a.25.25 0 0 0 .25-.25v-3.5a.75.75 0 0 1 1.5 0v3.5A1.75 1.75 0 0 1 12.25 14h-8.5A1.75 1.75 0 0 1 2 12.25v-8.5C2 2.784 2.784 2 3.75 2Zm6.854-1h4.146a.25.25 0 0 1 .25.25v4.146a.25.25 0 0 1-.427.177L13.03 4.03 9.28 7.78a.751.751 0 0 1-1.042-.018.751.751 0 0 1-.018-1.042l3.75-3.75-1.543-1.543A.25.25 0 0 1 10.604 1Z"></path>
</svg>
</a></li>

                    <li>
  <a class="HeaderMenu-dropdown-link d-block no-underline position-relative py-2 Link--secondary Link--external" target="_blank" data-analytics-event="{&quot;location&quot;:&quot;navbar&quot;,&quot;action&quot;:&quot;events_amp_webinars&quot;,&quot;context&quot;:&quot;resources&quot;,&quot;tag&quot;:&quot;link&quot;,&quot;label&quot;:&quot;events_amp_webinars_link_resources_navbar&quot;}" href="https://resources.github.com">
      Events &amp; Webinars

    <svg aria-hidden="true" height="16" viewBox="0 0 16 16" version="1.1" width="16" data-view-component="true" class="octicon octicon-link-external HeaderMenu-external-icon color-fg-subtle">
    <path d="M3.75 2h3.5a.75.75 0 0 1 0 1.5h-3.5a.25.25 0 0 0-.25.25v8.5c0 .138.112.25.25.25h8.5a.25.25 0 0 0 .25-.25v-3.5a.75.75 0 0 1 1.5 0v3.5A1.75 1.75 0 0 1 12.25 14h-8.5A1.75 1.75 0 0 1 2 12.25v-8.5C2 2.784 2.784 2 3.75 2Zm6.854-1h4.146a.25.25 0 0 1 .25.25v4.146a.25.25 0 0 1-.427.177L13.03 4.03 9.28 7.78a.751.751 0 0 1-1.042-.018.751.751 0 0 1-.018-1.042l3.75-3.75-1.543-1.543A.25.25 0 0 1 10.604 1Z"></path>
</svg>
</a></li>

                    <li>
  <a class="HeaderMenu-dropdown-link d-block no-underline position-relative py-2 Link--secondary" data-analytics-event="{&quot;location&quot;:&quot;navbar&quot;,&quot;action&quot;:&quot;ebooks_amp_whitepapers&quot;,&quot;context&quot;:&quot;resources&quot;,&quot;tag&quot;:&quot;link&quot;,&quot;label&quot;:&quot;ebooks_amp_whitepapers_link_resources_navbar&quot;}" href="https://github.com/resources/whitepapers">
      Ebooks &amp; Whitepapers

    
</a></li>

                    <li>
  <a class="HeaderMenu-dropdown-link d-block no-underline position-relative py-2 Link--secondary" data-analytics-event="{&quot;location&quot;:&quot;navbar&quot;,&quot;action&quot;:&quot;customer_stories&quot;,&quot;context&quot;:&quot;resources&quot;,&quot;tag&quot;:&quot;link&quot;,&quot;label&quot;:&quot;customer_stories_link_resources_navbar&quot;}" href="https://github.com/customer-stories">
      Customer Stories

    
</a></li>

                    <li>
  <a class="HeaderMenu-dropdown-link d-block no-underline position-relative py-2 Link--secondary Link--external" target="_blank" data-analytics-event="{&quot;location&quot;:&quot;navbar&quot;,&quot;action&quot;:&quot;partners&quot;,&quot;context&quot;:&quot;resources&quot;,&quot;tag&quot;:&quot;link&quot;,&quot;label&quot;:&quot;partners_link_resources_navbar&quot;}" href="https://partner.github.com">
      Partners

    <svg aria-hidden="true" height="16" viewBox="0 0 16 16" version="1.1" width="16" data-view-component="true" class="octicon octicon-link-external HeaderMenu-external-icon color-fg-subtle">
    <path d="M3.75 2h3.5a.75.75 0 0 1 0 1.5h-3.5a.25.25 0 0 0-.25.25v8.5c0 .138.112.25.25.25h8.5a.25.25 0 0 0 .25-.25v-3.5a.75.75 0 0 1 1.5 0v3.5A1.75 1.75 0 0 1 12.25 14h-8.5A1.75 1.75 0 0 1 2 12.25v-8.5C2 2.784 2.784 2 3.75 2Zm6.854-1h4.146a.25.25 0 0 1 .25.25v4.146a.25.25 0 0 1-.427.177L13.03 4.03 9.28 7.78a.751.751 0 0 1-1.042-.018.751.751 0 0 1-.018-1.042l3.75-3.75-1.543-1.543A.25.25 0 0 1 10.604 1Z"></path>
</svg>
</a></li>

                    <li>
  <a class="HeaderMenu-dropdown-link d-block no-underline position-relative py-2 Link--secondary" data-analytics-event="{&quot;location&quot;:&quot;navbar&quot;,&quot;action&quot;:&quot;executive_insights&quot;,&quot;context&quot;:&quot;resources&quot;,&quot;tag&quot;:&quot;link&quot;,&quot;label&quot;:&quot;executive_insights_link_resources_navbar&quot;}" href="https://github.com/solutions/executive-insights">
      Executive Insights

    
</a></li>

                </ul>
              </div>
          </div>

      </div>
</li>


                <li class="HeaderMenu-item position-relative flex-wrap flex-justify-between flex-items-center d-block d-lg-flex flex-lg-nowrap flex-lg-items-center js-details-container js-header-menu-item">
      <button type="button" class="HeaderMenu-link border-0 width-full width-lg-auto px-0 px-lg-2 py-lg-2 no-wrap d-flex flex-items-center flex-justify-between js-details-target" aria-expanded="false">
        Open Source
        <svg opacity="0.5" aria-hidden="true" height="16" viewBox="0 0 16 16" version="1.1" width="16" data-view-component="true" class="octicon octicon-chevron-down HeaderMenu-icon ml-1">
    <path d="M12.78 5.22a.749.749 0 0 1 0 1.06l-4.25 4.25a.749.749 0 0 1-1.06 0L3.22 6.28a.749.749 0 1 1 1.06-1.06L8 8.939l3.72-3.719a.749.749 0 0 1 1.06 0Z"></path>
</svg>
      </button>

      <div class="HeaderMenu-dropdown dropdown-menu rounded m-0 p-0 pt-2 pt-lg-4 position-relative position-lg-absolute left-0 left-lg-n3 pb-2 pb-lg-4">
          <div class="HeaderMenu-column px-lg-4">
              <div class="border-bottom mb-3 mb-lg-3 pb-3">

                <ul class="list-style-none f5" >
                    <li>
  <a class="HeaderMenu-dropdown-link d-block no-underline position-relative py-2 Link--secondary d-flex flex-items-center Link--has-description" data-analytics-event="{&quot;location&quot;:&quot;navbar&quot;,&quot;action&quot;:&quot;github_sponsors&quot;,&quot;context&quot;:&quot;open_source&quot;,&quot;tag&quot;:&quot;link&quot;,&quot;label&quot;:&quot;github_sponsors_link_open_source_navbar&quot;}" href="/sponsors">
      
      <div>
          <div class="color-fg-default h4">
            GitHub Sponsors
          </div>
        Fund open source developers
      </div>

    
</a></li>

                </ul>
              </div>
              <div class="border-bottom mb-3 mb-lg-3 pb-3">

                <ul class="list-style-none f5" >
                    <li>
  <a class="HeaderMenu-dropdown-link d-block no-underline position-relative py-2 Link--secondary d-flex flex-items-center Link--has-description" data-analytics-event="{&quot;location&quot;:&quot;navbar&quot;,&quot;action&quot;:&quot;the_readme_project&quot;,&quot;context&quot;:&quot;open_source&quot;,&quot;tag&quot;:&quot;link&quot;,&quot;label&quot;:&quot;the_readme_project_link_open_source_navbar&quot;}" href="https://github.com/readme">
      
      <div>
          <div class="color-fg-default h4">
            The ReadME Project
          </div>
        GitHub community articles
      </div>

    
</a></li>

                </ul>
              </div>
              <div class="border-bottom border-bottom-0">
                    <span class="d-block h4 color-fg-default my-1" id="open-source-repositories-heading">Repositories</span>

                <ul class="list-style-none f5" aria-labelledby="open-source-repositories-heading">
                    <li>
  <a class="HeaderMenu-dropdown-link d-block no-underline position-relative py-2 Link--secondary" data-analytics-event="{&quot;location&quot;:&quot;navbar&quot;,&quot;action&quot;:&quot;topics&quot;,&quot;context&quot;:&quot;open_source&quot;,&quot;tag&quot;:&quot;link&quot;,&quot;label&quot;:&quot;topics_link_open_source_navbar&quot;}" href="https://github.com/topics">
      Topics

    
</a></li>

                    <li>
  <a class="HeaderMenu-dropdown-link d-block no-underline position-relative py-2 Link--secondary" data-analytics-event="{&quot;location&quot;:&quot;navbar&quot;,&quot;action&quot;:&quot;trending&quot;,&quot;context&quot;:&quot;open_source&quot;,&quot;tag&quot;:&quot;link&quot;,&quot;label&quot;:&quot;trending_link_open_source_navbar&quot;}" href="https://github.com/trending">
      Trending

    
</a></li>

                    <li>
  <a class="HeaderMenu-dropdown-link d-block no-underline position-relative py-2 Link--secondary" data-analytics-event="{&quot;location&quot;:&quot;navbar&quot;,&quot;action&quot;:&quot;collections&quot;,&quot;context&quot;:&quot;open_source&quot;,&quot;tag&quot;:&quot;link&quot;,&quot;label&quot;:&quot;collections_link_open_source_navbar&quot;}" href="https://github.com/collections">
      Collections

    
</a></li>

                </ul>
              </div>
          </div>

      </div>
</li>


                <li class="HeaderMenu-item position-relative flex-wrap flex-justify-between flex-items-center d-block d-lg-flex flex-lg-nowrap flex-lg-items-center js-details-container js-header-menu-item">
      <button type="button" class="HeaderMenu-link border-0 width-full width-lg-auto px-0 px-lg-2 py-lg-2 no-wrap d-flex flex-items-center flex-justify-between js-details-target" aria-expanded="false">
        Enterprise
        <svg opacity="0.5" aria-hidden="true" height="16" viewBox="0 0 16 16" version="1.1" width="16" data-view-component="true" class="octicon octicon-chevron-down HeaderMenu-icon ml-1">
    <path d="M12.78 5.22a.749.749 0 0 1 0 1.06l-4.25 4.25a.749.749 0 0 1-1.06 0L3.22 6.28a.749.749 0 1 1 1.06-1.06L8 8.939l3.72-3.719a.749.749 0 0 1 1.06 0Z"></path>
</svg>
      </button>

      <div class="HeaderMenu-dropdown dropdown-menu rounded m-0 p-0 pt-2 pt-lg-4 position-relative position-lg-absolute left-0 left-lg-n3 pb-2 pb-lg-4">
          <div class="HeaderMenu-column px-lg-4">
              <div class="border-bottom mb-3 mb-lg-3 pb-3">

                <ul class="list-style-none f5" >
                    <li>
  <a class="HeaderMenu-dropdown-link d-block no-underline position-relative py-2 Link--secondary d-flex flex-items-center Link--has-description" data-analytics-event="{&quot;location&quot;:&quot;navbar&quot;,&quot;action&quot;:&quot;enterprise_platform&quot;,&quot;context&quot;:&quot;enterprise&quot;,&quot;tag&quot;:&quot;link&quot;,&quot;label&quot;:&quot;enterprise_platform_link_enterprise_navbar&quot;}" href="/enterprise">
      <svg aria-hidden="true" height="24" viewBox="0 0 24 24" version="1.1" width="24" data-view-component="true" class="octicon octicon-stack color-fg-subtle mr-3">
    <path d="M11.063 1.456a1.749 1.749 0 0 1 1.874 0l8.383 5.316a1.751 1.751 0 0 1 0 2.956l-8.383 5.316a1.749 1.749 0 0 1-1.874 0L2.68 9.728a1.751 1.751 0 0 1 0-2.956Zm1.071 1.267a.25.25 0 0 0-.268 0L3.483 8.039a.25.25 0 0 0 0 .422l8.383 5.316a.25.25 0 0 0 .268 0l8.383-5.316a.25.25 0 0 0 0-.422Z"></path><path d="M1.867 12.324a.75.75 0 0 1 1.035-.232l8.964 5.685a.25.25 0 0 0 .268 0l8.964-5.685a.75.75 0 0 1 .804 1.267l-8.965 5.685a1.749 1.749 0 0 1-1.874 0l-8.965-5.685a.75.75 0 0 1-.231-1.035Z"></path><path d="M1.867 16.324a.75.75 0 0 1 1.035-.232l8.964 5.685a.25.25 0 0 0 .268 0l8.964-5.685a.75.75 0 0 1 .804 1.267l-8.965 5.685a1.749 1.749 0 0 1-1.874 0l-8.965-5.685a.75.75 0 0 1-.231-1.035Z"></path>
</svg>
      <div>
          <div class="color-fg-default h4">
            Enterprise platform
          </div>
        AI-powered developer platform
      </div>

    
</a></li>

                </ul>
              </div>
              <div class="border-bottom border-bottom-0">
                    <span class="d-block h4 color-fg-default my-1" id="enterprise-available-add-ons-heading">Available add-ons</span>

                <ul class="list-style-none f5" aria-labelledby="enterprise-available-add-ons-heading">
                    <li>
  <a class="HeaderMenu-dropdown-link d-block no-underline position-relative py-2 Link--secondary d-flex flex-items-center Link--has-description pb-lg-3" data-analytics-event="{&quot;location&quot;:&quot;navbar&quot;,&quot;action&quot;:&quot;github_advanced_security&quot;,&quot;context&quot;:&quot;enterprise&quot;,&quot;tag&quot;:&quot;link&quot;,&quot;label&quot;:&quot;github_advanced_security_link_enterprise_navbar&quot;}" href="https://github.com/security/advanced-security">
      <svg aria-hidden="true" height="24" viewBox="0 0 24 24" version="1.1" width="24" data-view-component="true" class="octicon octicon-shield-check color-fg-subtle mr-3">
    <path d="M16.53 9.78a.75.75 0 0 0-1.06-1.06L11 13.19l-1.97-1.97a.75.75 0 0 0-1.06 1.06l2.5 2.5a.75.75 0 0 0 1.06 0l5-5Z"></path><path d="m12.54.637 8.25 2.675A1.75 1.75 0 0 1 22 4.976V10c0 6.19-3.771 10.704-9.401 12.83a1.704 1.704 0 0 1-1.198 0C5.77 20.705 2 16.19 2 10V4.976c0-.758.489-1.43 1.21-1.664L11.46.637a1.748 1.748 0 0 1 1.08 0Zm-.617 1.426-8.25 2.676a.249.249 0 0 0-.173.237V10c0 5.46 3.28 9.483 8.43 11.426a.199.199 0 0 0 .14 0C17.22 19.483 20.5 15.461 20.5 10V4.976a.25.25 0 0 0-.173-.237l-8.25-2.676a.253.253 0 0 0-.154 0Z"></path>
</svg>
      <div>
          <div class="color-fg-default h4">
            GitHub Advanced Security
          </div>
        Enterprise-grade security features
      </div>

    
</a></li>

                    <li>
  <a class="HeaderMenu-dropdown-link d-block no-underline position-relative py-2 Link--secondary d-flex flex-items-center Link--has-description pb-lg-3" data-analytics-event="{&quot;location&quot;:&quot;navbar&quot;,&quot;action&quot;:&quot;copilot_for_business&quot;,&quot;context&quot;:&quot;enterprise&quot;,&quot;tag&quot;:&quot;link&quot;,&quot;label&quot;:&quot;copilot_for_business_link_enterprise_navbar&quot;}" href="/features/copilot/copilot-business">
      <svg aria-hidden="true" height="24" viewBox="0 0 24 24" version="1.1" width="24" data-view-component="true" class="octicon octicon-copilot color-fg-subtle mr-3">
    <path d="M23.922 16.992c-.861 1.495-5.859 5.023-11.922 5.023-6.063 0-11.061-3.528-11.922-5.023A.641.641 0 0 1 0 16.736v-2.869a.841.841 0 0 1 .053-.22c.372-.935 1.347-2.292 2.605-2.656.167-.429.414-1.055.644-1.517a10.195 10.195 0 0 1-.052-1.086c0-1.331.282-2.499 1.132-3.368.397-.406.89-.717 1.474-.952 1.399-1.136 3.392-2.093 6.122-2.093 2.731 0 4.767.957 6.166 2.093.584.235 1.077.546 1.474.952.85.869 1.132 2.037 1.132 3.368 0 .368-.014.733-.052 1.086.23.462.477 1.088.644 1.517 1.258.364 2.233 1.721 2.605 2.656a.832.832 0 0 1 .053.22v2.869a.641.641 0 0 1-.078.256ZM12.172 11h-.344a4.323 4.323 0 0 1-.355.508C10.703 12.455 9.555 13 7.965 13c-1.725 0-2.989-.359-3.782-1.259a2.005 2.005 0 0 1-.085-.104L4 11.741v6.585c1.435.779 4.514 2.179 8 2.179 3.486 0 6.565-1.4 8-2.179v-6.585l-.098-.104s-.033.045-.085.104c-.793.9-2.057 1.259-3.782 1.259-1.59 0-2.738-.545-3.508-1.492a4.323 4.323 0 0 1-.355-.508h-.016.016Zm.641-2.935c.136 1.057.403 1.913.878 2.497.442.544 1.134.938 2.344.938 1.573 0 2.292-.337 2.657-.751.384-.435.558-1.15.558-2.361 0-1.14-.243-1.847-.705-2.319-.477-.488-1.319-.862-2.824-1.025-1.487-.161-2.192.138-2.533.529-.269.307-.437.808-.438 1.578v.021c0 .265.021.562.063.893Zm-1.626 0c.042-.331.063-.628.063-.894v-.02c-.001-.77-.169-1.271-.438-1.578-.341-.391-1.046-.69-2.533-.529-1.505.163-2.347.537-2.824 1.025-.462.472-.705 1.179-.705 2.319 0 1.211.175 1.926.558 2.361.365.414 1.084.751 2.657.751 1.21 0 1.902-.394 2.344-.938.475-.584.742-1.44.878-2.497Z"></path><path d="M14.5 14.25a1 1 0 0 1 1 1v2a1 1 0 0 1-2 0v-2a1 1 0 0 1 1-1Zm-5 0a1 1 0 0 1 1 1v2a1 1 0 0 1-2 0v-2a1 1 0 0 1 1-1Z"></path>
</svg>
      <div>
          <div class="color-fg-default h4">
            Copilot for business
          </div>
        Enterprise-grade AI features
      </div>

    
</a></li>

                    <li>
  <a class="HeaderMenu-dropdown-link d-block no-underline position-relative py-2 Link--secondary d-flex flex-items-center Link--has-description" data-analytics-event="{&quot;location&quot;:&quot;navbar&quot;,&quot;action&quot;:&quot;premium_support&quot;,&quot;context&quot;:&quot;enterprise&quot;,&quot;tag&quot;:&quot;link&quot;,&quot;label&quot;:&quot;premium_support_link_enterprise_navbar&quot;}" href="/premium-support">
      <svg aria-hidden="true" height="24" viewBox="0 0 24 24" version="1.1" width="24" data-view-component="true" class="octicon octicon-comment-discussion color-fg-subtle mr-3">
    <path d="M1.75 1h12.5c.966 0 1.75.784 1.75 1.75v9.5A1.75 1.75 0 0 1 14.25 14H8.061l-2.574 2.573A1.458 1.458 0 0 1 3 15.543V14H1.75A1.75 1.75 0 0 1 0 12.25v-9.5C0 1.784.784 1 1.75 1ZM1.5 2.75v9.5c0 .138.112.25.25.25h2a.75.75 0 0 1 .75.75v2.19l2.72-2.72a.749.749 0 0 1 .53-.22h6.5a.25.25 0 0 0 .25-.25v-9.5a.25.25 0 0 0-.25-.25H1.75a.25.25 0 0 0-.25.25Z"></path><path d="M22.5 8.75a.25.25 0 0 0-.25-.25h-3.5a.75.75 0 0 1 0-1.5h3.5c.966 0 1.75.784 1.75 1.75v9.5A1.75 1.75 0 0 1 22.25 20H21v1.543a1.457 1.457 0 0 1-2.487 1.03L15.939 20H10.75A1.75 1.75 0 0 1 9 18.25v-1.465a.75.75 0 0 1 1.5 0v1.465c0 .138.112.25.25.25h5.5a.75.75 0 0 1 .53.22l2.72 2.72v-2.19a.75.75 0 0 1 .75-.75h2a.25.25 0 0 0 .25-.25v-9.5Z"></path>
</svg>
      <div>
          <div class="color-fg-default h4">
            Premium Support
          </div>
        Enterprise-grade 24/7 support
      </div>

    
</a></li>

                </ul>
              </div>
          </div>

      </div>
</li>


                <li class="HeaderMenu-item position-relative flex-wrap flex-justify-between flex-items-center d-block d-lg-flex flex-lg-nowrap flex-lg-items-center js-details-container js-header-menu-item">
    <a class="HeaderMenu-link no-underline px-0 px-lg-2 py-3 py-lg-2 d-block d-lg-inline-block" data-analytics-event="{&quot;location&quot;:&quot;navbar&quot;,&quot;action&quot;:&quot;pricing&quot;,&quot;context&quot;:&quot;global&quot;,&quot;tag&quot;:&quot;link&quot;,&quot;label&quot;:&quot;pricing_link_global_navbar&quot;}" href="https://github.com/pricing">Pricing</a>
</li>

            </ul>
          </nav>

        <div class="d-flex flex-column flex-lg-row width-full flex-justify-end flex-lg-items-center text-center mt-3 mt-lg-0 text-lg-left ml-lg-3">
                


<qbsearch-input class="search-input" data-scope="repo:ahijevyc/ESDSDemo" data-custom-scopes-path="/search/custom_scopes" data-delete-custom-scopes-csrf="RLATPj3VGfRmY6_C17l-Vz7NlaJgvpkoRlHfEZLZy3HuRaZtHqBRKK2jh92q5t7KUHnIGZHsNobjqldQ66GrLA" data-max-custom-scopes="10" data-header-redesign-enabled="false" data-initial-value="" data-blackbird-suggestions-path="/search/suggestions" data-jump-to-suggestions-path="/_graphql/GetSuggestedNavigationDestinations" data-current-repository="ahijevyc/ESDSDemo" data-current-org="" data-current-owner="ahijevyc" data-logged-in="false" data-copilot-chat-enabled="false" data-nl-search-enabled="false" data-retain-scroll-position="true">
  <div
    class="search-input-container search-with-dialog position-relative d-flex flex-row flex-items-center mr-4 rounded"
    data-action="click:qbsearch-input#searchInputContainerClicked"
  >
      <button
        type="button"
        class="header-search-button placeholder  input-button form-control d-flex flex-1 flex-self-stretch flex-items-center no-wrap width-full py-0 pl-2 pr-0 text-left border-0 box-shadow-none"
        data-target="qbsearch-input.inputButton"
        aria-label="Search or jump to…"
        aria-haspopup="dialog"
        placeholder="Search or jump to..."
        data-hotkey=s,/
        autocapitalize="off"
        data-analytics-event="{&quot;location&quot;:&quot;navbar&quot;,&quot;action&quot;:&quot;searchbar&quot;,&quot;context&quot;:&quot;global&quot;,&quot;tag&quot;:&quot;input&quot;,&quot;label&quot;:&quot;searchbar_input_global_navbar&quot;}"
        data-action="click:qbsearch-input#handleExpand"
      >
        <div class="mr-2 color-fg-muted">
          <svg aria-hidden="true" height="16" viewBox="0 0 16 16" version="1.1" width="16" data-view-component="true" class="octicon octicon-search">
    <path d="M10.68 11.74a6 6 0 0 1-7.922-8.982 6 6 0 0 1 8.982 7.922l3.04 3.04a.749.749 0 0 1-.326 1.275.749.749 0 0 1-.734-.215ZM11.5 7a4.499 4.499 0 1 0-8.997 0A4.499 4.499 0 0 0 11.5 7Z"></path>
</svg>
        </div>
        <span class="flex-1" data-target="qbsearch-input.inputButtonText">Search or jump to...</span>
          <div class="d-flex" data-target="qbsearch-input.hotkeyIndicator">
            <svg xmlns="http://www.w3.org/2000/svg" width="22" height="20" aria-hidden="true" class="mr-1"><path fill="none" stroke="#979A9C" opacity=".4" d="M3.5.5h12c1.7 0 3 1.3 3 3v13c0 1.7-1.3 3-3 3h-12c-1.7 0-3-1.3-3-3v-13c0-1.7 1.3-3 3-3z"></path><path fill="#979A9C" d="M11.8 6L8 15.1h-.9L10.8 6h1z"></path></svg>
          </div>
      </button>

    <input type="hidden" name="type" class="js-site-search-type-field">

    
<div class="Overlay--hidden " data-modal-dialog-overlay>
  <modal-dialog data-action="close:qbsearch-input#handleClose cancel:qbsearch-input#handleClose" data-target="qbsearch-input.searchSuggestionsDialog" role="dialog" id="search-suggestions-dialog" aria-modal="true" aria-labelledby="search-suggestions-dialog-header" data-view-component="true" class="Overlay Overlay--width-large Overlay--height-auto">
      <h1 id="search-suggestions-dialog-header" class="sr-only">Search code, repositories, users, issues, pull requests...</h1>
    <div class="Overlay-body Overlay-body--paddingNone">
      
          <div data-view-component="true">        <div class="search-suggestions position-fixed width-full color-shadow-large border color-fg-default color-bg-default overflow-hidden d-flex flex-column query-builder-container"
          style="border-radius: 12px;"
          data-target="qbsearch-input.queryBuilderContainer"
          hidden
        >
          <!-- '"` --><!-- </textarea></xmp> --></option></form><form id="query-builder-test-form" action="" accept-charset="UTF-8" method="get">
  <query-builder data-target="qbsearch-input.queryBuilder" id="query-builder-query-builder-test" data-filter-key=":" data-view-component="true" class="QueryBuilder search-query-builder">
    <div class="FormControl FormControl--fullWidth">
      <label id="query-builder-test-label" for="query-builder-test" class="FormControl-label sr-only">
        Search
      </label>
      <div
        class="QueryBuilder-StyledInput width-fit "
        data-target="query-builder.styledInput"
      >
          <span id="query-builder-test-leadingvisual-wrap" class="FormControl-input-leadingVisualWrap QueryBuilder-leadingVisualWrap">
            <svg aria-hidden="true" height="16" viewBox="0 0 16 16" version="1.1" width="16" data-view-component="true" class="octicon octicon-search FormControl-input-leadingVisual">
    <path d="M10.68 11.74a6 6 0 0 1-7.922-8.982 6 6 0 0 1 8.982 7.922l3.04 3.04a.749.749 0 0 1-.326 1.275.749.749 0 0 1-.734-.215ZM11.5 7a4.499 4.499 0 1 0-8.997 0A4.499 4.499 0 0 0 11.5 7Z"></path>
</svg>
          </span>
        <div data-target="query-builder.styledInputContainer" class="QueryBuilder-StyledInputContainer">
          <div
            aria-hidden="true"
            class="QueryBuilder-StyledInputContent"
            data-target="query-builder.styledInputContent"
          ></div>
          <div class="QueryBuilder-InputWrapper">
            <div aria-hidden="true" class="QueryBuilder-Sizer" data-target="query-builder.sizer"></div>
            <input id="query-builder-test" name="query-builder-test" value="" autocomplete="off" type="text" role="combobox" spellcheck="false" aria-expanded="false" aria-describedby="validation-b4f3b3e5-57ed-4531-968b-3265fc36729b" data-target="query-builder.input" data-action="
          input:query-builder#inputChange
          blur:query-builder#inputBlur
          keydown:query-builder#inputKeydown
          focus:query-builder#inputFocus
        " data-view-component="true" class="FormControl-input QueryBuilder-Input FormControl-medium" />
          </div>
        </div>
          <span class="sr-only" id="query-builder-test-clear">Clear</span>
          <button role="button" id="query-builder-test-clear-button" aria-labelledby="query-builder-test-clear query-builder-test-label" data-target="query-builder.clearButton" data-action="
                click:query-builder#clear
                focus:query-builder#clearButtonFocus
                blur:query-builder#clearButtonBlur
              " variant="small" hidden="hidden" type="button" data-view-component="true" class="Button Button--iconOnly Button--invisible Button--medium mr-1 px-2 py-0 d-flex flex-items-center rounded-1 color-fg-muted">  <svg aria-hidden="true" height="16" viewBox="0 0 16 16" version="1.1" width="16" data-view-component="true" class="octicon octicon-x-circle-fill Button-visual">
    <path d="M2.343 13.657A8 8 0 1 1 13.658 2.343 8 8 0 0 1 2.343 13.657ZM6.03 4.97a.751.751 0 0 0-1.042.018.751.751 0 0 0-.018 1.042L6.94 8 4.97 9.97a.749.749 0 0 0 .326 1.275.749.749 0 0 0 .734-.215L8 9.06l1.97 1.97a.749.749 0 0 0 1.275-.326.749.749 0 0 0-.215-.734L9.06 8l1.97-1.97a.749.749 0 0 0-.326-1.275.749.749 0 0 0-.734.215L8 6.94Z"></path>
</svg>
</button>

      </div>
      <template id="search-icon">
  <svg aria-hidden="true" height="16" viewBox="0 0 16 16" version="1.1" width="16" data-view-component="true" class="octicon octicon-search">
    <path d="M10.68 11.74a6 6 0 0 1-7.922-8.982 6 6 0 0 1 8.982 7.922l3.04 3.04a.749.749 0 0 1-.326 1.275.749.749 0 0 1-.734-.215ZM11.5 7a4.499 4.499 0 1 0-8.997 0A4.499 4.499 0 0 0 11.5 7Z"></path>
</svg>
</template>

<template id="code-icon">
  <svg aria-hidden="true" height="16" viewBox="0 0 16 16" version="1.1" width="16" data-view-component="true" class="octicon octicon-code">
    <path d="m11.28 3.22 4.25 4.25a.75.75 0 0 1 0 1.06l-4.25 4.25a.749.749 0 0 1-1.275-.326.749.749 0 0 1 .215-.734L13.94 8l-3.72-3.72a.749.749 0 0 1 .326-1.275.749.749 0 0 1 .734.215Zm-6.56 0a.751.751 0 0 1 1.042.018.751.751 0 0 1 .018 1.042L2.06 8l3.72 3.72a.749.749 0 0 1-.326 1.275.749.749 0 0 1-.734-.215L.47 8.53a.75.75 0 0 1 0-1.06Z"></path>
</svg>
</template>

<template id="file-code-icon">
  <svg aria-hidden="true" height="16" viewBox="0 0 16 16" version="1.1" width="16" data-view-component="true" class="octicon octicon-file-code">
    <path d="M4 1.75C4 .784 4.784 0 5.75 0h5.586c.464 0 .909.184 1.237.513l2.914 2.914c.329.328.513.773.513 1.237v8.586A1.75 1.75 0 0 1 14.25 15h-9a.75.75 0 0 1 0-1.5h9a.25.25 0 0 0 .25-.25V6h-2.75A1.75 1.75 0 0 1 10 4.25V1.5H5.75a.25.25 0 0 0-.25.25v2.5a.75.75 0 0 1-1.5 0Zm1.72 4.97a.75.75 0 0 1 1.06 0l2 2a.75.75 0 0 1 0 1.06l-2 2a.749.749 0 0 1-1.275-.326.749.749 0 0 1 .215-.734l1.47-1.47-1.47-1.47a.75.75 0 0 1 0-1.06ZM3.28 7.78 1.81 9.25l1.47 1.47a.751.751 0 0 1-.018 1.042.751.751 0 0 1-1.042.018l-2-2a.75.75 0 0 1 0-1.06l2-2a.751.751 0 0 1 1.042.018.751.751 0 0 1 .018 1.042Zm8.22-6.218V4.25c0 .138.112.25.25.25h2.688l-.011-.013-2.914-2.914-.013-.011Z"></path>
</svg>
</template>

<template id="history-icon">
  <svg aria-hidden="true" height="16" viewBox="0 0 16 16" version="1.1" width="16" data-view-component="true" class="octicon octicon-history">
    <path d="m.427 1.927 1.215 1.215a8.002 8.002 0 1 1-1.6 5.685.75.75 0 1 1 1.493-.154 6.5 6.5 0 1 0 1.18-4.458l1.358 1.358A.25.25 0 0 1 3.896 6H.25A.25.25 0 0 1 0 5.75V2.104a.25.25 0 0 1 .427-.177ZM7.75 4a.75.75 0 0 1 .75.75v2.992l2.028.812a.75.75 0 0 1-.557 1.392l-2.5-1A.751.751 0 0 1 7 8.25v-3.5A.75.75 0 0 1 7.75 4Z"></path>
</svg>
</template>

<template id="repo-icon">
  <svg aria-hidden="true" height="16" viewBox="0 0 16 16" version="1.1" width="16" data-view-component="true" class="octicon octicon-repo">
    <path d="M2 2.5A2.5 2.5 0 0 1 4.5 0h8.75a.75.75 0 0 1 .75.75v12.5a.75.75 0 0 1-.75.75h-2.5a.75.75 0 0 1 0-1.5h1.75v-2h-8a1 1 0 0 0-.714 1.7.75.75 0 1 1-1.072 1.05A2.495 2.495 0 0 1 2 11.5Zm10.5-1h-8a1 1 0 0 0-1 1v6.708A2.486 2.486 0 0 1 4.5 9h8ZM5 12.25a.25.25 0 0 1 .25-.25h3.5a.25.25 0 0 1 .25.25v3.25a.25.25 0 0 1-.4.2l-1.45-1.087a.249.249 0 0 0-.3 0L5.4 15.7a.25.25 0 0 1-.4-.2Z"></path>
</svg>
</template>

<template id="bookmark-icon">
  <svg aria-hidden="true" height="16" viewBox="0 0 16 16" version="1.1" width="16" data-view-component="true" class="octicon octicon-bookmark">
    <path d="M3 2.75C3 1.784 3.784 1 4.75 1h6.5c.966 0 1.75.784 1.75 1.75v11.5a.75.75 0 0 1-1.227.579L8 11.722l-3.773 3.107A.751.751 0 0 1 3 14.25Zm1.75-.25a.25.25 0 0 0-.25.25v9.91l3.023-2.489a.75.75 0 0 1 .954 0l3.023 2.49V2.75a.25.25 0 0 0-.25-.25Z"></path>
</svg>
</template>

<template id="plus-circle-icon">
  <svg aria-hidden="true" height="16" viewBox="0 0 16 16" version="1.1" width="16" data-view-component="true" class="octicon octicon-plus-circle">
    <path d="M8 0a8 8 0 1 1 0 16A8 8 0 0 1 8 0ZM1.5 8a6.5 6.5 0 1 0 13 0 6.5 6.5 0 0 0-13 0Zm7.25-3.25v2.5h2.5a.75.75 0 0 1 0 1.5h-2.5v2.5a.75.75 0 0 1-1.5 0v-2.5h-2.5a.75.75 0 0 1 0-1.5h2.5v-2.5a.75.75 0 0 1 1.5 0Z"></path>
</svg>
</template>

<template id="circle-icon">
  <svg aria-hidden="true" height="16" viewBox="0 0 16 16" version="1.1" width="16" data-view-component="true" class="octicon octicon-dot-fill">
    <path d="M8 4a4 4 0 1 1 0 8 4 4 0 0 1 0-8Z"></path>
</svg>
</template>

<template id="trash-icon">
  <svg aria-hidden="true" height="16" viewBox="0 0 16 16" version="1.1" width="16" data-view-component="true" class="octicon octicon-trash">
    <path d="M11 1.75V3h2.25a.75.75 0 0 1 0 1.5H2.75a.75.75 0 0 1 0-1.5H5V1.75C5 .784 5.784 0 6.75 0h2.5C10.216 0 11 .784 11 1.75ZM4.496 6.675l.66 6.6a.25.25 0 0 0 .249.225h5.19a.25.25 0 0 0 .249-.225l.66-6.6a.75.75 0 0 1 1.492.149l-.66 6.6A1.748 1.748 0 0 1 10.595 15h-5.19a1.75 1.75 0 0 1-1.741-1.575l-.66-6.6a.75.75 0 1 1 1.492-.15ZM6.5 1.75V3h3V1.75a.25.25 0 0 0-.25-.25h-2.5a.25.25 0 0 0-.25.25Z"></path>
</svg>
</template>

<template id="team-icon">
  <svg aria-hidden="true" height="16" viewBox="0 0 16 16" version="1.1" width="16" data-view-component="true" class="octicon octicon-people">
    <path d="M2 5.5a3.5 3.5 0 1 1 5.898 2.549 5.508 5.508 0 0 1 3.034 4.084.75.75 0 1 1-1.482.235 4 4 0 0 0-7.9 0 .75.75 0 0 1-1.482-.236A5.507 5.507 0 0 1 3.102 8.05 3.493 3.493 0 0 1 2 5.5ZM11 4a3.001 3.001 0 0 1 2.22 5.018 5.01 5.01 0 0 1 2.56 3.012.749.749 0 0 1-.885.954.752.752 0 0 1-.549-.514 3.507 3.507 0 0 0-2.522-2.372.75.75 0 0 1-.574-.73v-.352a.75.75 0 0 1 .416-.672A1.5 1.5 0 0 0 11 5.5.75.75 0 0 1 11 4Zm-5.5-.5a2 2 0 1 0-.001 3.999A2 2 0 0 0 5.5 3.5Z"></path>
</svg>
</template>

<template id="project-icon">
  <svg aria-hidden="true" height="16" viewBox="0 0 16 16" version="1.1" width="16" data-view-component="true" class="octicon octicon-project">
    <path d="M1.75 0h12.5C15.216 0 16 .784 16 1.75v12.5A1.75 1.75 0 0 1 14.25 16H1.75A1.75 1.75 0 0 1 0 14.25V1.75C0 .784.784 0 1.75 0ZM1.5 1.75v12.5c0 .138.112.25.25.25h12.5a.25.25 0 0 0 .25-.25V1.75a.25.25 0 0 0-.25-.25H1.75a.25.25 0 0 0-.25.25ZM11.75 3a.75.75 0 0 1 .75.75v7.5a.75.75 0 0 1-1.5 0v-7.5a.75.75 0 0 1 .75-.75Zm-8.25.75a.75.75 0 0 1 1.5 0v5.5a.75.75 0 0 1-1.5 0ZM8 3a.75.75 0 0 1 .75.75v3.5a.75.75 0 0 1-1.5 0v-3.5A.75.75 0 0 1 8 3Z"></path>
</svg>
</template>

<template id="pencil-icon">
  <svg aria-hidden="true" height="16" viewBox="0 0 16 16" version="1.1" width="16" data-view-component="true" class="octicon octicon-pencil">
    <path d="M11.013 1.427a1.75 1.75 0 0 1 2.474 0l1.086 1.086a1.75 1.75 0 0 1 0 2.474l-8.61 8.61c-.21.21-.47.364-.756.445l-3.251.93a.75.75 0 0 1-.927-.928l.929-3.25c.081-.286.235-.547.445-.758l8.61-8.61Zm.176 4.823L9.75 4.81l-6.286 6.287a.253.253 0 0 0-.064.108l-.558 1.953 1.953-.558a.253.253 0 0 0 .108-.064Zm1.238-3.763a.25.25 0 0 0-.354 0L10.811 3.75l1.439 1.44 1.263-1.263a.25.25 0 0 0 0-.354Z"></path>
</svg>
</template>

<template id="copilot-icon">
  <svg aria-hidden="true" height="16" viewBox="0 0 16 16" version="1.1" width="16" data-view-component="true" class="octicon octicon-copilot">
    <path d="M7.998 15.035c-4.562 0-7.873-2.914-7.998-3.749V9.338c.085-.628.677-1.686 1.588-2.065.013-.07.024-.143.036-.218.029-.183.06-.384.126-.612-.201-.508-.254-1.084-.254-1.656 0-.87.128-1.769.693-2.484.579-.733 1.494-1.124 2.724-1.261 1.206-.134 2.262.034 2.944.765.05.053.096.108.139.165.044-.057.094-.112.143-.165.682-.731 1.738-.899 2.944-.765 1.23.137 2.145.528 2.724 1.261.566.715.693 1.614.693 2.484 0 .572-.053 1.148-.254 1.656.066.228.098.429.126.612.012.076.024.148.037.218.924.385 1.522 1.471 1.591 2.095v1.872c0 .766-3.351 3.795-8.002 3.795Zm0-1.485c2.28 0 4.584-1.11 5.002-1.433V7.862l-.023-.116c-.49.21-1.075.291-1.727.291-1.146 0-2.059-.327-2.71-.991A3.222 3.222 0 0 1 8 6.303a3.24 3.24 0 0 1-.544.743c-.65.664-1.563.991-2.71.991-.652 0-1.236-.081-1.727-.291l-.023.116v4.255c.419.323 2.722 1.433 5.002 1.433ZM6.762 2.83c-.193-.206-.637-.413-1.682-.297-1.019.113-1.479.404-1.713.7-.247.312-.369.789-.369 1.554 0 .793.129 1.171.308 1.371.162.181.519.379 1.442.379.853 0 1.339-.235 1.638-.54.315-.322.527-.827.617-1.553.117-.935-.037-1.395-.241-1.614Zm4.155-.297c-1.044-.116-1.488.091-1.681.297-.204.219-.359.679-.242 1.614.091.726.303 1.231.618 1.553.299.305.784.54 1.638.54.922 0 1.28-.198 1.442-.379.179-.2.308-.578.308-1.371 0-.765-.123-1.242-.37-1.554-.233-.296-.693-.587-1.713-.7Z"></path><path d="M6.25 9.037a.75.75 0 0 1 .75.75v1.501a.75.75 0 0 1-1.5 0V9.787a.75.75 0 0 1 .75-.75Zm4.25.75v1.501a.75.75 0 0 1-1.5 0V9.787a.75.75 0 0 1 1.5 0Z"></path>
</svg>
</template>

<template id="copilot-error-icon">
  <svg aria-hidden="true" height="16" viewBox="0 0 16 16" version="1.1" width="16" data-view-component="true" class="octicon octicon-copilot-error">
    <path d="M16 11.24c0 .112-.072.274-.21.467L13 9.688V7.862l-.023-.116c-.49.21-1.075.291-1.727.291-.198 0-.388-.009-.571-.029L6.833 5.226a4.01 4.01 0 0 0 .17-.782c.117-.935-.037-1.395-.241-1.614-.193-.206-.637-.413-1.682-.297-.683.076-1.115.231-1.395.415l-1.257-.91c.579-.564 1.413-.877 2.485-.996 1.206-.134 2.262.034 2.944.765.05.053.096.108.139.165.044-.057.094-.112.143-.165.682-.731 1.738-.899 2.944-.765 1.23.137 2.145.528 2.724 1.261.566.715.693 1.614.693 2.484 0 .572-.053 1.148-.254 1.656.066.228.098.429.126.612.012.076.024.148.037.218.924.385 1.522 1.471 1.591 2.095Zm-5.083-8.707c-1.044-.116-1.488.091-1.681.297-.204.219-.359.679-.242 1.614.091.726.303 1.231.618 1.553.299.305.784.54 1.638.54.922 0 1.28-.198 1.442-.379.179-.2.308-.578.308-1.371 0-.765-.123-1.242-.37-1.554-.233-.296-.693-.587-1.713-.7Zm2.511 11.074c-1.393.776-3.272 1.428-5.43 1.428-4.562 0-7.873-2.914-7.998-3.749V9.338c.085-.628.677-1.686 1.588-2.065.013-.07.024-.143.036-.218.029-.183.06-.384.126-.612-.18-.455-.241-.963-.252-1.475L.31 4.107A.747.747 0 0 1 0 3.509V3.49a.748.748 0 0 1 .625-.73c.156-.026.306.047.435.139l14.667 10.578a.592.592 0 0 1 .227.264.752.752 0 0 1 .046.249v.022a.75.75 0 0 1-1.19.596Zm-1.367-.991L5.635 7.964a5.128 5.128 0 0 1-.889.073c-.652 0-1.236-.081-1.727-.291l-.023.116v4.255c.419.323 2.722 1.433 5.002 1.433 1.539 0 3.089-.505 4.063-.934Z"></path>
</svg>
</template>

<template id="workflow-icon">
  <svg aria-hidden="true" height="16" viewBox="0 0 16 16" version="1.1" width="16" data-view-component="true" class="octicon octicon-workflow">
    <path d="M0 1.75C0 .784.784 0 1.75 0h3.5C6.216 0 7 .784 7 1.75v3.5A1.75 1.75 0 0 1 5.25 7H4v4a1 1 0 0 0 1 1h4v-1.25C9 9.784 9.784 9 10.75 9h3.5c.966 0 1.75.784 1.75 1.75v3.5A1.75 1.75 0 0 1 14.25 16h-3.5A1.75 1.75 0 0 1 9 14.25v-.75H5A2.5 2.5 0 0 1 2.5 11V7h-.75A1.75 1.75 0 0 1 0 5.25Zm1.75-.25a.25.25 0 0 0-.25.25v3.5c0 .138.112.25.25.25h3.5a.25.25 0 0 0 .25-.25v-3.5a.25.25 0 0 0-.25-.25Zm9 9a.25.25 0 0 0-.25.25v3.5c0 .138.112.25.25.25h3.5a.25.25 0 0 0 .25-.25v-3.5a.25.25 0 0 0-.25-.25Z"></path>
</svg>
</template>

<template id="book-icon">
  <svg aria-hidden="true" height="16" viewBox="0 0 16 16" version="1.1" width="16" data-view-component="true" class="octicon octicon-book">
    <path d="M0 1.75A.75.75 0 0 1 .75 1h4.253c1.227 0 2.317.59 3 1.501A3.743 3.743 0 0 1 11.006 1h4.245a.75.75 0 0 1 .75.75v10.5a.75.75 0 0 1-.75.75h-4.507a2.25 2.25 0 0 0-1.591.659l-.622.621a.75.75 0 0 1-1.06 0l-.622-.621A2.25 2.25 0 0 0 5.258 13H.75a.75.75 0 0 1-.75-.75Zm7.251 10.324.004-5.073-.002-2.253A2.25 2.25 0 0 0 5.003 2.5H1.5v9h3.757a3.75 3.75 0 0 1 1.994.574ZM8.755 4.75l-.004 7.322a3.752 3.752 0 0 1 1.992-.572H14.5v-9h-3.495a2.25 2.25 0 0 0-2.25 2.25Z"></path>
</svg>
</template>

<template id="code-review-icon">
  <svg aria-hidden="true" height="16" viewBox="0 0 16 16" version="1.1" width="16" data-view-component="true" class="octicon octicon-code-review">
    <path d="M1.75 1h12.5c.966 0 1.75.784 1.75 1.75v8.5A1.75 1.75 0 0 1 14.25 13H8.061l-2.574 2.573A1.458 1.458 0 0 1 3 14.543V13H1.75A1.75 1.75 0 0 1 0 11.25v-8.5C0 1.784.784 1 1.75 1ZM1.5 2.75v8.5c0 .138.112.25.25.25h2a.75.75 0 0 1 .75.75v2.19l2.72-2.72a.749.749 0 0 1 .53-.22h6.5a.25.25 0 0 0 .25-.25v-8.5a.25.25 0 0 0-.25-.25H1.75a.25.25 0 0 0-.25.25Zm5.28 1.72a.75.75 0 0 1 0 1.06L5.31 7l1.47 1.47a.751.751 0 0 1-.018 1.042.751.751 0 0 1-1.042.018l-2-2a.75.75 0 0 1 0-1.06l2-2a.75.75 0 0 1 1.06 0Zm2.44 0a.75.75 0 0 1 1.06 0l2 2a.75.75 0 0 1 0 1.06l-2 2a.751.751 0 0 1-1.042-.018.751.751 0 0 1-.018-1.042L10.69 7 9.22 5.53a.75.75 0 0 1 0-1.06Z"></path>
</svg>
</template>

<template id="codespaces-icon">
  <svg aria-hidden="true" height="16" viewBox="0 0 16 16" version="1.1" width="16" data-view-component="true" class="octicon octicon-codespaces">
    <path d="M0 11.25c0-.966.784-1.75 1.75-1.75h12.5c.966 0 1.75.784 1.75 1.75v3A1.75 1.75 0 0 1 14.25 16H1.75A1.75 1.75 0 0 1 0 14.25Zm2-9.5C2 .784 2.784 0 3.75 0h8.5C13.216 0 14 .784 14 1.75v5a1.75 1.75 0 0 1-1.75 1.75h-8.5A1.75 1.75 0 0 1 2 6.75Zm1.75-.25a.25.25 0 0 0-.25.25v5c0 .138.112.25.25.25h8.5a.25.25 0 0 0 .25-.25v-5a.25.25 0 0 0-.25-.25Zm-2 9.5a.25.25 0 0 0-.25.25v3c0 .138.112.25.25.25h12.5a.25.25 0 0 0 .25-.25v-3a.25.25 0 0 0-.25-.25Z"></path><path d="M7 12.75a.75.75 0 0 1 .75-.75h4.5a.75.75 0 0 1 0 1.5h-4.5a.75.75 0 0 1-.75-.75Zm-4 0a.75.75 0 0 1 .75-.75h.5a.75.75 0 0 1 0 1.5h-.5a.75.75 0 0 1-.75-.75Z"></path>
</svg>
</template>

<template id="comment-icon">
  <svg aria-hidden="true" height="16" viewBox="0 0 16 16" version="1.1" width="16" data-view-component="true" class="octicon octicon-comment">
    <path d="M1 2.75C1 1.784 1.784 1 2.75 1h10.5c.966 0 1.75.784 1.75 1.75v7.5A1.75 1.75 0 0 1 13.25 12H9.06l-2.573 2.573A1.458 1.458 0 0 1 4 13.543V12H2.75A1.75 1.75 0 0 1 1 10.25Zm1.75-.25a.25.25 0 0 0-.25.25v7.5c0 .138.112.25.25.25h2a.75.75 0 0 1 .75.75v2.19l2.72-2.72a.749.749 0 0 1 .53-.22h4.5a.25.25 0 0 0 .25-.25v-7.5a.25.25 0 0 0-.25-.25Z"></path>
</svg>
</template>

<template id="comment-discussion-icon">
  <svg aria-hidden="true" height="16" viewBox="0 0 16 16" version="1.1" width="16" data-view-component="true" class="octicon octicon-comment-discussion">
    <path d="M1.75 1h8.5c.966 0 1.75.784 1.75 1.75v5.5A1.75 1.75 0 0 1 10.25 10H7.061l-2.574 2.573A1.458 1.458 0 0 1 2 11.543V10h-.25A1.75 1.75 0 0 1 0 8.25v-5.5C0 1.784.784 1 1.75 1ZM1.5 2.75v5.5c0 .138.112.25.25.25h1a.75.75 0 0 1 .75.75v2.19l2.72-2.72a.749.749 0 0 1 .53-.22h3.5a.25.25 0 0 0 .25-.25v-5.5a.25.25 0 0 0-.25-.25h-8.5a.25.25 0 0 0-.25.25Zm13 2a.25.25 0 0 0-.25-.25h-.5a.75.75 0 0 1 0-1.5h.5c.966 0 1.75.784 1.75 1.75v5.5A1.75 1.75 0 0 1 14.25 12H14v1.543a1.458 1.458 0 0 1-2.487 1.03L9.22 12.28a.749.749 0 0 1 .326-1.275.749.749 0 0 1 .734.215l2.22 2.22v-2.19a.75.75 0 0 1 .75-.75h1a.25.25 0 0 0 .25-.25Z"></path>
</svg>
</template>

<template id="organization-icon">
  <svg aria-hidden="true" height="16" viewBox="0 0 16 16" version="1.1" width="16" data-view-component="true" class="octicon octicon-organization">
    <path d="M1.75 16A1.75 1.75 0 0 1 0 14.25V1.75C0 .784.784 0 1.75 0h8.5C11.216 0 12 .784 12 1.75v12.5c0 .085-.006.168-.018.25h2.268a.25.25 0 0 0 .25-.25V8.285a.25.25 0 0 0-.111-.208l-1.055-.703a.749.749 0 1 1 .832-1.248l1.055.703c.487.325.779.871.779 1.456v5.965A1.75 1.75 0 0 1 14.25 16h-3.5a.766.766 0 0 1-.197-.026c-.099.017-.2.026-.303.026h-3a.75.75 0 0 1-.75-.75V14h-1v1.25a.75.75 0 0 1-.75.75Zm-.25-1.75c0 .138.112.25.25.25H4v-1.25a.75.75 0 0 1 .75-.75h2.5a.75.75 0 0 1 .75.75v1.25h2.25a.25.25 0 0 0 .25-.25V1.75a.25.25 0 0 0-.25-.25h-8.5a.25.25 0 0 0-.25.25ZM3.75 6h.5a.75.75 0 0 1 0 1.5h-.5a.75.75 0 0 1 0-1.5ZM3 3.75A.75.75 0 0 1 3.75 3h.5a.75.75 0 0 1 0 1.5h-.5A.75.75 0 0 1 3 3.75Zm4 3A.75.75 0 0 1 7.75 6h.5a.75.75 0 0 1 0 1.5h-.5A.75.75 0 0 1 7 6.75ZM7.75 3h.5a.75.75 0 0 1 0 1.5h-.5a.75.75 0 0 1 0-1.5ZM3 9.75A.75.75 0 0 1 3.75 9h.5a.75.75 0 0 1 0 1.5h-.5A.75.75 0 0 1 3 9.75ZM7.75 9h.5a.75.75 0 0 1 0 1.5h-.5a.75.75 0 0 1 0-1.5Z"></path>
</svg>
</template>

<template id="rocket-icon">
  <svg aria-hidden="true" height="16" viewBox="0 0 16 16" version="1.1" width="16" data-view-component="true" class="octicon octicon-rocket">
    <path d="M14.064 0h.186C15.216 0 16 .784 16 1.75v.186a8.752 8.752 0 0 1-2.564 6.186l-.458.459c-.314.314-.641.616-.979.904v3.207c0 .608-.315 1.172-.833 1.49l-2.774 1.707a.749.749 0 0 1-1.11-.418l-.954-3.102a1.214 1.214 0 0 1-.145-.125L3.754 9.816a1.218 1.218 0 0 1-.124-.145L.528 8.717a.749.749 0 0 1-.418-1.11l1.71-2.774A1.748 1.748 0 0 1 3.31 4h3.204c.288-.338.59-.665.904-.979l.459-.458A8.749 8.749 0 0 1 14.064 0ZM8.938 3.623h-.002l-.458.458c-.76.76-1.437 1.598-2.02 2.5l-1.5 2.317 2.143 2.143 2.317-1.5c.902-.583 1.74-1.26 2.499-2.02l.459-.458a7.25 7.25 0 0 0 2.123-5.127V1.75a.25.25 0 0 0-.25-.25h-.186a7.249 7.249 0 0 0-5.125 2.123ZM3.56 14.56c-.732.732-2.334 1.045-3.005 1.148a.234.234 0 0 1-.201-.064.234.234 0 0 1-.064-.201c.103-.671.416-2.273 1.15-3.003a1.502 1.502 0 1 1 2.12 2.12Zm6.94-3.935c-.088.06-.177.118-.266.175l-2.35 1.521.548 1.783 1.949-1.2a.25.25 0 0 0 .119-.213ZM3.678 8.116 5.2 5.766c.058-.09.117-.178.176-.266H3.309a.25.25 0 0 0-.213.119l-1.2 1.95ZM12 5a1 1 0 1 1-2 0 1 1 0 0 1 2 0Z"></path>
</svg>
</template>

<template id="shield-check-icon">
  <svg aria-hidden="true" height="16" viewBox="0 0 16 16" version="1.1" width="16" data-view-component="true" class="octicon octicon-shield-check">
    <path d="m8.533.133 5.25 1.68A1.75 1.75 0 0 1 15 3.48V7c0 1.566-.32 3.182-1.303 4.682-.983 1.498-2.585 2.813-5.032 3.855a1.697 1.697 0 0 1-1.33 0c-2.447-1.042-4.049-2.357-5.032-3.855C1.32 10.182 1 8.566 1 7V3.48a1.75 1.75 0 0 1 1.217-1.667l5.25-1.68a1.748 1.748 0 0 1 1.066 0Zm-.61 1.429.001.001-5.25 1.68a.251.251 0 0 0-.174.237V7c0 1.36.275 2.666 1.057 3.859.784 1.194 2.121 2.342 4.366 3.298a.196.196 0 0 0 .154 0c2.245-.957 3.582-2.103 4.366-3.297C13.225 9.666 13.5 8.358 13.5 7V3.48a.25.25 0 0 0-.174-.238l-5.25-1.68a.25.25 0 0 0-.153 0ZM11.28 6.28l-3.5 3.5a.75.75 0 0 1-1.06 0l-1.5-1.5a.749.749 0 0 1 .326-1.275.749.749 0 0 1 .734.215l.97.97 2.97-2.97a.751.751 0 0 1 1.042.018.751.751 0 0 1 .018 1.042Z"></path>
</svg>
</template>

<template id="heart-icon">
  <svg aria-hidden="true" height="16" viewBox="0 0 16 16" version="1.1" width="16" data-view-component="true" class="octicon octicon-heart">
    <path d="m8 14.25.345.666a.75.75 0 0 1-.69 0l-.008-.004-.018-.01a7.152 7.152 0 0 1-.31-.17 22.055 22.055 0 0 1-3.434-2.414C2.045 10.731 0 8.35 0 5.5 0 2.836 2.086 1 4.25 1 5.797 1 7.153 1.802 8 3.02 8.847 1.802 10.203 1 11.75 1 13.914 1 16 2.836 16 5.5c0 2.85-2.045 5.231-3.885 6.818a22.066 22.066 0 0 1-3.744 2.584l-.018.01-.006.003h-.002ZM4.25 2.5c-1.336 0-2.75 1.164-2.75 3 0 2.15 1.58 4.144 3.365 5.682A20.58 20.58 0 0 0 8 13.393a20.58 20.58 0 0 0 3.135-2.211C12.92 9.644 14.5 7.65 14.5 5.5c0-1.836-1.414-3-2.75-3-1.373 0-2.609.986-3.029 2.456a.749.749 0 0 1-1.442 0C6.859 3.486 5.623 2.5 4.25 2.5Z"></path>
</svg>
</template>

<template id="server-icon">
  <svg aria-hidden="true" height="16" viewBox="0 0 16 16" version="1.1" width="16" data-view-component="true" class="octicon octicon-server">
    <path d="M1.75 1h12.5c.966 0 1.75.784 1.75 1.75v4c0 .372-.116.717-.314 1 .198.283.314.628.314 1v4a1.75 1.75 0 0 1-1.75 1.75H1.75A1.75 1.75 0 0 1 0 12.75v-4c0-.358.109-.707.314-1a1.739 1.739 0 0 1-.314-1v-4C0 1.784.784 1 1.75 1ZM1.5 2.75v4c0 .138.112.25.25.25h12.5a.25.25 0 0 0 .25-.25v-4a.25.25 0 0 0-.25-.25H1.75a.25.25 0 0 0-.25.25Zm.25 5.75a.25.25 0 0 0-.25.25v4c0 .138.112.25.25.25h12.5a.25.25 0 0 0 .25-.25v-4a.25.25 0 0 0-.25-.25ZM7 4.75A.75.75 0 0 1 7.75 4h4.5a.75.75 0 0 1 0 1.5h-4.5A.75.75 0 0 1 7 4.75ZM7.75 10h4.5a.75.75 0 0 1 0 1.5h-4.5a.75.75 0 0 1 0-1.5ZM3 4.75A.75.75 0 0 1 3.75 4h.5a.75.75 0 0 1 0 1.5h-.5A.75.75 0 0 1 3 4.75ZM3.75 10h.5a.75.75 0 0 1 0 1.5h-.5a.75.75 0 0 1 0-1.5Z"></path>
</svg>
</template>

<template id="globe-icon">
  <svg aria-hidden="true" height="16" viewBox="0 0 16 16" version="1.1" width="16" data-view-component="true" class="octicon octicon-globe">
    <path d="M8 0a8 8 0 1 1 0 16A8 8 0 0 1 8 0ZM5.78 8.75a9.64 9.64 0 0 0 1.363 4.177c.255.426.542.832.857 1.215.245-.296.551-.705.857-1.215A9.64 9.64 0 0 0 10.22 8.75Zm4.44-1.5a9.64 9.64 0 0 0-1.363-4.177c-.307-.51-.612-.919-.857-1.215a9.927 9.927 0 0 0-.857 1.215A9.64 9.64 0 0 0 5.78 7.25Zm-5.944 1.5H1.543a6.507 6.507 0 0 0 4.666 5.5c-.123-.181-.24-.365-.352-.552-.715-1.192-1.437-2.874-1.581-4.948Zm-2.733-1.5h2.733c.144-2.074.866-3.756 1.58-4.948.12-.197.237-.381.353-.552a6.507 6.507 0 0 0-4.666 5.5Zm10.181 1.5c-.144 2.074-.866 3.756-1.58 4.948-.12.197-.237.381-.353.552a6.507 6.507 0 0 0 4.666-5.5Zm2.733-1.5a6.507 6.507 0 0 0-4.666-5.5c.123.181.24.365.353.552.714 1.192 1.436 2.874 1.58 4.948Z"></path>
</svg>
</template>

<template id="issue-opened-icon">
  <svg aria-hidden="true" height="16" viewBox="0 0 16 16" version="1.1" width="16" data-view-component="true" class="octicon octicon-issue-opened">
    <path d="M8 9.5a1.5 1.5 0 1 0 0-3 1.5 1.5 0 0 0 0 3Z"></path><path d="M8 0a8 8 0 1 1 0 16A8 8 0 0 1 8 0ZM1.5 8a6.5 6.5 0 1 0 13 0 6.5 6.5 0 0 0-13 0Z"></path>
</svg>
</template>

<template id="device-mobile-icon">
  <svg aria-hidden="true" height="16" viewBox="0 0 16 16" version="1.1" width="16" data-view-component="true" class="octicon octicon-device-mobile">
    <path d="M3.75 0h8.5C13.216 0 14 .784 14 1.75v12.5A1.75 1.75 0 0 1 12.25 16h-8.5A1.75 1.75 0 0 1 2 14.25V1.75C2 .784 2.784 0 3.75 0ZM3.5 1.75v12.5c0 .138.112.25.25.25h8.5a.25.25 0 0 0 .25-.25V1.75a.25.25 0 0 0-.25-.25h-8.5a.25.25 0 0 0-.25.25ZM8 13a1 1 0 1 1 0-2 1 1 0 0 1 0 2Z"></path>
</svg>
</template>

<template id="package-icon">
  <svg aria-hidden="true" height="16" viewBox="0 0 16 16" version="1.1" width="16" data-view-component="true" class="octicon octicon-package">
    <path d="m8.878.392 5.25 3.045c.54.314.872.89.872 1.514v6.098a1.75 1.75 0 0 1-.872 1.514l-5.25 3.045a1.75 1.75 0 0 1-1.756 0l-5.25-3.045A1.75 1.75 0 0 1 1 11.049V4.951c0-.624.332-1.201.872-1.514L7.122.392a1.75 1.75 0 0 1 1.756 0ZM7.875 1.69l-4.63 2.685L8 7.133l4.755-2.758-4.63-2.685a.248.248 0 0 0-.25 0ZM2.5 5.677v5.372c0 .09.047.171.125.216l4.625 2.683V8.432Zm6.25 8.271 4.625-2.683a.25.25 0 0 0 .125-.216V5.677L8.75 8.432Z"></path>
</svg>
</template>

<template id="credit-card-icon">
  <svg aria-hidden="true" height="16" viewBox="0 0 16 16" version="1.1" width="16" data-view-component="true" class="octicon octicon-credit-card">
    <path d="M10.75 9a.75.75 0 0 0 0 1.5h1.5a.75.75 0 0 0 0-1.5h-1.5Z"></path><path d="M0 3.75C0 2.784.784 2 1.75 2h12.5c.966 0 1.75.784 1.75 1.75v8.5A1.75 1.75 0 0 1 14.25 14H1.75A1.75 1.75 0 0 1 0 12.25ZM14.5 6.5h-13v5.75c0 .138.112.25.25.25h12.5a.25.25 0 0 0 .25-.25Zm0-2.75a.25.25 0 0 0-.25-.25H1.75a.25.25 0 0 0-.25.25V5h13Z"></path>
</svg>
</template>

<template id="play-icon">
  <svg aria-hidden="true" height="16" viewBox="0 0 16 16" version="1.1" width="16" data-view-component="true" class="octicon octicon-play">
    <path d="M8 0a8 8 0 1 1 0 16A8 8 0 0 1 8 0ZM1.5 8a6.5 6.5 0 1 0 13 0 6.5 6.5 0 0 0-13 0Zm4.879-2.773 4.264 2.559a.25.25 0 0 1 0 .428l-4.264 2.559A.25.25 0 0 1 6 10.559V5.442a.25.25 0 0 1 .379-.215Z"></path>
</svg>
</template>

<template id="gift-icon">
  <svg aria-hidden="true" height="16" viewBox="0 0 16 16" version="1.1" width="16" data-view-component="true" class="octicon octicon-gift">
    <path d="M2 2.75A2.75 2.75 0 0 1 4.75 0c.983 0 1.873.42 2.57 1.232.268.318.497.668.68 1.042.183-.375.411-.725.68-1.044C9.376.42 10.266 0 11.25 0a2.75 2.75 0 0 1 2.45 4h.55c.966 0 1.75.784 1.75 1.75v2c0 .698-.409 1.301-1 1.582v4.918A1.75 1.75 0 0 1 13.25 16H2.75A1.75 1.75 0 0 1 1 14.25V9.332C.409 9.05 0 8.448 0 7.75v-2C0 4.784.784 4 1.75 4h.55c-.192-.375-.3-.8-.3-1.25ZM7.25 9.5H2.5v4.75c0 .138.112.25.25.25h4.5Zm1.5 0v5h4.5a.25.25 0 0 0 .25-.25V9.5Zm0-4V8h5.5a.25.25 0 0 0 .25-.25v-2a.25.25 0 0 0-.25-.25Zm-7 0a.25.25 0 0 0-.25.25v2c0 .138.112.25.25.25h5.5V5.5h-5.5Zm3-4a1.25 1.25 0 0 0 0 2.5h2.309c-.233-.818-.542-1.401-.878-1.793-.43-.502-.915-.707-1.431-.707ZM8.941 4h2.309a1.25 1.25 0 0 0 0-2.5c-.516 0-1 .205-1.43.707-.337.392-.646.975-.879 1.793Z"></path>
</svg>
</template>

<template id="code-square-icon">
  <svg aria-hidden="true" height="16" viewBox="0 0 16 16" version="1.1" width="16" data-view-component="true" class="octicon octicon-code-square">
    <path d="M0 1.75C0 .784.784 0 1.75 0h12.5C15.216 0 16 .784 16 1.75v12.5A1.75 1.75 0 0 1 14.25 16H1.75A1.75 1.75 0 0 1 0 14.25Zm1.75-.25a.25.25 0 0 0-.25.25v12.5c0 .138.112.25.25.25h12.5a.25.25 0 0 0 .25-.25V1.75a.25.25 0 0 0-.25-.25Zm7.47 3.97a.75.75 0 0 1 1.06 0l2 2a.75.75 0 0 1 0 1.06l-2 2a.749.749 0 0 1-1.275-.326.749.749 0 0 1 .215-.734L10.69 8 9.22 6.53a.75.75 0 0 1 0-1.06ZM6.78 6.53 5.31 8l1.47 1.47a.749.749 0 0 1-.326 1.275.749.749 0 0 1-.734-.215l-2-2a.75.75 0 0 1 0-1.06l2-2a.751.751 0 0 1 1.042.018.751.751 0 0 1 .018 1.042Z"></path>
</svg>
</template>

<template id="device-desktop-icon">
  <svg aria-hidden="true" height="16" viewBox="0 0 16 16" version="1.1" width="16" data-view-component="true" class="octicon octicon-device-desktop">
    <path d="M14.25 1c.966 0 1.75.784 1.75 1.75v7.5A1.75 1.75 0 0 1 14.25 12h-3.727c.099 1.041.52 1.872 1.292 2.757A.752.752 0 0 1 11.25 16h-6.5a.75.75 0 0 1-.565-1.243c.772-.885 1.192-1.716 1.292-2.757H1.75A1.75 1.75 0 0 1 0 10.25v-7.5C0 1.784.784 1 1.75 1ZM1.75 2.5a.25.25 0 0 0-.25.25v7.5c0 .138.112.25.25.25h12.5a.25.25 0 0 0 .25-.25v-7.5a.25.25 0 0 0-.25-.25ZM9.018 12H6.982a5.72 5.72 0 0 1-.765 2.5h3.566a5.72 5.72 0 0 1-.765-2.5Z"></path>
</svg>
</template>

        <div class="position-relative">
                <ul
                  role="listbox"
                  class="ActionListWrap QueryBuilder-ListWrap"
                  aria-label="Suggestions"
                  data-action="
                    combobox-commit:query-builder#comboboxCommit
                    mousedown:query-builder#resultsMousedown
                  "
                  data-target="query-builder.resultsList"
                  data-persist-list=false
                  id="query-builder-test-results"
                  tabindex="-1"
                ></ul>
        </div>
      <div class="FormControl-inlineValidation" id="validation-b4f3b3e5-57ed-4531-968b-3265fc36729b" hidden="hidden">
        <span class="FormControl-inlineValidation--visual">
          <svg aria-hidden="true" height="12" viewBox="0 0 12 12" version="1.1" width="12" data-view-component="true" class="octicon octicon-alert-fill">
    <path d="M4.855.708c.5-.896 1.79-.896 2.29 0l4.675 8.351a1.312 1.312 0 0 1-1.146 1.954H1.33A1.313 1.313 0 0 1 .183 9.058ZM7 7V3H5v4Zm-1 3a1 1 0 1 0 0-2 1 1 0 0 0 0 2Z"></path>
</svg>
        </span>
        <span></span>
</div>    </div>
    <div data-target="query-builder.screenReaderFeedback" aria-live="polite" aria-atomic="true" class="sr-only"></div>
</query-builder></form>
          <div class="d-flex flex-row color-fg-muted px-3 text-small color-bg-default search-feedback-prompt">
            <a target="_blank" href="https://docs.github.com/search-github/github-code-search/understanding-github-code-search-syntax" data-view-component="true" class="Link color-fg-accent text-normal ml-2">Search syntax tips</a>            <div class="d-flex flex-1"></div>
          </div>
        </div>
</div>

    </div>
</modal-dialog></div>
  </div>
  <div data-action="click:qbsearch-input#retract" class="dark-backdrop position-fixed" hidden data-target="qbsearch-input.darkBackdrop"></div>
  <div class="color-fg-default">
    
<dialog-helper>
  <dialog data-target="qbsearch-input.feedbackDialog" data-action="close:qbsearch-input#handleDialogClose cancel:qbsearch-input#handleDialogClose" id="feedback-dialog" aria-modal="true" aria-labelledby="feedback-dialog-title" aria-describedby="feedback-dialog-description" data-view-component="true" class="Overlay Overlay-whenNarrow Overlay--size-medium Overlay--motion-scaleFade Overlay--disableScroll">
    <div data-view-component="true" class="Overlay-header">
  <div class="Overlay-headerContentWrap">
    <div class="Overlay-titleWrap">
      <h1 class="Overlay-title " id="feedback-dialog-title">
        Provide feedback
      </h1>
        
    </div>
    <div class="Overlay-actionWrap">
      <button data-close-dialog-id="feedback-dialog" aria-label="Close" aria-label="Close" type="button" data-view-component="true" class="close-button Overlay-closeButton"><svg aria-hidden="true" height="16" viewBox="0 0 16 16" version="1.1" width="16" data-view-component="true" class="octicon octicon-x">
    <path d="M3.72 3.72a.75.75 0 0 1 1.06 0L8 6.94l3.22-3.22a.749.749 0 0 1 1.275.326.749.749 0 0 1-.215.734L9.06 8l3.22 3.22a.749.749 0 0 1-.326 1.275.749.749 0 0 1-.734-.215L8 9.06l-3.22 3.22a.751.751 0 0 1-1.042-.018.751.751 0 0 1-.018-1.042L6.94 8 3.72 4.78a.75.75 0 0 1 0-1.06Z"></path>
</svg></button>
    </div>
  </div>
  
</div>
      <scrollable-region data-labelled-by="feedback-dialog-title">
        <div data-view-component="true" class="Overlay-body">        <!-- '"` --><!-- </textarea></xmp> --></option></form><form id="code-search-feedback-form" data-turbo="false" action="/search/feedback" accept-charset="UTF-8" method="post"><input type="hidden" data-csrf="true" name="authenticity_token" value="N7NEmyYXrVF2u4462/kewVgbAEkv80LKc7H7ja4daLUSPkQ0WLflqKEJ+D8F/VWhzmCsgN9eTsPs9DYyW5zf+A==" />
          <p>We read every piece of feedback, and take your input very seriously.</p>
          <textarea name="feedback" class="form-control width-full mb-2" style="height: 120px" id="feedback"></textarea>
          <input name="include_email" id="include_email" aria-label="Include my email address so I can be contacted" class="form-control mr-2" type="checkbox">
          <label for="include_email" style="font-weight: normal">Include my email address so I can be contacted</label>
</form></div>
      </scrollable-region>
      <div data-view-component="true" class="Overlay-footer Overlay-footer--alignEnd">          <button data-close-dialog-id="feedback-dialog" type="button" data-view-component="true" class="btn">    Cancel
</button>
          <button form="code-search-feedback-form" data-action="click:qbsearch-input#submitFeedback" type="submit" data-view-component="true" class="btn-primary btn">    Submit feedback
</button>
</div>
</dialog></dialog-helper>

    <custom-scopes data-target="qbsearch-input.customScopesManager">
    
<dialog-helper>
  <dialog data-target="custom-scopes.customScopesModalDialog" data-action="close:qbsearch-input#handleDialogClose cancel:qbsearch-input#handleDialogClose" id="custom-scopes-dialog" aria-modal="true" aria-labelledby="custom-scopes-dialog-title" aria-describedby="custom-scopes-dialog-description" data-view-component="true" class="Overlay Overlay-whenNarrow Overlay--size-medium Overlay--motion-scaleFade Overlay--disableScroll">
    <div data-view-component="true" class="Overlay-header Overlay-header--divided">
  <div class="Overlay-headerContentWrap">
    <div class="Overlay-titleWrap">
      <h1 class="Overlay-title " id="custom-scopes-dialog-title">
        Saved searches
      </h1>
        <h2 id="custom-scopes-dialog-description" class="Overlay-description">Use saved searches to filter your results more quickly</h2>
    </div>
    <div class="Overlay-actionWrap">
      <button data-close-dialog-id="custom-scopes-dialog" aria-label="Close" aria-label="Close" type="button" data-view-component="true" class="close-button Overlay-closeButton"><svg aria-hidden="true" height="16" viewBox="0 0 16 16" version="1.1" width="16" data-view-component="true" class="octicon octicon-x">
    <path d="M3.72 3.72a.75.75 0 0 1 1.06 0L8 6.94l3.22-3.22a.749.749 0 0 1 1.275.326.749.749 0 0 1-.215.734L9.06 8l3.22 3.22a.749.749 0 0 1-.326 1.275.749.749 0 0 1-.734-.215L8 9.06l-3.22 3.22a.751.751 0 0 1-1.042-.018.751.751 0 0 1-.018-1.042L6.94 8 3.72 4.78a.75.75 0 0 1 0-1.06Z"></path>
</svg></button>
    </div>
  </div>
  
</div>
      <scrollable-region data-labelled-by="custom-scopes-dialog-title">
        <div data-view-component="true" class="Overlay-body">        <div data-target="custom-scopes.customScopesModalDialogFlash"></div>

        <div hidden class="create-custom-scope-form" data-target="custom-scopes.createCustomScopeForm">
        <!-- '"` --><!-- </textarea></xmp> --></option></form><form id="custom-scopes-dialog-form" data-turbo="false" action="/search/custom_scopes" accept-charset="UTF-8" method="post"><input type="hidden" data-csrf="true" name="authenticity_token" value="YuDGAA0x6IVx5T+t1bECyMP2alHDgDCqvxfK1zG/NXYdqbdtWdj+FChyGiSEeYkB1ZdjBLaZXUZF91QEHk3COw==" />
          <div data-target="custom-scopes.customScopesModalDialogFlash"></div>

          <input type="hidden" id="custom_scope_id" name="custom_scope_id" data-target="custom-scopes.customScopesIdField">

          <div class="form-group">
            <label for="custom_scope_name">Name</label>
            <auto-check src="/search/custom_scopes/check_name" required>
              <input
                type="text"
                name="custom_scope_name"
                id="custom_scope_name"
                data-target="custom-scopes.customScopesNameField"
                class="form-control"
                autocomplete="off"
                placeholder="github-ruby"
                required
                maxlength="50">
              <input type="hidden" data-csrf="true" value="1irI/D1pQgHm+AfUpAmv7BSQW1Yc0KmwYf3QDfdt9QfrWTL7oSp2oDPKZanjbx07RzMOlx2Y5/3kfJFU+eYmjA==" />
            </auto-check>
          </div>

          <div class="form-group">
            <label for="custom_scope_query">Query</label>
            <input
              type="text"
              name="custom_scope_query"
              id="custom_scope_query"
              data-target="custom-scopes.customScopesQueryField"
              class="form-control"
              autocomplete="off"
              placeholder="(repo:mona/a OR repo:mona/b) AND lang:python"
              required
              maxlength="500">
          </div>

          <p class="text-small color-fg-muted">
            To see all available qualifiers, see our <a class="Link--inTextBlock" href="https://docs.github.com/search-github/github-code-search/understanding-github-code-search-syntax">documentation</a>.
          </p>
</form>        </div>

        <div data-target="custom-scopes.manageCustomScopesForm">
          <div data-target="custom-scopes.list"></div>
        </div>

</div>
      </scrollable-region>
      <div data-view-component="true" class="Overlay-footer Overlay-footer--alignEnd Overlay-footer--divided">          <button data-action="click:custom-scopes#customScopesCancel" type="button" data-view-component="true" class="btn">    Cancel
</button>
          <button form="custom-scopes-dialog-form" data-action="click:custom-scopes#customScopesSubmit" data-target="custom-scopes.customScopesSubmitButton" type="submit" data-view-component="true" class="btn-primary btn">    Create saved search
</button>
</div>
</dialog></dialog-helper>
    </custom-scopes>
  </div>
</qbsearch-input>


            <div class="position-relative HeaderMenu-link-wrap d-lg-inline-block">
              <a
                href="/login?return_to=https%3A%2F%2Fgithub.com%2Fahijevyc%2FESDSDemo%2Fblob%2Fmain%2Fneighborhood_filter.ipynb"
                class="HeaderMenu-link HeaderMenu-link--sign-in HeaderMenu-button flex-shrink-0 no-underline d-none d-lg-inline-flex border border-lg-0 rounded px-2 py-1"
                style="margin-left: 12px;"
                data-hydro-click="{&quot;event_type&quot;:&quot;authentication.click&quot;,&quot;payload&quot;:{&quot;location_in_page&quot;:&quot;site header menu&quot;,&quot;repository_id&quot;:null,&quot;auth_type&quot;:&quot;SIGN_UP&quot;,&quot;originating_url&quot;:&quot;https://github.com/ahijevyc/ESDSDemo/blob/main/neighborhood_filter.ipynb&quot;,&quot;user_id&quot;:null}}" data-hydro-click-hmac="a190cf08de9bf3e794fd0e76acd3b582f5dbc99587d4b257f0435725a5dd2d29"
                data-analytics-event="{&quot;category&quot;:&quot;Marketing nav&quot;,&quot;action&quot;:&quot;click to go to homepage&quot;,&quot;label&quot;:&quot;ref_page:Marketing;ref_cta:Sign in;ref_loc:Header&quot;}"
              >
                Sign in
              </a>
            </div>

              <a href="/signup?ref_cta=Sign+up&amp;ref_loc=header+logged+out&amp;ref_page=%2F%3Cuser-name%3E%2F%3Crepo-name%3E%2Fblob%2Fshow&amp;source=header-repo&amp;source_repo=ahijevyc%2FESDSDemo"
                class="HeaderMenu-link HeaderMenu-link--sign-up HeaderMenu-button flex-shrink-0 d-flex d-lg-inline-flex no-underline border color-border-default rounded px-2 py-1"
                data-hydro-click="{&quot;event_type&quot;:&quot;authentication.click&quot;,&quot;payload&quot;:{&quot;location_in_page&quot;:&quot;site header menu&quot;,&quot;repository_id&quot;:null,&quot;auth_type&quot;:&quot;SIGN_UP&quot;,&quot;originating_url&quot;:&quot;https://github.com/ahijevyc/ESDSDemo/blob/main/neighborhood_filter.ipynb&quot;,&quot;user_id&quot;:null}}" data-hydro-click-hmac="a190cf08de9bf3e794fd0e76acd3b582f5dbc99587d4b257f0435725a5dd2d29"
                data-analytics-event="{&quot;category&quot;:&quot;Sign up&quot;,&quot;action&quot;:&quot;click to sign up for account&quot;,&quot;label&quot;:&quot;ref_page:/&lt;user-name&gt;/&lt;repo-name&gt;/blob/show;ref_cta:Sign up;ref_loc:header logged out&quot;}"
              >
                Sign up
              </a>

                <div class="AppHeader-appearanceSettings">
    <react-partial-anchor>
      <button data-target="react-partial-anchor.anchor" id="icon-button-a3ea6981-328c-4c62-8a1f-f90d9c003d9f" aria-labelledby="tooltip-b931c2d5-d10f-4781-b396-a08cd7afabe6" type="button" disabled="disabled" data-view-component="true" class="Button Button--iconOnly Button--invisible Button--medium AppHeader-button HeaderMenu-link border cursor-wait">  <svg aria-hidden="true" height="16" viewBox="0 0 16 16" version="1.1" width="16" data-view-component="true" class="octicon octicon-sliders Button-visual">
    <path d="M15 2.75a.75.75 0 0 1-.75.75h-4a.75.75 0 0 1 0-1.5h4a.75.75 0 0 1 .75.75Zm-8.5.75v1.25a.75.75 0 0 0 1.5 0v-4a.75.75 0 0 0-1.5 0V2H1.75a.75.75 0 0 0 0 1.5H6.5Zm1.25 5.25a.75.75 0 0 0 0-1.5h-6a.75.75 0 0 0 0 1.5h6ZM15 8a.75.75 0 0 1-.75.75H11.5V10a.75.75 0 1 1-1.5 0V6a.75.75 0 0 1 1.5 0v1.25h2.75A.75.75 0 0 1 15 8Zm-9 5.25v-2a.75.75 0 0 0-1.5 0v1.25H1.75a.75.75 0 0 0 0 1.5H4.5v1.25a.75.75 0 0 0 1.5 0v-2Zm9 0a.75.75 0 0 1-.75.75h-6a.75.75 0 0 1 0-1.5h6a.75.75 0 0 1 .75.75Z"></path>
</svg>
</button><tool-tip id="tooltip-b931c2d5-d10f-4781-b396-a08cd7afabe6" for="icon-button-a3ea6981-328c-4c62-8a1f-f90d9c003d9f" popover="manual" data-direction="s" data-type="label" data-view-component="true" class="sr-only position-absolute">Appearance settings</tool-tip>

      <template data-target="react-partial-anchor.template">
        <link crossorigin="anonymous" media="all" rel="stylesheet" href="https://github.githubassets.com/assets/primer-react.411f5092c8deb2a4e03d.module.css" />
<link crossorigin="anonymous" media="all" rel="stylesheet" href="https://github.githubassets.com/assets/appearance-settings.c82a4db79200850fb016.module.css" />

<react-partial
  partial-name="appearance-settings"
  data-ssr="false"
  data-attempted-ssr="false"
  data-react-profiling="false"
>
  
  <script type="application/json" data-target="react-partial.embeddedData">{"props":{}}</script>
  <div data-target="react-partial.reactRoot"></div>
</react-partial>


      </template>
    </react-partial-anchor>
  </div>

          <button type="button" class="sr-only js-header-menu-focus-trap d-block d-lg-none">Resetting focus</button>
        </div>
      </div>
    </div>
  </div>
</header>

      <div hidden="hidden" data-view-component="true" class="js-stale-session-flash stale-session-flash flash flash-warn flash-full">
  
        <svg aria-hidden="true" height="16" viewBox="0 0 16 16" version="1.1" width="16" data-view-component="true" class="octicon octicon-alert">
    <path d="M6.457 1.047c.659-1.234 2.427-1.234 3.086 0l6.082 11.378A1.75 1.75 0 0 1 14.082 15H1.918a1.75 1.75 0 0 1-1.543-2.575Zm1.763.707a.25.25 0 0 0-.44 0L1.698 13.132a.25.25 0 0 0 .22.368h12.164a.25.25 0 0 0 .22-.368Zm.53 3.996v2.5a.75.75 0 0 1-1.5 0v-2.5a.75.75 0 0 1 1.5 0ZM9 11a1 1 0 1 1-2 0 1 1 0 0 1 2 0Z"></path>
</svg>
        <span class="js-stale-session-flash-signed-in" hidden>You signed in with another tab or window. <a class="Link--inTextBlock" href="">Reload</a> to refresh your session.</span>
        <span class="js-stale-session-flash-signed-out" hidden>You signed out in another tab or window. <a class="Link--inTextBlock" href="">Reload</a> to refresh your session.</span>
        <span class="js-stale-session-flash-switched" hidden>You switched accounts on another tab or window. <a class="Link--inTextBlock" href="">Reload</a> to refresh your session.</span>

    <button id="icon-button-7fd89aac-9f97-4bfc-9a73-f17a298e0db4" aria-labelledby="tooltip-d3384c67-721f-4cc8-b5ca-31334c4ad40f" type="button" data-view-component="true" class="Button Button--iconOnly Button--invisible Button--medium flash-close js-flash-close">  <svg aria-hidden="true" height="16" viewBox="0 0 16 16" version="1.1" width="16" data-view-component="true" class="octicon octicon-x Button-visual">
    <path d="M3.72 3.72a.75.75 0 0 1 1.06 0L8 6.94l3.22-3.22a.749.749 0 0 1 1.275.326.749.749 0 0 1-.215.734L9.06 8l3.22 3.22a.749.749 0 0 1-.326 1.275.749.749 0 0 1-.734-.215L8 9.06l-3.22 3.22a.751.751 0 0 1-1.042-.018.751.751 0 0 1-.018-1.042L6.94 8 3.72 4.78a.75.75 0 0 1 0-1.06Z"></path>
</svg>
</button><tool-tip id="tooltip-d3384c67-721f-4cc8-b5ca-31334c4ad40f" for="icon-button-7fd89aac-9f97-4bfc-9a73-f17a298e0db4" popover="manual" data-direction="s" data-type="label" data-view-component="true" class="sr-only position-absolute">Dismiss alert</tool-tip>


  
</div>
    </div>

  <div id="start-of-content" class="show-on-focus"></div>








    <div id="js-flash-container" class="flash-container" data-turbo-replace>




  <template class="js-flash-template">
    
<div class="flash flash-full   {{ className }}">
  <div >
    <button autofocus class="flash-close js-flash-close" type="button" aria-label="Dismiss this message">
      <svg aria-hidden="true" height="16" viewBox="0 0 16 16" version="1.1" width="16" data-view-component="true" class="octicon octicon-x">
    <path d="M3.72 3.72a.75.75 0 0 1 1.06 0L8 6.94l3.22-3.22a.749.749 0 0 1 1.275.326.749.749 0 0 1-.215.734L9.06 8l3.22 3.22a.749.749 0 0 1-.326 1.275.749.749 0 0 1-.734-.215L8 9.06l-3.22 3.22a.751.751 0 0 1-1.042-.018.751.751 0 0 1-.018-1.042L6.94 8 3.72 4.78a.75.75 0 0 1 0-1.06Z"></path>
</svg>
    </button>
    <div aria-atomic="true" role="alert" class="js-flash-alert">
      
      <div>{{ message }}</div>

    </div>
  </div>
</div>
  </template>
</div>


    






  <div
    class="application-main "
    data-commit-hovercards-enabled
    data-discussion-hovercards-enabled
    data-issue-and-pr-hovercards-enabled
    data-project-hovercards-enabled
  >
        <div itemscope itemtype="http://schema.org/SoftwareSourceCode" class="">
    <main id="js-repo-pjax-container" >
      
      






  
  <div id="repository-container-header"  class="pt-3 hide-full-screen" style="background-color: var(--page-header-bgColor, var(--color-page-header-bg));" data-turbo-replace>

      <div class="d-flex flex-nowrap flex-justify-end mb-3  px-3 px-lg-5" style="gap: 1rem;">

        <div class="flex-auto min-width-0 width-fit">
            
  <div class=" d-flex flex-wrap flex-items-center wb-break-word f3 text-normal">
      <svg aria-hidden="true" height="16" viewBox="0 0 16 16" version="1.1" width="16" data-view-component="true" class="octicon octicon-repo color-fg-muted mr-2">
    <path d="M2 2.5A2.5 2.5 0 0 1 4.5 0h8.75a.75.75 0 0 1 .75.75v12.5a.75.75 0 0 1-.75.75h-2.5a.75.75 0 0 1 0-1.5h1.75v-2h-8a1 1 0 0 0-.714 1.7.75.75 0 1 1-1.072 1.05A2.495 2.495 0 0 1 2 11.5Zm10.5-1h-8a1 1 0 0 0-1 1v6.708A2.486 2.486 0 0 1 4.5 9h8ZM5 12.25a.25.25 0 0 1 .25-.25h3.5a.25.25 0 0 1 .25.25v3.25a.25.25 0 0 1-.4.2l-1.45-1.087a.249.249 0 0 0-.3 0L5.4 15.7a.25.25 0 0 1-.4-.2Z"></path>
</svg>
    
    <span class="author flex-self-stretch" itemprop="author">
      <a class="url fn" rel="author" data-hovercard-type="user" data-hovercard-url="/users/ahijevyc/hovercard" data-octo-click="hovercard-link-click" data-octo-dimensions="link_type:self" href="/ahijevyc">
        ahijevyc
</a>    </span>
    <span class="mx-1 flex-self-stretch color-fg-muted">/</span>
    <strong itemprop="name" class="mr-2 flex-self-stretch">
      <a data-pjax="#repo-content-pjax-container" data-turbo-frame="repo-content-turbo-frame" href="/ahijevyc/ESDSDemo">ESDSDemo</a>
    </strong>

    <span></span><span class="Label Label--secondary v-align-middle mr-1">Public</span>
  </div>


        </div>

        <div id="repository-details-container" class="flex-shrink-0" data-turbo-replace style="max-width: 70%;">
            <ul class="pagehead-actions flex-shrink-0 d-none d-md-inline" style="padding: 2px 0;">
    
      

  <li>
            <a href="/login?return_to=%2Fahijevyc%2FESDSDemo" rel="nofollow" id="repository-details-watch-button" data-hydro-click="{&quot;event_type&quot;:&quot;authentication.click&quot;,&quot;payload&quot;:{&quot;location_in_page&quot;:&quot;notification subscription menu watch&quot;,&quot;repository_id&quot;:null,&quot;auth_type&quot;:&quot;LOG_IN&quot;,&quot;originating_url&quot;:&quot;https://github.com/ahijevyc/ESDSDemo/blob/main/neighborhood_filter.ipynb&quot;,&quot;user_id&quot;:null}}" data-hydro-click-hmac="e0a92c545a5d7f17df09c281c437eda47503901d2a6f13455bb3334762ff57fe" aria-label="You must be signed in to change notification settings" data-view-component="true" class="btn-sm btn">    <svg aria-hidden="true" height="16" viewBox="0 0 16 16" version="1.1" width="16" data-view-component="true" class="octicon octicon-bell mr-2">
    <path d="M8 16a2 2 0 0 0 1.985-1.75c.017-.137-.097-.25-.235-.25h-3.5c-.138 0-.252.113-.235.25A2 2 0 0 0 8 16ZM3 5a5 5 0 0 1 10 0v2.947c0 .05.015.098.042.139l1.703 2.555A1.519 1.519 0 0 1 13.482 13H2.518a1.516 1.516 0 0 1-1.263-2.36l1.703-2.554A.255.255 0 0 0 3 7.947Zm5-3.5A3.5 3.5 0 0 0 4.5 5v2.947c0 .346-.102.683-.294.97l-1.703 2.556a.017.017 0 0 0-.003.01l.001.006c0 .002.002.004.004.006l.006.004.007.001h10.964l.007-.001.006-.004.004-.006.001-.007a.017.017 0 0 0-.003-.01l-1.703-2.554a1.745 1.745 0 0 1-.294-.97V5A3.5 3.5 0 0 0 8 1.5Z"></path>
</svg>Notifications
</a>    <tool-tip id="tooltip-72597b8a-e7e5-4d74-9e5b-71a67f925e88" for="repository-details-watch-button" popover="manual" data-direction="s" data-type="description" data-view-component="true" class="sr-only position-absolute">You must be signed in to change notification settings</tool-tip>

  </li>

  <li>
          <a icon="repo-forked" id="fork-button" href="/login?return_to=%2Fahijevyc%2FESDSDemo" rel="nofollow" data-hydro-click="{&quot;event_type&quot;:&quot;authentication.click&quot;,&quot;payload&quot;:{&quot;location_in_page&quot;:&quot;repo details fork button&quot;,&quot;repository_id&quot;:744202857,&quot;auth_type&quot;:&quot;LOG_IN&quot;,&quot;originating_url&quot;:&quot;https://github.com/ahijevyc/ESDSDemo/blob/main/neighborhood_filter.ipynb&quot;,&quot;user_id&quot;:null}}" data-hydro-click-hmac="503c8763736cab644398c955bd87b21b8a4176df93990e2913b71fe22bf123f5" data-view-component="true" class="btn-sm btn">    <svg aria-hidden="true" height="16" viewBox="0 0 16 16" version="1.1" width="16" data-view-component="true" class="octicon octicon-repo-forked mr-2">
    <path d="M5 5.372v.878c0 .414.336.75.75.75h4.5a.75.75 0 0 0 .75-.75v-.878a2.25 2.25 0 1 1 1.5 0v.878a2.25 2.25 0 0 1-2.25 2.25h-1.5v2.128a2.251 2.251 0 1 1-1.5 0V8.5h-1.5A2.25 2.25 0 0 1 3.5 6.25v-.878a2.25 2.25 0 1 1 1.5 0ZM5 3.25a.75.75 0 1 0-1.5 0 .75.75 0 0 0 1.5 0Zm6.75.75a.75.75 0 1 0 0-1.5.75.75 0 0 0 0 1.5Zm-3 8.75a.75.75 0 1 0-1.5 0 .75.75 0 0 0 1.5 0Z"></path>
</svg>Fork
    <span id="repo-network-counter" data-pjax-replace="true" data-turbo-replace="true" title="0" data-view-component="true" class="Counter">0</span>
</a>
  </li>

  <li>
        <div data-view-component="true" class="BtnGroup d-flex">
        <a href="/login?return_to=%2Fahijevyc%2FESDSDemo" rel="nofollow" data-hydro-click="{&quot;event_type&quot;:&quot;authentication.click&quot;,&quot;payload&quot;:{&quot;location_in_page&quot;:&quot;star button&quot;,&quot;repository_id&quot;:744202857,&quot;auth_type&quot;:&quot;LOG_IN&quot;,&quot;originating_url&quot;:&quot;https://github.com/ahijevyc/ESDSDemo/blob/main/neighborhood_filter.ipynb&quot;,&quot;user_id&quot;:null}}" data-hydro-click-hmac="db43b3ef2e74d4c32d5e24e524a1529892ef0e106be995e870c69c01fde890d4" aria-label="You must be signed in to star a repository" data-view-component="true" class="tooltipped tooltipped-sw btn-sm btn">    <svg aria-hidden="true" height="16" viewBox="0 0 16 16" version="1.1" width="16" data-view-component="true" class="octicon octicon-star v-align-text-bottom d-inline-block mr-2">
    <path d="M8 .25a.75.75 0 0 1 .673.418l1.882 3.815 4.21.612a.75.75 0 0 1 .416 1.279l-3.046 2.97.719 4.192a.751.751 0 0 1-1.088.791L8 12.347l-3.766 1.98a.75.75 0 0 1-1.088-.79l.72-4.194L.818 6.374a.75.75 0 0 1 .416-1.28l4.21-.611L7.327.668A.75.75 0 0 1 8 .25Zm0 2.445L6.615 5.5a.75.75 0 0 1-.564.41l-3.097.45 2.24 2.184a.75.75 0 0 1 .216.664l-.528 3.084 2.769-1.456a.75.75 0 0 1 .698 0l2.77 1.456-.53-3.084a.75.75 0 0 1 .216-.664l2.24-2.183-3.096-.45a.75.75 0 0 1-.564-.41L8 2.694Z"></path>
</svg><span data-view-component="true" class="d-inline">
          Star
</span>          <span id="repo-stars-counter-star" aria-label="0 users starred this repository" data-singular-suffix="user starred this repository" data-plural-suffix="users starred this repository" data-turbo-replace="true" title="0" data-view-component="true" class="Counter js-social-count">0</span>
</a></div>
  </li>

</ul>

        </div>
      </div>

        <div id="responsive-meta-container" data-turbo-replace>
</div>


          <nav data-pjax="#js-repo-pjax-container" aria-label="Repository" data-view-component="true" class="js-repo-nav js-sidenav-container-pjax js-responsive-underlinenav overflow-hidden UnderlineNav px-3 px-md-4 px-lg-5">

  <ul data-view-component="true" class="UnderlineNav-body list-style-none">
      <li data-view-component="true" class="d-inline-flex">
  <a id="code-tab" href="/ahijevyc/ESDSDemo" data-tab-item="i0code-tab" data-selected-links="repo_source repo_downloads repo_commits repo_releases repo_tags repo_branches repo_packages repo_deployments repo_attestations /ahijevyc/ESDSDemo" data-pjax="#repo-content-pjax-container" data-turbo-frame="repo-content-turbo-frame" data-hotkey="g c" data-analytics-event="{&quot;category&quot;:&quot;Underline navbar&quot;,&quot;action&quot;:&quot;Click tab&quot;,&quot;label&quot;:&quot;Code&quot;,&quot;target&quot;:&quot;UNDERLINE_NAV.TAB&quot;}" aria-current="page" data-view-component="true" class="UnderlineNav-item no-wrap js-responsive-underlinenav-item js-selected-navigation-item selected">
    
              <svg aria-hidden="true" height="16" viewBox="0 0 16 16" version="1.1" width="16" data-view-component="true" class="octicon octicon-code UnderlineNav-octicon d-none d-sm-inline">
    <path d="m11.28 3.22 4.25 4.25a.75.75 0 0 1 0 1.06l-4.25 4.25a.749.749 0 0 1-1.275-.326.749.749 0 0 1 .215-.734L13.94 8l-3.72-3.72a.749.749 0 0 1 .326-1.275.749.749 0 0 1 .734.215Zm-6.56 0a.751.751 0 0 1 1.042.018.751.751 0 0 1 .018 1.042L2.06 8l3.72 3.72a.749.749 0 0 1-.326 1.275.749.749 0 0 1-.734-.215L.47 8.53a.75.75 0 0 1 0-1.06Z"></path>
</svg>
        <span data-content="Code">Code</span>
          <span id="code-repo-tab-count" data-pjax-replace="" data-turbo-replace="" title="Not available" data-view-component="true" class="Counter"></span>


    
</a></li>
      <li data-view-component="true" class="d-inline-flex">
  <a id="issues-tab" href="/ahijevyc/ESDSDemo/issues" data-tab-item="i1issues-tab" data-selected-links="repo_issues repo_labels repo_milestones /ahijevyc/ESDSDemo/issues" data-pjax="#repo-content-pjax-container" data-turbo-frame="repo-content-turbo-frame" data-hotkey="g i" data-analytics-event="{&quot;category&quot;:&quot;Underline navbar&quot;,&quot;action&quot;:&quot;Click tab&quot;,&quot;label&quot;:&quot;Issues&quot;,&quot;target&quot;:&quot;UNDERLINE_NAV.TAB&quot;}" data-view-component="true" class="UnderlineNav-item no-wrap js-responsive-underlinenav-item js-selected-navigation-item">
    
              <svg aria-hidden="true" height="16" viewBox="0 0 16 16" version="1.1" width="16" data-view-component="true" class="octicon octicon-issue-opened UnderlineNav-octicon d-none d-sm-inline">
    <path d="M8 9.5a1.5 1.5 0 1 0 0-3 1.5 1.5 0 0 0 0 3Z"></path><path d="M8 0a8 8 0 1 1 0 16A8 8 0 0 1 8 0ZM1.5 8a6.5 6.5 0 1 0 13 0 6.5 6.5 0 0 0-13 0Z"></path>
</svg>
        <span data-content="Issues">Issues</span>
          <span id="issues-repo-tab-count" data-pjax-replace="" data-turbo-replace="" title="0" hidden="hidden" data-view-component="true" class="Counter">0</span>


    
</a></li>
      <li data-view-component="true" class="d-inline-flex">
  <a id="pull-requests-tab" href="/ahijevyc/ESDSDemo/pulls" data-tab-item="i2pull-requests-tab" data-selected-links="repo_pulls checks /ahijevyc/ESDSDemo/pulls" data-pjax="#repo-content-pjax-container" data-turbo-frame="repo-content-turbo-frame" data-hotkey="g p" data-analytics-event="{&quot;category&quot;:&quot;Underline navbar&quot;,&quot;action&quot;:&quot;Click tab&quot;,&quot;label&quot;:&quot;Pull requests&quot;,&quot;target&quot;:&quot;UNDERLINE_NAV.TAB&quot;}" data-view-component="true" class="UnderlineNav-item no-wrap js-responsive-underlinenav-item js-selected-navigation-item">
    
              <svg aria-hidden="true" height="16" viewBox="0 0 16 16" version="1.1" width="16" data-view-component="true" class="octicon octicon-git-pull-request UnderlineNav-octicon d-none d-sm-inline">
    <path d="M1.5 3.25a2.25 2.25 0 1 1 3 2.122v5.256a2.251 2.251 0 1 1-1.5 0V5.372A2.25 2.25 0 0 1 1.5 3.25Zm5.677-.177L9.573.677A.25.25 0 0 1 10 .854V2.5h1A2.5 2.5 0 0 1 13.5 5v5.628a2.251 2.251 0 1 1-1.5 0V5a1 1 0 0 0-1-1h-1v1.646a.25.25 0 0 1-.427.177L7.177 3.427a.25.25 0 0 1 0-.354ZM3.75 2.5a.75.75 0 1 0 0 1.5.75.75 0 0 0 0-1.5Zm0 9.5a.75.75 0 1 0 0 1.5.75.75 0 0 0 0-1.5Zm8.25.75a.75.75 0 1 0 1.5 0 .75.75 0 0 0-1.5 0Z"></path>
</svg>
        <span data-content="Pull requests">Pull requests</span>
          <span id="pull-requests-repo-tab-count" data-pjax-replace="" data-turbo-replace="" title="0" hidden="hidden" data-view-component="true" class="Counter">0</span>


    
</a></li>
      <li data-view-component="true" class="d-inline-flex">
  <a id="actions-tab" href="/ahijevyc/ESDSDemo/actions" data-tab-item="i3actions-tab" data-selected-links="repo_actions /ahijevyc/ESDSDemo/actions" data-pjax="#repo-content-pjax-container" data-turbo-frame="repo-content-turbo-frame" data-hotkey="g a" data-analytics-event="{&quot;category&quot;:&quot;Underline navbar&quot;,&quot;action&quot;:&quot;Click tab&quot;,&quot;label&quot;:&quot;Actions&quot;,&quot;target&quot;:&quot;UNDERLINE_NAV.TAB&quot;}" data-view-component="true" class="UnderlineNav-item no-wrap js-responsive-underlinenav-item js-selected-navigation-item">
    
              <svg aria-hidden="true" height="16" viewBox="0 0 16 16" version="1.1" width="16" data-view-component="true" class="octicon octicon-play UnderlineNav-octicon d-none d-sm-inline">
    <path d="M8 0a8 8 0 1 1 0 16A8 8 0 0 1 8 0ZM1.5 8a6.5 6.5 0 1 0 13 0 6.5 6.5 0 0 0-13 0Zm4.879-2.773 4.264 2.559a.25.25 0 0 1 0 .428l-4.264 2.559A.25.25 0 0 1 6 10.559V5.442a.25.25 0 0 1 .379-.215Z"></path>
</svg>
        <span data-content="Actions">Actions</span>
          <span id="actions-repo-tab-count" data-pjax-replace="" data-turbo-replace="" title="Not available" data-view-component="true" class="Counter"></span>


    
</a></li>
      <li data-view-component="true" class="d-inline-flex">
  <a id="projects-tab" href="/ahijevyc/ESDSDemo/projects" data-tab-item="i4projects-tab" data-selected-links="repo_projects new_repo_project repo_project /ahijevyc/ESDSDemo/projects" data-pjax="#repo-content-pjax-container" data-turbo-frame="repo-content-turbo-frame" data-hotkey="g b" data-analytics-event="{&quot;category&quot;:&quot;Underline navbar&quot;,&quot;action&quot;:&quot;Click tab&quot;,&quot;label&quot;:&quot;Projects&quot;,&quot;target&quot;:&quot;UNDERLINE_NAV.TAB&quot;}" data-view-component="true" class="UnderlineNav-item no-wrap js-responsive-underlinenav-item js-selected-navigation-item">
    
              <svg aria-hidden="true" height="16" viewBox="0 0 16 16" version="1.1" width="16" data-view-component="true" class="octicon octicon-table UnderlineNav-octicon d-none d-sm-inline">
    <path d="M0 1.75C0 .784.784 0 1.75 0h12.5C15.216 0 16 .784 16 1.75v12.5A1.75 1.75 0 0 1 14.25 16H1.75A1.75 1.75 0 0 1 0 14.25ZM6.5 6.5v8h7.75a.25.25 0 0 0 .25-.25V6.5Zm8-1.5V1.75a.25.25 0 0 0-.25-.25H6.5V5Zm-13 1.5v7.75c0 .138.112.25.25.25H5v-8ZM5 5V1.5H1.75a.25.25 0 0 0-.25.25V5Z"></path>
</svg>
        <span data-content="Projects">Projects</span>
          <span id="projects-repo-tab-count" data-pjax-replace="" data-turbo-replace="" title="0" hidden="hidden" data-view-component="true" class="Counter">0</span>


    
</a></li>
      <li data-view-component="true" class="d-inline-flex">
  <a id="security-tab" href="/ahijevyc/ESDSDemo/security" data-tab-item="i5security-tab" data-selected-links="security overview alerts policy token_scanning code_scanning /ahijevyc/ESDSDemo/security" data-pjax="#repo-content-pjax-container" data-turbo-frame="repo-content-turbo-frame" data-hotkey="g s" data-analytics-event="{&quot;category&quot;:&quot;Underline navbar&quot;,&quot;action&quot;:&quot;Click tab&quot;,&quot;label&quot;:&quot;Security&quot;,&quot;target&quot;:&quot;UNDERLINE_NAV.TAB&quot;}" data-view-component="true" class="UnderlineNav-item no-wrap js-responsive-underlinenav-item js-selected-navigation-item">
    
              <svg aria-hidden="true" height="16" viewBox="0 0 16 16" version="1.1" width="16" data-view-component="true" class="octicon octicon-shield UnderlineNav-octicon d-none d-sm-inline">
    <path d="M7.467.133a1.748 1.748 0 0 1 1.066 0l5.25 1.68A1.75 1.75 0 0 1 15 3.48V7c0 1.566-.32 3.182-1.303 4.682-.983 1.498-2.585 2.813-5.032 3.855a1.697 1.697 0 0 1-1.33 0c-2.447-1.042-4.049-2.357-5.032-3.855C1.32 10.182 1 8.566 1 7V3.48a1.75 1.75 0 0 1 1.217-1.667Zm.61 1.429a.25.25 0 0 0-.153 0l-5.25 1.68a.25.25 0 0 0-.174.238V7c0 1.358.275 2.666 1.057 3.86.784 1.194 2.121 2.34 4.366 3.297a.196.196 0 0 0 .154 0c2.245-.956 3.582-2.104 4.366-3.298C13.225 9.666 13.5 8.36 13.5 7V3.48a.251.251 0 0 0-.174-.237l-5.25-1.68ZM8.75 4.75v3a.75.75 0 0 1-1.5 0v-3a.75.75 0 0 1 1.5 0ZM9 10.5a1 1 0 1 1-2 0 1 1 0 0 1 2 0Z"></path>
</svg>
        <span data-content="Security">Security</span>
          <include-fragment src="/ahijevyc/ESDSDemo/security/overall-count" accept="text/fragment+html" data-nonce="v2:853e7e1e-ceb9-8756-ca10-2831a9dfa394" data-view-component="true">
  
  <div data-show-on-forbidden-error hidden>
    <div class="Box">
  <div class="blankslate-container">
    <div data-view-component="true" class="blankslate blankslate-spacious color-bg-default rounded-2">
      

      <h3 data-view-component="true" class="blankslate-heading">        Uh oh!
</h3>
      <p data-view-component="true">        <p class="color-fg-muted my-2 mb-2 ws-normal">There was an error while loading. <a class="Link--inTextBlock" data-turbo="false" href="" aria-label="Please reload this page">Please reload this page</a>.</p>
</p>

</div>  </div>
</div>  </div>
</include-fragment>

    
</a></li>
      <li data-view-component="true" class="d-inline-flex">
  <a id="insights-tab" href="/ahijevyc/ESDSDemo/pulse" data-tab-item="i6insights-tab" data-selected-links="repo_graphs repo_contributors dependency_graph dependabot_updates pulse people community /ahijevyc/ESDSDemo/pulse" data-pjax="#repo-content-pjax-container" data-turbo-frame="repo-content-turbo-frame" data-analytics-event="{&quot;category&quot;:&quot;Underline navbar&quot;,&quot;action&quot;:&quot;Click tab&quot;,&quot;label&quot;:&quot;Insights&quot;,&quot;target&quot;:&quot;UNDERLINE_NAV.TAB&quot;}" data-view-component="true" class="UnderlineNav-item no-wrap js-responsive-underlinenav-item js-selected-navigation-item">
    
              <svg aria-hidden="true" height="16" viewBox="0 0 16 16" version="1.1" width="16" data-view-component="true" class="octicon octicon-graph UnderlineNav-octicon d-none d-sm-inline">
    <path d="M1.5 1.75V13.5h13.75a.75.75 0 0 1 0 1.5H.75a.75.75 0 0 1-.75-.75V1.75a.75.75 0 0 1 1.5 0Zm14.28 2.53-5.25 5.25a.75.75 0 0 1-1.06 0L7 7.06 4.28 9.78a.751.751 0 0 1-1.042-.018.751.751 0 0 1-.018-1.042l3.25-3.25a.75.75 0 0 1 1.06 0L10 7.94l4.72-4.72a.751.751 0 0 1 1.042.018.751.751 0 0 1 .018 1.042Z"></path>
</svg>
        <span data-content="Insights">Insights</span>
          <span id="insights-repo-tab-count" data-pjax-replace="" data-turbo-replace="" title="Not available" data-view-component="true" class="Counter"></span>


    
</a></li>
</ul>
    <div style="visibility:hidden;" data-view-component="true" class="UnderlineNav-actions js-responsive-underlinenav-overflow position-absolute pr-3 pr-md-4 pr-lg-5 right-0">      <action-menu data-select-variant="none" data-view-component="true">
  <focus-group direction="vertical" mnemonics retain>
    <button id="action-menu-1d52faeb-1d41-45b4-a447-ebdeb3196f20-button" popovertarget="action-menu-1d52faeb-1d41-45b4-a447-ebdeb3196f20-overlay" aria-controls="action-menu-1d52faeb-1d41-45b4-a447-ebdeb3196f20-list" aria-haspopup="true" aria-labelledby="tooltip-38f0ff9c-7537-4403-b966-481abef31937" type="button" data-view-component="true" class="Button Button--iconOnly Button--secondary Button--medium UnderlineNav-item">  <svg aria-hidden="true" height="16" viewBox="0 0 16 16" version="1.1" width="16" data-view-component="true" class="octicon octicon-kebab-horizontal Button-visual">
    <path d="M8 9a1.5 1.5 0 1 0 0-3 1.5 1.5 0 0 0 0 3ZM1.5 9a1.5 1.5 0 1 0 0-3 1.5 1.5 0 0 0 0 3Zm13 0a1.5 1.5 0 1 0 0-3 1.5 1.5 0 0 0 0 3Z"></path>
</svg>
</button><tool-tip id="tooltip-38f0ff9c-7537-4403-b966-481abef31937" for="action-menu-1d52faeb-1d41-45b4-a447-ebdeb3196f20-button" popover="manual" data-direction="s" data-type="label" data-view-component="true" class="sr-only position-absolute">Additional navigation options</tool-tip>


<anchored-position data-target="action-menu.overlay" id="action-menu-1d52faeb-1d41-45b4-a447-ebdeb3196f20-overlay" anchor="action-menu-1d52faeb-1d41-45b4-a447-ebdeb3196f20-button" align="start" side="outside-bottom" anchor-offset="normal" popover="auto" data-view-component="true">
  <div data-view-component="true" class="Overlay Overlay--size-auto">
    
      <div data-view-component="true" class="Overlay-body Overlay-body--paddingNone">          <action-list>
  <div data-view-component="true">
    <ul aria-labelledby="action-menu-1d52faeb-1d41-45b4-a447-ebdeb3196f20-button" id="action-menu-1d52faeb-1d41-45b4-a447-ebdeb3196f20-list" role="menu" data-view-component="true" class="ActionListWrap--inset ActionListWrap">
        <li hidden="hidden" data-menu-item="i0code-tab" data-targets="action-list.items" role="none" data-view-component="true" class="ActionListItem">
    
    
    <a tabindex="-1" id="item-afb158ca-4dc6-481c-ad61-ed1c27c98805" href="/ahijevyc/ESDSDemo" role="menuitem" data-view-component="true" class="ActionListContent ActionListContent--visual16">
        <span class="ActionListItem-visual ActionListItem-visual--leading">
          <svg aria-hidden="true" height="16" viewBox="0 0 16 16" version="1.1" width="16" data-view-component="true" class="octicon octicon-code">
    <path d="m11.28 3.22 4.25 4.25a.75.75 0 0 1 0 1.06l-4.25 4.25a.749.749 0 0 1-1.275-.326.749.749 0 0 1 .215-.734L13.94 8l-3.72-3.72a.749.749 0 0 1 .326-1.275.749.749 0 0 1 .734.215Zm-6.56 0a.751.751 0 0 1 1.042.018.751.751 0 0 1 .018 1.042L2.06 8l3.72 3.72a.749.749 0 0 1-.326 1.275.749.749 0 0 1-.734-.215L.47 8.53a.75.75 0 0 1 0-1.06Z"></path>
</svg>
        </span>
      
        <span data-view-component="true" class="ActionListItem-label">
          Code
</span>      
</a>
  
</li>
        <li hidden="hidden" data-menu-item="i1issues-tab" data-targets="action-list.items" role="none" data-view-component="true" class="ActionListItem">
    
    
    <a tabindex="-1" id="item-11489934-7e2d-4317-b07e-03035507b017" href="/ahijevyc/ESDSDemo/issues" role="menuitem" data-view-component="true" class="ActionListContent ActionListContent--visual16">
        <span class="ActionListItem-visual ActionListItem-visual--leading">
          <svg aria-hidden="true" height="16" viewBox="0 0 16 16" version="1.1" width="16" data-view-component="true" class="octicon octicon-issue-opened">
    <path d="M8 9.5a1.5 1.5 0 1 0 0-3 1.5 1.5 0 0 0 0 3Z"></path><path d="M8 0a8 8 0 1 1 0 16A8 8 0 0 1 8 0ZM1.5 8a6.5 6.5 0 1 0 13 0 6.5 6.5 0 0 0-13 0Z"></path>
</svg>
        </span>
      
        <span data-view-component="true" class="ActionListItem-label">
          Issues
</span>      
</a>
  
</li>
        <li hidden="hidden" data-menu-item="i2pull-requests-tab" data-targets="action-list.items" role="none" data-view-component="true" class="ActionListItem">
    
    
    <a tabindex="-1" id="item-e9e42b21-588d-41e7-8575-cc569a5e265a" href="/ahijevyc/ESDSDemo/pulls" role="menuitem" data-view-component="true" class="ActionListContent ActionListContent--visual16">
        <span class="ActionListItem-visual ActionListItem-visual--leading">
          <svg aria-hidden="true" height="16" viewBox="0 0 16 16" version="1.1" width="16" data-view-component="true" class="octicon octicon-git-pull-request">
    <path d="M1.5 3.25a2.25 2.25 0 1 1 3 2.122v5.256a2.251 2.251 0 1 1-1.5 0V5.372A2.25 2.25 0 0 1 1.5 3.25Zm5.677-.177L9.573.677A.25.25 0 0 1 10 .854V2.5h1A2.5 2.5 0 0 1 13.5 5v5.628a2.251 2.251 0 1 1-1.5 0V5a1 1 0 0 0-1-1h-1v1.646a.25.25 0 0 1-.427.177L7.177 3.427a.25.25 0 0 1 0-.354ZM3.75 2.5a.75.75 0 1 0 0 1.5.75.75 0 0 0 0-1.5Zm0 9.5a.75.75 0 1 0 0 1.5.75.75 0 0 0 0-1.5Zm8.25.75a.75.75 0 1 0 1.5 0 .75.75 0 0 0-1.5 0Z"></path>
</svg>
        </span>
      
        <span data-view-component="true" class="ActionListItem-label">
          Pull requests
</span>      
</a>
  
</li>
        <li hidden="hidden" data-menu-item="i3actions-tab" data-targets="action-list.items" role="none" data-view-component="true" class="ActionListItem">
    
    
    <a tabindex="-1" id="item-31aba23d-e76b-47f8-bf8c-787ab95aebfa" href="/ahijevyc/ESDSDemo/actions" role="menuitem" data-view-component="true" class="ActionListContent ActionListContent--visual16">
        <span class="ActionListItem-visual ActionListItem-visual--leading">
          <svg aria-hidden="true" height="16" viewBox="0 0 16 16" version="1.1" width="16" data-view-component="true" class="octicon octicon-play">
    <path d="M8 0a8 8 0 1 1 0 16A8 8 0 0 1 8 0ZM1.5 8a6.5 6.5 0 1 0 13 0 6.5 6.5 0 0 0-13 0Zm4.879-2.773 4.264 2.559a.25.25 0 0 1 0 .428l-4.264 2.559A.25.25 0 0 1 6 10.559V5.442a.25.25 0 0 1 .379-.215Z"></path>
</svg>
        </span>
      
        <span data-view-component="true" class="ActionListItem-label">
          Actions
</span>      
</a>
  
</li>
        <li hidden="hidden" data-menu-item="i4projects-tab" data-targets="action-list.items" role="none" data-view-component="true" class="ActionListItem">
    
    
    <a tabindex="-1" id="item-d4c617b4-7a18-4d4e-acef-1eacede57570" href="/ahijevyc/ESDSDemo/projects" role="menuitem" data-view-component="true" class="ActionListContent ActionListContent--visual16">
        <span class="ActionListItem-visual ActionListItem-visual--leading">
          <svg aria-hidden="true" height="16" viewBox="0 0 16 16" version="1.1" width="16" data-view-component="true" class="octicon octicon-table">
    <path d="M0 1.75C0 .784.784 0 1.75 0h12.5C15.216 0 16 .784 16 1.75v12.5A1.75 1.75 0 0 1 14.25 16H1.75A1.75 1.75 0 0 1 0 14.25ZM6.5 6.5v8h7.75a.25.25 0 0 0 .25-.25V6.5Zm8-1.5V1.75a.25.25 0 0 0-.25-.25H6.5V5Zm-13 1.5v7.75c0 .138.112.25.25.25H5v-8ZM5 5V1.5H1.75a.25.25 0 0 0-.25.25V5Z"></path>
</svg>
        </span>
      
        <span data-view-component="true" class="ActionListItem-label">
          Projects
</span>      
</a>
  
</li>
        <li hidden="hidden" data-menu-item="i5security-tab" data-targets="action-list.items" role="none" data-view-component="true" class="ActionListItem">
    
    
    <a tabindex="-1" id="item-187ac6b3-c146-4e02-a0e9-78b1c5380515" href="/ahijevyc/ESDSDemo/security" role="menuitem" data-view-component="true" class="ActionListContent ActionListContent--visual16">
        <span class="ActionListItem-visual ActionListItem-visual--leading">
          <svg aria-hidden="true" height="16" viewBox="0 0 16 16" version="1.1" width="16" data-view-component="true" class="octicon octicon-shield">
    <path d="M7.467.133a1.748 1.748 0 0 1 1.066 0l5.25 1.68A1.75 1.75 0 0 1 15 3.48V7c0 1.566-.32 3.182-1.303 4.682-.983 1.498-2.585 2.813-5.032 3.855a1.697 1.697 0 0 1-1.33 0c-2.447-1.042-4.049-2.357-5.032-3.855C1.32 10.182 1 8.566 1 7V3.48a1.75 1.75 0 0 1 1.217-1.667Zm.61 1.429a.25.25 0 0 0-.153 0l-5.25 1.68a.25.25 0 0 0-.174.238V7c0 1.358.275 2.666 1.057 3.86.784 1.194 2.121 2.34 4.366 3.297a.196.196 0 0 0 .154 0c2.245-.956 3.582-2.104 4.366-3.298C13.225 9.666 13.5 8.36 13.5 7V3.48a.251.251 0 0 0-.174-.237l-5.25-1.68ZM8.75 4.75v3a.75.75 0 0 1-1.5 0v-3a.75.75 0 0 1 1.5 0ZM9 10.5a1 1 0 1 1-2 0 1 1 0 0 1 2 0Z"></path>
</svg>
        </span>
      
        <span data-view-component="true" class="ActionListItem-label">
          Security
</span>      
</a>
  
</li>
        <li hidden="hidden" data-menu-item="i6insights-tab" data-targets="action-list.items" role="none" data-view-component="true" class="ActionListItem">
    
    
    <a tabindex="-1" id="item-c07b1e3e-9d19-4d52-8bfd-ce4451d490fa" href="/ahijevyc/ESDSDemo/pulse" role="menuitem" data-view-component="true" class="ActionListContent ActionListContent--visual16">
        <span class="ActionListItem-visual ActionListItem-visual--leading">
          <svg aria-hidden="true" height="16" viewBox="0 0 16 16" version="1.1" width="16" data-view-component="true" class="octicon octicon-graph">
    <path d="M1.5 1.75V13.5h13.75a.75.75 0 0 1 0 1.5H.75a.75.75 0 0 1-.75-.75V1.75a.75.75 0 0 1 1.5 0Zm14.28 2.53-5.25 5.25a.75.75 0 0 1-1.06 0L7 7.06 4.28 9.78a.751.751 0 0 1-1.042-.018.751.751 0 0 1-.018-1.042l3.25-3.25a.75.75 0 0 1 1.06 0L10 7.94l4.72-4.72a.751.751 0 0 1 1.042.018.751.751 0 0 1 .018 1.042Z"></path>
</svg>
        </span>
      
        <span data-view-component="true" class="ActionListItem-label">
          Insights
</span>      
</a>
  
</li>
</ul>    
</div></action-list>


</div>
      
</div></anchored-position>  </focus-group>
</action-menu></div>
</nav>

  </div>

  



<turbo-frame id="repo-content-turbo-frame" target="_top" data-turbo-action="advance" class="">
    <div id="repo-content-pjax-container" class="repository-content " >
    



    
      
    








<react-app
  app-name="react-code-view"
  initial-path="/ahijevyc/ESDSDemo/blob/main/neighborhood_filter.ipynb"
    style="display: block; min-height: calc(100vh - 64px);"
  data-attempted-ssr="false"
  data-ssr="false"
  data-lazy="false"
  data-alternate="false"
  data-data-router-enabled="false"
  data-react-profiling="false"
>
  
  <script type="application/json" data-target="react-app.embeddedData">{"payload":{"allShortcutsEnabled":false,"fileTree":{"":{"items":[{"name":"ESDSDemo-2.ipynb","path":"ESDSDemo-2.ipynb","contentType":"file"},{"name":"ESDSDemo.ipynb","path":"ESDSDemo.ipynb","contentType":"file"},{"name":"G211.py","path":"G211.py","contentType":"file"},{"name":"LICENSE","path":"LICENSE","contentType":"file"},{"name":"README.md","path":"README.md","contentType":"file"},{"name":"environment.yml","path":"environment.yml","contentType":"file"},{"name":"neighborhood_filter.ipynb","path":"neighborhood_filter.ipynb","contentType":"file"},{"name":"upscaleMPAS.ipynb","path":"upscaleMPAS.ipynb","contentType":"file"},{"name":"util.py","path":"util.py","contentType":"file"}],"totalCount":9}},"fileTreeProcessingTime":3.2957680000000003,"foldersToFetch":[],"incompleteFileTree":false,"repo":{"id":744202857,"defaultBranch":"main","name":"ESDSDemo","ownerLogin":"ahijevyc","currentUserCanPush":false,"isFork":false,"isEmpty":false,"createdAt":"2024-01-16T20:26:54.000Z","ownerAvatar":"https://avatars.githubusercontent.com/u/17888360?v=4","public":true,"private":false,"isOrgOwned":false},"codeLineWrapEnabled":false,"symbolsExpanded":false,"treeExpanded":true,"refInfo":{"name":"main","listCacheKey":"v0:1705436815.698081","canEdit":false,"refType":"branch","currentOid":"0dcafa98fb02b1cc7db5b313cd06498428e19127"},"path":"neighborhood_filter.ipynb","currentUser":null,"blob":{"rawLines":["{"," \"cells\": [","  {","   \"cell_type\": \"code\",","   \"execution_count\": 1,","   \"id\": \"bba6ecc1-2f4e-402b-8dc9-5edea9a7a40b\",","   \"metadata\": {},","   \"outputs\": [],","   \"source\": [","    \"import os\\n\",","    \"from functools import partial\\n\",","    \"\\n\",","    \"import numpy as np\\n\",","    \"import pandas as pd\\n\",","    \"import uxarray\\n\",","    \"import xarray\\n\",","    \"\\n\",","    \"\\n\",","    \"def xtime(ds: xarray.Dataset):\\n\",","    \"    \\\"\\\"\\\"convert xtime variable to datetime and assign to coordinate\\\"\\\"\\\"\\n\",","    \"    Time = pd.to_datetime(\\n\",","    \"        ds[\\\"xtime\\\"].load().item().decode(\\\"utf-8\\\").strip(),\\n\",","    \"        format=\\\"%Y-%m-%d_%H:%M:%S\\\",\\n\",","    \"    )\\n\",","    \"    ds = ds.assign(Time=[Time])\\n\",","    \"    ds = ds.drop_vars(\\\"xtime\\\")\\n\",","    \"    return ds\"","   ]","  },","  {","   \"cell_type\": \"code\",","   \"execution_count\": 2,","   \"id\": \"2af8beb7-5b3c-49ce-8bc4-c4c192adf5f4\",","   \"metadata\": {},","   \"outputs\": [","    {","     \"data\": {","      \"text/html\": [","       \"\u003cdiv\u003e\u003csvg style=\\\"position: absolute; width: 0; height: 0; overflow: hidden\\\"\u003e\\n\",","       \"\u003cdefs\u003e\\n\",","       \"\u003csymbol id=\\\"icon-database\\\" viewBox=\\\"0 0 32 32\\\"\u003e\\n\",","       \"\u003cpath d=\\\"M16 0c-8.837 0-16 2.239-16 5v4c0 2.761 7.163 5 16 5s16-2.239 16-5v-4c0-2.761-7.163-5-16-5z\\\"\u003e\u003c/path\u003e\\n\",","       \"\u003cpath d=\\\"M16 17c-8.837 0-16-2.239-16-5v6c0 2.761 7.163 5 16 5s16-2.239 16-5v-6c0 2.761-7.163 5-16 5z\\\"\u003e\u003c/path\u003e\\n\",","       \"\u003cpath d=\\\"M16 26c-8.837 0-16-2.239-16-5v6c0 2.761 7.163 5 16 5s16-2.239 16-5v-6c0 2.761-7.163 5-16 5z\\\"\u003e\u003c/path\u003e\\n\",","       \"\u003c/symbol\u003e\\n\",","       \"\u003csymbol id=\\\"icon-file-text2\\\" viewBox=\\\"0 0 32 32\\\"\u003e\\n\",","       \"\u003cpath d=\\\"M28.681 7.159c-0.694-0.947-1.662-2.053-2.724-3.116s-2.169-2.030-3.116-2.724c-1.612-1.182-2.393-1.319-2.841-1.319h-15.5c-1.378 0-2.5 1.121-2.5 2.5v27c0 1.378 1.122 2.5 2.5 2.5h23c1.378 0 2.5-1.122 2.5-2.5v-19.5c0-0.448-0.137-1.23-1.319-2.841zM24.543 5.457c0.959 0.959 1.712 1.825 2.268 2.543h-4.811v-4.811c0.718 0.556 1.584 1.309 2.543 2.268zM28 29.5c0 0.271-0.229 0.5-0.5 0.5h-23c-0.271 0-0.5-0.229-0.5-0.5v-27c0-0.271 0.229-0.5 0.5-0.5 0 0 15.499-0 15.5 0v7c0 0.552 0.448 1 1 1h7v19.5z\\\"\u003e\u003c/path\u003e\\n\",","       \"\u003cpath d=\\\"M23 26h-14c-0.552 0-1-0.448-1-1s0.448-1 1-1h14c0.552 0 1 0.448 1 1s-0.448 1-1 1z\\\"\u003e\u003c/path\u003e\\n\",","       \"\u003cpath d=\\\"M23 22h-14c-0.552 0-1-0.448-1-1s0.448-1 1-1h14c0.552 0 1 0.448 1 1s-0.448 1-1 1z\\\"\u003e\u003c/path\u003e\\n\",","       \"\u003cpath d=\\\"M23 18h-14c-0.552 0-1-0.448-1-1s0.448-1 1-1h14c0.552 0 1 0.448 1 1s-0.448 1-1 1z\\\"\u003e\u003c/path\u003e\\n\",","       \"\u003c/symbol\u003e\\n\",","       \"\u003c/defs\u003e\\n\",","       \"\u003c/svg\u003e\\n\",","       \"\u003cstyle\u003e/* CSS stylesheet for displaying xarray objects in jupyterlab.\\n\",","       \" *\\n\",","       \" */\\n\",","       \"\\n\",","       \":root {\\n\",","       \"  --xr-font-color0: var(--jp-content-font-color0, rgba(0, 0, 0, 1));\\n\",","       \"  --xr-font-color2: var(--jp-content-font-color2, rgba(0, 0, 0, 0.54));\\n\",","       \"  --xr-font-color3: var(--jp-content-font-color3, rgba(0, 0, 0, 0.38));\\n\",","       \"  --xr-border-color: var(--jp-border-color2, #e0e0e0);\\n\",","       \"  --xr-disabled-color: var(--jp-layout-color3, #bdbdbd);\\n\",","       \"  --xr-background-color: var(--jp-layout-color0, white);\\n\",","       \"  --xr-background-color-row-even: var(--jp-layout-color1, white);\\n\",","       \"  --xr-background-color-row-odd: var(--jp-layout-color2, #eeeeee);\\n\",","       \"}\\n\",","       \"\\n\",","       \"html[theme=dark],\\n\",","       \"body[data-theme=dark],\\n\",","       \"body.vscode-dark {\\n\",","       \"  --xr-font-color0: rgba(255, 255, 255, 1);\\n\",","       \"  --xr-font-color2: rgba(255, 255, 255, 0.54);\\n\",","       \"  --xr-font-color3: rgba(255, 255, 255, 0.38);\\n\",","       \"  --xr-border-color: #1F1F1F;\\n\",","       \"  --xr-disabled-color: #515151;\\n\",","       \"  --xr-background-color: #111111;\\n\",","       \"  --xr-background-color-row-even: #111111;\\n\",","       \"  --xr-background-color-row-odd: #313131;\\n\",","       \"}\\n\",","       \"\\n\",","       \".xr-wrap {\\n\",","       \"  display: block !important;\\n\",","       \"  min-width: 300px;\\n\",","       \"  max-width: 700px;\\n\",","       \"}\\n\",","       \"\\n\",","       \".xr-text-repr-fallback {\\n\",","       \"  /* fallback to plain text repr when CSS is not injected (untrusted notebook) */\\n\",","       \"  display: none;\\n\",","       \"}\\n\",","       \"\\n\",","       \".xr-header {\\n\",","       \"  padding-top: 6px;\\n\",","       \"  padding-bottom: 6px;\\n\",","       \"  margin-bottom: 4px;\\n\",","       \"  border-bottom: solid 1px var(--xr-border-color);\\n\",","       \"}\\n\",","       \"\\n\",","       \".xr-header \u003e div,\\n\",","       \".xr-header \u003e ul {\\n\",","       \"  display: inline;\\n\",","       \"  margin-top: 0;\\n\",","       \"  margin-bottom: 0;\\n\",","       \"}\\n\",","       \"\\n\",","       \".xr-obj-type,\\n\",","       \".xr-array-name {\\n\",","       \"  margin-left: 2px;\\n\",","       \"  margin-right: 10px;\\n\",","       \"}\\n\",","       \"\\n\",","       \".xr-obj-type {\\n\",","       \"  color: var(--xr-font-color2);\\n\",","       \"}\\n\",","       \"\\n\",","       \".xr-sections {\\n\",","       \"  padding-left: 0 !important;\\n\",","       \"  display: grid;\\n\",","       \"  grid-template-columns: 150px auto auto 1fr 20px 20px;\\n\",","       \"}\\n\",","       \"\\n\",","       \".xr-section-item {\\n\",","       \"  display: contents;\\n\",","       \"}\\n\",","       \"\\n\",","       \".xr-section-item input {\\n\",","       \"  display: none;\\n\",","       \"}\\n\",","       \"\\n\",","       \".xr-section-item input + label {\\n\",","       \"  color: var(--xr-disabled-color);\\n\",","       \"}\\n\",","       \"\\n\",","       \".xr-section-item input:enabled + label {\\n\",","       \"  cursor: pointer;\\n\",","       \"  color: var(--xr-font-color2);\\n\",","       \"}\\n\",","       \"\\n\",","       \".xr-section-item input:enabled + label:hover {\\n\",","       \"  color: var(--xr-font-color0);\\n\",","       \"}\\n\",","       \"\\n\",","       \".xr-section-summary {\\n\",","       \"  grid-column: 1;\\n\",","       \"  color: var(--xr-font-color2);\\n\",","       \"  font-weight: 500;\\n\",","       \"}\\n\",","       \"\\n\",","       \".xr-section-summary \u003e span {\\n\",","       \"  display: inline-block;\\n\",","       \"  padding-left: 0.5em;\\n\",","       \"}\\n\",","       \"\\n\",","       \".xr-section-summary-in:disabled + label {\\n\",","       \"  color: var(--xr-font-color2);\\n\",","       \"}\\n\",","       \"\\n\",","       \".xr-section-summary-in + label:before {\\n\",","       \"  display: inline-block;\\n\",","       \"  content: '►';\\n\",","       \"  font-size: 11px;\\n\",","       \"  width: 15px;\\n\",","       \"  text-align: center;\\n\",","       \"}\\n\",","       \"\\n\",","       \".xr-section-summary-in:disabled + label:before {\\n\",","       \"  color: var(--xr-disabled-color);\\n\",","       \"}\\n\",","       \"\\n\",","       \".xr-section-summary-in:checked + label:before {\\n\",","       \"  content: '▼';\\n\",","       \"}\\n\",","       \"\\n\",","       \".xr-section-summary-in:checked + label \u003e span {\\n\",","       \"  display: none;\\n\",","       \"}\\n\",","       \"\\n\",","       \".xr-section-summary,\\n\",","       \".xr-section-inline-details {\\n\",","       \"  padding-top: 4px;\\n\",","       \"  padding-bottom: 4px;\\n\",","       \"}\\n\",","       \"\\n\",","       \".xr-section-inline-details {\\n\",","       \"  grid-column: 2 / -1;\\n\",","       \"}\\n\",","       \"\\n\",","       \".xr-section-details {\\n\",","       \"  display: none;\\n\",","       \"  grid-column: 1 / -1;\\n\",","       \"  margin-bottom: 5px;\\n\",","       \"}\\n\",","       \"\\n\",","       \".xr-section-summary-in:checked ~ .xr-section-details {\\n\",","       \"  display: contents;\\n\",","       \"}\\n\",","       \"\\n\",","       \".xr-array-wrap {\\n\",","       \"  grid-column: 1 / -1;\\n\",","       \"  display: grid;\\n\",","       \"  grid-template-columns: 20px auto;\\n\",","       \"}\\n\",","       \"\\n\",","       \".xr-array-wrap \u003e label {\\n\",","       \"  grid-column: 1;\\n\",","       \"  vertical-align: top;\\n\",","       \"}\\n\",","       \"\\n\",","       \".xr-preview {\\n\",","       \"  color: var(--xr-font-color3);\\n\",","       \"}\\n\",","       \"\\n\",","       \".xr-array-preview,\\n\",","       \".xr-array-data {\\n\",","       \"  padding: 0 5px !important;\\n\",","       \"  grid-column: 2;\\n\",","       \"}\\n\",","       \"\\n\",","       \".xr-array-data,\\n\",","       \".xr-array-in:checked ~ .xr-array-preview {\\n\",","       \"  display: none;\\n\",","       \"}\\n\",","       \"\\n\",","       \".xr-array-in:checked ~ .xr-array-data,\\n\",","       \".xr-array-preview {\\n\",","       \"  display: inline-block;\\n\",","       \"}\\n\",","       \"\\n\",","       \".xr-dim-list {\\n\",","       \"  display: inline-block !important;\\n\",","       \"  list-style: none;\\n\",","       \"  padding: 0 !important;\\n\",","       \"  margin: 0;\\n\",","       \"}\\n\",","       \"\\n\",","       \".xr-dim-list li {\\n\",","       \"  display: inline-block;\\n\",","       \"  padding: 0;\\n\",","       \"  margin: 0;\\n\",","       \"}\\n\",","       \"\\n\",","       \".xr-dim-list:before {\\n\",","       \"  content: '(';\\n\",","       \"}\\n\",","       \"\\n\",","       \".xr-dim-list:after {\\n\",","       \"  content: ')';\\n\",","       \"}\\n\",","       \"\\n\",","       \".xr-dim-list li:not(:last-child):after {\\n\",","       \"  content: ',';\\n\",","       \"  padding-right: 5px;\\n\",","       \"}\\n\",","       \"\\n\",","       \".xr-has-index {\\n\",","       \"  font-weight: bold;\\n\",","       \"}\\n\",","       \"\\n\",","       \".xr-var-list,\\n\",","       \".xr-var-item {\\n\",","       \"  display: contents;\\n\",","       \"}\\n\",","       \"\\n\",","       \".xr-var-item \u003e div,\\n\",","       \".xr-var-item label,\\n\",","       \".xr-var-item \u003e .xr-var-name span {\\n\",","       \"  background-color: var(--xr-background-color-row-even);\\n\",","       \"  margin-bottom: 0;\\n\",","       \"}\\n\",","       \"\\n\",","       \".xr-var-item \u003e .xr-var-name:hover span {\\n\",","       \"  padding-right: 5px;\\n\",","       \"}\\n\",","       \"\\n\",","       \".xr-var-list \u003e li:nth-child(odd) \u003e div,\\n\",","       \".xr-var-list \u003e li:nth-child(odd) \u003e label,\\n\",","       \".xr-var-list \u003e li:nth-child(odd) \u003e .xr-var-name span {\\n\",","       \"  background-color: var(--xr-background-color-row-odd);\\n\",","       \"}\\n\",","       \"\\n\",","       \".xr-var-name {\\n\",","       \"  grid-column: 1;\\n\",","       \"}\\n\",","       \"\\n\",","       \".xr-var-dims {\\n\",","       \"  grid-column: 2;\\n\",","       \"}\\n\",","       \"\\n\",","       \".xr-var-dtype {\\n\",","       \"  grid-column: 3;\\n\",","       \"  text-align: right;\\n\",","       \"  color: var(--xr-font-color2);\\n\",","       \"}\\n\",","       \"\\n\",","       \".xr-var-preview {\\n\",","       \"  grid-column: 4;\\n\",","       \"}\\n\",","       \"\\n\",","       \".xr-index-preview {\\n\",","       \"  grid-column: 2 / 5;\\n\",","       \"  color: var(--xr-font-color2);\\n\",","       \"}\\n\",","       \"\\n\",","       \".xr-var-name,\\n\",","       \".xr-var-dims,\\n\",","       \".xr-var-dtype,\\n\",","       \".xr-preview,\\n\",","       \".xr-attrs dt {\\n\",","       \"  white-space: nowrap;\\n\",","       \"  overflow: hidden;\\n\",","       \"  text-overflow: ellipsis;\\n\",","       \"  padding-right: 10px;\\n\",","       \"}\\n\",","       \"\\n\",","       \".xr-var-name:hover,\\n\",","       \".xr-var-dims:hover,\\n\",","       \".xr-var-dtype:hover,\\n\",","       \".xr-attrs dt:hover {\\n\",","       \"  overflow: visible;\\n\",","       \"  width: auto;\\n\",","       \"  z-index: 1;\\n\",","       \"}\\n\",","       \"\\n\",","       \".xr-var-attrs,\\n\",","       \".xr-var-data,\\n\",","       \".xr-index-data {\\n\",","       \"  display: none;\\n\",","       \"  background-color: var(--xr-background-color) !important;\\n\",","       \"  padding-bottom: 5px !important;\\n\",","       \"}\\n\",","       \"\\n\",","       \".xr-var-attrs-in:checked ~ .xr-var-attrs,\\n\",","       \".xr-var-data-in:checked ~ .xr-var-data,\\n\",","       \".xr-index-data-in:checked ~ .xr-index-data {\\n\",","       \"  display: block;\\n\",","       \"}\\n\",","       \"\\n\",","       \".xr-var-data \u003e table {\\n\",","       \"  float: right;\\n\",","       \"}\\n\",","       \"\\n\",","       \".xr-var-name span,\\n\",","       \".xr-var-data,\\n\",","       \".xr-index-name div,\\n\",","       \".xr-index-data,\\n\",","       \".xr-attrs {\\n\",","       \"  padding-left: 25px !important;\\n\",","       \"}\\n\",","       \"\\n\",","       \".xr-attrs,\\n\",","       \".xr-var-attrs,\\n\",","       \".xr-var-data,\\n\",","       \".xr-index-data {\\n\",","       \"  grid-column: 1 / -1;\\n\",","       \"}\\n\",","       \"\\n\",","       \"dl.xr-attrs {\\n\",","       \"  padding: 0;\\n\",","       \"  margin: 0;\\n\",","       \"  display: grid;\\n\",","       \"  grid-template-columns: 125px auto;\\n\",","       \"}\\n\",","       \"\\n\",","       \".xr-attrs dt,\\n\",","       \".xr-attrs dd {\\n\",","       \"  padding: 0;\\n\",","       \"  margin: 0;\\n\",","       \"  float: left;\\n\",","       \"  padding-right: 10px;\\n\",","       \"  width: auto;\\n\",","       \"}\\n\",","       \"\\n\",","       \".xr-attrs dt {\\n\",","       \"  font-weight: normal;\\n\",","       \"  grid-column: 1;\\n\",","       \"}\\n\",","       \"\\n\",","       \".xr-attrs dt:hover span {\\n\",","       \"  display: inline-block;\\n\",","       \"  background: var(--xr-background-color);\\n\",","       \"  padding-right: 10px;\\n\",","       \"}\\n\",","       \"\\n\",","       \".xr-attrs dd {\\n\",","       \"  grid-column: 2;\\n\",","       \"  white-space: pre-wrap;\\n\",","       \"  word-break: break-all;\\n\",","       \"}\\n\",","       \"\\n\",","       \".xr-icon-database,\\n\",","       \".xr-icon-file-text2,\\n\",","       \".xr-no-icon {\\n\",","       \"  display: inline-block;\\n\",","       \"  vertical-align: middle;\\n\",","       \"  width: 1em;\\n\",","       \"  height: 1.5em !important;\\n\",","       \"  stroke-width: 0;\\n\",","       \"  stroke: currentColor;\\n\",","       \"  fill: currentColor;\\n\",","       \"}\\n\",","       \"\u003c/style\u003e\u003cpre class='xr-text-repr-fallback'\u003e\u0026lt;xarray.UxDataArray \u0026#x27;bottomDepth\u0026#x27; (n_face: 970)\u0026gt; Size: 8kB\\n\",","       \"dask.array\u0026lt;getitem, shape=(970,), dtype=float64, chunksize=(970,), chunktype=numpy.ndarray\u0026gt;\\n\",","       \"Dimensions without coordinates: n_face\u003c/pre\u003e\u003cdiv class='xr-wrap' style='display:none'\u003e\u003cdiv\u003e\u003csvg style=\\\"position: absolute; width: 0; height: 0; overflow: hidden\\\"\u003e\\n\",","       \"\u003cdefs\u003e\\n\",","       \"\u003csymbol id=\\\"icon-database\\\" viewBox=\\\"0 0 32 32\\\"\u003e\\n\",","       \"\u003cpath d=\\\"M16 0c-8.837 0-16 2.239-16 5v4c0 2.761 7.163 5 16 5s16-2.239 16-5v-4c0-2.761-7.163-5-16-5z\\\"\u003e\u003c/path\u003e\\n\",","       \"\u003cpath d=\\\"M16 17c-8.837 0-16-2.239-16-5v6c0 2.761 7.163 5 16 5s16-2.239 16-5v-6c0 2.761-7.163 5-16 5z\\\"\u003e\u003c/path\u003e\\n\",","       \"\u003cpath d=\\\"M16 26c-8.837 0-16-2.239-16-5v6c0 2.761 7.163 5 16 5s16-2.239 16-5v-6c0 2.761-7.163 5-16 5z\\\"\u003e\u003c/path\u003e\\n\",","       \"\u003c/symbol\u003e\\n\",","       \"\u003csymbol id=\\\"icon-file-text2\\\" viewBox=\\\"0 0 32 32\\\"\u003e\\n\",","       \"\u003cpath d=\\\"M28.681 7.159c-0.694-0.947-1.662-2.053-2.724-3.116s-2.169-2.030-3.116-2.724c-1.612-1.182-2.393-1.319-2.841-1.319h-15.5c-1.378 0-2.5 1.121-2.5 2.5v27c0 1.378 1.122 2.5 2.5 2.5h23c1.378 0 2.5-1.122 2.5-2.5v-19.5c0-0.448-0.137-1.23-1.319-2.841zM24.543 5.457c0.959 0.959 1.712 1.825 2.268 2.543h-4.811v-4.811c0.718 0.556 1.584 1.309 2.543 2.268zM28 29.5c0 0.271-0.229 0.5-0.5 0.5h-23c-0.271 0-0.5-0.229-0.5-0.5v-27c0-0.271 0.229-0.5 0.5-0.5 0 0 15.499-0 15.5 0v7c0 0.552 0.448 1 1 1h7v19.5z\\\"\u003e\u003c/path\u003e\\n\",","       \"\u003cpath d=\\\"M23 26h-14c-0.552 0-1-0.448-1-1s0.448-1 1-1h14c0.552 0 1 0.448 1 1s-0.448 1-1 1z\\\"\u003e\u003c/path\u003e\\n\",","       \"\u003cpath d=\\\"M23 22h-14c-0.552 0-1-0.448-1-1s0.448-1 1-1h14c0.552 0 1 0.448 1 1s-0.448 1-1 1z\\\"\u003e\u003c/path\u003e\\n\",","       \"\u003cpath d=\\\"M23 18h-14c-0.552 0-1-0.448-1-1s0.448-1 1-1h14c0.552 0 1 0.448 1 1s-0.448 1-1 1z\\\"\u003e\u003c/path\u003e\\n\",","       \"\u003c/symbol\u003e\\n\",","       \"\u003c/defs\u003e\\n\",","       \"\u003c/svg\u003e\\n\",","       \"\u003cstyle\u003e/* CSS stylesheet for displaying xarray objects in jupyterlab.\\n\",","       \" *\\n\",","       \" */\\n\",","       \"\\n\",","       \":root {\\n\",","       \"  --xr-font-color0: var(--jp-content-font-color0, rgba(0, 0, 0, 1));\\n\",","       \"  --xr-font-color2: var(--jp-content-font-color2, rgba(0, 0, 0, 0.54));\\n\",","       \"  --xr-font-color3: var(--jp-content-font-color3, rgba(0, 0, 0, 0.38));\\n\",","       \"  --xr-border-color: var(--jp-border-color2, #e0e0e0);\\n\",","       \"  --xr-disabled-color: var(--jp-layout-color3, #bdbdbd);\\n\",","       \"  --xr-background-color: var(--jp-layout-color0, white);\\n\",","       \"  --xr-background-color-row-even: var(--jp-layout-color1, white);\\n\",","       \"  --xr-background-color-row-odd: var(--jp-layout-color2, #eeeeee);\\n\",","       \"}\\n\",","       \"\\n\",","       \"html[theme=dark],\\n\",","       \"body[data-theme=dark],\\n\",","       \"body.vscode-dark {\\n\",","       \"  --xr-font-color0: rgba(255, 255, 255, 1);\\n\",","       \"  --xr-font-color2: rgba(255, 255, 255, 0.54);\\n\",","       \"  --xr-font-color3: rgba(255, 255, 255, 0.38);\\n\",","       \"  --xr-border-color: #1F1F1F;\\n\",","       \"  --xr-disabled-color: #515151;\\n\",","       \"  --xr-background-color: #111111;\\n\",","       \"  --xr-background-color-row-even: #111111;\\n\",","       \"  --xr-background-color-row-odd: #313131;\\n\",","       \"}\\n\",","       \"\\n\",","       \".xr-wrap {\\n\",","       \"  display: block !important;\\n\",","       \"  min-width: 300px;\\n\",","       \"  max-width: 700px;\\n\",","       \"}\\n\",","       \"\\n\",","       \".xr-text-repr-fallback {\\n\",","       \"  /* fallback to plain text repr when CSS is not injected (untrusted notebook) */\\n\",","       \"  display: none;\\n\",","       \"}\\n\",","       \"\\n\",","       \".xr-header {\\n\",","       \"  padding-top: 6px;\\n\",","       \"  padding-bottom: 6px;\\n\",","       \"  margin-bottom: 4px;\\n\",","       \"  border-bottom: solid 1px var(--xr-border-color);\\n\",","       \"}\\n\",","       \"\\n\",","       \".xr-header \u003e div,\\n\",","       \".xr-header \u003e ul {\\n\",","       \"  display: inline;\\n\",","       \"  margin-top: 0;\\n\",","       \"  margin-bottom: 0;\\n\",","       \"}\\n\",","       \"\\n\",","       \".xr-obj-type,\\n\",","       \".xr-array-name {\\n\",","       \"  margin-left: 2px;\\n\",","       \"  margin-right: 10px;\\n\",","       \"}\\n\",","       \"\\n\",","       \".xr-obj-type {\\n\",","       \"  color: var(--xr-font-color2);\\n\",","       \"}\\n\",","       \"\\n\",","       \".xr-sections {\\n\",","       \"  padding-left: 0 !important;\\n\",","       \"  display: grid;\\n\",","       \"  grid-template-columns: 150px auto auto 1fr 20px 20px;\\n\",","       \"}\\n\",","       \"\\n\",","       \".xr-section-item {\\n\",","       \"  display: contents;\\n\",","       \"}\\n\",","       \"\\n\",","       \".xr-section-item input {\\n\",","       \"  display: none;\\n\",","       \"}\\n\",","       \"\\n\",","       \".xr-section-item input + label {\\n\",","       \"  color: var(--xr-disabled-color);\\n\",","       \"}\\n\",","       \"\\n\",","       \".xr-section-item input:enabled + label {\\n\",","       \"  cursor: pointer;\\n\",","       \"  color: var(--xr-font-color2);\\n\",","       \"}\\n\",","       \"\\n\",","       \".xr-section-item input:enabled + label:hover {\\n\",","       \"  color: var(--xr-font-color0);\\n\",","       \"}\\n\",","       \"\\n\",","       \".xr-section-summary {\\n\",","       \"  grid-column: 1;\\n\",","       \"  color: var(--xr-font-color2);\\n\",","       \"  font-weight: 500;\\n\",","       \"}\\n\",","       \"\\n\",","       \".xr-section-summary \u003e span {\\n\",","       \"  display: inline-block;\\n\",","       \"  padding-left: 0.5em;\\n\",","       \"}\\n\",","       \"\\n\",","       \".xr-section-summary-in:disabled + label {\\n\",","       \"  color: var(--xr-font-color2);\\n\",","       \"}\\n\",","       \"\\n\",","       \".xr-section-summary-in + label:before {\\n\",","       \"  display: inline-block;\\n\",","       \"  content: '►';\\n\",","       \"  font-size: 11px;\\n\",","       \"  width: 15px;\\n\",","       \"  text-align: center;\\n\",","       \"}\\n\",","       \"\\n\",","       \".xr-section-summary-in:disabled + label:before {\\n\",","       \"  color: var(--xr-disabled-color);\\n\",","       \"}\\n\",","       \"\\n\",","       \".xr-section-summary-in:checked + label:before {\\n\",","       \"  content: '▼';\\n\",","       \"}\\n\",","       \"\\n\",","       \".xr-section-summary-in:checked + label \u003e span {\\n\",","       \"  display: none;\\n\",","       \"}\\n\",","       \"\\n\",","       \".xr-section-summary,\\n\",","       \".xr-section-inline-details {\\n\",","       \"  padding-top: 4px;\\n\",","       \"  padding-bottom: 4px;\\n\",","       \"}\\n\",","       \"\\n\",","       \".xr-section-inline-details {\\n\",","       \"  grid-column: 2 / -1;\\n\",","       \"}\\n\",","       \"\\n\",","       \".xr-section-details {\\n\",","       \"  display: none;\\n\",","       \"  grid-column: 1 / -1;\\n\",","       \"  margin-bottom: 5px;\\n\",","       \"}\\n\",","       \"\\n\",","       \".xr-section-summary-in:checked ~ .xr-section-details {\\n\",","       \"  display: contents;\\n\",","       \"}\\n\",","       \"\\n\",","       \".xr-array-wrap {\\n\",","       \"  grid-column: 1 / -1;\\n\",","       \"  display: grid;\\n\",","       \"  grid-template-columns: 20px auto;\\n\",","       \"}\\n\",","       \"\\n\",","       \".xr-array-wrap \u003e label {\\n\",","       \"  grid-column: 1;\\n\",","       \"  vertical-align: top;\\n\",","       \"}\\n\",","       \"\\n\",","       \".xr-preview {\\n\",","       \"  color: var(--xr-font-color3);\\n\",","       \"}\\n\",","       \"\\n\",","       \".xr-array-preview,\\n\",","       \".xr-array-data {\\n\",","       \"  padding: 0 5px !important;\\n\",","       \"  grid-column: 2;\\n\",","       \"}\\n\",","       \"\\n\",","       \".xr-array-data,\\n\",","       \".xr-array-in:checked ~ .xr-array-preview {\\n\",","       \"  display: none;\\n\",","       \"}\\n\",","       \"\\n\",","       \".xr-array-in:checked ~ .xr-array-data,\\n\",","       \".xr-array-preview {\\n\",","       \"  display: inline-block;\\n\",","       \"}\\n\",","       \"\\n\",","       \".xr-dim-list {\\n\",","       \"  display: inline-block !important;\\n\",","       \"  list-style: none;\\n\",","       \"  padding: 0 !important;\\n\",","       \"  margin: 0;\\n\",","       \"}\\n\",","       \"\\n\",","       \".xr-dim-list li {\\n\",","       \"  display: inline-block;\\n\",","       \"  padding: 0;\\n\",","       \"  margin: 0;\\n\",","       \"}\\n\",","       \"\\n\",","       \".xr-dim-list:before {\\n\",","       \"  content: '(';\\n\",","       \"}\\n\",","       \"\\n\",","       \".xr-dim-list:after {\\n\",","       \"  content: ')';\\n\",","       \"}\\n\",","       \"\\n\",","       \".xr-dim-list li:not(:last-child):after {\\n\",","       \"  content: ',';\\n\",","       \"  padding-right: 5px;\\n\",","       \"}\\n\",","       \"\\n\",","       \".xr-has-index {\\n\",","       \"  font-weight: bold;\\n\",","       \"}\\n\",","       \"\\n\",","       \".xr-var-list,\\n\",","       \".xr-var-item {\\n\",","       \"  display: contents;\\n\",","       \"}\\n\",","       \"\\n\",","       \".xr-var-item \u003e div,\\n\",","       \".xr-var-item label,\\n\",","       \".xr-var-item \u003e .xr-var-name span {\\n\",","       \"  background-color: var(--xr-background-color-row-even);\\n\",","       \"  margin-bottom: 0;\\n\",","       \"}\\n\",","       \"\\n\",","       \".xr-var-item \u003e .xr-var-name:hover span {\\n\",","       \"  padding-right: 5px;\\n\",","       \"}\\n\",","       \"\\n\",","       \".xr-var-list \u003e li:nth-child(odd) \u003e div,\\n\",","       \".xr-var-list \u003e li:nth-child(odd) \u003e label,\\n\",","       \".xr-var-list \u003e li:nth-child(odd) \u003e .xr-var-name span {\\n\",","       \"  background-color: var(--xr-background-color-row-odd);\\n\",","       \"}\\n\",","       \"\\n\",","       \".xr-var-name {\\n\",","       \"  grid-column: 1;\\n\",","       \"}\\n\",","       \"\\n\",","       \".xr-var-dims {\\n\",","       \"  grid-column: 2;\\n\",","       \"}\\n\",","       \"\\n\",","       \".xr-var-dtype {\\n\",","       \"  grid-column: 3;\\n\",","       \"  text-align: right;\\n\",","       \"  color: var(--xr-font-color2);\\n\",","       \"}\\n\",","       \"\\n\",","       \".xr-var-preview {\\n\",","       \"  grid-column: 4;\\n\",","       \"}\\n\",","       \"\\n\",","       \".xr-index-preview {\\n\",","       \"  grid-column: 2 / 5;\\n\",","       \"  color: var(--xr-font-color2);\\n\",","       \"}\\n\",","       \"\\n\",","       \".xr-var-name,\\n\",","       \".xr-var-dims,\\n\",","       \".xr-var-dtype,\\n\",","       \".xr-preview,\\n\",","       \".xr-attrs dt {\\n\",","       \"  white-space: nowrap;\\n\",","       \"  overflow: hidden;\\n\",","       \"  text-overflow: ellipsis;\\n\",","       \"  padding-right: 10px;\\n\",","       \"}\\n\",","       \"\\n\",","       \".xr-var-name:hover,\\n\",","       \".xr-var-dims:hover,\\n\",","       \".xr-var-dtype:hover,\\n\",","       \".xr-attrs dt:hover {\\n\",","       \"  overflow: visible;\\n\",","       \"  width: auto;\\n\",","       \"  z-index: 1;\\n\",","       \"}\\n\",","       \"\\n\",","       \".xr-var-attrs,\\n\",","       \".xr-var-data,\\n\",","       \".xr-index-data {\\n\",","       \"  display: none;\\n\",","       \"  background-color: var(--xr-background-color) !important;\\n\",","       \"  padding-bottom: 5px !important;\\n\",","       \"}\\n\",","       \"\\n\",","       \".xr-var-attrs-in:checked ~ .xr-var-attrs,\\n\",","       \".xr-var-data-in:checked ~ .xr-var-data,\\n\",","       \".xr-index-data-in:checked ~ .xr-index-data {\\n\",","       \"  display: block;\\n\",","       \"}\\n\",","       \"\\n\",","       \".xr-var-data \u003e table {\\n\",","       \"  float: right;\\n\",","       \"}\\n\",","       \"\\n\",","       \".xr-var-name span,\\n\",","       \".xr-var-data,\\n\",","       \".xr-index-name div,\\n\",","       \".xr-index-data,\\n\",","       \".xr-attrs {\\n\",","       \"  padding-left: 25px !important;\\n\",","       \"}\\n\",","       \"\\n\",","       \".xr-attrs,\\n\",","       \".xr-var-attrs,\\n\",","       \".xr-var-data,\\n\",","       \".xr-index-data {\\n\",","       \"  grid-column: 1 / -1;\\n\",","       \"}\\n\",","       \"\\n\",","       \"dl.xr-attrs {\\n\",","       \"  padding: 0;\\n\",","       \"  margin: 0;\\n\",","       \"  display: grid;\\n\",","       \"  grid-template-columns: 125px auto;\\n\",","       \"}\\n\",","       \"\\n\",","       \".xr-attrs dt,\\n\",","       \".xr-attrs dd {\\n\",","       \"  padding: 0;\\n\",","       \"  margin: 0;\\n\",","       \"  float: left;\\n\",","       \"  padding-right: 10px;\\n\",","       \"  width: auto;\\n\",","       \"}\\n\",","       \"\\n\",","       \".xr-attrs dt {\\n\",","       \"  font-weight: normal;\\n\",","       \"  grid-column: 1;\\n\",","       \"}\\n\",","       \"\\n\",","       \".xr-attrs dt:hover span {\\n\",","       \"  display: inline-block;\\n\",","       \"  background: var(--xr-background-color);\\n\",","       \"  padding-right: 10px;\\n\",","       \"}\\n\",","       \"\\n\",","       \".xr-attrs dd {\\n\",","       \"  grid-column: 2;\\n\",","       \"  white-space: pre-wrap;\\n\",","       \"  word-break: break-all;\\n\",","       \"}\\n\",","       \"\\n\",","       \".xr-icon-database,\\n\",","       \".xr-icon-file-text2,\\n\",","       \".xr-no-icon {\\n\",","       \"  display: inline-block;\\n\",","       \"  vertical-align: middle;\\n\",","       \"  width: 1em;\\n\",","       \"  height: 1.5em !important;\\n\",","       \"  stroke-width: 0;\\n\",","       \"  stroke: currentColor;\\n\",","       \"  fill: currentColor;\\n\",","       \"}\\n\",","       \"\u003c/style\u003e\u003cpre class='xr-text-repr-fallback'\u003e\u0026lt;xarray.UxDataArray \u0026#x27;bottomDepth\u0026#x27; (n_face: 970)\u0026gt; Size: 8kB\\n\",","       \"dask.array\u0026lt;getitem, shape=(970,), dtype=float64, chunksize=(970,), chunktype=numpy.ndarray\u0026gt;\\n\",","       \"Dimensions without coordinates: n_face\u003c/pre\u003e\u003cdiv class='xr-wrap' style='display:none'\u003e\u003cdiv class='xr-header'\u003e\u003cdiv class='xr-obj-type'\u003euxarray.UxDataArray\u003c/div\u003e\u003cdiv class='xr-array-name'\u003e'bottomDepth'\u003c/div\u003e\u003cul class='xr-dim-list'\u003e\u003cli\u003e\u003cspan\u003en_face\u003c/span\u003e: 970\u003c/li\u003e\u003c/ul\u003e\u003c/div\u003e\u003cul class='xr-sections'\u003e\u003cli class='xr-section-item'\u003e\u003cdiv class='xr-array-wrap'\u003e\u003cinput id='section-b0f5c9b3-93a7-4395-b255-0bdbcb73709c' class='xr-array-in' type='checkbox' checked\u003e\u003clabel for='section-b0f5c9b3-93a7-4395-b255-0bdbcb73709c' title='Show/hide data repr'\u003e\u003csvg class='icon xr-icon-database'\u003e\u003cuse xlink:href='#icon-database'\u003e\u003c/use\u003e\u003c/svg\u003e\u003c/label\u003e\u003cdiv class='xr-array-preview xr-preview'\u003e\u003cspan\u003edask.array\u0026lt;chunksize=(970,), meta=np.ndarray\u0026gt;\u003c/span\u003e\u003c/div\u003e\u003cdiv class='xr-array-data'\u003e\u003ctable\u003e\\n\",","       \"    \u003ctr\u003e\\n\",","       \"        \u003ctd\u003e\\n\",","       \"            \u003ctable style=\\\"border-collapse: collapse;\\\"\u003e\\n\",","       \"                \u003cthead\u003e\\n\",","       \"                    \u003ctr\u003e\\n\",","       \"                        \u003ctd\u003e \u003c/td\u003e\\n\",","       \"                        \u003cth\u003e Array \u003c/th\u003e\\n\",","       \"                        \u003cth\u003e Chunk \u003c/th\u003e\\n\",","       \"                    \u003c/tr\u003e\\n\",","       \"                \u003c/thead\u003e\\n\",","       \"                \u003ctbody\u003e\\n\",","       \"                    \\n\",","       \"                    \u003ctr\u003e\\n\",","       \"                        \u003cth\u003e Bytes \u003c/th\u003e\\n\",","       \"                        \u003ctd\u003e 7.58 kiB \u003c/td\u003e\\n\",","       \"                        \u003ctd\u003e 7.58 kiB \u003c/td\u003e\\n\",","       \"                    \u003c/tr\u003e\\n\",","       \"                    \\n\",","       \"                    \u003ctr\u003e\\n\",","       \"                        \u003cth\u003e Shape \u003c/th\u003e\\n\",","       \"                        \u003ctd\u003e (970,) \u003c/td\u003e\\n\",","       \"                        \u003ctd\u003e (970,) \u003c/td\u003e\\n\",","       \"                    \u003c/tr\u003e\\n\",","       \"                    \u003ctr\u003e\\n\",","       \"                        \u003cth\u003e Dask graph \u003c/th\u003e\\n\",","       \"                        \u003ctd colspan=\\\"2\\\"\u003e 1 chunks in 3 graph layers \u003c/td\u003e\\n\",","       \"                    \u003c/tr\u003e\\n\",","       \"                    \u003ctr\u003e\\n\",","       \"                        \u003cth\u003e Data type \u003c/th\u003e\\n\",","       \"                        \u003ctd colspan=\\\"2\\\"\u003e float64 numpy.ndarray \u003c/td\u003e\\n\",","       \"                    \u003c/tr\u003e\\n\",","       \"                \u003c/tbody\u003e\\n\",","       \"            \u003c/table\u003e\\n\",","       \"        \u003c/td\u003e\\n\",","       \"        \u003ctd\u003e\\n\",","       \"        \u003csvg width=\\\"170\\\" height=\\\"75\\\" style=\\\"stroke:rgb(0,0,0);stroke-width:1\\\" \u003e\\n\",","       \"\\n\",","       \"  \u003c!-- Horizontal lines --\u003e\\n\",","       \"  \u003cline x1=\\\"0\\\" y1=\\\"0\\\" x2=\\\"120\\\" y2=\\\"0\\\" style=\\\"stroke-width:2\\\" /\u003e\\n\",","       \"  \u003cline x1=\\\"0\\\" y1=\\\"25\\\" x2=\\\"120\\\" y2=\\\"25\\\" style=\\\"stroke-width:2\\\" /\u003e\\n\",","       \"\\n\",","       \"  \u003c!-- Vertical lines --\u003e\\n\",","       \"  \u003cline x1=\\\"0\\\" y1=\\\"0\\\" x2=\\\"0\\\" y2=\\\"25\\\" style=\\\"stroke-width:2\\\" /\u003e\\n\",","       \"  \u003cline x1=\\\"120\\\" y1=\\\"0\\\" x2=\\\"120\\\" y2=\\\"25\\\" style=\\\"stroke-width:2\\\" /\u003e\\n\",","       \"\\n\",","       \"  \u003c!-- Colored Rectangle --\u003e\\n\",","       \"  \u003cpolygon points=\\\"0.0,0.0 120.0,0.0 120.0,25.412616514582485 0.0,25.412616514582485\\\" style=\\\"fill:#ECB172A0;stroke-width:0\\\"/\u003e\\n\",","       \"\\n\",","       \"  \u003c!-- Text --\u003e\\n\",","       \"  \u003ctext x=\\\"60.000000\\\" y=\\\"45.412617\\\" font-size=\\\"1.0rem\\\" font-weight=\\\"100\\\" text-anchor=\\\"middle\\\" \u003e970\u003c/text\u003e\\n\",","       \"  \u003ctext x=\\\"140.000000\\\" y=\\\"12.706308\\\" font-size=\\\"1.0rem\\\" font-weight=\\\"100\\\" text-anchor=\\\"middle\\\" transform=\\\"rotate(0,140.000000,12.706308)\\\"\u003e1\u003c/text\u003e\\n\",","       \"\u003c/svg\u003e\\n\",","       \"        \u003c/td\u003e\\n\",","       \"    \u003c/tr\u003e\\n\",","       \"\u003c/table\u003e\u003c/div\u003e\u003c/div\u003e\u003c/li\u003e\u003cli class='xr-section-item'\u003e\u003cinput id='section-6e6b2085-afb8-404b-ac02-45a71e3690e0' class='xr-section-summary-in' type='checkbox' disabled \u003e\u003clabel for='section-6e6b2085-afb8-404b-ac02-45a71e3690e0' class='xr-section-summary'  title='Expand/collapse section'\u003eCoordinates: \u003cspan\u003e(0)\u003c/span\u003e\u003c/label\u003e\u003cdiv class='xr-section-inline-details'\u003e\u003c/div\u003e\u003cdiv class='xr-section-details'\u003e\u003cul class='xr-var-list'\u003e\u003c/ul\u003e\u003c/div\u003e\u003c/li\u003e\u003cli class='xr-section-item'\u003e\u003cinput id='section-5d92f535-cae8-4d04-95d0-b9834e742bb1' class='xr-section-summary-in' type='checkbox' disabled \u003e\u003clabel for='section-5d92f535-cae8-4d04-95d0-b9834e742bb1' class='xr-section-summary'  title='Expand/collapse section'\u003eIndexes: \u003cspan\u003e(0)\u003c/span\u003e\u003c/label\u003e\u003cdiv class='xr-section-inline-details'\u003e\u003c/div\u003e\u003cdiv class='xr-section-details'\u003e\u003cul class='xr-var-list'\u003e\u003c/ul\u003e\u003c/div\u003e\u003c/li\u003e\u003cli class='xr-section-item'\u003e\u003cinput id='section-7feff5f2-b438-4ced-be99-5505aecbc27c' class='xr-section-summary-in' type='checkbox' disabled \u003e\u003clabel for='section-7feff5f2-b438-4ced-be99-5505aecbc27c' class='xr-section-summary'  title='Expand/collapse section'\u003eAttributes: \u003cspan\u003e(0)\u003c/span\u003e\u003c/label\u003e\u003cdiv class='xr-section-inline-details'\u003e\u003c/div\u003e\u003cdiv class='xr-section-details'\u003e\u003cdl class='xr-attrs'\u003e\u003c/dl\u003e\u003c/div\u003e\u003c/li\u003e\u003c/ul\u003e\u003c/div\u003e\u003c/div\u003e\u003cdetails\u003e\u003csummary\u003eShow Grid Information\u003c/summary\u003e\u003cdiv\u003e\u003csvg style=\\\"position: absolute; width: 0; height: 0; overflow: hidden\\\"\u003e\\n\",","       \"\u003cdefs\u003e\\n\",","       \"\u003csymbol id=\\\"icon-database\\\" viewBox=\\\"0 0 32 32\\\"\u003e\\n\",","       \"\u003cpath d=\\\"M16 0c-8.837 0-16 2.239-16 5v4c0 2.761 7.163 5 16 5s16-2.239 16-5v-4c0-2.761-7.163-5-16-5z\\\"\u003e\u003c/path\u003e\\n\",","       \"\u003cpath d=\\\"M16 17c-8.837 0-16-2.239-16-5v6c0 2.761 7.163 5 16 5s16-2.239 16-5v-6c0 2.761-7.163 5-16 5z\\\"\u003e\u003c/path\u003e\\n\",","       \"\u003cpath d=\\\"M16 26c-8.837 0-16-2.239-16-5v6c0 2.761 7.163 5 16 5s16-2.239 16-5v-6c0 2.761-7.163 5-16 5z\\\"\u003e\u003c/path\u003e\\n\",","       \"\u003c/symbol\u003e\\n\",","       \"\u003csymbol id=\\\"icon-file-text2\\\" viewBox=\\\"0 0 32 32\\\"\u003e\\n\",","       \"\u003cpath d=\\\"M28.681 7.159c-0.694-0.947-1.662-2.053-2.724-3.116s-2.169-2.030-3.116-2.724c-1.612-1.182-2.393-1.319-2.841-1.319h-15.5c-1.378 0-2.5 1.121-2.5 2.5v27c0 1.378 1.122 2.5 2.5 2.5h23c1.378 0 2.5-1.122 2.5-2.5v-19.5c0-0.448-0.137-1.23-1.319-2.841zM24.543 5.457c0.959 0.959 1.712 1.825 2.268 2.543h-4.811v-4.811c0.718 0.556 1.584 1.309 2.543 2.268zM28 29.5c0 0.271-0.229 0.5-0.5 0.5h-23c-0.271 0-0.5-0.229-0.5-0.5v-27c0-0.271 0.229-0.5 0.5-0.5 0 0 15.499-0 15.5 0v7c0 0.552 0.448 1 1 1h7v19.5z\\\"\u003e\u003c/path\u003e\\n\",","       \"\u003cpath d=\\\"M23 26h-14c-0.552 0-1-0.448-1-1s0.448-1 1-1h14c0.552 0 1 0.448 1 1s-0.448 1-1 1z\\\"\u003e\u003c/path\u003e\\n\",","       \"\u003cpath d=\\\"M23 22h-14c-0.552 0-1-0.448-1-1s0.448-1 1-1h14c0.552 0 1 0.448 1 1s-0.448 1-1 1z\\\"\u003e\u003c/path\u003e\\n\",","       \"\u003cpath d=\\\"M23 18h-14c-0.552 0-1-0.448-1-1s0.448-1 1-1h14c0.552 0 1 0.448 1 1s-0.448 1-1 1z\\\"\u003e\u003c/path\u003e\\n\",","       \"\u003c/symbol\u003e\\n\",","       \"\u003c/defs\u003e\\n\",","       \"\u003c/svg\u003e\\n\",","       \"\u003cstyle\u003e/* CSS stylesheet for displaying xarray objects in jupyterlab.\\n\",","       \" *\\n\",","       \" */\\n\",","       \"\\n\",","       \":root {\\n\",","       \"  --xr-font-color0: var(--jp-content-font-color0, rgba(0, 0, 0, 1));\\n\",","       \"  --xr-font-color2: var(--jp-content-font-color2, rgba(0, 0, 0, 0.54));\\n\",","       \"  --xr-font-color3: var(--jp-content-font-color3, rgba(0, 0, 0, 0.38));\\n\",","       \"  --xr-border-color: var(--jp-border-color2, #e0e0e0);\\n\",","       \"  --xr-disabled-color: var(--jp-layout-color3, #bdbdbd);\\n\",","       \"  --xr-background-color: var(--jp-layout-color0, white);\\n\",","       \"  --xr-background-color-row-even: var(--jp-layout-color1, white);\\n\",","       \"  --xr-background-color-row-odd: var(--jp-layout-color2, #eeeeee);\\n\",","       \"}\\n\",","       \"\\n\",","       \"html[theme=dark],\\n\",","       \"body[data-theme=dark],\\n\",","       \"body.vscode-dark {\\n\",","       \"  --xr-font-color0: rgba(255, 255, 255, 1);\\n\",","       \"  --xr-font-color2: rgba(255, 255, 255, 0.54);\\n\",","       \"  --xr-font-color3: rgba(255, 255, 255, 0.38);\\n\",","       \"  --xr-border-color: #1F1F1F;\\n\",","       \"  --xr-disabled-color: #515151;\\n\",","       \"  --xr-background-color: #111111;\\n\",","       \"  --xr-background-color-row-even: #111111;\\n\",","       \"  --xr-background-color-row-odd: #313131;\\n\",","       \"}\\n\",","       \"\\n\",","       \".xr-wrap {\\n\",","       \"  display: block !important;\\n\",","       \"  min-width: 300px;\\n\",","       \"  max-width: 700px;\\n\",","       \"}\\n\",","       \"\\n\",","       \".xr-text-repr-fallback {\\n\",","       \"  /* fallback to plain text repr when CSS is not injected (untrusted notebook) */\\n\",","       \"  display: none;\\n\",","       \"}\\n\",","       \"\\n\",","       \".xr-header {\\n\",","       \"  padding-top: 6px;\\n\",","       \"  padding-bottom: 6px;\\n\",","       \"  margin-bottom: 4px;\\n\",","       \"  border-bottom: solid 1px var(--xr-border-color);\\n\",","       \"}\\n\",","       \"\\n\",","       \".xr-header \u003e div,\\n\",","       \".xr-header \u003e ul {\\n\",","       \"  display: inline;\\n\",","       \"  margin-top: 0;\\n\",","       \"  margin-bottom: 0;\\n\",","       \"}\\n\",","       \"\\n\",","       \".xr-obj-type,\\n\",","       \".xr-array-name {\\n\",","       \"  margin-left: 2px;\\n\",","       \"  margin-right: 10px;\\n\",","       \"}\\n\",","       \"\\n\",","       \".xr-obj-type {\\n\",","       \"  color: var(--xr-font-color2);\\n\",","       \"}\\n\",","       \"\\n\",","       \".xr-sections {\\n\",","       \"  padding-left: 0 !important;\\n\",","       \"  display: grid;\\n\",","       \"  grid-template-columns: 150px auto auto 1fr 20px 20px;\\n\",","       \"}\\n\",","       \"\\n\",","       \".xr-section-item {\\n\",","       \"  display: contents;\\n\",","       \"}\\n\",","       \"\\n\",","       \".xr-section-item input {\\n\",","       \"  display: none;\\n\",","       \"}\\n\",","       \"\\n\",","       \".xr-section-item input + label {\\n\",","       \"  color: var(--xr-disabled-color);\\n\",","       \"}\\n\",","       \"\\n\",","       \".xr-section-item input:enabled + label {\\n\",","       \"  cursor: pointer;\\n\",","       \"  color: var(--xr-font-color2);\\n\",","       \"}\\n\",","       \"\\n\",","       \".xr-section-item input:enabled + label:hover {\\n\",","       \"  color: var(--xr-font-color0);\\n\",","       \"}\\n\",","       \"\\n\",","       \".xr-section-summary {\\n\",","       \"  grid-column: 1;\\n\",","       \"  color: var(--xr-font-color2);\\n\",","       \"  font-weight: 500;\\n\",","       \"}\\n\",","       \"\\n\",","       \".xr-section-summary \u003e span {\\n\",","       \"  display: inline-block;\\n\",","       \"  padding-left: 0.5em;\\n\",","       \"}\\n\",","       \"\\n\",","       \".xr-section-summary-in:disabled + label {\\n\",","       \"  color: var(--xr-font-color2);\\n\",","       \"}\\n\",","       \"\\n\",","       \".xr-section-summary-in + label:before {\\n\",","       \"  display: inline-block;\\n\",","       \"  content: '►';\\n\",","       \"  font-size: 11px;\\n\",","       \"  width: 15px;\\n\",","       \"  text-align: center;\\n\",","       \"}\\n\",","       \"\\n\",","       \".xr-section-summary-in:disabled + label:before {\\n\",","       \"  color: var(--xr-disabled-color);\\n\",","       \"}\\n\",","       \"\\n\",","       \".xr-section-summary-in:checked + label:before {\\n\",","       \"  content: '▼';\\n\",","       \"}\\n\",","       \"\\n\",","       \".xr-section-summary-in:checked + label \u003e span {\\n\",","       \"  display: none;\\n\",","       \"}\\n\",","       \"\\n\",","       \".xr-section-summary,\\n\",","       \".xr-section-inline-details {\\n\",","       \"  padding-top: 4px;\\n\",","       \"  padding-bottom: 4px;\\n\",","       \"}\\n\",","       \"\\n\",","       \".xr-section-inline-details {\\n\",","       \"  grid-column: 2 / -1;\\n\",","       \"}\\n\",","       \"\\n\",","       \".xr-section-details {\\n\",","       \"  display: none;\\n\",","       \"  grid-column: 1 / -1;\\n\",","       \"  margin-bottom: 5px;\\n\",","       \"}\\n\",","       \"\\n\",","       \".xr-section-summary-in:checked ~ .xr-section-details {\\n\",","       \"  display: contents;\\n\",","       \"}\\n\",","       \"\\n\",","       \".xr-array-wrap {\\n\",","       \"  grid-column: 1 / -1;\\n\",","       \"  display: grid;\\n\",","       \"  grid-template-columns: 20px auto;\\n\",","       \"}\\n\",","       \"\\n\",","       \".xr-array-wrap \u003e label {\\n\",","       \"  grid-column: 1;\\n\",","       \"  vertical-align: top;\\n\",","       \"}\\n\",","       \"\\n\",","       \".xr-preview {\\n\",","       \"  color: var(--xr-font-color3);\\n\",","       \"}\\n\",","       \"\\n\",","       \".xr-array-preview,\\n\",","       \".xr-array-data {\\n\",","       \"  padding: 0 5px !important;\\n\",","       \"  grid-column: 2;\\n\",","       \"}\\n\",","       \"\\n\",","       \".xr-array-data,\\n\",","       \".xr-array-in:checked ~ .xr-array-preview {\\n\",","       \"  display: none;\\n\",","       \"}\\n\",","       \"\\n\",","       \".xr-array-in:checked ~ .xr-array-data,\\n\",","       \".xr-array-preview {\\n\",","       \"  display: inline-block;\\n\",","       \"}\\n\",","       \"\\n\",","       \".xr-dim-list {\\n\",","       \"  display: inline-block !important;\\n\",","       \"  list-style: none;\\n\",","       \"  padding: 0 !important;\\n\",","       \"  margin: 0;\\n\",","       \"}\\n\",","       \"\\n\",","       \".xr-dim-list li {\\n\",","       \"  display: inline-block;\\n\",","       \"  padding: 0;\\n\",","       \"  margin: 0;\\n\",","       \"}\\n\",","       \"\\n\",","       \".xr-dim-list:before {\\n\",","       \"  content: '(';\\n\",","       \"}\\n\",","       \"\\n\",","       \".xr-dim-list:after {\\n\",","       \"  content: ')';\\n\",","       \"}\\n\",","       \"\\n\",","       \".xr-dim-list li:not(:last-child):after {\\n\",","       \"  content: ',';\\n\",","       \"  padding-right: 5px;\\n\",","       \"}\\n\",","       \"\\n\",","       \".xr-has-index {\\n\",","       \"  font-weight: bold;\\n\",","       \"}\\n\",","       \"\\n\",","       \".xr-var-list,\\n\",","       \".xr-var-item {\\n\",","       \"  display: contents;\\n\",","       \"}\\n\",","       \"\\n\",","       \".xr-var-item \u003e div,\\n\",","       \".xr-var-item label,\\n\",","       \".xr-var-item \u003e .xr-var-name span {\\n\",","       \"  background-color: var(--xr-background-color-row-even);\\n\",","       \"  margin-bottom: 0;\\n\",","       \"}\\n\",","       \"\\n\",","       \".xr-var-item \u003e .xr-var-name:hover span {\\n\",","       \"  padding-right: 5px;\\n\",","       \"}\\n\",","       \"\\n\",","       \".xr-var-list \u003e li:nth-child(odd) \u003e div,\\n\",","       \".xr-var-list \u003e li:nth-child(odd) \u003e label,\\n\",","       \".xr-var-list \u003e li:nth-child(odd) \u003e .xr-var-name span {\\n\",","       \"  background-color: var(--xr-background-color-row-odd);\\n\",","       \"}\\n\",","       \"\\n\",","       \".xr-var-name {\\n\",","       \"  grid-column: 1;\\n\",","       \"}\\n\",","       \"\\n\",","       \".xr-var-dims {\\n\",","       \"  grid-column: 2;\\n\",","       \"}\\n\",","       \"\\n\",","       \".xr-var-dtype {\\n\",","       \"  grid-column: 3;\\n\",","       \"  text-align: right;\\n\",","       \"  color: var(--xr-font-color2);\\n\",","       \"}\\n\",","       \"\\n\",","       \".xr-var-preview {\\n\",","       \"  grid-column: 4;\\n\",","       \"}\\n\",","       \"\\n\",","       \".xr-index-preview {\\n\",","       \"  grid-column: 2 / 5;\\n\",","       \"  color: var(--xr-font-color2);\\n\",","       \"}\\n\",","       \"\\n\",","       \".xr-var-name,\\n\",","       \".xr-var-dims,\\n\",","       \".xr-var-dtype,\\n\",","       \".xr-preview,\\n\",","       \".xr-attrs dt {\\n\",","       \"  white-space: nowrap;\\n\",","       \"  overflow: hidden;\\n\",","       \"  text-overflow: ellipsis;\\n\",","       \"  padding-right: 10px;\\n\",","       \"}\\n\",","       \"\\n\",","       \".xr-var-name:hover,\\n\",","       \".xr-var-dims:hover,\\n\",","       \".xr-var-dtype:hover,\\n\",","       \".xr-attrs dt:hover {\\n\",","       \"  overflow: visible;\\n\",","       \"  width: auto;\\n\",","       \"  z-index: 1;\\n\",","       \"}\\n\",","       \"\\n\",","       \".xr-var-attrs,\\n\",","       \".xr-var-data,\\n\",","       \".xr-index-data {\\n\",","       \"  display: none;\\n\",","       \"  background-color: var(--xr-background-color) !important;\\n\",","       \"  padding-bottom: 5px !important;\\n\",","       \"}\\n\",","       \"\\n\",","       \".xr-var-attrs-in:checked ~ .xr-var-attrs,\\n\",","       \".xr-var-data-in:checked ~ .xr-var-data,\\n\",","       \".xr-index-data-in:checked ~ .xr-index-data {\\n\",","       \"  display: block;\\n\",","       \"}\\n\",","       \"\\n\",","       \".xr-var-data \u003e table {\\n\",","       \"  float: right;\\n\",","       \"}\\n\",","       \"\\n\",","       \".xr-var-name span,\\n\",","       \".xr-var-data,\\n\",","       \".xr-index-name div,\\n\",","       \".xr-index-data,\\n\",","       \".xr-attrs {\\n\",","       \"  padding-left: 25px !important;\\n\",","       \"}\\n\",","       \"\\n\",","       \".xr-attrs,\\n\",","       \".xr-var-attrs,\\n\",","       \".xr-var-data,\\n\",","       \".xr-index-data {\\n\",","       \"  grid-column: 1 / -1;\\n\",","       \"}\\n\",","       \"\\n\",","       \"dl.xr-attrs {\\n\",","       \"  padding: 0;\\n\",","       \"  margin: 0;\\n\",","       \"  display: grid;\\n\",","       \"  grid-template-columns: 125px auto;\\n\",","       \"}\\n\",","       \"\\n\",","       \".xr-attrs dt,\\n\",","       \".xr-attrs dd {\\n\",","       \"  padding: 0;\\n\",","       \"  margin: 0;\\n\",","       \"  float: left;\\n\",","       \"  padding-right: 10px;\\n\",","       \"  width: auto;\\n\",","       \"}\\n\",","       \"\\n\",","       \".xr-attrs dt {\\n\",","       \"  font-weight: normal;\\n\",","       \"  grid-column: 1;\\n\",","       \"}\\n\",","       \"\\n\",","       \".xr-attrs dt:hover span {\\n\",","       \"  display: inline-block;\\n\",","       \"  background: var(--xr-background-color);\\n\",","       \"  padding-right: 10px;\\n\",","       \"}\\n\",","       \"\\n\",","       \".xr-attrs dd {\\n\",","       \"  grid-column: 2;\\n\",","       \"  white-space: pre-wrap;\\n\",","       \"  word-break: break-all;\\n\",","       \"}\\n\",","       \"\\n\",","       \".xr-icon-database,\\n\",","       \".xr-icon-file-text2,\\n\",","       \".xr-no-icon {\\n\",","       \"  display: inline-block;\\n\",","       \"  vertical-align: middle;\\n\",","       \"  width: 1em;\\n\",","       \"  height: 1.5em !important;\\n\",","       \"  stroke-width: 0;\\n\",","       \"  stroke: currentColor;\\n\",","       \"  fill: currentColor;\\n\",","       \"}\\n\",","       \"\u003c/style\u003e\u003cpre class='xr-text-repr-fallback'\u003e\u0026lt;uxarray.Grid\u0026gt;\\n\",","       \"Original Grid Type: MPAS\\n\",","       \"Grid Dimensions:\\n\",","       \"  * n_node: 2194\\n\",","       \"  * n_edge: 3164\\n\",","       \"  * n_face: 970\\n\",","       \"  * n_max_face_nodes: 6\\n\",","       \"  * two: 2\\n\",","       \"  * n_nodes_per_face: (970,)\\n\",","       \"Grid Coordinates (Spherical):\\n\",","       \"  * node_lon: (2194,)\\n\",","       \"  * node_lat: (2194,)\\n\",","       \"  * edge_lon: (3164,)\\n\",","       \"  * edge_lat: (3164,)\\n\",","       \"  * face_lon: (970,)\\n\",","       \"  * face_lat: (970,)\\n\",","       \"Grid Coordinates (Cartesian):\\n\",","       \"  * node_x: (2194,)\\n\",","       \"  * node_y: (2194,)\\n\",","       \"  * node_z: (2194,)\\n\",","       \"  * edge_x: (3164,)\\n\",","       \"  * edge_y: (3164,)\\n\",","       \"  * edge_z: (3164,)\\n\",","       \"  * face_x: (970,)\\n\",","       \"  * face_y: (970,)\\n\",","       \"  * face_z: (970,)\\n\",","       \"Grid Connectivity Variables:\\n\",","       \"  * face_node_connectivity: (970, 6)\\n\",","       \"  * edge_node_connectivity: (3164, 2)\\n\",","       \"Grid Descriptor Variables:\\n\",","       \"  * n_nodes_per_face: (970,)\\n\",","       \"  * edge_face_distances: (3164,)\\n\",","       \"  * edge_node_distances: (3164,)\\n\",","       \"\u003c/pre\u003e\u003cdiv class='xr-wrap' style='display:none'\u003e\u003cdiv class='xr-header'\u003e\u003cdiv class='xr-obj-type'\u003euxarray.UxDataArray.uxgrid\u003c/div\u003e\u003c/div\u003e\u003cul class='xr-sections'\u003e\u003cli class='xr-section-item'\u003e\u003cinput id='section-0d6f9333-7f51-4477-8bd3-06c7d9e7b473' class='xr-section-summary-in' type='checkbox' disabled \u003e\u003clabel for='section-0d6f9333-7f51-4477-8bd3-06c7d9e7b473' class='xr-section-summary'  title='Expand/collapse section'\u003eDimensions:\u003c/label\u003e\u003cdiv class='xr-section-inline-details'\u003e\u003cul class='xr-dim-list'\u003e\u003cli\u003e\u003cspan\u003en_node\u003c/span\u003e: 2194\u003c/li\u003e\u003cli\u003e\u003cspan\u003en_face\u003c/span\u003e: 970\u003c/li\u003e\u003cli\u003e\u003cspan\u003en_edge\u003c/span\u003e: 3164\u003c/li\u003e\u003cli\u003e\u003cspan\u003en_max_face_nodes\u003c/span\u003e: 6\u003c/li\u003e\u003cli\u003e\u003cspan\u003etwo\u003c/span\u003e: 2\u003c/li\u003e\u003c/ul\u003e\u003c/div\u003e\u003cdiv class='xr-section-details'\u003e\u003c/div\u003e\u003c/li\u003e\u003cli class='xr-section-item'\u003e\u003cinput id='section-06ff7981-f131-4c7b-bec3-a9dacd861456' class='xr-section-summary-in' type='checkbox'  \u003e\u003clabel for='section-06ff7981-f131-4c7b-bec3-a9dacd861456' class='xr-section-summary' \u003eSpherical Coordinates: \u003cspan\u003e(6)\u003c/span\u003e\u003c/label\u003e\u003cdiv class='xr-section-inline-details'\u003e\u003c/div\u003e\u003cdiv class='xr-section-details'\u003e\u003cul class='xr-var-list'\u003e\u003cli class='xr-var-item'\u003e\u003cdiv class='xr-var-name'\u003e\u003cspan\u003enode_lon\u003c/span\u003e\u003c/div\u003e\u003cdiv class='xr-var-dims'\u003e(n_node)\u003c/div\u003e\u003cdiv class='xr-var-dtype'\u003efloat64\u003c/div\u003e\u003cdiv class='xr-var-preview xr-preview'\u003e-172.5 -173.4 ... -103.0 -175.0\u003c/div\u003e\u003cinput id='attrs-35b33f57-bc20-4cea-a728-9f9d5711f8dc' class='xr-var-attrs-in' type='checkbox' \u003e\u003clabel for='attrs-35b33f57-bc20-4cea-a728-9f9d5711f8dc' title='Show/Hide attributes'\u003e\u003csvg class='icon xr-icon-file-text2'\u003e\u003cuse xlink:href='#icon-file-text2'\u003e\u003c/use\u003e\u003c/svg\u003e\u003c/label\u003e\u003cinput id='data-b32d935b-b0d6-497a-8e69-7007d3b86d5e' class='xr-var-data-in' type='checkbox'\u003e\u003clabel for='data-b32d935b-b0d6-497a-8e69-7007d3b86d5e' title='Show/Hide data repr'\u003e\u003csvg class='icon xr-icon-database'\u003e\u003cuse xlink:href='#icon-database'\u003e\u003c/use\u003e\u003c/svg\u003e\u003c/label\u003e\u003cdiv class='xr-var-attrs'\u003e\u003cdl class='xr-attrs'\u003e\u003cdt\u003e\u003cspan\u003estandard_name :\u003c/span\u003e\u003c/dt\u003e\u003cdd\u003elongitude\u003c/dd\u003e\u003cdt\u003e\u003cspan\u003elong name :\u003c/span\u003e\u003c/dt\u003e\u003cdd\u003eLongitude of the corner nodes of each face\u003c/dd\u003e\u003cdt\u003e\u003cspan\u003eunits :\u003c/span\u003e\u003c/dt\u003e\u003cdd\u003edegrees_east\u003c/dd\u003e\u003c/dl\u003e\u003c/div\u003e\u003cdiv class='xr-var-data'\u003e\u003cpre\u003earray([-172.5318284 , -173.42204784,    6.57795216, ...,   41.04705481,\\n\",","       \"       -102.95294492, -174.9529447 ])\u003c/pre\u003e\u003c/div\u003e\u003c/li\u003e\u003cli class='xr-var-item'\u003e\u003cdiv class='xr-var-name'\u003e\u003cspan\u003enode_lat\u003c/span\u003e\u003c/div\u003e\u003cdiv class='xr-var-dims'\u003e(n_node)\u003c/div\u003e\u003cdiv class='xr-var-dtype'\u003efloat64\u003c/div\u003e\u003cdiv class='xr-var-preview xr-preview'\u003e25.84 28.41 ... -52.62 -52.62\u003c/div\u003e\u003cinput id='attrs-1022dacc-7de7-4ecd-afb5-9aa49c01800f' class='xr-var-attrs-in' type='checkbox' \u003e\u003clabel for='attrs-1022dacc-7de7-4ecd-afb5-9aa49c01800f' title='Show/Hide attributes'\u003e\u003csvg class='icon xr-icon-file-text2'\u003e\u003cuse xlink:href='#icon-file-text2'\u003e\u003c/use\u003e\u003c/svg\u003e\u003c/label\u003e\u003cinput id='data-e11a30ef-6303-4617-a2a8-f7dc2cfe1274' class='xr-var-data-in' type='checkbox'\u003e\u003clabel for='data-e11a30ef-6303-4617-a2a8-f7dc2cfe1274' title='Show/Hide data repr'\u003e\u003csvg class='icon xr-icon-database'\u003e\u003cuse xlink:href='#icon-database'\u003e\u003c/use\u003e\u003c/svg\u003e\u003c/label\u003e\u003cdiv class='xr-var-attrs'\u003e\u003cdl class='xr-attrs'\u003e\u003cdt\u003e\u003cspan\u003estandard_name :\u003c/span\u003e\u003c/dt\u003e\u003cdd\u003elatitude\u003c/dd\u003e\u003cdt\u003e\u003cspan\u003elong name :\u003c/span\u003e\u003c/dt\u003e\u003cdd\u003eLatitude of the corner nodes of each face\u003c/dd\u003e\u003cdt\u003e\u003cspan\u003eunits :\u003c/span\u003e\u003c/dt\u003e\u003cdd\u003edegrees_north\u003c/dd\u003e\u003c/dl\u003e\u003c/div\u003e\u003cdiv class='xr-var-data'\u003e\u003cpre\u003earray([ 25.83662184,  28.41042985, -28.41042985, ..., -52.62263187,\\n\",","       \"       -52.62263157, -52.62263191])\u003c/pre\u003e\u003c/div\u003e\u003c/li\u003e\u003cli class='xr-var-item'\u003e\u003cdiv class='xr-var-name'\u003e\u003cspan\u003eedge_lon\u003c/span\u003e\u003c/div\u003e\u003cdiv class='xr-var-dims'\u003e(n_edge)\u003c/div\u003e\u003cdiv class='xr-var-dtype'\u003efloat64\u003c/div\u003e\u003cdiv class='xr-var-preview xr-preview'\u003e-173.1 -103.0 ... -120.8 -113.0\u003c/div\u003e\u003cinput id='attrs-45fda2a1-e1b0-488f-8110-4f03f4b5b6ca' class='xr-var-attrs-in' type='checkbox' \u003e\u003clabel for='attrs-45fda2a1-e1b0-488f-8110-4f03f4b5b6ca' title='Show/Hide attributes'\u003e\u003csvg class='icon xr-icon-file-text2'\u003e\u003cuse xlink:href='#icon-file-text2'\u003e\u003c/use\u003e\u003c/svg\u003e\u003c/label\u003e\u003cinput id='data-de0030d6-f37d-484d-94bb-3faa67283270' class='xr-var-data-in' type='checkbox'\u003e\u003clabel for='data-de0030d6-f37d-484d-94bb-3faa67283270' title='Show/Hide data repr'\u003e\u003csvg class='icon xr-icon-database'\u003e\u003cuse xlink:href='#icon-database'\u003e\u003c/use\u003e\u003c/svg\u003e\u003c/label\u003e\u003cdiv class='xr-var-attrs'\u003e\u003cdl class='xr-attrs'\u003e\u003cdt\u003e\u003cspan\u003estandard_name :\u003c/span\u003e\u003c/dt\u003e\u003cdd\u003elongitude\u003c/dd\u003e\u003cdt\u003e\u003cspan\u003elong name :\u003c/span\u003e\u003c/dt\u003e\u003cdd\u003eLongitude of the center of each edge\u003c/dd\u003e\u003cdt\u003e\u003cspan\u003eunits :\u003c/span\u003e\u003c/dt\u003e\u003cdd\u003edegrees_east\u003c/dd\u003e\u003c/dl\u003e\u003c/div\u003e\u003cdiv class='xr-var-data'\u003e\u003cpre\u003earray([-173.12967054, -102.95294493,   39.22378065, ..., -161.10860309,\\n\",","       \"       -120.7574067 , -113.02625979])\u003c/pre\u003e\u003c/div\u003e\u003c/li\u003e\u003cli class='xr-var-item'\u003e\u003cdiv class='xr-var-name'\u003e\u003cspan\u003eedge_lat\u003c/span\u003e\u003c/div\u003e\u003cdiv class='xr-var-dims'\u003e(n_edge)\u003c/div\u003e\u003cdiv class='xr-var-dtype'\u003efloat64\u003c/div\u003e\u003cdiv class='xr-var-preview xr-preview'\u003e-53.24 -51.36 ... -11.07 -6.11\u003c/div\u003e\u003cinput id='attrs-992301ec-2045-4861-8e48-c28c4ab65145' class='xr-var-attrs-in' type='checkbox' \u003e\u003clabel for='attrs-992301ec-2045-4861-8e48-c28c4ab65145' title='Show/Hide attributes'\u003e\u003csvg class='icon xr-icon-file-text2'\u003e\u003cuse xlink:href='#icon-file-text2'\u003e\u003c/use\u003e\u003c/svg\u003e\u003c/label\u003e\u003cinput id='data-c5809ed8-a16e-412b-b0eb-9d50082b60db' class='xr-var-data-in' type='checkbox'\u003e\u003clabel for='data-c5809ed8-a16e-412b-b0eb-9d50082b60db' title='Show/Hide data repr'\u003e\u003csvg class='icon xr-icon-database'\u003e\u003cuse xlink:href='#icon-database'\u003e\u003c/use\u003e\u003c/svg\u003e\u003c/label\u003e\u003cdiv class='xr-var-attrs'\u003e\u003cdl class='xr-attrs'\u003e\u003cdt\u003e\u003cspan\u003estandard_name :\u003c/span\u003e\u003c/dt\u003e\u003cdd\u003elatitude\u003c/dd\u003e\u003cdt\u003e\u003cspan\u003elong name :\u003c/span\u003e\u003c/dt\u003e\u003cdd\u003eLatitude of the center of each edge\u003c/dd\u003e\u003cdt\u003e\u003cspan\u003eunits :\u003c/span\u003e\u003c/dt\u003e\u003cdd\u003edegrees_north\u003c/dd\u003e\u003c/dl\u003e\u003c/div\u003e\u003cdiv class='xr-var-data'\u003e\u003cpre\u003earray([-53.23874448, -51.3627372 , -53.23874445, ..., -50.6652819 ,\\n\",","       \"       -11.06951516,  -6.11034278])\u003c/pre\u003e\u003c/div\u003e\u003c/li\u003e\u003cli class='xr-var-item'\u003e\u003cdiv class='xr-var-name'\u003e\u003cspan\u003eface_lon\u003c/span\u003e\u003c/div\u003e\u003cdiv class='xr-var-dims'\u003e(n_face)\u003c/div\u003e\u003cdiv class='xr-var-dtype'\u003efloat64\u003c/div\u003e\u003cdiv class='xr-var-preview xr-preview'\u003e5.047 -30.95 ... -99.46 -171.5\u003c/div\u003e\u003cinput id='attrs-2d764071-6e17-4411-b20c-04c6d198800d' class='xr-var-attrs-in' type='checkbox' \u003e\u003clabel for='attrs-2d764071-6e17-4411-b20c-04c6d198800d' title='Show/Hide attributes'\u003e\u003csvg class='icon xr-icon-file-text2'\u003e\u003cuse xlink:href='#icon-file-text2'\u003e\u003c/use\u003e\u003c/svg\u003e\u003c/label\u003e\u003cinput id='data-a2b6243e-2ce0-4e47-b04f-6d76b4b85452' class='xr-var-data-in' type='checkbox'\u003e\u003clabel for='data-a2b6243e-2ce0-4e47-b04f-6d76b4b85452' title='Show/Hide data repr'\u003e\u003csvg class='icon xr-icon-database'\u003e\u003cuse xlink:href='#icon-database'\u003e\u003c/use\u003e\u003c/svg\u003e\u003c/label\u003e\u003cdiv class='xr-var-attrs'\u003e\u003cdl class='xr-attrs'\u003e\u003cdt\u003e\u003cspan\u003estandard_name :\u003c/span\u003e\u003c/dt\u003e\u003cdd\u003elongitude\u003c/dd\u003e\u003cdt\u003e\u003cspan\u003elong name :\u003c/span\u003e\u003c/dt\u003e\u003cdd\u003eLongitude of the center of each face\u003c/dd\u003e\u003cdt\u003e\u003cspan\u003eunits :\u003c/span\u003e\u003c/dt\u003e\u003cdd\u003edegrees_east\u003c/dd\u003e\u003c/dl\u003e\u003c/div\u003e\u003cdiv class='xr-var-data'\u003e\u003cpre\u003earray([ 5.04705476e+00, -3.09529448e+01, -1.38952945e+02, -1.56952945e+02,\\n\",","       \"       -1.38952945e+02, -1.20952945e+02, -8.49529451e+01, -6.69529449e+01,\\n\",","       \"       -3.09529448e+01, -1.29529451e+01, -3.09529453e+01,  4.10470548e+01,\\n\",","       \"        5.90470548e+01, -1.02952945e+02, -4.89529450e+01, -1.65675405e+02,\\n\",","       \"       -1.57888174e+02, -1.20017717e+02, -1.12230485e+02, -9.36754049e+01,\\n\",","       \"       -4.23048530e+00, -1.20177168e+01,  5.04705471e+00,  5.99822834e+01,\\n\",","       \"       -8.40177167e+01, -4.98881737e+01, -4.02304850e+01, -2.16754048e+01,\\n\",","       \"       -1.38881733e+01, -3.09529448e+01, -4.80177163e+01,  5.03245950e+01,\\n\",","       \"       -1.29675405e+02, -1.48230485e+02, -1.56017716e+02, -1.38952945e+02,\\n\",","       \"       -1.21888174e+02, -1.38952945e+02, -1.47877406e+02, -1.66028484e+02,\\n\",","       \"       -1.26319259e+02, -1.51586632e+02, -1.30028484e+02, -1.11877406e+02,\\n\",","       \"       -1.02952945e+02, -9.40284844e+01, -7.58774057e+01, -5.80284841e+01,\\n\",","       \"       -5.43192583e+01, -7.58663123e+00,  5.04705488e+00, -3.09529450e+01,\\n\",","       \"       -2.20284844e+01, -4.35866318e+01, -1.83192589e+01,  2.84133683e+01,\\n\",","       \"        5.36807413e+01, -1.15586631e+02, -9.03192586e+01, -1.62319258e+02,\\n\",","       \"       -1.66779083e+02, -1.70234483e+02, -1.07671407e+02, -9.47790832e+01,\\n\",","       \"        3.28592470e-01, -3.12680703e+00,  5.04705473e+00,  1.32209165e+01,\\n\",","       \"        9.76551710e+00, -7.16714075e+01, -7.51268069e+01, -3.91268066e+01,\\n\",","       \"       -3.56714072e+01, -2.62344826e+01, -2.27790831e+01, -3.09529448e+01,\\n\",","       \"       -1.43671407e+02, -1.47126807e+02, -1.38952945e+02, -1.30779083e+02,\\n\",","       \"...\\n\",","       \"        2.09378386e+01,  5.04705485e+00,  7.36842964e+00,  2.72568002e+00,\\n\",","       \"       -1.52990419e+01, -1.08727183e+01, -1.29214142e+01, -1.08437292e+01,\\n\",","       \"       -9.69927546e+00, -5.35809329e+00,  5.67009582e+01,  6.11272818e+01,\\n\",","       \"        5.90785859e+01,  6.11562711e+01,  6.23007248e+01, -8.28727182e+01,\\n\",","       \"       -8.49214141e+01, -8.72990418e+01, -8.28437290e+01, -8.16992753e+01,\\n\",","       \"       -7.73580932e+01, -5.10621614e+01, -5.65477973e+01, -5.22066151e+01,\\n\",","       \"       -4.89214139e+01, -4.68727179e+01, -5.12990416e+01, -3.09529450e+01,\\n\",","       \"       -3.32743198e+01, -2.86315701e+01, -1.50621609e+01, -1.62066146e+01,\\n\",","       \"       -2.05477968e+01, -4.68437286e+01, -4.13580928e+01, -4.56992750e+01,\\n\",","       \"        5.69668279e+01,  6.13931515e+01, -1.20984476e+02, -1.23033172e+02,\\n\",","       \"       -1.18606848e+02, -1.38952945e+02, -1.36631570e+02, -1.41274320e+02,\\n\",","       \"       -1.59299042e+02, -1.54872718e+02, -1.56921414e+02, -1.54843729e+02,\\n\",","       \"       -1.53699275e+02, -1.49358093e+02, -1.23062161e+02, -1.28547797e+02,\\n\",","       \"       -1.24206615e+02, -1.36722700e+02, -1.38952945e+02, -1.41183191e+02,\\n\",","       \"       -1.38952945e+02, -1.35462605e+02, -1.42443285e+02, -1.00722700e+02,\\n\",","       \"       -1.05183191e+02, -1.02952945e+02, -6.47226996e+01, -6.91831903e+01,\\n\",","       \"        1.55671548e+00,  5.04705533e+00,  4.32773002e+01,  4.10470548e+01,\\n\",","       \"       -3.31831905e+01, -3.09529451e+01, -2.87226998e+01, -3.44432851e+01,\\n\",","       \"       -2.74626055e+01,  4.45373946e+01,  3.75567150e+01, -1.06443285e+02,\\n\",","       \"       -9.94626052e+01, -1.71462605e+02])\u003c/pre\u003e\u003c/div\u003e\u003c/li\u003e\u003cli class='xr-var-item'\u003e\u003cdiv class='xr-var-name'\u003e\u003cspan\u003eface_lat\u003c/span\u003e\u003c/div\u003e\u003cdiv class='xr-var-dims'\u003e(n_face)\u003c/div\u003e\u003cdiv class='xr-var-dtype'\u003efloat64\u003c/div\u003e\u003cdiv class='xr-var-preview xr-preview'\u003e-26.57 26.57 ... -51.31 -51.31\u003c/div\u003e\u003cinput id='attrs-217f4b9a-713c-47cf-a6d6-1cae60069b8d' class='xr-var-attrs-in' type='checkbox' \u003e\u003clabel for='attrs-217f4b9a-713c-47cf-a6d6-1cae60069b8d' title='Show/Hide attributes'\u003e\u003csvg class='icon xr-icon-file-text2'\u003e\u003cuse xlink:href='#icon-file-text2'\u003e\u003c/use\u003e\u003c/svg\u003e\u003c/label\u003e\u003cinput id='data-b61ac738-b669-4165-b0ec-120e4ba10a7e' class='xr-var-data-in' type='checkbox'\u003e\u003clabel for='data-b61ac738-b669-4165-b0ec-120e4ba10a7e' title='Show/Hide data repr'\u003e\u003csvg class='icon xr-icon-database'\u003e\u003cuse xlink:href='#icon-database'\u003e\u003c/use\u003e\u003c/svg\u003e\u003c/label\u003e\u003cdiv class='xr-var-attrs'\u003e\u003cdl class='xr-attrs'\u003e\u003cdt\u003e\u003cspan\u003estandard_name :\u003c/span\u003e\u003c/dt\u003e\u003cdd\u003elatitude\u003c/dd\u003e\u003cdt\u003e\u003cspan\u003elong name :\u003c/span\u003e\u003c/dt\u003e\u003cdd\u003eLatitude of the center of each face\u003c/dd\u003e\u003cdt\u003e\u003cspan\u003eunits :\u003c/span\u003e\u003c/dt\u003e\u003cdd\u003edegrees_north\u003c/dd\u003e\u003c/dl\u003e\u003c/div\u003e\u003cdiv class='xr-var-data'\u003e\u003cpre\u003earray([-2.65650511e+01,  2.65650512e+01, -2.65650510e+01,  6.31019962e-08,\\n\",","       \"        3.17174745e+01,  1.95184205e-07,  2.25351676e-07,  3.17174745e+01,\\n\",","       \"        5.82825256e+01,  1.53403071e-08, -3.17174743e+01, -3.17174745e+01,\\n\",","       \"       -1.95184204e-07, -3.17174741e+01,  1.37933900e-07,  1.37864114e+01,\\n\",","       \"        3.03101168e+01,  3.03101169e+01,  1.37864115e+01,  1.37864116e+01,\\n\",","       \"       -1.37864114e+01, -3.03101168e+01, -4.20138378e+01, -3.03101169e+01,\\n\",","       \"       -3.03101165e+01, -3.03101166e+01,  1.37864115e+01,  1.37864114e+01,\\n\",","       \"        3.03101168e+01,  4.20138378e+01,  3.03101169e+01,  1.37864112e+01,\\n\",","       \"       -1.37864112e+01, -1.37864113e+01, -3.03101168e+01, -4.20138376e+01,\\n\",","       \"       -3.03101165e+01,  8.78915307e-01,  1.56345586e+01, -1.56345585e+01,\\n\",","       \"        4.69183973e+01,  4.69183973e+01,  1.56345586e+01, -1.56345582e+01,\\n\",","       \"       -8.78914935e-01, -1.56345582e+01,  1.56345586e+01,  1.56345586e+01,\\n\",","       \"        4.69183973e+01,  4.69183973e+01,  8.78915168e-01, -8.78915108e-01,\\n\",","       \"       -1.56345584e+01, -4.69183971e+01, -4.69183971e+01, -4.69183973e+01,\\n\",","       \"       -4.69183973e+01, -4.69183970e+01, -4.69183969e+01, -4.69183973e+01,\\n\",","       \"        2.86596731e+01,  2.03911515e+01,  2.03911517e+01,  2.86596732e+01,\\n\",","       \"       -2.03911515e+01, -2.86596730e+01, -3.41027622e+01, -2.86596731e+01,\\n\",","       \"       -2.03911515e+01, -2.03911513e+01, -2.86596728e+01,  2.86596731e+01,\\n\",","       \"        2.03911516e+01,  2.03911515e+01,  2.86596731e+01,  3.41027623e+01,\\n\",","       \"       -2.03911514e+01, -2.86596730e+01, -3.41027621e+01, -2.86596729e+01,\\n\",","       \"...\\n\",","       \"       -4.20578676e+01, -6.33076360e+00, -9.88286260e+00, -9.88286258e+00,\\n\",","       \"       -1.89062771e+01, -1.83536654e+01, -2.25053352e+01, -4.20578675e+01,\\n\",","       \"       -3.79190996e+01, -4.10338826e+01, -1.89062772e+01, -1.83536655e+01,\\n\",","       \"       -2.25053353e+01, -4.20578677e+01, -3.79190997e+01, -1.83536651e+01,\\n\",","       \"       -2.25053349e+01, -1.89062768e+01, -4.20578673e+01, -3.79190993e+01,\\n\",","       \"       -4.10338823e+01, -4.20578674e+01, -4.10338824e+01, -3.79190994e+01,\\n\",","       \"        2.25053353e+01,  1.83536655e+01,  1.89062772e+01,  6.33076363e+00,\\n\",","       \"        9.88286263e+00,  9.88286261e+00,  4.20578677e+01,  3.79190997e+01,\\n\",","       \"        4.10338827e+01,  4.20578677e+01,  4.10338827e+01,  3.79190997e+01,\\n\",","       \"        1.83536652e+01,  1.89062768e+01, -2.25053350e+01, -1.83536652e+01,\\n\",","       \"       -1.89062768e+01, -6.33076344e+00, -9.88286241e+00, -9.88286244e+00,\\n\",","       \"       -1.89062771e+01, -1.83536654e+01, -2.25053352e+01, -4.20578676e+01,\\n\",","       \"       -3.79190996e+01, -4.10338826e+01, -4.20578674e+01, -4.10338824e+01,\\n\",","       \"       -3.79190994e+01,  1.20633348e+01,  8.29374559e+00,  1.20633348e+01,\\n\",","       \"        5.51412034e+01,  5.13108445e+01,  5.13108445e+01, -1.20633344e+01,\\n\",","       \"       -1.20633344e+01, -8.29374520e+00,  1.20633349e+01,  1.20633349e+01,\\n\",","       \"        5.13108445e+01,  5.51412034e+01, -1.20633348e+01, -8.29374559e+00,\\n\",","       \"       -1.20633346e+01, -8.29374539e+00, -1.20633346e+01, -5.13108443e+01,\\n\",","       \"       -5.13108443e+01, -5.13108445e+01, -5.13108445e+01, -5.13108442e+01,\\n\",","       \"       -5.13108441e+01, -5.13108445e+01])\u003c/pre\u003e\u003c/div\u003e\u003c/li\u003e\u003c/ul\u003e\u003c/div\u003e\u003c/li\u003e\u003cli class='xr-section-item'\u003e\u003cinput id='section-de35b82d-ef4e-4003-8a6d-c659b441e254' class='xr-section-summary-in' type='checkbox'  \u003e\u003clabel for='section-de35b82d-ef4e-4003-8a6d-c659b441e254' class='xr-section-summary' \u003eCartesian Coordinates: \u003cspan\u003e(9)\u003c/span\u003e\u003c/label\u003e\u003cdiv class='xr-section-inline-details'\u003e\u003c/div\u003e\u003cdiv class='xr-section-details'\u003e\u003cul class='xr-var-list'\u003e\u003cli class='xr-var-item'\u003e\u003cdiv class='xr-var-name'\u003e\u003cspan\u003enode_x\u003c/span\u003e\u003c/div\u003e\u003cdiv class='xr-var-dims'\u003e(n_node)\u003c/div\u003e\u003cdiv class='xr-var-dtype'\u003efloat64\u003c/div\u003e\u003cdiv class='xr-var-preview xr-preview'\u003e-5.686e+06 ... -3.853e+06\u003c/div\u003e\u003cinput id='attrs-a30c6ddf-5101-4dd2-a298-f98f538bc701' class='xr-var-attrs-in' type='checkbox' \u003e\u003clabel for='attrs-a30c6ddf-5101-4dd2-a298-f98f538bc701' title='Show/Hide attributes'\u003e\u003csvg class='icon xr-icon-file-text2'\u003e\u003cuse xlink:href='#icon-file-text2'\u003e\u003c/use\u003e\u003c/svg\u003e\u003c/label\u003e\u003cinput id='data-ad4cb6c2-4f94-457b-8f5d-2100be1ab04b' class='xr-var-data-in' type='checkbox'\u003e\u003clabel for='data-ad4cb6c2-4f94-457b-8f5d-2100be1ab04b' title='Show/Hide data repr'\u003e\u003csvg class='icon xr-icon-database'\u003e\u003cuse xlink:href='#icon-database'\u003e\u003c/use\u003e\u003c/svg\u003e\u003c/label\u003e\u003cdiv class='xr-var-attrs'\u003e\u003cdl class='xr-attrs'\u003e\u003cdt\u003e\u003cspan\u003estandard_name :\u003c/span\u003e\u003c/dt\u003e\u003cdd\u003ex\u003c/dd\u003e\u003cdt\u003e\u003cspan\u003elong name :\u003c/span\u003e\u003c/dt\u003e\u003cdd\u003eCartesian x location of the corner nodes of each face\u003c/dd\u003e\u003cdt\u003e\u003cspan\u003eunits :\u003c/span\u003e\u003c/dt\u003e\u003cdd\u003emeters\u003c/dd\u003e\u003c/dl\u003e\u003c/div\u003e\u003cdiv class='xr-var-data'\u003e\u003cpre\u003earray([-5685720.13738219, -5566999.92358776,  5566999.92358774, ...,\\n\",","       \"        2916928.74293144,  -866954.85647526, -3852734.97402842])\u003c/pre\u003e\u003c/div\u003e\u003c/li\u003e\u003cli class='xr-var-item'\u003e\u003cdiv class='xr-var-name'\u003e\u003cspan\u003enode_y\u003c/span\u003e\u003c/div\u003e\u003cdiv class='xr-var-dims'\u003e(n_node)\u003c/div\u003e\u003cdiv class='xr-var-dtype'\u003efloat64\u003c/div\u003e\u003cdiv class='xr-var-preview xr-preview'\u003e-7.453e+05 -6.42e+05 ... -3.403e+05\u003c/div\u003e\u003cinput id='attrs-5101d69c-9c1b-4bd4-9791-2f14b52a4755' class='xr-var-attrs-in' type='checkbox' \u003e\u003clabel for='attrs-5101d69c-9c1b-4bd4-9791-2f14b52a4755' title='Show/Hide attributes'\u003e\u003csvg class='icon xr-icon-file-text2'\u003e\u003cuse xlink:href='#icon-file-text2'\u003e\u003c/use\u003e\u003c/svg\u003e\u003c/label\u003e\u003cinput id='data-7fe14dc5-ec05-434e-8579-9d73cf80c798' class='xr-var-data-in' type='checkbox'\u003e\u003clabel for='data-7fe14dc5-ec05-434e-8579-9d73cf80c798' title='Show/Hide data repr'\u003e\u003csvg class='icon xr-icon-database'\u003e\u003cuse xlink:href='#icon-database'\u003e\u003c/use\u003e\u003c/svg\u003e\u003c/label\u003e\u003cdiv class='xr-var-attrs'\u003e\u003cdl class='xr-attrs'\u003e\u003cdt\u003e\u003cspan\u003estandard_name :\u003c/span\u003e\u003c/dt\u003e\u003cdd\u003ey\u003c/dd\u003e\u003cdt\u003e\u003cspan\u003elong name :\u003c/span\u003e\u003c/dt\u003e\u003cdd\u003eCartesian y location of the corner nodes of each face\u003c/dd\u003e\u003cdt\u003e\u003cspan\u003eunits :\u003c/span\u003e\u003c/dt\u003e\u003cdd\u003emeters\u003c/dd\u003e\u003c/dl\u003e\u003c/div\u003e\u003cdiv class='xr-var-data'\u003e\u003cpre\u003earray([ -745326.27060765,  -641953.06270647,   641953.06270664, ...,\\n\",","       \"        2539856.26570134, -3769314.609438  ,  -340259.21827198])\u003c/pre\u003e\u003c/div\u003e\u003c/li\u003e\u003cli class='xr-var-item'\u003e\u003cdiv class='xr-var-name'\u003e\u003cspan\u003enode_z\u003c/span\u003e\u003c/div\u003e\u003cdiv class='xr-var-dims'\u003e(n_node)\u003c/div\u003e\u003cdiv class='xr-var-dtype'\u003efloat64\u003c/div\u003e\u003cdiv class='xr-var-preview xr-preview'\u003e2.777e+06 3.031e+06 ... -5.063e+06\u003c/div\u003e\u003cinput id='attrs-6a745394-64ae-4041-a983-4accfcf36d5d' class='xr-var-attrs-in' type='checkbox' \u003e\u003clabel for='attrs-6a745394-64ae-4041-a983-4accfcf36d5d' title='Show/Hide attributes'\u003e\u003csvg class='icon xr-icon-file-text2'\u003e\u003cuse xlink:href='#icon-file-text2'\u003e\u003c/use\u003e\u003c/svg\u003e\u003c/label\u003e\u003cinput id='data-9d17f8b4-b8f7-4bf9-a84a-071c0de363d9' class='xr-var-data-in' type='checkbox'\u003e\u003clabel for='data-9d17f8b4-b8f7-4bf9-a84a-071c0de363d9' title='Show/Hide data repr'\u003e\u003csvg class='icon xr-icon-database'\u003e\u003cuse xlink:href='#icon-database'\u003e\u003c/use\u003e\u003c/svg\u003e\u003c/label\u003e\u003cdiv class='xr-var-attrs'\u003e\u003cdl class='xr-attrs'\u003e\u003cdt\u003e\u003cspan\u003estandard_name :\u003c/span\u003e\u003c/dt\u003e\u003cdd\u003ez\u003c/dd\u003e\u003cdt\u003e\u003cspan\u003elong name :\u003c/span\u003e\u003c/dt\u003e\u003cdd\u003eCartesian z location of the corner nodes of each face\u003c/dd\u003e\u003cdt\u003e\u003cspan\u003eunits :\u003c/span\u003e\u003c/dt\u003e\u003cdd\u003emeters\u003c/dd\u003e\u003c/dl\u003e\u003c/div\u003e\u003cdiv class='xr-var-data'\u003e\u003cpre\u003earray([ 2776622.81200557,  3031330.91009488, -3031330.91009488, ...,\\n\",","       \"       -5062925.61950885, -5062925.5991326 , -5062925.6220806 ])\u003c/pre\u003e\u003c/div\u003e\u003c/li\u003e\u003cli class='xr-var-item'\u003e\u003cdiv class='xr-var-name'\u003e\u003cspan\u003eedge_x\u003c/span\u003e\u003c/div\u003e\u003cdiv class='xr-var-dims'\u003e(n_edge)\u003c/div\u003e\u003cdiv class='xr-var-dtype'\u003efloat64\u003c/div\u003e\u003cdiv class='xr-var-preview xr-preview'\u003e-3.786e+06 ... -2.478e+06\u003c/div\u003e\u003cinput id='attrs-0ee2f5cd-3a39-4df5-a2b5-2c33e4f34619' class='xr-var-attrs-in' type='checkbox' \u003e\u003clabel for='attrs-0ee2f5cd-3a39-4df5-a2b5-2c33e4f34619' title='Show/Hide attributes'\u003e\u003csvg class='icon xr-icon-file-text2'\u003e\u003cuse xlink:href='#icon-file-text2'\u003e\u003c/use\u003e\u003c/svg\u003e\u003c/label\u003e\u003cinput id='data-c8cbaf39-0b1a-42f6-9c7d-5412e8d94150' class='xr-var-data-in' type='checkbox'\u003e\u003clabel for='data-c8cbaf39-0b1a-42f6-9c7d-5412e8d94150' title='Show/Hide data repr'\u003e\u003csvg class='icon xr-icon-database'\u003e\u003cuse xlink:href='#icon-database'\u003e\u003c/use\u003e\u003c/svg\u003e\u003c/label\u003e\u003cdiv class='xr-var-attrs'\u003e\u003cdl class='xr-attrs'\u003e\u003cdt\u003e\u003cspan\u003estandard_name :\u003c/span\u003e\u003c/dt\u003e\u003cdd\u003ex\u003c/dd\u003e\u003cdt\u003e\u003cspan\u003elong name :\u003c/span\u003e\u003c/dt\u003e\u003cdd\u003eCartesian x location of the center of each edge\u003c/dd\u003e\u003cdt\u003e\u003cspan\u003eunits :\u003c/span\u003e\u003c/dt\u003e\u003cdd\u003emeters\u003c/dd\u003e\u003c/dl\u003e\u003c/div\u003e\u003cdiv class='xr-var-data'\u003e\u003cpre\u003earray([-3785685.80531731,  -891698.00758265,  2953913.83372714, ...,\\n\",","       \"       -3820868.75526419, -3197652.82546307, -2477966.7682748 ])\u003c/pre\u003e\u003c/div\u003e\u003c/li\u003e\u003cli class='xr-var-item'\u003e\u003cdiv class='xr-var-name'\u003e\u003cspan\u003eedge_y\u003c/span\u003e\u003c/div\u003e\u003cdiv class='xr-var-dims'\u003e(n_edge)\u003c/div\u003e\u003cdiv class='xr-var-dtype'\u003efloat64\u003c/div\u003e\u003cdiv class='xr-var-preview xr-preview'\u003e-4.561e+05 -3.877e+06 ... -5.83e+06\u003c/div\u003e\u003cinput id='attrs-b62167f4-dde1-4e9f-ae3c-2187f859fed9' class='xr-var-attrs-in' type='checkbox' \u003e\u003clabel for='attrs-b62167f4-dde1-4e9f-ae3c-2187f859fed9' title='Show/Hide attributes'\u003e\u003csvg class='icon xr-icon-file-text2'\u003e\u003cuse xlink:href='#icon-file-text2'\u003e\u003c/use\u003e\u003c/svg\u003e\u003c/label\u003e\u003cinput id='data-924592c1-7b0d-40f8-ae3f-47962ef752bf' class='xr-var-data-in' type='checkbox'\u003e\u003clabel for='data-924592c1-7b0d-40f8-ae3f-47962ef752bf' title='Show/Hide data repr'\u003e\u003csvg class='icon xr-icon-database'\u003e\u003cuse xlink:href='#icon-database'\u003e\u003c/use\u003e\u003c/svg\u003e\u003c/label\u003e\u003cdiv class='xr-var-attrs'\u003e\u003cdl class='xr-attrs'\u003e\u003cdt\u003e\u003cspan\u003estandard_name :\u003c/span\u003e\u003c/dt\u003e\u003cdd\u003ey\u003c/dd\u003e\u003cdt\u003e\u003cspan\u003elong name :\u003c/span\u003e\u003c/dt\u003e\u003cdd\u003eCartesian y location of the center of each edge\u003c/dd\u003e\u003cdt\u003e\u003cspan\u003eunits :\u003c/span\u003e\u003c/dt\u003e\u003cdd\u003emeters\u003c/dd\u003e\u003c/dl\u003e\u003c/div\u003e\u003cdiv class='xr-var-data'\u003e\u003cpre\u003earray([ -456129.3234269 , -3876891.97452953,  2411195.56679867, ...,\\n\",","       \"       -1307534.83897474, -5373190.29110637, -5830293.00724777])\u003c/pre\u003e\u003c/div\u003e\u003c/li\u003e\u003cli class='xr-var-item'\u003e\u003cdiv class='xr-var-name'\u003e\u003cspan\u003eedge_z\u003c/span\u003e\u003c/div\u003e\u003cdiv class='xr-var-dims'\u003e(n_edge)\u003c/div\u003e\u003cdiv class='xr-var-dtype'\u003efloat64\u003c/div\u003e\u003cdiv class='xr-var-preview xr-preview'\u003e-5.104e+06 ... -6.782e+05\u003c/div\u003e\u003cinput id='attrs-d5b95ce9-e57d-4b15-9ba2-b88f09ae98e3' class='xr-var-attrs-in' type='checkbox' \u003e\u003clabel for='attrs-d5b95ce9-e57d-4b15-9ba2-b88f09ae98e3' title='Show/Hide attributes'\u003e\u003csvg class='icon xr-icon-file-text2'\u003e\u003cuse xlink:href='#icon-file-text2'\u003e\u003c/use\u003e\u003c/svg\u003e\u003c/label\u003e\u003cinput id='data-636b23af-9b5a-4f79-8f8f-7f6eaea939f0' class='xr-var-data-in' type='checkbox'\u003e\u003clabel for='data-636b23af-9b5a-4f79-8f8f-7f6eaea939f0' title='Show/Hide data repr'\u003e\u003csvg class='icon xr-icon-database'\u003e\u003cuse xlink:href='#icon-database'\u003e\u003c/use\u003e\u003c/svg\u003e\u003c/label\u003e\u003cdiv class='xr-var-attrs'\u003e\u003cdl class='xr-attrs'\u003e\u003cdt\u003e\u003cspan\u003estandard_name :\u003c/span\u003e\u003c/dt\u003e\u003cdd\u003ez\u003c/dd\u003e\u003cdt\u003e\u003cspan\u003elong name :\u003c/span\u003e\u003c/dt\u003e\u003cdd\u003eCartesian z location of the center of each edge\u003c/dd\u003e\u003cdt\u003e\u003cspan\u003eunits :\u003c/span\u003e\u003c/dt\u003e\u003cdd\u003emeters\u003c/dd\u003e\u003c/dl\u003e\u003c/div\u003e\u003cdiv class='xr-var-data'\u003e\u003cpre\u003earray([-5104222.56510922, -4976659.74841988, -5104222.56293815, ...,\\n\",","       \"       -4927867.040653  , -1223274.89707315,  -678176.31586817])\u003c/pre\u003e\u003c/div\u003e\u003c/li\u003e\u003cli class='xr-var-item'\u003e\u003cdiv class='xr-var-name'\u003e\u003cspan\u003eface_x\u003c/span\u003e\u003c/div\u003e\u003cdiv class='xr-var-dims'\u003e(n_face)\u003c/div\u003e\u003cdiv class='xr-var-dtype'\u003efloat64\u003c/div\u003e\u003cdiv class='xr-var-preview xr-preview'\u003e5.677e+06 4.887e+06 ... -3.938e+06\u003c/div\u003e\u003cinput id='attrs-01fab410-5861-4834-ae59-1500167802d6' class='xr-var-attrs-in' type='checkbox' \u003e\u003clabel for='attrs-01fab410-5861-4834-ae59-1500167802d6' title='Show/Hide attributes'\u003e\u003csvg class='icon xr-icon-file-text2'\u003e\u003cuse xlink:href='#icon-file-text2'\u003e\u003c/use\u003e\u003c/svg\u003e\u003c/label\u003e\u003cinput id='data-70026394-9284-41fa-92f0-08de995a5f65' class='xr-var-data-in' type='checkbox'\u003e\u003clabel for='data-70026394-9284-41fa-92f0-08de995a5f65' title='Show/Hide data repr'\u003e\u003csvg class='icon xr-icon-database'\u003e\u003cuse xlink:href='#icon-database'\u003e\u003c/use\u003e\u003c/svg\u003e\u003c/label\u003e\u003cdiv class='xr-var-attrs'\u003e\u003cdl class='xr-attrs'\u003e\u003cdt\u003e\u003cspan\u003estandard_name :\u003c/span\u003e\u003c/dt\u003e\u003cdd\u003ex\u003c/dd\u003e\u003cdt\u003e\u003cspan\u003elong name :\u003c/span\u003e\u003c/dt\u003e\u003cdd\u003eCartesian x location of the center of each face\u003c/dd\u003e\u003cdt\u003e\u003cspan\u003eunits :\u003c/span\u003e\u003c/dt\u003e\u003cdd\u003emeters\u003c/dd\u003e\u003c/dl\u003e\u003c/div\u003e\u003cdiv class='xr-var-data'\u003e\u003cpre\u003earray([ 5676505.75757369,  4887062.74237108, -4297716.52262798,\\n\",","       \"       -5862700.76017412, -4087371.30329181, -3276939.3320647 ,\\n\",","       \"         560501.55507757,  2121738.48225658,  2872543.404921  ,\\n\",","       \"        6209109.76691178,  4647872.85128423,  4087371.30329142,\\n\",","       \"        3276939.332064  , -1214827.90694381,  4183849.89070037,\\n\",","       \"       -5995301.81648857, -5095779.5912954 , -2751634.32985296,\\n\",","       \"       -2341005.43478855,  -396654.55983735,  6170819.99956203,\\n\",","       \"        5379773.97752548,  4715362.46848145,  2751634.32985234,\\n\",","       \"         573248.83343086,  3543756.43568671,  4723999.0843322 ,\\n\",","       \"        5750155.81586547,  5339526.91579827,  4059587.57254499,\\n\",","       \"        3679170.45308539,  3950446.30863379, -3950446.30863438,\\n\",","       \"       -5260597.42939364, -5025486.70757353, -3570029.16879666,\\n\",","       \"       -2905617.66452976, -4804427.82114898, -5196225.98262972,\\n\",","       \"       -5953981.50449334, -2577501.51866091, -3827571.38020056,\\n\",","       \"       -3946156.12659044, -2286219.52529654, -1427947.82856994,\\n\",","       \"        -431033.22986436,  1497045.10723887,  3248729.72730005,\\n\",","       \"        2538266.47551153,  4313705.68684895,  6345779.67132113,\\n\",","       \"        5463259.38399553,  5687588.32107689,  3152151.0449389 ,\\n\",","       \"        4131250.0082866 ,  3827571.38020042,  2577501.51866052,\\n\",","       \"       -1879434.88731116,   -24248.59744256, -4146236.45430083,\\n\",","       \"...\\n\",","       \"        1051816.77888329,  2972970.73970474,  2649240.10244112,\\n\",","       \"        3080092.28508134,  3867666.50452335,  4133947.79587372,\\n\",","       \"        3768729.00989255,  5430582.78134202,  5247643.08586913,\\n\",","       \"        5509165.72394531,  4567920.97884913,  4826399.4342791 ,\\n\",","       \"        4500198.6668474 ,  3235574.69908163,  3607323.61254926,\\n\",","       \"        3510371.86490268,  3296439.1287045 ,  2885947.86913396,\\n\",","       \"       -3030157.83414856, -3296439.12870514, -2885947.86913464,\\n\",","       \"       -4775691.79017461, -4562855.54931121, -4896755.9825384 ,\\n\",","       \"       -5638353.58151152, -5474870.85012759, -5414951.37179796,\\n\",","       \"       -4281763.96628079, -4505829.58748526, -4134896.87976851,\\n\",","       \"       -2580683.68473214, -2994913.85011561, -2825584.30822882,\\n\",","       \"       -4536105.67091206, -4754740.32895354, -4854546.31985231,\\n\",","       \"       -2746322.31156915, -2838785.13687223, -3157225.78747705,\\n\",","       \"       -1159227.65216468, -1631814.62453413, -1413179.96588262,\\n\",","       \"        2660435.94394316,  2214214.81093373,  3981153.06059923,\\n\",","       \"        3627394.7528053 ,  4536105.67091158,  4754740.32895308,\\n\",","       \"        5214489.42162082,  5406758.24123795,  5463903.40950677,\\n\",","       \"        3284415.19430205,  3533829.18348669,  2838785.13687197,\\n\",","       \"        3157225.78747686, -1127345.55624184,  -654758.58555543,\\n\",","       \"       -3938492.23563034])\u003c/pre\u003e\u003c/div\u003e\u003c/li\u003e\u003cli class='xr-var-item'\u003e\u003cdiv class='xr-var-name'\u003e\u003cspan\u003eface_y\u003c/span\u003e\u003c/div\u003e\u003cdiv class='xr-var-dims'\u003e(n_face)\u003c/div\u003e\u003cdiv class='xr-var-dtype'\u003efloat64\u003c/div\u003e\u003cdiv class='xr-var-preview xr-preview'\u003e5.013e+05 -2.931e+06 ... -5.912e+05\u003c/div\u003e\u003cinput id='attrs-06b39c10-6934-4fc2-91d7-b5d86dae9f5b' class='xr-var-attrs-in' type='checkbox' \u003e\u003clabel for='attrs-06b39c10-6934-4fc2-91d7-b5d86dae9f5b' title='Show/Hide attributes'\u003e\u003csvg class='icon xr-icon-file-text2'\u003e\u003cuse xlink:href='#icon-file-text2'\u003e\u003c/use\u003e\u003c/svg\u003e\u003c/label\u003e\u003cinput id='data-c5fdca18-0696-44d5-8efb-b9182eef9ae6' class='xr-var-data-in' type='checkbox'\u003e\u003clabel for='data-c5fdca18-0696-44d5-8efb-b9182eef9ae6' title='Show/Hide data repr'\u003e\u003csvg class='icon xr-icon-database'\u003e\u003cuse xlink:href='#icon-database'\u003e\u003c/use\u003e\u003c/svg\u003e\u003c/label\u003e\u003cdiv class='xr-var-attrs'\u003e\u003cdl class='xr-attrs'\u003e\u003cdt\u003e\u003cspan\u003estandard_name :\u003c/span\u003e\u003c/dt\u003e\u003cdd\u003ey\u003c/dd\u003e\u003cdt\u003e\u003cspan\u003elong name :\u003c/span\u003e\u003c/dt\u003e\u003cdd\u003eCartesian y location of the center of each face\u003c/dd\u003e\u003cdt\u003e\u003cspan\u003eunits :\u003c/span\u003e\u003c/dt\u003e\u003cdd\u003emeters\u003c/dd\u003e\u003c/dl\u003e\u003c/div\u003e\u003cdiv class='xr-var-data'\u003e\u003cpre\u003earray([ 5.01327814e+05, -2.93098361e+06, -3.74214911e+06, -2.49425315e+06,\\n\",","       \"       -3.55899528e+06, -5.46390223e+06, -6.34652637e+06, -4.98711112e+06,\\n\",","       \"       -1.72278894e+06, -1.42811585e+06, -2.78753110e+06,  3.55899528e+06,\\n\",","       \"        5.46390223e+06, -5.28178426e+06, -4.80499314e+06, -1.53092434e+06,\\n\",","       \"       -2.07040686e+06, -4.76256892e+06, -5.72774534e+06, -6.17495250e+06,\\n\",","       \"       -4.56457831e+05, -1.14524505e+06,  4.16443220e+05,  4.76256892e+06,\\n\",","       \"       -5.47036929e+06, -4.20658349e+06, -3.99639911e+06, -2.28540616e+06,\\n\",","       \"       -1.32022972e+06, -2.43471084e+06, -4.08867448e+06,  4.76249381e+06,\\n\",","       \"       -4.76249381e+06, -3.25783485e+06, -2.23562913e+06, -3.10853020e+06,\\n\",","       \"       -4.67021845e+06, -4.18335762e+06, -3.26244252e+06, -1.48135071e+06,\\n\",","       \"       -3.50637231e+06, -2.07071441e+06, -4.69810041e+06, -5.69363645e+06,\\n\",","       \"       -6.20837923e+06, -6.12033546e+06, -5.95005475e+06, -5.20481035e+06,\\n\",","       \"       -3.53487823e+06, -5.74546825e+05,  5.60435604e+05, -3.27655377e+06,\\n\",","       \"       -2.30122463e+06, -3.00035078e+06, -1.36782100e+06,  2.07071441e+06,\\n\",","       \"        3.50637231e+06, -3.92503319e+06, -4.35173219e+06, -1.32169743e+06,\\n\",","       \"       -1.27861698e+06, -1.01294600e+06, -5.69018173e+06, -5.57121437e+06,\\n\",","       \"        3.42492462e+04, -3.04947621e+05,  4.64113937e+05,  1.27861698e+06,\\n\",","       \"        1.01294600e+06, -5.66901454e+06, -5.40334356e+06, -3.52791792e+06,\\n\",","       \"       -3.48247644e+06, -2.63988900e+06, -2.16458282e+06, -2.71341487e+06,\\n\",","       \"       -3.53789292e+06, -3.03450237e+06, -3.46436707e+06, -4.23342862e+06,\\n\",","       \"...\\n\",","       \"        1.69044499e+06,  5.57083547e+05,  8.04979508e+05,  2.98482390e+05,\\n\",","       \"       -1.59039768e+06, -1.14065730e+06, -1.31619915e+06, -8.89941786e+05,\\n\",","       \"       -8.46786955e+05, -4.48780664e+05,  5.03788449e+06,  5.29543939e+06,\\n\",","       \"        5.04945798e+06,  4.14357367e+06,  4.45013343e+06, -6.00040438e+06,\\n\",","       \"       -5.86291380e+06, -6.02080432e+06, -4.69358795e+06, -4.97347656e+06,\\n\",","       \"       -4.68944389e+06, -3.67946818e+06, -4.00982910e+06, -3.97177784e+06,\\n\",","       \"       -4.43693578e+06, -4.41341881e+06, -4.70398150e+06, -3.25695619e+06,\\n\",","       \"       -3.44369132e+06, -3.00763377e+06, -1.22928389e+06, -1.40280290e+06,\\n\",","       \"       -1.68683558e+06, -3.45081111e+06, -3.17559737e+06, -3.59712063e+06,\\n\",","       \"        5.06964290e+06,  5.29169778e+06, -5.04612593e+06, -5.06964290e+06,\\n\",","       \"       -5.29169778e+06, -4.15833631e+06, -4.31011800e+06, -3.92664599e+06,\\n\",","       \"       -2.13066404e+06, -2.56779656e+06, -2.30728086e+06, -2.01085513e+06,\\n\",","       \"       -2.22699063e+06, -2.44945508e+06, -3.96448141e+06, -3.75868242e+06,\\n\",","       \"       -4.15668871e+06, -4.27121795e+06, -4.14009325e+06, -3.90550092e+06,\\n\",","       \"       -2.39130419e+06, -2.79331068e+06, -2.42759365e+06, -6.12174393e+06,\\n\",","       \"       -6.01304736e+06, -6.14417205e+06, -5.63397178e+06, -5.82381406e+06,\\n\",","       \"        1.08193799e+05,  3.20358010e+05,  4.27121795e+06,  4.14009325e+06,\\n\",","       \"       -3.41008175e+06, -3.24266759e+06, -2.99421392e+06, -2.25253248e+06,\\n\",","       \"       -1.83666465e+06,  2.79331068e+06,  2.42759365e+06, -3.81973531e+06,\\n\",","       \"       -3.92843188e+06, -5.91239806e+05])\u003c/pre\u003e\u003c/div\u003e\u003c/li\u003e\u003cli class='xr-var-item'\u003e\u003cdiv class='xr-var-name'\u003e\u003cspan\u003eface_z\u003c/span\u003e\u003c/div\u003e\u003cdiv class='xr-var-dims'\u003e(n_face)\u003c/div\u003e\u003cdiv class='xr-var-dtype'\u003efloat64\u003c/div\u003e\u003cdiv class='xr-var-preview xr-preview'\u003e-2.849e+06 2.849e+06 ... -4.973e+06\u003c/div\u003e\u003cinput id='attrs-de759223-44be-4c72-9d9d-2529a108d4e6' class='xr-var-attrs-in' type='checkbox' \u003e\u003clabel for='attrs-de759223-44be-4c72-9d9d-2529a108d4e6' title='Show/Hide attributes'\u003e\u003csvg class='icon xr-icon-file-text2'\u003e\u003cuse xlink:href='#icon-file-text2'\u003e\u003c/use\u003e\u003c/svg\u003e\u003c/label\u003e\u003cinput id='data-5c763d1d-f6b4-47b8-9a4f-c83765ae7bb8' class='xr-var-data-in' type='checkbox'\u003e\u003clabel for='data-5c763d1d-f6b4-47b8-9a4f-c83765ae7bb8' title='Show/Hide data repr'\u003e\u003csvg class='icon xr-icon-database'\u003e\u003cuse xlink:href='#icon-database'\u003e\u003c/use\u003e\u003c/svg\u003e\u003c/label\u003e\u003cdiv class='xr-var-attrs'\u003e\u003cdl class='xr-attrs'\u003e\u003cdt\u003e\u003cspan\u003estandard_name :\u003c/span\u003e\u003c/dt\u003e\u003cdd\u003ez\u003c/dd\u003e\u003cdt\u003e\u003cspan\u003elong name :\u003c/span\u003e\u003c/dt\u003e\u003cdd\u003eCartesian z location of the center of each face\u003c/dd\u003e\u003cdt\u003e\u003cspan\u003eunits :\u003c/span\u003e\u003c/dt\u003e\u003cdd\u003emeters\u003c/dd\u003e\u003c/dl\u003e\u003c/div\u003e\u003cdiv class='xr-var-data'\u003e\u003cpre\u003earray([-2.84930023e+06,  2.84930023e+06, -2.84930021e+06,  7.01687405e-03,\\n\",","       \"        3.34955331e+06,  2.17042735e-02,  2.50588638e-02,  3.34955332e+06,\\n\",","       \"        5.41969110e+06,  1.70582563e-03, -3.34955330e+06, -3.34955331e+06,\\n\",","       \"       -2.17042734e-02, -3.34955328e+06,  1.53381012e-02,  1.51828382e+06,\\n\",","       \"        3.21543228e+06,  3.21543229e+06,  1.51828384e+06,  1.51828384e+06,\\n\",","       \"       -1.51828382e+06, -3.21543227e+06, -4.26432771e+06, -3.21543229e+06,\\n\",","       \"       -3.21543225e+06, -3.21543226e+06,  1.51828383e+06,  1.51828382e+06,\\n\",","       \"        3.21543228e+06,  4.26432771e+06,  3.21543229e+06,  1.51828380e+06,\\n\",","       \"       -1.51828380e+06, -1.51828381e+06, -3.21543228e+06, -4.26432770e+06,\\n\",","       \"       -3.21543225e+06,  9.77306029e+04,  1.71705076e+06, -1.71705075e+06,\\n\",","       \"        4.65342864e+06,  4.65342864e+06,  1.71705076e+06, -1.71705072e+06,\\n\",","       \"       -9.77305615e+04, -1.71705072e+06,  1.71705077e+06,  1.71705076e+06,\\n\",","       \"        4.65342865e+06,  4.65342865e+06,  9.77305875e+04, -9.77305808e+04,\\n\",","       \"       -1.71705074e+06, -4.65342863e+06, -4.65342863e+06, -4.65342864e+06,\\n\",","       \"       -4.65342864e+06, -4.65342862e+06, -4.65342862e+06, -4.65342864e+06,\\n\",","       \"        3.05567972e+06,  2.21991008e+06,  2.21991009e+06,  3.05567973e+06,\\n\",","       \"       -2.21991008e+06, -3.05567972e+06, -3.57221376e+06, -3.05567972e+06,\\n\",","       \"       -2.21991008e+06, -2.21991005e+06, -3.05567969e+06,  3.05567972e+06,\\n\",","       \"        2.21991008e+06,  2.21991008e+06,  3.05567972e+06,  3.57221377e+06,\\n\",","       \"       -2.21991007e+06, -3.05567971e+06, -3.57221375e+06, -3.05567970e+06,\\n\",","       \"...\\n\",","       \"       -4.26796415e+06, -7.02542544e+05, -1.09352234e+06, -1.09352233e+06,\\n\",","       \"       -2.06441241e+06, -2.00618269e+06, -2.43871188e+06, -4.26796414e+06,\\n\",","       \"       -3.91542736e+06, -4.18274510e+06, -2.06441242e+06, -2.00618270e+06,\\n\",","       \"       -2.43871189e+06, -4.26796415e+06, -3.91542737e+06, -2.00618266e+06,\\n\",","       \"       -2.43871185e+06, -2.06441238e+06, -4.26796412e+06, -3.91542734e+06,\\n\",","       \"       -4.18274508e+06, -4.26796413e+06, -4.18274509e+06, -3.91542735e+06,\\n\",","       \"        2.43871189e+06,  2.00618270e+06,  2.06441242e+06,  7.02542548e+05,\\n\",","       \"        1.09352234e+06,  1.09352234e+06,  4.26796415e+06,  3.91542737e+06,\\n\",","       \"        4.18274511e+06,  4.26796415e+06,  4.18274511e+06,  3.91542737e+06,\\n\",","       \"        2.00618267e+06,  2.06441238e+06, -2.43871186e+06, -2.00618267e+06,\\n\",","       \"       -2.06441238e+06, -7.02542527e+05, -1.09352232e+06, -1.09352232e+06,\\n\",","       \"       -2.06441241e+06, -2.00618269e+06, -2.43871188e+06, -4.26796415e+06,\\n\",","       \"       -3.91542736e+06, -4.18274510e+06, -4.26796413e+06, -4.18274509e+06,\\n\",","       \"       -3.91542734e+06,  1.33154105e+06,  9.19038210e+05,  1.33154105e+06,\\n\",","       \"        5.22799550e+06,  4.97305473e+06,  4.97305473e+06, -1.33154100e+06,\\n\",","       \"       -1.33154100e+06, -9.19038166e+05,  1.33154105e+06,  1.33154105e+06,\\n\",","       \"        4.97305473e+06,  5.22799551e+06, -1.33154105e+06, -9.19038210e+05,\\n\",","       \"       -1.33154102e+06, -9.19038188e+05, -1.33154103e+06, -4.97305472e+06,\\n\",","       \"       -4.97305472e+06, -4.97305473e+06, -4.97305473e+06, -4.97305471e+06,\\n\",","       \"       -4.97305471e+06, -4.97305473e+06])\u003c/pre\u003e\u003c/div\u003e\u003c/li\u003e\u003c/ul\u003e\u003c/div\u003e\u003c/li\u003e\u003cli class='xr-section-item'\u003e\u003cinput id='section-52c15469-1d3a-4b37-afe0-d14be2aee16a' class='xr-section-summary-in' type='checkbox'  \u003e\u003clabel for='section-52c15469-1d3a-4b37-afe0-d14be2aee16a' class='xr-section-summary' \u003eConnectivity: \u003cspan\u003e(2)\u003c/span\u003e\u003c/label\u003e\u003cdiv class='xr-section-inline-details'\u003e\u003c/div\u003e\u003cdiv class='xr-section-details'\u003e\u003cul class='xr-var-list'\u003e\u003cli class='xr-var-item'\u003e\u003cdiv class='xr-var-name'\u003e\u003cspan\u003eedge_node_connectivity\u003c/span\u003e\u003c/div\u003e\u003cdiv class='xr-var-dims'\u003e(n_edge, two)\u003c/div\u003e\u003cdiv class='xr-var-dtype'\u003eint64\u003c/div\u003e\u003cdiv class='xr-var-preview xr-preview'\u003e2193 1636 2192 ... 2097 2098 651\u003c/div\u003e\u003cinput id='attrs-5fd69bfd-b67b-48c0-857b-12efa2aac500' class='xr-var-attrs-in' type='checkbox' \u003e\u003clabel for='attrs-5fd69bfd-b67b-48c0-857b-12efa2aac500' title='Show/Hide attributes'\u003e\u003csvg class='icon xr-icon-file-text2'\u003e\u003cuse xlink:href='#icon-file-text2'\u003e\u003c/use\u003e\u003c/svg\u003e\u003c/label\u003e\u003cinput id='data-a3e1bf9e-dd4f-41dc-b507-2a0d89f3b121' class='xr-var-data-in' type='checkbox'\u003e\u003clabel for='data-a3e1bf9e-dd4f-41dc-b507-2a0d89f3b121' title='Show/Hide data repr'\u003e\u003csvg class='icon xr-icon-database'\u003e\u003cuse xlink:href='#icon-database'\u003e\u003c/use\u003e\u003c/svg\u003e\u003c/label\u003e\u003cdiv class='xr-var-attrs'\u003e\u003cdl class='xr-attrs'\u003e\u003cdt\u003e\u003cspan\u003ecf_role :\u003c/span\u003e\u003c/dt\u003e\u003cdd\u003eedge_node_connectivity\u003c/dd\u003e\u003cdt\u003e\u003cspan\u003elong name :\u003c/span\u003e\u003c/dt\u003e\u003cdd\u003eMaps every edge to the two nodes that it connects.\u003c/dd\u003e\u003cdt\u003e\u003cspan\u003estart_index :\u003c/span\u003e\u003c/dt\u003e\u003cdd\u003e0\u003c/dd\u003e\u003c/dl\u003e\u003c/div\u003e\u003cdiv class='xr-var-data'\u003e\u003cpre\u003earray([[2193, 1636],\\n\",","       \"       [2192, 1627],\\n\",","       \"       [2191, 1615],\\n\",","       \"       ...,\\n\",","       \"       [2052,  402],\\n\",","       \"       [1387, 2097],\\n\",","       \"       [2098,  651]])\u003c/pre\u003e\u003c/div\u003e\u003c/li\u003e\u003cli class='xr-var-item'\u003e\u003cdiv class='xr-var-name'\u003e\u003cspan\u003eface_node_connectivity\u003c/span\u003e\u003c/div\u003e\u003cdiv class='xr-var-dims'\u003e(n_face, n_max_face_nodes)\u003c/div\u003e\u003cdiv class='xr-var-dtype'\u003eint64\u003c/div\u003e\u003cdiv class='xr-var-preview xr-preview'\u003e6 2 3 4 5 ... 2053 1639 1642 2193\u003c/div\u003e\u003cinput id='attrs-d8b7a436-c5a2-44e1-b8ac-f72b9b422dd5' class='xr-var-attrs-in' type='checkbox' \u003e\u003clabel for='attrs-d8b7a436-c5a2-44e1-b8ac-f72b9b422dd5' title='Show/Hide attributes'\u003e\u003csvg class='icon xr-icon-file-text2'\u003e\u003cuse xlink:href='#icon-file-text2'\u003e\u003c/use\u003e\u003c/svg\u003e\u003c/label\u003e\u003cinput id='data-5af5a017-6d79-426f-bb28-a88fc7baa3f9' class='xr-var-data-in' type='checkbox'\u003e\u003clabel for='data-5af5a017-6d79-426f-bb28-a88fc7baa3f9' title='Show/Hide data repr'\u003e\u003csvg class='icon xr-icon-database'\u003e\u003cuse xlink:href='#icon-database'\u003e\u003c/use\u003e\u003c/svg\u003e\u003c/label\u003e\u003cdiv class='xr-var-attrs'\u003e\u003cdl class='xr-attrs'\u003e\u003cdt\u003e\u003cspan\u003ecf_role :\u003c/span\u003e\u003c/dt\u003e\u003cdd\u003eface_node_connectivity\u003c/dd\u003e\u003cdt\u003e\u003cspan\u003elong name :\u003c/span\u003e\u003c/dt\u003e\u003cdd\u003eMaps every face to its corner nodes.\u003c/dd\u003e\u003cdt\u003e\u003cspan\u003estart_index :\u003c/span\u003e\u003c/dt\u003e\u003cdd\u003e0\u003c/dd\u003e\u003cdt\u003e\u003cspan\u003e_FillValue :\u003c/span\u003e\u003c/dt\u003e\u003cdd\u003e-9223372036854775808\u003c/dd\u003e\u003c/dl\u003e\u003c/div\u003e\u003cdiv class='xr-var-data'\u003e\u003cpre\u003earray([[                   6,                    2,                    3,\\n\",","       \"                           4,                    5, -9223372036854775808],\\n\",","       \"       [                  10,                   11,                    7,\\n\",","       \"                           8,                    9, -9223372036854775808],\\n\",","       \"       [                  12,                   13,                   14,\\n\",","       \"                          15,                   16, -9223372036854775808],\\n\",","       \"       ...,\\n\",","       \"       [                1627,                 1632,                 2041,\\n\",","       \"                        1625,                 1624,                 2192],\\n\",","       \"       [                2192,                 1634,                 1633,\\n\",","       \"                        2047,                 1628,                 1627],\\n\",","       \"       [                1636,                 1638,                 2053,\\n\",","       \"                        1639,                 1642,                 2193]])\u003c/pre\u003e\u003c/div\u003e\u003c/li\u003e\u003c/ul\u003e\u003c/div\u003e\u003c/li\u003e\u003cli class='xr-section-item'\u003e\u003cinput id='section-e8cb0a44-c7af-4833-b0a7-9725df16eb06' class='xr-section-summary-in' type='checkbox'  \u003e\u003clabel for='section-e8cb0a44-c7af-4833-b0a7-9725df16eb06' class='xr-section-summary' \u003eDescriptors: \u003cspan\u003e(2)\u003c/span\u003e\u003c/label\u003e\u003cdiv class='xr-section-inline-details'\u003e\u003c/div\u003e\u003cdiv class='xr-section-details'\u003e\u003cul class='xr-var-list'\u003e\u003cli class='xr-var-item'\u003e\u003cdiv class='xr-var-name'\u003e\u003cspan\u003eedge_face_distances\u003c/span\u003e\u003c/div\u003e\u003cdiv class='xr-var-dims'\u003e(n_edge)\u003c/div\u003e\u003cdiv class='xr-var-dtype'\u003efloat64\u003c/div\u003e\u003cdiv class='xr-var-preview xr-preview'\u003e4.85e+05 4.85e+05 ... 4.973e+05\u003c/div\u003e\u003cinput id='attrs-00105c00-f11d-4ca0-94da-0523a3070fcf' class='xr-var-attrs-in' type='checkbox' \u003e\u003clabel for='attrs-00105c00-f11d-4ca0-94da-0523a3070fcf' title='Show/Hide attributes'\u003e\u003csvg class='icon xr-icon-file-text2'\u003e\u003cuse xlink:href='#icon-file-text2'\u003e\u003c/use\u003e\u003c/svg\u003e\u003c/label\u003e\u003cinput id='data-ce06301c-bc25-4bae-9a02-e2958ea916d3' class='xr-var-data-in' type='checkbox'\u003e\u003clabel for='data-ce06301c-bc25-4bae-9a02-e2958ea916d3' title='Show/Hide data repr'\u003e\u003csvg class='icon xr-icon-database'\u003e\u003cuse xlink:href='#icon-database'\u003e\u003c/use\u003e\u003c/svg\u003e\u003c/label\u003e\u003cdiv class='xr-var-attrs'\u003e\u003cdl class='xr-attrs'\u003e\u003cdt\u003e\u003cspan\u003ecf_role :\u003c/span\u003e\u003c/dt\u003e\u003cdd\u003eedge_face_distances\u003c/dd\u003e\u003cdt\u003e\u003cspan\u003elong_name :\u003c/span\u003e\u003c/dt\u003e\u003cdd\u003eDistances between the face centers that saddle each edge\u003c/dd\u003e\u003c/dl\u003e\u003c/div\u003e\u003cdiv class='xr-var-data'\u003e\u003cpre\u003earray([485043.30497902, 485043.29817844, 485043.30506492, ...,\\n\",","       \"       485257.26806516, 487744.75389715, 497267.02740464])\u003c/pre\u003e\u003c/div\u003e\u003c/li\u003e\u003cli class='xr-var-item'\u003e\u003cdiv class='xr-var-name'\u003e\u003cspan\u003eedge_node_distances\u003c/span\u003e\u003c/div\u003e\u003cdiv class='xr-var-dims'\u003e(n_edge)\u003c/div\u003e\u003cdiv class='xr-var-dtype'\u003efloat64\u003c/div\u003e\u003cdiv class='xr-var-preview xr-preview'\u003e2.853e+05 2.853e+05 ... 2.62e+05\u003c/div\u003e\u003cinput id='attrs-353df14d-9cc3-47de-ac47-84bed43c6925' class='xr-var-attrs-in' type='checkbox' \u003e\u003clabel for='attrs-353df14d-9cc3-47de-ac47-84bed43c6925' title='Show/Hide attributes'\u003e\u003csvg class='icon xr-icon-file-text2'\u003e\u003cuse xlink:href='#icon-file-text2'\u003e\u003c/use\u003e\u003c/svg\u003e\u003c/label\u003e\u003cinput id='data-a2277a5b-0e9f-4060-a564-7f9d3bf38f23' class='xr-var-data-in' type='checkbox'\u003e\u003clabel for='data-a2277a5b-0e9f-4060-a564-7f9d3bf38f23' title='Show/Hide data repr'\u003e\u003csvg class='icon xr-icon-database'\u003e\u003cuse xlink:href='#icon-database'\u003e\u003c/use\u003e\u003c/svg\u003e\u003c/label\u003e\u003cdiv class='xr-var-attrs'\u003e\u003cdl class='xr-attrs'\u003e\u003cdt\u003e\u003cspan\u003ecf_role :\u003c/span\u003e\u003c/dt\u003e\u003cdd\u003eedge_node_distances\u003c/dd\u003e\u003cdt\u003e\u003cspan\u003elong_name :\u003c/span\u003e\u003c/dt\u003e\u003cdd\u003eDistances between the nodes that make up each edge.\u003c/dd\u003e\u003c/dl\u003e\u003c/div\u003e\u003cdiv class='xr-var-data'\u003e\u003cpre\u003earray([285298.42467823, 285298.39522781, 285298.42484597, ...,\\n\",","       \"       283573.13698969, 274517.22789552, 261978.54516178])\u003c/pre\u003e\u003c/div\u003e\u003c/li\u003e\u003c/ul\u003e\u003c/div\u003e\u003c/li\u003e\u003cli class='xr-section-item'\u003e\u003cinput id='section-36c3e36d-90ea-4226-8ba9-4f264bba0a47' class='xr-section-summary-in' type='checkbox'  \u003e\u003clabel for='section-36c3e36d-90ea-4226-8ba9-4f264bba0a47' class='xr-section-summary' \u003eAttributes: \u003cspan\u003e(9)\u003c/span\u003e\u003c/label\u003e\u003cdiv class='xr-section-inline-details'\u003e\u003c/div\u003e\u003cdiv class='xr-section-details'\u003e\u003cdl class='xr-attrs'\u003e\u003cdt\u003e\u003cspan\u003eon_a_sphere :\u003c/span\u003e\u003c/dt\u003e\u003cdd\u003eYES\u003c/dd\u003e\u003cdt\u003e\u003cspan\u003esphere_radius :\u003c/span\u003e\u003c/dt\u003e\u003cdd\u003e6371229.0\u003c/dd\u003e\u003cdt\u003e\u003cspan\u003eis_periodic :\u003c/span\u003e\u003c/dt\u003e\u003cdd\u003eNO\u003c/dd\u003e\u003cdt\u003e\u003cspan\u003eparent_id :\u003c/span\u003e\u003c/dt\u003e\u003cdd\u003ekufh9o2jwx\\n\",","       \"lsd2k42w1r\\n\",","       \"a4x6sqhkwb\u003c/dd\u003e\u003cdt\u003e\u003cspan\u003ehistory :\u003c/span\u003e\u003c/dt\u003e\u003cdd\u003eTue Oct 10 16:52:25 2023: ./convert.py\\n\",","       \"MpasMeshConverter.x ocean.QU.480km.151209.nc ocean.QU.480km.20231010.nc\\n\",","       \"mpirun -n 2 ./ocean_model\u003c/dd\u003e\u003cdt\u003e\u003cspan\u003emesh_spec :\u003c/span\u003e\u003c/dt\u003e\u003cdd\u003e1.0\u003c/dd\u003e\u003cdt\u003e\u003cspan\u003eConventions :\u003c/span\u003e\u003c/dt\u003e\u003cdd\u003eMPAS\u003c/dd\u003e\u003cdt\u003e\u003cspan\u003esource :\u003c/span\u003e\u003c/dt\u003e\u003cdd\u003eMpasMeshConverter.x\u003c/dd\u003e\u003cdt\u003e\u003cspan\u003efile_id :\u003c/span\u003e\u003c/dt\u003e\u003cdd\u003e85scxk6tmk\u003c/dd\u003e\u003c/dl\u003e\u003c/div\u003e\u003c/li\u003e\u003c/ul\u003e\u003c/div\u003e\u003c/div\u003e\u003c/details\u003e\u003c/div\u003e\u003c/div\u003e\"","      ],","      \"text/plain\": [","       \"\u003cxarray.UxDataArray 'bottomDepth' (n_face: 970)\u003e Size: 8kB\\n\",","       \"dask.array\u003cgetitem, shape=(970,), dtype=float64, chunksize=(970,), chunktype=numpy.ndarray\u003e\\n\",","       \"Dimensions without coordinates: n_face\"","      ]","     },","     \"execution_count\": 2,","     \"metadata\": {},","     \"output_type\": \"execute_result\"","    }","   ],","   \"source\": [","    \"import numpy as np\\n\",","    \"import uxarray\\n\",","    \"\\n\",","    \"grid_path = \\\"/glade/campaign/mmm/wmr/weiwang/cps/irma3/2020/tk707_conus/init.nc\\\"\\n\",","    \"data_path = \\\"/glade/campaign/mmm/wmr/weiwang/cps/irma3/mp6/tk707/diag.2017-09-07_09.00.00.nc\\\"\\n\",","    \"grid_path = data_path = \\\"../uxarray/test/meshfiles/mpas/QU/oQU480.231010.nc\\\"\\n\",","    \"uxds = uxarray.open_mfdataset(grid_path, data_path)\\n\",","    \"\\n\",","    \"# Trim domain\\n\",","    \"lon_bounds = (-170, 60)\\n\",","    \"lat_bounds = (-51, 60)\\n\",","    \"uxda = uxds[\\\"bottomDepth\\\"].subset.bounding_box(lon_bounds, lat_bounds)\\n\",","    \"\\n\",","    \"uxda\"","   ]","  },","  {","   \"cell_type\": \"code\",","   \"execution_count\": null,","   \"id\": \"f9464102-ce94-4164-926f-c75af47b1fcb\",","   \"metadata\": {},","   \"outputs\": [],","   \"source\": [","    \"from functools import partial\\n\",","    \"\\n\",","    \"import numpy as np\\n\",","    \"import uxarray\\n\",","    \"\\n\",","    \"# TODO: use uxarray mesh examples instead. They are much smaller.\\n\",","    \"grid_path = \\\"/glade/campaign/mmm/wmr/weiwang/cps/irma3/2020/tk707_conus/init.nc\\\"\\n\",","    \"data_path = \\\"/glade/campaign/mmm/wmr/weiwang/cps/irma3/mp6/tk707/diag.2017-09-07_09.00.00.nc\\\"\\n\",","    \"grid_path = os.path.basename(grid_path)\\n\",","    \"data_path = os.path.basename(data_path)\\n\",","    \"uxds = uxarray.open_mfdataset(grid_path, data_path)\\n\",","    \"\\n\",","    \"# Trim domain\\n\",","    \"lon_bounds = (-74, -64)\\n\",","    \"lat_bounds = (18, 24)\\n\",","    \"uxda = uxds[\\\"refl10cm_max\\\"].isel(Time=0).subset.bounding_box(lon_bounds, lat_bounds)\\n\",","    \"\\n\",","    \"# this is how you use this function to smooth with 0.25-deg filter.\\n\",","    \"uxda_mean = uxda.neighborhood_filter(func=np.mean, r=0.25)\\n\",","    \"\\n\",","    \"\\n\",","    \"# this is another way to use this function with np.percentile\\n\",","    \"uxda_max = uxda.neighborhood_filter(func=partial(np.percentile, q=90), r=0.25)\\n\",","    \"\\n\",","    \"(uxda.plot.rasterize() + uxda_mean.plot.rasterize() + uxda_max.plot.rasterize()).cols(1)\"","   ]","  },","  {","   \"cell_type\": \"code\",","   \"execution_count\": null,","   \"id\": \"200b104c-bf48-4805-be58-79f80aa873bb\",","   \"metadata\": {},","   \"outputs\": [],","   \"source\": [","    \"# this is how you use this function\\n\",","    \"uxda_mean = uxda.neighborhood_filter(func=partial(np.median, axis=-1), r=5)\\n\",","    \"\\n\",","    \"# this is another way to use this function with a maximum filter\\n\",","    \"uxda_max = uxda.neighborhood_filter(func=partial(np.percentile, q=50), r=5)\\n\",","    \"\\n\",","    \"(uxda.plot.rasterize() + uxda_mean.plot.rasterize() + uxda_max.plot.rasterize()).cols(1)\"","   ]","  },","  {","   \"cell_type\": \"code\",","   \"execution_count\": null,","   \"id\": \"5886458d-21bc-4bd0-b34e-95f302f71c05\",","   \"metadata\": {},","   \"outputs\": [],","   \"source\": [","    \"if True:\\n\",","    \"    if True:\\n\",","    \"        if (\\n\",","    \"            self._ball_tree is None\\n\",","    \"            or coordinates != self._ball_tree._coordinates\\n\",","    \"            or reconstruct\\n\",","    \"        ):\\n\",","    \"            self._ball_tree = BallTree(\\n\",","    \"                self,\\n\",","    \"                coordinates=coordinates,\\n\",","    \"                distance_metric=distance_metric,\\n\",","    \"                coordinate_system=coordinate_system,\\n\",","    \"                reconstruct=reconstruct,\\n\",","    \"            )\"","   ]","  },","  {","   \"cell_type\": \"code\",","   \"execution_count\": null,","   \"id\": \"ceb46df9-e397-4b59-95ff-9f66b2de0bed\",","   \"metadata\": {},","   \"outputs\": [],","   \"source\": [","    \"grid_path = \\\"/glade/campaign/mmm/parc/schwartz/MPAS_regional/15km_mesh_regional/mpas_init/regional_15km_mesh_5500km.static.nc\\\"\\n\",","    \"data_path = \\\"/glade/campaign/mmm/parc/schwartz/MPAS_regional/15km_mesh_regional/precip_3hrly_5500km/native_grid/ens_4/mpas_precip_2017050200_f006_3hr_pcp.nc\\\"\\n\",","    \"uxds = uxarray.open_dataset(grid_path, data_path)\\n\",","    \"uxds = xtime(uxds)\\n\",","    \"\\n\",","    \"uxds\"","   ]","  },","  {","   \"cell_type\": \"code\",","   \"execution_count\": null,","   \"id\": \"b9b20958-4b51-4a12-933c-e1cff979a99e\",","   \"metadata\": {},","   \"outputs\": [],","   \"source\": [","    \"uxds[\\\"rainnc\\\"].neighborhood_filter()\"","   ]","  },","  {","   \"cell_type\": \"code\",","   \"execution_count\": null,","   \"id\": \"bdc34656-bde1-4a75-b2cb-3b89e517a05b\",","   \"metadata\": {},","   \"outputs\": [],","   \"source\": []","  },","  {","   \"cell_type\": \"code\",","   \"execution_count\": null,","   \"id\": \"f49339f8-f6d4-4454-aefe-86ce22df9fe7\",","   \"metadata\": {},","   \"outputs\": [],","   \"source\": [","    \"# Trim domain\\n\",","    \"uxda = uxds[\\\"rainnc\\\"].isel(Time=0).subset.bounding_circle((-75, 42), r=0.5)\\n\",","    \"uxda.plot.rasterize()\"","   ]","  },","  {","   \"cell_type\": \"code\",","   \"execution_count\": null,","   \"id\": \"859e4c62-3a65-4143-a5b5-cee8f37ad367\",","   \"metadata\": {},","   \"outputs\": [],","   \"source\": [","    \"uxda.neighborhood_filter(func=np.mean, r=0.02).plot.rasterize()\"","   ]","  },","  {","   \"cell_type\": \"code\",","   \"execution_count\": null,","   \"id\": \"0258ccba-9841-4456-9efc-cf9c1090e0c7\",","   \"metadata\": {},","   \"outputs\": [],","   \"source\": [","    \"tree = uxda.uxgrid.get_ball_tree(coordinates=\\\"face centers\\\")\\n\",","    \"dir(tree)\"","   ]","  },","  {","   \"cell_type\": \"code\",","   \"execution_count\": null,","   \"id\": \"eb5574d0-dbd8-477b-9022-1b3e90160f6c\",","   \"metadata\": {},","   \"outputs\": [],","   \"source\": [","    \"x = [1, 4, 7, 9]\\n\",","    \"y = [2, 4, 7, 13]\\n\",","    \"z = [0, -1, 3, 0]\\n\",","    \"np.c_[x, y, z]\"","   ]","  },","  {","   \"cell_type\": \"code\",","   \"execution_count\": null,","   \"id\": \"052e9bdf-a298-4932-b9c5-a1bfd24bb631\",","   \"metadata\": {},","   \"outputs\": [],","   \"source\": [","    \"np.array([x, y, z]).T\"","   ]","  },","  {","   \"cell_type\": \"code\",","   \"execution_count\": null,","   \"id\": \"6de626f4-eaf3-4e7b-8db2-6cca57412a65\",","   \"metadata\": {},","   \"outputs\": [],","   \"source\": [","    \"# this is how you use this function to smooth with 0.125-deg filter.\\n\",","    \"\\n\",","    \"uxds[\\\"rainnc\\\"].isel(Time=0, n_face=[2, 56])\\n\",","    \"# .plot.rasterize()\"","   ]","  },","  {","   \"cell_type\": \"code\",","   \"execution_count\": null,","   \"id\": \"fbd7d37d-e5af-4535-84a9-c39631fb9211\",","   \"metadata\": {},","   \"outputs\": [],","   \"source\": [","    \"fas, j = uxds[\\\"rainnc\\\"].isel(Time=0).uxgrid.compute_face_areas(latlon=True)\\n\",","    \"np.sum(fas)\"","   ]","  },","  {","   \"cell_type\": \"code\",","   \"execution_count\": null,","   \"id\": \"7afa0635-a0ed-42a1-ad89-9f8b7c39388f\",","   \"metadata\": {},","   \"outputs\": [],","   \"source\": [","    \"import os\\n\",","    \"\\n\",","    \"grid_path = data_path = (\\n\",","    \"    os.getenv(\\\"SCRATCH\\\") + \\\"/uxarray/test/meshfiles/mpas/QU/oQU480.231010.nc\\\"\\n\",","    \")\\n\",","    \"uxds = uxarray.open_dataset(grid_path, data_path)\\n\",","    \"uxds = uxds.assign(Time=[14])\\n\",","    \"uxds\"","   ]","  },","  {","   \"cell_type\": \"code\",","   \"execution_count\": null,","   \"id\": \"a568dac1-5d14-4aa3-8f37-46b4d206de6d\",","   \"metadata\": {},","   \"outputs\": [],","   \"source\": [","    \"uxds.ssh.isel(Time=0).plot.polygons()\"","   ]","  },","  {","   \"cell_type\": \"code\",","   \"execution_count\": null,","   \"id\": \"8916856e-fc7b-4073-ac1c-ae357c49e071\",","   \"metadata\": {},","   \"outputs\": [],","   \"source\": [","    \"uxds.ssh.isel(Time=0).neighborhood_filter(r=80).plot.polygons()\"","   ]","  },","  {","   \"cell_type\": \"code\",","   \"execution_count\": null,","   \"id\": \"53febcb0-aaa5-48bf-b82f-79ee64802bfe\",","   \"metadata\": {},","   \"outputs\": [],","   \"source\": [","    \"from pathlib import Path\\n\",","    \"\\n\",","    \"grid_path = os.getenv(\\\"SCRATCH\\\") + \\\"/uxarray/test/meshfiles/ugrid/geoflow-small/grid.nc\\\"\\n\",","    \"data_path = Path(os.getenv(\\\"SCRATCH\\\") + \\\"/uxarray/test/meshfiles/ugrid/geoflow-small\\\").glob(\\n\",","    \"    \\\"v?.nc\\\"\\n\",","    \")\\n\",","    \"uxds = uxarray.open_mfdataset(grid_path, data_path)\\n\",","    \"uxds\"","   ]","  },","  {","   \"cell_type\": \"code\",","   \"execution_count\": null,","   \"id\": \"fd95682f-8ed2-480d-88ef-bc3b02f042a3\",","   \"metadata\": {},","   \"outputs\": [],","   \"source\": [","    \"from pathlib import Path\\n\",","    \"\\n\",","    \"grid_path = os.getenv(\\\"SCRATCH\\\") + \\\"/uxarray/test/meshfiles/exodus/outCSne8/outCSne8.g\\\"\\n\",","    \"data_path = grid_path  # Path(os.getenv(\\\"SCRATCH\\\") + \\\"/uxarray/test/meshfiles/ugrid/fesom\\\").glob(\\\"[ss]*.nc\\\")\\n\",","    \"uxds = uxarray.open_mfdataset(grid_path, data_path)\\n\",","    \"uxds\"","   ]","  },","  {","   \"cell_type\": \"code\",","   \"execution_count\": null,","   \"id\": \"fb392fec-de7c-4dbf-ba21-5dfcd1b4736c\",","   \"metadata\": {},","   \"outputs\": [],","   \"source\": [","    \"uxds.uxgrid.get_ball_tree(\\n\",","    \"    coordinates=\\\"face centers\\\",\\n\",","    \"    coordinate_system=\\\"cartesian\\\",\\n\",","    \"    distance_metric=\\\"minkowski\\\",\\n\",","    \"    reconstruct=True,\\n\",","    \").coordinates\"","   ]","  },","  {","   \"cell_type\": \"code\",","   \"execution_count\": null,","   \"id\": \"bfb4e184-1121-4e1d-94af-6189b58f9a9d\",","   \"metadata\": {},","   \"outputs\": [],","   \"source\": [","    \"uxds.uxgrid.get_ball_tree(reconstruct=True).coordinates\"","   ]","  },","  {","   \"cell_type\": \"code\",","   \"execution_count\": null,","   \"id\": \"b299c6de-2d56-4b30-9ac2-12857ab7b6b6\",","   \"metadata\": {},","   \"outputs\": [],","   \"source\": [","    \"uxds.uxgrid.get_ball_tree(coordinates=\\\"face centers\\\").distance_metric\"","   ]","  },","  {","   \"cell_type\": \"code\",","   \"execution_count\": null,","   \"id\": \"4aefa3de-5950-4660-b192-f50a3937bb9d\",","   \"metadata\": {},","   \"outputs\": [],","   \"source\": [","    \"import matplotlib.pyplot as plt\\n\",","    \"\\n\",","    \"uxds.global_id1.plot.polygons()\"","   ]","  },","  {","   \"cell_type\": \"code\",","   \"execution_count\": null,","   \"id\": \"5eb672e2-1a21-476f-b766-c6d8fd7c1340\",","   \"metadata\": {},","   \"outputs\": [],","   \"source\": [","    \"a = uxds[\\\"global_id1\\\"]\\n\",","    \"a[:] = 0\\n\",","    \"a[10] = 500\\n\",","    \"uxds[\\\"global_id2\\\"] = a\\n\",","    \"uxds.global_id2.plot.polygons()\"","   ]","  },","  {","   \"cell_type\": \"code\",","   \"execution_count\": null,","   \"id\": \"3167a565-f6e1-4a53-9df4-153b3ed35fa4\",","   \"metadata\": {},","   \"outputs\": [],","   \"source\": [","    \"uxds\"","   ]","  },","  {","   \"cell_type\": \"code\",","   \"execution_count\": null,","   \"id\": \"a5e830af-fa72-4a7b-989b-aabee78b11d6\",","   \"metadata\": {},","   \"outputs\": [],","   \"source\": [","    \"uxds.uxgrid.get_ball_tree(coordinates=\\\"face centers\\\").coordinates\"","   ]","  },","  {","   \"cell_type\": \"code\",","   \"execution_count\": null,","   \"id\": \"d6fe8f2e-5fe2-4211-8de4-a4e504646810\",","   \"metadata\": {},","   \"outputs\": [],","   \"source\": [","    \"uxds.uxgrid.get_ball_tree(reconstruct=False).coordinates\"","   ]","  },","  {","   \"cell_type\": \"code\",","   \"execution_count\": null,","   \"id\": \"0ec26f40-19a7-450a-8729-81f4b5974580\",","   \"metadata\": {},","   \"outputs\": [],","   \"source\": [","    \"from uxarray.constants import GRID_DIMS\\n\",","    \"\\n\",","    \"grid_dims = [d for d in uxds.attrib1.dims if d in GRID_DIMS]\\n\",","    \"uxds.attrib1.transpose(..., grid_dims[0])\"","   ]","  },","  {","   \"cell_type\": \"code\",","   \"execution_count\": null,","   \"id\": \"9bfd9858-34bd-4044-ba62-314f87d36eb8\",","   \"metadata\": {},","   \"outputs\": [],","   \"source\": [","    \"uxds.neighborhood_filter(r=45).global_id2.plot.polygons()\"","   ]","  },","  {","   \"cell_type\": \"code\",","   \"execution_count\": null,","   \"id\": \"c802abcb-9b49-4323-ad07-a72d53b83123\",","   \"metadata\": {},","   \"outputs\": [],","   \"source\": [","    \"uxds.neighborhood_filter(r=45)\"","   ]","  },","  {","   \"cell_type\": \"code\",","   \"execution_count\": null,","   \"id\": \"7b22a593-6295-4bf8-a118-3e821df2453c\",","   \"metadata\": {},","   \"outputs\": [],","   \"source\": [","    \"uxds.attrib1.transpose(*uxds.attrib1.dims)\"","   ]","  },","  {","   \"cell_type\": \"code\",","   \"execution_count\": null,","   \"id\": \"1e64d4a2-0c41-4f7d-93a6-e1d921ad605d\",","   \"metadata\": {},","   \"outputs\": [],","   \"source\": [","    \"x = np.random.random(1000000)\\n\",","    \"y = np.random.random(1000000)\\n\",","    \"z = np.random.random(1000000)\"","   ]","  },","  {","   \"cell_type\": \"code\",","   \"execution_count\": null,","   \"id\": \"4171e7e5-7a5c-4a44-b971-308e4ac6bbba\",","   \"metadata\": {},","   \"outputs\": [],","   \"source\": [","    \"np.c_[x, y, z]\"","   ]","  },","  {","   \"cell_type\": \"code\",","   \"execution_count\": null,","   \"id\": \"14bb5b86-0a94-462d-9799-4129bf827060\",","   \"metadata\": {},","   \"outputs\": [],","   \"source\": [","    \"np.vstack((x, y, z)).T\"","   ]","  },","  {","   \"cell_type\": \"code\",","   \"execution_count\": null,","   \"id\": \"74bf701d-e24e-4fbc-80e0-2ea44a365080\",","   \"metadata\": {},","   \"outputs\": [],","   \"source\": [","    \"(np.c_[x, y, z] == np.vstack((x, y, z)).T).all()\"","   ]","  },","  {","   \"cell_type\": \"code\",","   \"execution_count\": null,","   \"id\": \"0145882d-a5ff-479e-af4f-3fe131cbf436\",","   \"metadata\": {},","   \"outputs\": [],","   \"source\": [","    \"%timeit np.vstack((x,y,z)).T\"","   ]","  },","  {","   \"cell_type\": \"code\",","   \"execution_count\": null,","   \"id\": \"9acb416b-1410-499a-b4ac-3026cfe49dd5\",","   \"metadata\": {},","   \"outputs\": [],","   \"source\": [","    \"%timeit np.c_[x,y,z]\"","   ]","  },","  {","   \"cell_type\": \"code\",","   \"execution_count\": null,","   \"id\": \"dc834432-09f8-4a44-8151-c4f18949ca97\",","   \"metadata\": {},","   \"outputs\": [],","   \"source\": []","  }"," ],"," \"metadata\": {","  \"kernelspec\": {","   \"display_name\": \"Python [conda env:uxarray]\",","   \"language\": \"python\",","   \"name\": \"conda-env-uxarray-py\"","  },","  \"language_info\": {","   \"codemirror_mode\": {","    \"name\": \"ipython\",","    \"version\": 3","   },","   \"file_extension\": \".py\",","   \"mimetype\": \"text/x-python\",","   \"name\": \"python\",","   \"nbconvert_exporter\": \"python\",","   \"pygments_lexer\": \"ipython3\",","   \"version\": \"3.11.7\"","  }"," },"," \"nbformat\": 4,"," \"nbformat_minor\": 5","}"],"stylingDirectives":null,"colorizedLines":null,"csv":null,"csvError":null,"copilotSWEAgentEnabled":false,"dependabotInfo":{"showConfigurationBanner":false,"configFilePath":null,"networkDependabotPath":"/ahijevyc/ESDSDemo/network/updates","dismissConfigurationNoticePath":"/settings/dismiss-notice/dependabot_configuration_notice","configurationNoticeDismissed":null},"displayName":"neighborhood_filter.ipynb","displayUrl":"https://notebooks.githubusercontent.com/view/ipynb?browser=unknown_browser\u0026bypass_fastly=true\u0026color_mode=auto\u0026commit=0dcafa98fb02b1cc7db5b313cd06498428e19127\u0026device=unknown_device\u0026docs_host=https%3A%2F%2Fdocs.github.com\u0026enc_url=68747470733a2f2f7261772e67697468756275736572636f6e74656e742e636f6d2f6168696a657679632f4553445344656d6f2f306463616661393866623032623163633764623562333133636430363439383432386531393132372f6e65696768626f72686f6f645f66696c7465722e6970796e62\u0026logged_in=false\u0026nwo=ahijevyc%2FESDSDemo\u0026path=neighborhood_filter.ipynb\u0026platform=unknown_platform\u0026repository_id=744202857\u0026repository_type=Repository\u0026version=0","headerInfo":{"blobSize":"97.1 KB","deleteTooltip":"You must be signed in to make or propose changes","editTooltip":"You must be signed in to make or propose changes","ghDesktopPath":"https://desktop.github.com","isGitLfs":false,"onBranch":true,"shortPath":"4aa6bdc","siteNavLoginPath":"/login?return_to=https%3A%2F%2Fgithub.com%2Fahijevyc%2FESDSDemo%2Fblob%2Fmain%2Fneighborhood_filter.ipynb","isCSV":false,"isRichtext":false,"toc":null,"lineInfo":{"truncatedLoc":"1965","truncatedSloc":"1965"},"mode":"file"},"image":false,"isCodeownersFile":null,"isPlain":false,"isValidLegacyIssueTemplate":false,"issueTemplate":null,"discussionTemplate":null,"language":"Jupyter Notebook","languageID":185,"large":false,"planSupportInfo":{"repoIsFork":null,"repoOwnedByCurrentUser":null,"requestFullPath":"/ahijevyc/ESDSDemo/blob/main/neighborhood_filter.ipynb","showFreeOrgGatedFeatureMessage":null,"showPlanSupportBanner":null,"upgradeDataAttributes":null,"upgradePath":null},"publishBannersInfo":{"dismissActionNoticePath":"/settings/dismiss-notice/publish_action_from_dockerfile","releasePath":"/ahijevyc/ESDSDemo/releases/new?marketplace=true","showPublishActionBanner":false},"rawBlobUrl":"https://github.com/ahijevyc/ESDSDemo/raw/refs/heads/main/neighborhood_filter.ipynb","renderImageOrRaw":false,"richText":null,"renderedFileInfo":{"identityUUID":"6e4a9cc1-eb10-477c-a944-d47c90303e88","renderFileType":"ipynb","size":99418},"shortPath":null,"symbolsEnabled":true,"tabSize":4,"topBannersInfo":{"overridingGlobalFundingFile":false,"globalPreferredFundingPath":null,"showInvalidCitationWarning":false,"citationHelpUrl":"https://docs.github.com/github/creating-cloning-and-archiving-repositories/creating-a-repository-on-github/about-citation-files","actionsOnboardingTip":null},"truncated":false,"viewable":true,"workflowRedirectUrl":null,"symbols":{"timed_out":false,"not_analyzed":true,"symbols":[]}},"copilotInfo":null,"copilotAccessAllowed":false,"modelsAccessAllowed":false,"modelsRepoIntegrationEnabled":false,"isMarketplaceEnabled":true,"csrf_tokens":{"/ahijevyc/ESDSDemo/branches":{"post":"dF_111-qfbTyPK9IW4LpWuptSGAdYAkOub6oprcf893UcixrYm-AH_rq53x3QqqXZ0prAUZL3jWIS1Sb0-UXGg"},"/repos/preferences":{"post":"1SYq9zunbYb5ROGFZSzLBBl87IVNdpdwtC6Do3jBaRTB2bOZwLyvv0OvRQYoRbl6BJeGSypc3eQfzuT9XZdhvA"}}},"title":"ESDSDemo/neighborhood_filter.ipynb at main · ahijevyc/ESDSDemo","appPayload":{"helpUrl":"https://docs.github.com","findFileWorkerPath":"/assets-cdn/worker/find-file-worker-9bd411a8e273.js","findInFileWorkerPath":"/assets-cdn/worker/find-in-file-worker-410714137fc9.js","githubDevUrl":null,"enabled_features":{"code_nav_ui_events":false,"react_blob_overlay":false,"accessible_code_button":true}}}</script>
  <div data-target="react-app.reactRoot"></div>
</react-app>
</turbo-frame>



  </div>

</turbo-frame>

    </main>
  </div>

  </div>

          <footer class="footer pt-8 pb-6 f6 color-fg-muted p-responsive" role="contentinfo" >
  <h2 class='sr-only'>Footer</h2>

  


  <div class="d-flex flex-justify-center flex-items-center flex-column-reverse flex-lg-row flex-wrap flex-lg-nowrap">
    <div class="d-flex flex-items-center flex-shrink-0 mx-2">
      <a aria-label="GitHub Homepage" class="footer-octicon mr-2" href="https://github.com">
        <svg aria-hidden="true" height="24" viewBox="0 0 24 24" version="1.1" width="24" data-view-component="true" class="octicon octicon-mark-github">
    <path d="M12 1C5.923 1 1 5.923 1 12c0 4.867 3.149 8.979 7.521 10.436.55.096.756-.233.756-.522 0-.262-.013-1.128-.013-2.049-2.764.509-3.479-.674-3.699-1.292-.124-.317-.66-1.293-1.127-1.554-.385-.207-.936-.715-.014-.729.866-.014 1.485.797 1.691 1.128.99 1.663 2.571 1.196 3.204.907.096-.715.385-1.196.701-1.471-2.448-.275-5.005-1.224-5.005-5.432 0-1.196.426-2.186 1.128-2.956-.111-.275-.496-1.402.11-2.915 0 0 .921-.288 3.024 1.128a10.193 10.193 0 0 1 2.75-.371c.936 0 1.871.123 2.75.371 2.104-1.43 3.025-1.128 3.025-1.128.605 1.513.221 2.64.111 2.915.701.77 1.127 1.747 1.127 2.956 0 4.222-2.571 5.157-5.019 5.432.399.344.743 1.004.743 2.035 0 1.471-.014 2.654-.014 3.025 0 .289.206.632.756.522C19.851 20.979 23 16.854 23 12c0-6.077-4.922-11-11-11Z"></path>
</svg>
</a>
      <span>
        &copy; 2025 GitHub,&nbsp;Inc.
      </span>
    </div>

    <nav aria-label="Footer">
      <h3 class="sr-only" id="sr-footer-heading">Footer navigation</h3>

      <ul class="list-style-none d-flex flex-justify-center flex-wrap mb-2 mb-lg-0" aria-labelledby="sr-footer-heading">

          <li class="mx-2">
            <a data-analytics-event="{&quot;category&quot;:&quot;Footer&quot;,&quot;action&quot;:&quot;go to Terms&quot;,&quot;label&quot;:&quot;text:terms&quot;}" href="https://docs.github.com/site-policy/github-terms/github-terms-of-service" data-view-component="true" class="Link--secondary Link">Terms</a>
          </li>

          <li class="mx-2">
            <a data-analytics-event="{&quot;category&quot;:&quot;Footer&quot;,&quot;action&quot;:&quot;go to privacy&quot;,&quot;label&quot;:&quot;text:privacy&quot;}" href="https://docs.github.com/site-policy/privacy-policies/github-privacy-statement" data-view-component="true" class="Link--secondary Link">Privacy</a>
          </li>

          <li class="mx-2">
            <a data-analytics-event="{&quot;category&quot;:&quot;Footer&quot;,&quot;action&quot;:&quot;go to security&quot;,&quot;label&quot;:&quot;text:security&quot;}" href="https://github.com/security" data-view-component="true" class="Link--secondary Link">Security</a>
          </li>

          <li class="mx-2">
            <a data-analytics-event="{&quot;category&quot;:&quot;Footer&quot;,&quot;action&quot;:&quot;go to status&quot;,&quot;label&quot;:&quot;text:status&quot;}" href="https://www.githubstatus.com/" data-view-component="true" class="Link--secondary Link">Status</a>
          </li>

          <li class="mx-2">
            <a data-analytics-event="{&quot;category&quot;:&quot;Footer&quot;,&quot;action&quot;:&quot;go to docs&quot;,&quot;label&quot;:&quot;text:docs&quot;}" href="https://docs.github.com/" data-view-component="true" class="Link--secondary Link">Docs</a>
          </li>

          <li class="mx-2">
            <a data-analytics-event="{&quot;category&quot;:&quot;Footer&quot;,&quot;action&quot;:&quot;go to contact&quot;,&quot;label&quot;:&quot;text:contact&quot;}" href="https://support.github.com?tags=dotcom-footer" data-view-component="true" class="Link--secondary Link">Contact</a>
          </li>

          <li class="mx-2" >
  <cookie-consent-link>
    <button
      type="button"
      class="Link--secondary underline-on-hover border-0 p-0 color-bg-transparent"
      data-action="click:cookie-consent-link#showConsentManagement"
      data-analytics-event="{&quot;location&quot;:&quot;footer&quot;,&quot;action&quot;:&quot;cookies&quot;,&quot;context&quot;:&quot;subfooter&quot;,&quot;tag&quot;:&quot;link&quot;,&quot;label&quot;:&quot;cookies_link_subfooter_footer&quot;}"
    >
       Manage cookies
    </button>
  </cookie-consent-link>
</li>

<li class="mx-2">
  <cookie-consent-link>
    <button
      type="button"
      class="Link--secondary underline-on-hover border-0 p-0 color-bg-transparent text-left"
      data-action="click:cookie-consent-link#showConsentManagement"
      data-analytics-event="{&quot;location&quot;:&quot;footer&quot;,&quot;action&quot;:&quot;dont_share_info&quot;,&quot;context&quot;:&quot;subfooter&quot;,&quot;tag&quot;:&quot;link&quot;,&quot;label&quot;:&quot;dont_share_info_link_subfooter_footer&quot;}"
    >
      Do not share my personal information
    </button>
  </cookie-consent-link>
</li>

      </ul>
    </nav>
  </div>
</footer>



    <ghcc-consent id="ghcc" class="position-fixed bottom-0 left-0" style="z-index: 999999"
      data-locale="en"
      data-initial-cookie-consent-allowed=""
      data-cookie-consent-required="false"
    ></ghcc-consent>



  <div id="ajax-error-message" class="ajax-error-message flash flash-error" hidden>
    <svg aria-hidden="true" height="16" viewBox="0 0 16 16" version="1.1" width="16" data-view-component="true" class="octicon octicon-alert">
    <path d="M6.457 1.047c.659-1.234 2.427-1.234 3.086 0l6.082 11.378A1.75 1.75 0 0 1 14.082 15H1.918a1.75 1.75 0 0 1-1.543-2.575Zm1.763.707a.25.25 0 0 0-.44 0L1.698 13.132a.25.25 0 0 0 .22.368h12.164a.25.25 0 0 0 .22-.368Zm.53 3.996v2.5a.75.75 0 0 1-1.5 0v-2.5a.75.75 0 0 1 1.5 0ZM9 11a1 1 0 1 1-2 0 1 1 0 0 1 2 0Z"></path>
</svg>
    <button type="button" class="flash-close js-ajax-error-dismiss" aria-label="Dismiss error">
      <svg aria-hidden="true" height="16" viewBox="0 0 16 16" version="1.1" width="16" data-view-component="true" class="octicon octicon-x">
    <path d="M3.72 3.72a.75.75 0 0 1 1.06 0L8 6.94l3.22-3.22a.749.749 0 0 1 1.275.326.749.749 0 0 1-.215.734L9.06 8l3.22 3.22a.749.749 0 0 1-.326 1.275.749.749 0 0 1-.734-.215L8 9.06l-3.22 3.22a.751.751 0 0 1-1.042-.018.751.751 0 0 1-.018-1.042L6.94 8 3.72 4.78a.75.75 0 0 1 0-1.06Z"></path>
</svg>
    </button>
    You can’t perform that action at this time.
  </div>

    <template id="site-details-dialog">
  <details class="details-reset details-overlay details-overlay-dark lh-default color-fg-default hx_rsm" open>
    <summary role="button" aria-label="Close dialog"></summary>
    <details-dialog class="Box Box--overlay d-flex flex-column anim-fade-in fast hx_rsm-dialog hx_rsm-modal">
      <button class="Box-btn-octicon m-0 btn-octicon position-absolute right-0 top-0" type="button" aria-label="Close dialog" data-close-dialog>
        <svg aria-hidden="true" height="16" viewBox="0 0 16 16" version="1.1" width="16" data-view-component="true" class="octicon octicon-x">
    <path d="M3.72 3.72a.75.75 0 0 1 1.06 0L8 6.94l3.22-3.22a.749.749 0 0 1 1.275.326.749.749 0 0 1-.215.734L9.06 8l3.22 3.22a.749.749 0 0 1-.326 1.275.749.749 0 0 1-.734-.215L8 9.06l-3.22 3.22a.751.751 0 0 1-1.042-.018.751.751 0 0 1-.018-1.042L6.94 8 3.72 4.78a.75.75 0 0 1 0-1.06Z"></path>
</svg>
      </button>
      <div class="octocat-spinner my-6 js-details-dialog-spinner"></div>
    </details-dialog>
  </details>
</template>

    <div class="Popover js-hovercard-content position-absolute" style="display: none; outline: none;">
  <div class="Popover-message Popover-message--bottom-left Popover-message--large Box color-shadow-large" style="width:360px;">
  </div>
</div>

    <template id="snippet-clipboard-copy-button">
  <div class="zeroclipboard-container position-absolute right-0 top-0">
    <clipboard-copy aria-label="Copy" class="ClipboardButton btn js-clipboard-copy m-2 p-0" data-copy-feedback="Copied!" data-tooltip-direction="w">
      <svg aria-hidden="true" height="16" viewBox="0 0 16 16" version="1.1" width="16" data-view-component="true" class="octicon octicon-copy js-clipboard-copy-icon m-2">
    <path d="M0 6.75C0 5.784.784 5 1.75 5h1.5a.75.75 0 0 1 0 1.5h-1.5a.25.25 0 0 0-.25.25v7.5c0 .138.112.25.25.25h7.5a.25.25 0 0 0 .25-.25v-1.5a.75.75 0 0 1 1.5 0v1.5A1.75 1.75 0 0 1 9.25 16h-7.5A1.75 1.75 0 0 1 0 14.25Z"></path><path d="M5 1.75C5 .784 5.784 0 6.75 0h7.5C15.216 0 16 .784 16 1.75v7.5A1.75 1.75 0 0 1 14.25 11h-7.5A1.75 1.75 0 0 1 5 9.25Zm1.75-.25a.25.25 0 0 0-.25.25v7.5c0 .138.112.25.25.25h7.5a.25.25 0 0 0 .25-.25v-7.5a.25.25 0 0 0-.25-.25Z"></path>
</svg>
      <svg aria-hidden="true" height="16" viewBox="0 0 16 16" version="1.1" width="16" data-view-component="true" class="octicon octicon-check js-clipboard-check-icon color-fg-success d-none m-2">
    <path d="M13.78 4.22a.75.75 0 0 1 0 1.06l-7.25 7.25a.75.75 0 0 1-1.06 0L2.22 9.28a.751.751 0 0 1 .018-1.042.751.751 0 0 1 1.042-.018L6 10.94l6.72-6.72a.75.75 0 0 1 1.06 0Z"></path>
</svg>
    </clipboard-copy>
  </div>
</template>
<template id="snippet-clipboard-copy-button-unpositioned">
  <div class="zeroclipboard-container">
    <clipboard-copy aria-label="Copy" class="ClipboardButton btn btn-invisible js-clipboard-copy m-2 p-0 d-flex flex-justify-center flex-items-center" data-copy-feedback="Copied!" data-tooltip-direction="w">
      <svg aria-hidden="true" height="16" viewBox="0 0 16 16" version="1.1" width="16" data-view-component="true" class="octicon octicon-copy js-clipboard-copy-icon">
    <path d="M0 6.75C0 5.784.784 5 1.75 5h1.5a.75.75 0 0 1 0 1.5h-1.5a.25.25 0 0 0-.25.25v7.5c0 .138.112.25.25.25h7.5a.25.25 0 0 0 .25-.25v-1.5a.75.75 0 0 1 1.5 0v1.5A1.75 1.75 0 0 1 9.25 16h-7.5A1.75 1.75 0 0 1 0 14.25Z"></path><path d="M5 1.75C5 .784 5.784 0 6.75 0h7.5C15.216 0 16 .784 16 1.75v7.5A1.75 1.75 0 0 1 14.25 11h-7.5A1.75 1.75 0 0 1 5 9.25Zm1.75-.25a.25.25 0 0 0-.25.25v7.5c0 .138.112.25.25.25h7.5a.25.25 0 0 0 .25-.25v-7.5a.25.25 0 0 0-.25-.25Z"></path>
</svg>
      <svg aria-hidden="true" height="16" viewBox="0 0 16 16" version="1.1" width="16" data-view-component="true" class="octicon octicon-check js-clipboard-check-icon color-fg-success d-none">
    <path d="M13.78 4.22a.75.75 0 0 1 0 1.06l-7.25 7.25a.75.75 0 0 1-1.06 0L2.22 9.28a.751.751 0 0 1 .018-1.042.751.751 0 0 1 1.042-.018L6 10.94l6.72-6.72a.75.75 0 0 1 1.06 0Z"></path>
</svg>
    </clipboard-copy>
  </div>
</template>




    </div>
    <div id="js-global-screen-reader-notice" class="sr-only mt-n1" aria-live="polite" aria-atomic="true" ></div>
    <div id="js-global-screen-reader-notice-assertive" class="sr-only mt-n1" aria-live="assertive" aria-atomic="true"></div>
  </body>
</html>

