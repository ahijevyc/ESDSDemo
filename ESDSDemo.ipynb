{
 "cells": [
  {
   "cell_type": "code",
   "execution_count": 1,
   "id": "e241b004-7958-449a-82b3-3442b6f9fc11",
   "metadata": {
    "editable": true,
    "slideshow": {
     "slide_type": ""
    },
    "tags": []
   },
   "outputs": [],
   "source": [
    "import logging\n",
    "import os\n",
    "from pathlib import Path\n",
    "\n",
    "import cartopy.crs as ccrs\n",
    "import cartopy.feature as cfeature\n",
    "import cmaps\n",
    "import matplotlib as mpl\n",
    "import matplotlib.cm as cm\n",
    "import matplotlib.pyplot as plt\n",
    "import matplotlib.tri as tri\n",
    "import numpy as np\n",
    "import pandas as pd\n",
    "import uxarray\n",
    "import xarray\n",
    "from cartopy.mpl.gridliner import LATITUDE_FORMATTER, LONGITUDE_FORMATTER\n",
    "from metpy.units import units\n",
    "from tqdm import tqdm\n",
    "\n",
    "degE = units.parse_expression(\"degree_E\")\n",
    "degN = units.parse_expression(\"degree_N\")\n",
    "\n",
    "try:  # Avoid ValueError when assigning cmap again\n",
    "    cmap = cmaps.WhiteBlueGreenYellowRed\n",
    "except ValueError:\n",
    "    pass\n",
    "\n",
    "from sklearn.neighbors import BallTree as SKBallTree"
   ]
  },
  {
   "cell_type": "code",
   "execution_count": 2,
   "id": "06461387-35df-4d0a-9ea0-0b4c9c9c3126",
   "metadata": {},
   "outputs": [],
   "source": [
    "def mkcoord(ds):\n",
    "    if \"t_iso_levels\" in ds:\n",
    "        ds = ds.swap_dims(dict(nIsoLevelsT=\"t_iso_levels\", nIsoLevelsZ=\"z_iso_levels\"))\n",
    "    return ds\n",
    "\n",
    "\n",
    "def dec_ax(ax, extent):\n",
    "    # ax.add_feature(cfeature.STATES)\n",
    "    ax.set_extent(extent)\n",
    "\n",
    "    gl = ax.gridlines(draw_labels=True, x_inline=False)\n",
    "    gl.top_labels = gl.right_labels = False\n",
    "    gl.xformatter = LONGITUDE_FORMATTER\n",
    "    gl.yformatter = LATITUDE_FORMATTER\n",
    "\n",
    "\n",
    "def dBZfunc(dBZ, func):\n",
    "    \"\"\"mean of linearized Z, not logarithmic dbZ\"\"\"\n",
    "    Z = 10 ** (dBZ / 10)\n",
    "    fZ = func(Z)\n",
    "    return np.log10(fZ) * 10\n",
    "\n",
    "\n",
    "def trim_latlon(grid_path, data_paths, extent):\n",
    "    \"\"\"\n",
    "    trim grid file and data file to extent box\n",
    "    TODO: use uxarray.Dataset.subset\n",
    "    \"\"\"\n",
    "    \n",
    "    # Open the Grid file\n",
    "    grid_ds = xarray.open_dataset(grid_path)\n",
    "\n",
    "    grid_ds[\"lonCell\"] = np.degrees(grid_ds.lonCell)\n",
    "    grid_ds[\"latCell\"] = np.degrees(grid_ds.latCell)\n",
    "\n",
    "    # before computing the triangulation\n",
    "    grid_ds[\"lonCell\"] = ((grid_ds[\"lonCell\"] + 180) % 360) - 180\n",
    "\n",
    "    # Open data files\n",
    "    ds = xarray.open_mfdataset(\n",
    "        data_paths, preprocess=mkcoord, concat_dim=\"Time\", combine=\"nested\"\n",
    "    )\n",
    "\n",
    "    ibox = (\n",
    "        (grid_ds.lonCell >= lon0)\n",
    "        & (grid_ds.lonCell < lon1)\n",
    "        & (grid_ds.latCell >= lat0)\n",
    "        & (grid_ds.latCell < lat1)\n",
    "    )\n",
    "    # Trim grid\n",
    "    grid_ds = grid_ds[[\"latCell\", \"lonCell\"]].where(ibox, drop=True)\n",
    "\n",
    "    # Trim data\n",
    "    ds = ds.where(ibox, drop=True)\n",
    "\n",
    "    return grid_ds, ds"
   ]
  },
  {
   "cell_type": "markdown",
   "id": "092e9591-6aa8-4f16-8cd3-380b5c04a7e2",
   "metadata": {
    "tags": []
   },
   "source": [
    "## HWT 2023 MPAS"
   ]
  },
  {
   "cell_type": "code",
   "execution_count": 3,
   "id": "3155584e-0939-430d-9d70-960c7adeb046",
   "metadata": {},
   "outputs": [
    {
     "name": "stdout",
     "output_type": "stream",
     "text": [
      "[PosixPath('/glade/campaign/mmm/parc/schwartz/HWT2023/mpas/2023042900/post/mem_5/diag.2023-04-29_03.00.00.nc'), PosixPath('/glade/campaign/mmm/parc/schwartz/HWT2023/mpas/2023042900/post/mem_5/diag.2023-04-29_06.00.00.nc'), PosixPath('/glade/campaign/mmm/parc/schwartz/HWT2023/mpas/2023042900/post/mem_5/diag.2023-04-29_09.00.00.nc'), PosixPath('/glade/campaign/mmm/parc/schwartz/HWT2023/mpas/2023042900/post/mem_5/diag.2023-04-29_12.00.00.nc'), PosixPath('/glade/campaign/mmm/parc/schwartz/HWT2023/mpas/2023042900/post/mem_5/diag.2023-04-29_15.00.00.nc'), PosixPath('/glade/campaign/mmm/parc/schwartz/HWT2023/mpas/2023042900/post/mem_5/diag.2023-04-29_18.00.00.nc')]\n"
     ]
    },
    {
     "name": "stderr",
     "output_type": "stream",
     "text": [
      "/glade/work/ahijevyc/conda-envs/uxarray/lib/python3.11/site-packages/xarray/core/utils.py:494: FutureWarning: The return type of `Dataset.dims` will be changed to return a set of dimension names in future, in order to be more consistent with `DataArray.dims`. To access a mapping from dimension names to lengths, please use `Dataset.sizes`.\n",
      "  warnings.warn(\n"
     ]
    }
   ],
   "source": [
    "idate = pd.to_datetime(\"20230429T00\")\n",
    "base_path = (\n",
    "    Path(\"/glade/campaign/mmm/parc/schwartz/HWT2023/mpas\")\n",
    "    / idate.strftime(\"%Y%m%d%H\")\n",
    "    / \"post/mem_5\"\n",
    ")\n",
    "grid_path = \"/glade/campaign/mmm/parc/schwartz/MPAS/15-3km_mesh/mpas_init/static.nc\"\n",
    "# Paths to Data Variable files\n",
    "var_names = [\n",
    "    d.strftime(\"diag.%Y-%m-%d_%H.%M.%S.nc\")\n",
    "    for d in pd.date_range(\n",
    "        start=idate + pd.Timedelta(hours=3),\n",
    "        end=idate + pd.Timedelta(hours=18),\n",
    "        freq=\"3H\",\n",
    "    )\n",
    "]\n",
    "data_paths = [base_path / name for name in var_names]\n",
    "\n",
    "uxds = uxarray.open_mfdataset(\n",
    "    grid_path, data_paths, concat_dim=\"Time\", combine=\"nested\", use_dual=False\n",
    ")\n",
    "print(uxds.source_datasets)"
   ]
  },
  {
   "cell_type": "code",
   "execution_count": null,
   "id": "a2c7b9d8-f75c-498e-bea3-e4b375030a1a",
   "metadata": {
    "editable": true,
    "slideshow": {
     "slide_type": ""
    },
    "tags": []
   },
   "outputs": [
    {
     "name": "stderr",
     "output_type": "stream",
     "text": [
      "/glade/work/ahijevyc/conda-envs/uxarray/lib/python3.11/site-packages/xarray/core/utils.py:494: FutureWarning: The return type of `Dataset.dims` will be changed to return a set of dimension names in future, in order to be more consistent with `DataArray.dims`. To access a mapping from dimension names to lengths, please use `Dataset.sizes`.\n",
      "  warnings.warn(\n",
      "/glade/work/ahijevyc/conda-envs/uxarray/lib/python3.11/site-packages/uxarray/grid/geometry.py:88: UserWarning: Converting to a GeoDataFrame with over 1,000,000 faces may take some time.\n",
      "  warnings.warn(\n"
     ]
    }
   ],
   "source": [
    "%%time\n",
    "uxds[\"refl10cm_max\"].isel(Time=2).plot.rasterize(\n",
    "    method=\"polygon\",\n",
    "    width=800,\n",
    "    height=400,\n",
    "    dynamic=True,\n",
    "    cmap=cmap,\n",
    "    exclude_antimeridian=True,\n",
    ")"
   ]
  },
  {
   "cell_type": "markdown",
   "id": "a2bf9dbe-92db-4281-abd0-771560523555",
   "metadata": {},
   "source": [
    "## Trim global mesh to lat/lon box"
   ]
  },
  {
   "cell_type": "code",
   "execution_count": null,
   "id": "3b78a2da-4c4a-461f-970f-837b0a4f793f",
   "metadata": {},
   "outputs": [],
   "source": [
    "# limit to lat lon box\n",
    "\n",
    "lat0, lat1 = 41, 42.5\n",
    "lon0, lon1 = -75, -70\n",
    "\n",
    "# lat0, lat1 = 35, 43\n",
    "# lon0, lon1 = -83, -66\n",
    "\n",
    "extent = [lon0, lon1, lat0, lat1]\n",
    "grid_ds, ds = trim_latlon(grid_path, data_paths, extent)\n",
    "\n",
    "\n",
    "figw = 12\n",
    "\n",
    "triang = tri.Triangulation(grid_ds.lonCell, grid_ds.latCell)\n",
    "\n",
    "projection = ccrs.LambertConformal(central_longitude=-82)\n",
    "if lon1 - lon0 > 15:\n",
    "    projection = ccrs.PlateCarree()\n",
    "\n",
    "\n",
    "var = ds[\"refl10cm_max\"].isel(Time=0).compute()\n",
    "\n",
    "norm = mpl.colors.Normalize(vmin=0, vmax=50)"
   ]
  },
  {
   "cell_type": "markdown",
   "id": "e850ae53-7b03-443d-a57c-8f91021ccecc",
   "metadata": {},
   "source": [
    "## Upscale to 30-km mesh"
   ]
  },
  {
   "cell_type": "code",
   "execution_count": null,
   "id": "1bd8a422-0c2f-4db7-8db2-5650fec4e197",
   "metadata": {},
   "outputs": [],
   "source": [
    "%%time\n",
    "fig, axes = plt.subplots(\n",
    "    nrows=2,\n",
    "    figsize=(figw, 12),\n",
    "    subplot_kw=dict(projection=projection),\n",
    ")\n",
    "\n",
    "ax = axes[0]\n",
    "ax.set_title(f\"original {len(grid_ds.lonCell)} cell mesh\")\n",
    "cc = ax.scatter(\n",
    "    grid_ds[\"lonCell\"],\n",
    "    grid_ds[\"latCell\"],\n",
    "    c=var,\n",
    "    transform=ccrs.PlateCarree(),\n",
    "    cmap=cmap,\n",
    "    norm=norm,\n",
    "    marker=\".\",\n",
    "    alpha=0.5,\n",
    ")\n",
    "\n",
    "# fig.colorbar(mm, ax=axes, orientation=\"horizontal\", shrink=0.6)\n",
    "\n",
    "tmpdir = Path(os.getenv(\"TMPDIR\"))\n",
    "# Upscale to coarse mesh\n",
    "coarse_mesh = xarray.open_dataset(\n",
    "    tmpdir.parents[1]\n",
    "    / \"nystrom/pandac/nystrom_3dvar_O30kmIE60km_ColdStart_TEST/CyclingFC/2022020100/static.655362.nc\"\n",
    ")\n",
    "coarse_mesh[\"lonCell\"] = np.degrees(coarse_mesh.lonCell)\n",
    "coarse_mesh[\"latCell\"] = np.degrees(coarse_mesh.latCell)\n",
    "# before computing the triangulation\n",
    "coarse_mesh[\"lonCell\"] = ((coarse_mesh[\"lonCell\"] + 180) % 360) - 180\n",
    "\n",
    "ibox = (\n",
    "    (coarse_mesh.lonCell >= lon0)\n",
    "    & (coarse_mesh.lonCell < lon1)\n",
    "    & (coarse_mesh.latCell >= lat0)\n",
    "    & (coarse_mesh.latCell < lat1)\n",
    ")\n",
    "logging.info(\"Trim latCell and lonCell\")\n",
    "coarse_mesh = coarse_mesh[[\"latCell\", \"lonCell\"]].where(ibox, drop=True)\n",
    "\n",
    "X = np.c_[coarse_mesh.latCell.values.ravel(), coarse_mesh.lonCell.values.ravel()]\n",
    "# List MPAS indices closest to each coarse mesh cell\n",
    "idxs = SKBallTree(np.deg2rad(X), metric=\"haversine\").query(\n",
    "    np.deg2rad(np.c_[grid_ds[\"latCell\"], grid_ds[\"lonCell\"]]), return_distance=False\n",
    ")\n",
    "\n",
    "coarse_var = np.empty(coarse_mesh[\"lonCell\"].shape)\n",
    "coarse_var.fill(np.nan)\n",
    "\n",
    "axes[1].set_title(f\"colored by mean value in {len(coarse_mesh.lonCell)} cell mesh\")\n",
    "\n",
    "for idx in np.unique(idxs):\n",
    "    i = idxs.squeeze() == [idx]\n",
    "    if any(i):\n",
    "        coarse_var[idx] = dBZfunc(var.values[i], np.mean)\n",
    "        c = dBZfunc(var.values[i], np.mean)\n",
    "        cc = axes[1].scatter(\n",
    "            grid_ds[\"lonCell\"][i],\n",
    "            grid_ds[\"latCell\"][i],\n",
    "            c=[cm.ScalarMappable(norm=norm, cmap=cmap).to_rgba(c)],\n",
    "            transform=ccrs.PlateCarree(),\n",
    "            marker=\".\",\n",
    "            alpha=0.5,\n",
    "        )\n",
    "\n",
    "\n",
    "for ax in axes:\n",
    "    dec_ax(ax, extent)\n",
    "\n",
    "coarse_mesh[var.name] = coarse_var"
   ]
  },
  {
   "cell_type": "markdown",
   "id": "aa48623a-4a77-41d3-9043-d8cf4b0233de",
   "metadata": {},
   "source": [
    "## Plot TC centers with radius of influence and location of maximum\n",
    "### optional filter by hemisphere or quandrant about center point"
   ]
  },
  {
   "cell_type": "markdown",
   "id": "8b35fd6c-de49-49c5-a017-d75d3a1fd30f",
   "metadata": {},
   "source": [
    "### HWT 2023 MPAS"
   ]
  },
  {
   "cell_type": "code",
   "execution_count": null,
   "id": "871a262c-8966-4e4c-a7a4-3eaaf9664cd6",
   "metadata": {},
   "outputs": [],
   "source": [
    "idate = pd.to_datetime(\"20230531T00\")\n",
    "base_path = (\n",
    "    Path(\"/glade/campaign/mmm/parc/schwartz/HWT2023/mpas\")\n",
    "    / idate.strftime(\"%Y%m%d%H\")\n",
    "    / \"post/mem_4\"\n",
    ")\n",
    "grid_path = \"/glade/campaign/mmm/parc/schwartz/MPAS/15-3km_mesh/mpas_init/static.nc\"\n",
    "# Paths to Data Variable files\n",
    "var_names = [\n",
    "    d.strftime(\"diag.%Y-%m-%d_%H.%M.%S.nc\")\n",
    "    for d in pd.date_range(\n",
    "        start=idate + pd.Timedelta(hours=36),\n",
    "        end=idate + pd.Timedelta(hours=48),\n",
    "        freq=\"6H\",\n",
    "    )\n",
    "]\n",
    "data_paths = [base_path / name for name in var_names]\n",
    "# Tropical storm ARLENE\n",
    "track = pd.DataFrame(\n",
    "    data=[\n",
    "        (pd.to_datetime(\"20230601T12\"), -87.5, 28.6),\n",
    "        (pd.to_datetime(\"20230601T18\"), -87.5, 28.6),\n",
    "        (pd.to_datetime(\"20230602T00\"), -87.6, 28.7),\n",
    "    ],\n",
    "    columns=[\"valid_time\", \"lon\", \"lat\"],\n",
    ")\n",
    "track"
   ]
  },
  {
   "cell_type": "code",
   "execution_count": null,
   "id": "67b6221b-2cf0-49e1-9947-e8454941f40d",
   "metadata": {},
   "outputs": [],
   "source": [
    "lat0, lat1 = 24, 32\n",
    "lon0, lon1 = -93, -80\n",
    "extent = [lon0, lon1, lat0, lat1]\n",
    "grid_ds, ds = trim_latlon(grid_path, data_paths, extent)"
   ]
  },
  {
   "cell_type": "code",
   "execution_count": null,
   "id": "98cb9512-e4cc-4cf8-b1f8-8f5338642a67",
   "metadata": {},
   "outputs": [],
   "source": [
    "uxds = uxarray.open_mfdataset(\n",
    "    grid_path, data_paths, concat_dim=\"Time\", combine=\"nested\", use_dual=False\n",
    ")\n",
    "print(uxds.source_datasets)"
   ]
  },
  {
   "cell_type": "code",
   "execution_count": null,
   "id": "807c3c16-8dbd-4888-b62e-a01afde3b5dd",
   "metadata": {},
   "outputs": [],
   "source": [
    "uxda = uxds[\"refl10cm_max\"]\n",
    "ibox = (\n",
    "    (uxds.uxgrid.face_lon >= lon0)\n",
    "    & (uxds.uxgrid.face_lon < lon1)\n",
    "    & (uxds.uxgrid.face_lat >= lat0)\n",
    "    & (uxds.uxgrid.face_lat < lat1)\n",
    ")"
   ]
  },
  {
   "cell_type": "code",
   "execution_count": null,
   "id": "2f172802-f819-4850-ad9d-fb6f287690f2",
   "metadata": {
    "editable": true,
    "slideshow": {
     "slide_type": ""
    },
    "tags": []
   },
   "outputs": [],
   "source": [
    "if False:\n",
    "    uxds.where(ibox)[\"refl10cm_max\"].isel(Time=2).plot.rasterize(\n",
    "        method=\"polygon\",\n",
    "        width=800,\n",
    "        height=400,\n",
    "        dynamic=True,\n",
    "        cmap=cmap,\n",
    "        exclude_antimeridian=True,\n",
    "    )"
   ]
  },
  {
   "cell_type": "code",
   "execution_count": null,
   "id": "4ed109da-7614-43dc-8158-399c39df687b",
   "metadata": {
    "editable": true,
    "slideshow": {
     "slide_type": ""
    },
    "tags": []
   },
   "outputs": [],
   "source": [
    "%%time\n",
    "# List of TC centers\n",
    "latlon = np.vstack(\n",
    "    (np.deg2rad(grid_ds.latCell.values), np.deg2rad(grid_ds.lonCell.values))\n",
    ").T\n",
    "tree = SKBallTree(latlon, metric=\"haversine\")\n",
    "\n",
    "rptdist = 300  # km\n",
    "r = np.deg2rad(rptdist / 111.0)\n",
    "idxs = tree.query_radius(np.deg2rad(track[[\"lat\",\"lon\"]]), r)\n",
    "idxs"
   ]
  },
  {
   "cell_type": "code",
   "execution_count": null,
   "id": "c4d9bbc6-6775-4ff3-bb25-a4baf8c72cd2",
   "metadata": {
    "editable": true,
    "slideshow": {
     "slide_type": ""
    },
    "tags": []
   },
   "outputs": [],
   "source": [
    "%%time\n",
    "t = 2\n",
    "fig, ax = plt.subplots(\n",
    "    figsize=(figw, 6),\n",
    "    subplot_kw=dict(projection=projection),\n",
    ")\n",
    "var = ds[\"refl10cm_max\"].isel(Time=t, nCells=idxs[0]).compute()\n",
    "\n",
    "ax.set_title(f\"{track.iloc[t]['valid_time']} {len(grid_ds.lonCell)} cells\")\n",
    "cc = ax.scatter(\n",
    "    grid_ds[\"lonCell\"].isel(nCells=idxs[0]),\n",
    "    grid_ds[\"latCell\"].isel(nCells=idxs[0]),\n",
    "    c=var,\n",
    "    transform=ccrs.PlateCarree(),\n",
    "    cmap=cmap,\n",
    "    norm=norm,\n",
    "    marker=\".\",\n",
    "    alpha=0.5,\n",
    ")\n",
    "ax.tissot(\n",
    "    rad_km=rptdist,\n",
    "    lons=[track.iloc[t][\"lon\"]],\n",
    "    lats=[track.iloc[t][\"lat\"]],\n",
    "    alpha=0.1,\n",
    "    facecolor=\"white\",\n",
    "    edgecolor=\"black\",\n",
    ")\n",
    "\n",
    "dec_ax(ax, extent)\n",
    "ax.add_feature(cfeature.STATES)\n",
    "\n",
    "fig.colorbar(cc, ax=axes, orientation=\"horizontal\", shrink=0.6)"
   ]
  },
  {
   "cell_type": "code",
   "execution_count": null,
   "id": "045dccfe-9191-4ccb-994a-a76704acd02c",
   "metadata": {
    "editable": true,
    "slideshow": {
     "slide_type": ""
    },
    "tags": []
   },
   "outputs": [],
   "source": [
    "grid_ds.latCell[6080], uxds.uxgrid.face_lon[5081942], uxds.uxgrid.face_lat[5081942]"
   ]
  },
  {
   "cell_type": "code",
   "execution_count": null,
   "id": "3db63797-6a77-4c5b-bc76-0b5cb11a12ee",
   "metadata": {
    "editable": true,
    "slideshow": {
     "slide_type": ""
    },
    "tags": []
   },
   "outputs": [],
   "source": [
    "uxtree = uxds.uxgrid.get_ball_tree()"
   ]
  },
  {
   "cell_type": "code",
   "execution_count": null,
   "id": "71156725-c92b-428f-9495-92a2e502a681",
   "metadata": {
    "editable": true,
    "slideshow": {
     "slide_type": ""
    },
    "tags": []
   },
   "outputs": [],
   "source": [
    "fig, ax = plt.subplots(\n",
    "    figsize=(figw, 6), subplot_kw=dict(projection=ccrs.PlateCarree())\n",
    ")\n",
    "var = ds[\"refl10cm_max\"].isel(Time=0)\n",
    "cc = ax.scatter(\n",
    "    grid_ds[\"lonCell\"],\n",
    "    grid_ds[\"latCell\"],\n",
    "    c=var,\n",
    "    transform=ccrs.PlateCarree(),\n",
    "    cmap=cmap,\n",
    "    norm=norm,\n",
    "    marker=\".\",\n",
    "    alpha=0.5,\n",
    ")\n",
    "\n",
    "ax.coastlines(resolution=\"50m\")\n",
    "for i, (lat, lon, idx) in enumerate(zip(track[\"lat\"],track[\"lon\"], idxs)):\n",
    "    if len(idx) == 0:\n",
    "        continue\n",
    "    lons = grid_ds[\"lonCell\"][idx]\n",
    "    lats = grid_ds[\"latCell\"][idx]\n",
    "    # indices in hemispheres and quadrants about center point\n",
    "    ieast = ((lons - lon) + 180) % 360 - 180 >= 0\n",
    "    inorth = lats >= lat\n",
    "    ne = ieast & inorth\n",
    "    se = ieast & ~inorth\n",
    "    sw = ~ieast & ~inorth\n",
    "    nw = ~ieast & inorth\n",
    "    qfilt = sw | ne\n",
    "    lons = lons[qfilt]\n",
    "    lats = lats[qfilt]\n",
    "    ax.scatter(\n",
    "        lons,\n",
    "        lats,\n",
    "        transform=ccrs.PlateCarree(),\n",
    "        marker=\".\",\n",
    "        color=\"white\",\n",
    "        edgecolor=None,\n",
    "        alpha=0.5,\n",
    "        label=None,\n",
    "    )\n",
    "    x = var[idx][qfilt].argmax().compute()\n",
    "    ax.scatter(\n",
    "        lons[x],\n",
    "        lats[x],\n",
    "        transform=ccrs.PlateCarree(),\n",
    "        marker=\"x\",\n",
    "        label=var.values.max(),\n",
    "    )\n",
    "ax.tissot(\n",
    "    rad_km=rptdist,\n",
    "    lons=[track[\"lon\"]],\n",
    "    lats=[track[\"lat\"]],\n",
    "    alpha=0.3,\n",
    "    facecolor=\"white\",\n",
    "    edgecolor=\"black\",\n",
    ")\n",
    "\n",
    "ax.legend(title=\"max\")\n",
    "gl = ax.gridlines(draw_labels=True)\n",
    "gl.xformatter = LONGITUDE_FORMATTER\n",
    "gl.yformatter = LATITUDE_FORMATTER\n",
    "gl.top_labels = gl.right_labels = False\n",
    "gl.xlines = gl.ylines = False\n",
    "# was plt, not fig. TODO: maybe delete this comment?\n",
    "fig.colorbar(cc, orientation=\"horizontal\", pad=0.04, shrink=0.8)\n",
    "plt.title(\n",
    "    f\"{grid_ds.title if 'title' in grid_ds.attrs else ''} ({len(grid_ds.lonCell)} cells)\",\n",
    "    fontweight=\"bold\",\n",
    "    fontsize=14,\n",
    ")"
   ]
  }
 ],
 "metadata": {
  "kernelspec": {
   "display_name": "Python [conda env:uxarray]",
   "language": "python",
   "name": "conda-env-uxarray-py"
  },
  "language_info": {
   "codemirror_mode": {
    "name": "ipython",
    "version": 3
   },
   "file_extension": ".py",
   "mimetype": "text/x-python",
   "name": "python",
   "nbconvert_exporter": "python",
   "pygments_lexer": "ipython3",
   "version": "3.11.7"
  }
 },
 "nbformat": 4,
 "nbformat_minor": 5
}
